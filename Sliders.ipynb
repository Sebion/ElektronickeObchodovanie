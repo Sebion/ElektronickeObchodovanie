{
 "cells": [
  {
   "cell_type": "code",
   "execution_count": 2,
   "id": "8ead0f08-746c-4eed-bb0c-64044c0e0df5",
   "metadata": {
    "ExecuteTime": {
     "start_time": "2024-05-05T10:38:18.140900Z",
     "end_time": "2024-05-05T10:38:35.082108Z"
    }
   },
   "outputs": [
    {
     "name": "stdout",
     "output_type": "stream",
     "text": [
      "Dostupné kategórie:\n",
      "1. Chemie\n",
      "2. Elektro, elektromateriál\n",
      "3. Obaly\n",
      "4. Počítače, IT a telekomunikační služby\n",
      "5. Hutní materiál, kovy a slitiny\n",
      "6. Stroje, zařízení, nástroje, nářadí\n",
      "7. Stavebnictví\n",
      "8. Kancelář\n",
      "9. Dopravní služby, auto-moto a příslušenství\n",
      "10. Inženýrská činnost\n",
      "11. Marketing, reklama a tisk\n",
      "12. Úklid, úklidové služby\n",
      "Dostupné subkategórie:\n",
      "1. Barvy, ředidla a laky\n"
     ]
    },
    {
     "data": {
      "text/plain": "VBox(children=(HTML(value='<h2>Organizácia číslo 60</h2>'), interactive(children=(IntSlider(value=0, continuou…",
      "application/vnd.jupyter.widget-view+json": {
       "version_major": 2,
       "version_minor": 0,
       "model_id": "104b8c7aa2bc42c083765959a87f21f8"
      }
     },
     "metadata": {},
     "output_type": "display_data"
    }
   ],
   "source": [
    "import pandas as pd\n",
    "import matplotlib.pyplot as plt\n",
    "from ipywidgets import interactive, widgets\n",
    "from ipywidgets import HTML, VBox\n",
    "\n",
    "# Načítanie dát\n",
    "data = pd.read_csv('hlavna_sorted_doplnena_final.csv')\n",
    "data['AucKon'] = pd.to_datetime(data['AucKon'], format='%Y-%m-%d %H:%M:%S', errors='coerce')\n",
    "data = data.dropna(subset=['AucKon'])\n",
    "\n",
    "# Výber organizácie\n",
    "organization_number = input(\"Zadaj číslo organizácie: \")\n",
    "filtered_dataset = data[data['Org'] == int(organization_number)]\n",
    "\n",
    "# Vypísanie a výber kategórie\n",
    "unique_categories = filtered_dataset['Kateg'].unique()\n",
    "print(\"Dostupné kategórie:\")\n",
    "for i, category in enumerate(unique_categories):\n",
    "    print(f\"{i + 1}. {category}\")\n",
    "category_choice = int(input(\"Zvoľ číslo pre vybranú kategóriu: \"))\n",
    "selected_category = unique_categories[category_choice - 1]\n",
    "category_filtered = filtered_dataset[filtered_dataset['Kateg'] == selected_category]\n",
    "category_filtered = category_filtered.sort_values('AucKon')  # Zoradenie podľa času zákaziek\n",
    "\n",
    "# Vypísanie a výber subkategórie\n",
    "unique_subcategories = category_filtered['Subkateg'].unique()\n",
    "print(\"Dostupné subkategórie:\")\n",
    "for j, subcategory in enumerate(unique_subcategories):\n",
    "    print(f\"{j + 1}. {subcategory}\")\n",
    "subcategory_choice = int(input(\"Zvoľ číslo pre vybranú subkategóriu: \"))\n",
    "selected_subcategory = unique_subcategories[subcategory_choice - 1]\n",
    "subcategory_filtered = category_filtered[category_filtered['Subkateg'] == selected_subcategory]\n",
    "subcategory_filtered = subcategory_filtered.sort_values('AucKon')  # Zoradenie podľa času zákaziek\n",
    "\n",
    "# Vytvorenie grafov a posuvníkov\n",
    "def plot_data(category_index, subcategory_index):\n",
    "    fig, (ax1, ax2) = plt.subplots(1, 2, figsize=(16, 8))\n",
    "    fig.subplots_adjust(bottom=0.3, top=0.85)  # Upraviť polohu subplotov pre zobrazenie dátumu\n",
    "    \n",
    "    data_cat = category_filtered.iloc[:category_index+1].groupby('Vitaz').size()\n",
    "    data_subcat = subcategory_filtered.iloc[:subcategory_index+1].groupby('Vitaz').size()\n",
    "    \n",
    "    ax1.pie(data_cat, labels=data_cat.index, autopct='%1.1f%%', startangle=140)\n",
    "    ax1.set_title(selected_category)\n",
    "    ax1.axis('equal')\n",
    "    category_date = category_filtered.iloc[category_index]['AucKon'].strftime('%Y-%m-%d %H:%M:%S')\n",
    "    ax1.set_xlabel(f'Current Date: {category_date}')\n",
    "    \n",
    "    ax2.pie(data_subcat, labels=data_subcat.index, autopct='%1.1f%%', startangle=140)\n",
    "    ax2.set_title(selected_subcategory)\n",
    "    ax2.axis('equal')\n",
    "    subcategory_date = subcategory_filtered.iloc[subcategory_index]['AucKon'].strftime('%Y-%m-%d %H:%M:%S')\n",
    "    ax2.set_xlabel(f'Current Date: {subcategory_date}')\n",
    "    \n",
    "    plt.show()\n",
    "\n",
    "# Vytvorenie sliderov\n",
    "category_slider = widgets.IntSlider(\n",
    "    min=0, \n",
    "    max=len(category_filtered) - 1, \n",
    "    step=1, \n",
    "    description=\"Category Index:\",\n",
    "    continuous_update=False\n",
    ")\n",
    "\n",
    "subcategory_slider = widgets.IntSlider(\n",
    "    min=0, \n",
    "    max=len(subcategory_filtered) - 1, \n",
    "    step=1, \n",
    "    description=\"Subcategory Index:\",\n",
    "    continuous_update=False\n",
    ")\n",
    "\n",
    "header = HTML(f\"<h2>Organizácia číslo {organization_number}</h2>\")\n",
    "# Vytvorenie interaktívnej widgety\n",
    "interactive_plot = interactive(\n",
    "    plot_data, \n",
    "    category_index=category_slider, \n",
    "    subcategory_index=subcategory_slider\n",
    ")\n",
    "\n",
    "final_layout = VBox([header, interactive_plot])\n",
    "\n",
    "display(final_layout)"
   ]
  },
  {
   "cell_type": "code",
   "execution_count": null,
   "id": "aa2a62fc-2064-4604-a5d9-d6cc37ef86a7",
   "metadata": {},
   "outputs": [],
   "source": []
  }
 ],
 "metadata": {
  "kernelspec": {
   "display_name": "Python 3 (ipykernel)",
   "language": "python",
   "name": "python3"
  },
  "language_info": {
   "codemirror_mode": {
    "name": "ipython",
    "version": 3
   },
   "file_extension": ".py",
   "mimetype": "text/x-python",
   "name": "python",
   "nbconvert_exporter": "python",
   "pygments_lexer": "ipython3",
   "version": "3.10.6"
  }
 },
 "nbformat": 4,
 "nbformat_minor": 5
}
