{
 "cells": [
  {
   "cell_type": "code",
   "execution_count": 2,
   "metadata": {
    "collapsed": true,
    "ExecuteTime": {
     "start_time": "2024-05-20T22:52:23.154168Z",
     "end_time": "2024-05-20T22:52:23.202746Z"
    }
   },
   "outputs": [
    {
     "name": "stdout",
     "output_type": "stream",
     "text": [
      "          UniqueID  Org  AucID               AucZac               AucKon  \\\n",
      "0      100-45-1413   45   1413  2018-04-25 15:00:00  2018-04-27 09:45:00   \n",
      "1      100-45-1443   45   1443  2019-01-24 10:30:00  2019-01-31 10:30:00   \n",
      "2      100-45-1389   45   1389  2017-10-30 09:15:00  2017-11-10 13:00:00   \n",
      "3      100-45-1398   45   1398  2018-02-07 10:00:00  2018-03-01 00:00:00   \n",
      "4      100-45-1404   45   1404  2018-02-09 15:00:00  2018-02-23 15:00:00   \n",
      "..             ...  ...    ...                  ...                  ...   \n",
      "909   102-146-2352  146   2352  2018-05-15 14:00:00  2018-05-17 10:20:00   \n",
      "910   102-146-2409  146   2409  2020-05-20 12:30:00  2020-05-22 10:28:00   \n",
      "911   102-146-2359  146   2359  2018-06-26 15:30:00  2018-06-28 10:22:00   \n",
      "912  1065-181-5895  181   5895  2019-05-14 10:07:00  2019-05-15 09:06:00   \n",
      "913  1065-181-5896  181   5896  2019-05-16 10:00:00  2019-05-17 09:09:00   \n",
      "\n",
      "           AucNazov1                      AucVal  Porovnávacia cena  \\\n",
      "0    BUTYLGLYKOL (CA  Multikriteriální hodnocení        198982.8900   \n",
      "1    Kancelářské pot   Celková nabídka účastníka        245087.5215   \n",
      "2    Poptávka výroby   Celková nabídka účastníka         32398.0000   \n",
      "3    Pronájem manipu          Jednotlivé položky        268321.2000   \n",
      "4    Cenová poptávka  Multikriteriální hodnocení         63678.3000   \n",
      "..               ...                         ...                ...   \n",
      "909  Upratovanie pri   Celková nabídka účastníka         18696.3920   \n",
      "910  Upratovací serv   Celková nabídka účastníka         20675.4660   \n",
      "911  Inovácia RS - č   Celková nabídka účastníka        280000.0000   \n",
      "912  rebrované trubk   Celková nabídka účastníka         98442.9600   \n",
      "913  rúry bezošvé pr   Celková nabídka účastníka        295850.0000   \n",
      "\n",
      "     VitaznaPonuka Mena  ...  PocetItems  PocetZmienPonuk  PocetPredlzeni  \\\n",
      "0         83283.00  CZK  ...           4             15.0               0   \n",
      "1        150894.45  CZK  ...          41             89.0               0   \n",
      "2          7436.00  CZK  ...           1              9.0               0   \n",
      "3             0.98  CZK  ...          30            134.0               0   \n",
      "4         57820.00  CZK  ...           1              3.0               0   \n",
      "..             ...  ...  ...         ...              ...             ...   \n",
      "909       18442.80  EUR  ...           1              5.0               0   \n",
      "910       16719.05  EUR  ...           1             12.0               4   \n",
      "911      298350.00  EUR  ...           1             11.0               1   \n",
      "912       99910.00  EUR  ...           1             19.0               3   \n",
      "913      273420.00  EUR  ...           1             22.0               8   \n",
      "\n",
      "                    Stat MinKrokZnizPercenta HistoryDealsInCategory  \\\n",
      "0        Česká republika                 0.1                      1   \n",
      "1        Česká republika                 0.0                      1   \n",
      "2        Česká republika                 0.1                      1   \n",
      "3        Česká republika                 0.0                      1   \n",
      "4        Česká republika                 0.1                      3   \n",
      "..                   ...                 ...                    ...   \n",
      "909                   SK                 0.1                      1   \n",
      "910                   SK                 0.1                      2   \n",
      "911                   SK                 0.1                      1   \n",
      "912  Slovenská republika                 0.1                      2   \n",
      "913  Slovenská republika                 0.1                      4   \n",
      "\n",
      "     HistoryDealsWithVitaz  MoneySpentSoFarInCategory  \\\n",
      "0                        1                   83283.00   \n",
      "1                        1                  150894.45   \n",
      "2                        1                    7436.00   \n",
      "3                        1                       0.98   \n",
      "4                        1                  187387.00   \n",
      "..                     ...                        ...   \n",
      "909                      1                   18442.80   \n",
      "910                      1                   35161.85   \n",
      "911                      1                  298350.00   \n",
      "912                      2                  182030.20   \n",
      "913                      2                  563930.20   \n",
      "\n",
      "     MoneySpentSoFarWithVitaz Relativna Uspora  \n",
      "0                    83283.00         0.581456  \n",
      "1                   150894.45         0.384324  \n",
      "2                     7436.00         0.770480  \n",
      "3                        0.98         0.999996  \n",
      "4                    57820.00         0.091998  \n",
      "..                        ...              ...  \n",
      "909                  18442.80         0.013564  \n",
      "910                  16719.05         0.191358  \n",
      "911                 298350.00        -0.065536  \n",
      "912                 182030.20        -0.014902  \n",
      "913                 381900.00         0.075815  \n",
      "\n",
      "[914 rows x 26 columns]\n"
     ]
    }
   ],
   "source": [
    "import pandas as pd\n",
    "\n",
    "# Read the CSV file\n",
    "data = pd.read_csv('uzlenzbytkypozberane.csv')\n",
    "\n",
    "# Display the DataFrame\n",
    "print(data)"
   ]
  },
  {
   "cell_type": "code",
   "execution_count": 3,
   "outputs": [
    {
     "data": {
      "text/plain": "3"
     },
     "execution_count": 3,
     "metadata": {},
     "output_type": "execute_result"
    }
   ],
   "source": [
    "num_unique_ids_data = data[data['Vitaz'] == 7923]['UniqueID'].nunique()\n",
    "num_unique_ids_data"
   ],
   "metadata": {
    "collapsed": false,
    "ExecuteTime": {
     "start_time": "2024-05-20T22:52:48.513072Z",
     "end_time": "2024-05-20T22:52:48.517902Z"
    }
   }
  },
  {
   "cell_type": "code",
   "execution_count": 8,
   "outputs": [
    {
     "data": {
      "text/plain": "          UniqueID  Org  AucID               AucZac               AucKon  \\\n0      100-45-1413   45   1413  2018-04-25 15:00:00  2018-04-27 09:45:00   \n1      100-45-1443   45   1443  2019-01-24 10:30:00  2019-01-31 10:30:00   \n2      100-45-1389   45   1389  2017-10-30 09:15:00  2017-11-10 13:00:00   \n3      100-45-1398   45   1398  2018-02-07 10:00:00  2018-03-01 00:00:00   \n4      100-45-1404   45   1404  2018-02-09 15:00:00  2018-02-23 15:00:00   \n..             ...  ...    ...                  ...                  ...   \n909   102-146-2352  146   2352  2018-05-15 14:00:00  2018-05-17 10:20:00   \n910   102-146-2409  146   2409  2020-05-20 12:30:00  2020-05-22 10:28:00   \n911   102-146-2359  146   2359  2018-06-26 15:30:00  2018-06-28 10:22:00   \n912  1065-181-5895  181   5895  2019-05-14 10:07:00  2019-05-15 09:06:00   \n913  1065-181-5896  181   5896  2019-05-16 10:00:00  2019-05-17 09:09:00   \n\n           AucNazov1                      AucVal  Porovnávacia cena  \\\n0    BUTYLGLYKOL (CA  Multikriteriální hodnocení        198982.8900   \n1    Kancelářské pot   Celková nabídka účastníka        245087.5215   \n2    Poptávka výroby   Celková nabídka účastníka         32398.0000   \n3    Pronájem manipu          Jednotlivé položky        268321.2000   \n4    Cenová poptávka  Multikriteriální hodnocení         63678.3000   \n..               ...                         ...                ...   \n909  Upratovanie pri   Celková nabídka účastníka         18696.3920   \n910  Upratovací serv   Celková nabídka účastníka         20675.4660   \n911  Inovácia RS - č   Celková nabídka účastníka        280000.0000   \n912  rebrované trubk   Celková nabídka účastníka         98442.9600   \n913  rúry bezošvé pr   Celková nabídka účastníka        295850.0000   \n\n     VitaznaPonuka Mena  ...  PocetItems  PocetZmienPonuk  PocetPredlzeni  \\\n0         83283.00  CZK  ...           4             15.0               0   \n1        150894.45  CZK  ...          41             89.0               0   \n2          7436.00  CZK  ...           1              9.0               0   \n3             0.98  CZK  ...          30            134.0               0   \n4         57820.00  CZK  ...           1              3.0               0   \n..             ...  ...  ...         ...              ...             ...   \n909       18442.80  EUR  ...           1              5.0               0   \n910       16719.05  EUR  ...           1             12.0               4   \n911      298350.00  EUR  ...           1             11.0               1   \n912       99910.00  EUR  ...           1             19.0               3   \n913      273420.00  EUR  ...           1             22.0               8   \n\n                    Stat MinKrokZnizPercenta HistoryDealsInCategory  \\\n0        Česká republika                 0.1                      1   \n1        Česká republika                 0.0                      1   \n2        Česká republika                 0.1                      1   \n3        Česká republika                 0.0                      1   \n4        Česká republika                 0.1                      3   \n..                   ...                 ...                    ...   \n909                   SK                 0.1                      1   \n910                   SK                 0.1                      2   \n911                   SK                 0.1                      1   \n912  Slovenská republika                 0.1                      2   \n913  Slovenská republika                 0.1                      4   \n\n     HistoryDealsWithVitaz  MoneySpentSoFarInCategory  \\\n0                        1                   83283.00   \n1                        1                  150894.45   \n2                        1                    7436.00   \n3                        1                       0.98   \n4                        1                  187387.00   \n..                     ...                        ...   \n909                      1                   18442.80   \n910                      1                   35161.85   \n911                      1                  298350.00   \n912                      2                  182030.20   \n913                      2                  563930.20   \n\n     MoneySpentSoFarWithVitaz Relativna Uspora  \n0                    83283.00         0.581456  \n1                   150894.45         0.384324  \n2                     7436.00         0.770480  \n3                        0.98         0.999996  \n4                    57820.00         0.091998  \n..                        ...              ...  \n909                  18442.80         0.013564  \n910                  16719.05         0.191358  \n911                 298350.00        -0.065536  \n912                 182030.20        -0.014902  \n913                 381900.00         0.075815  \n\n[914 rows x 26 columns]",
      "text/html": "<div>\n<style scoped>\n    .dataframe tbody tr th:only-of-type {\n        vertical-align: middle;\n    }\n\n    .dataframe tbody tr th {\n        vertical-align: top;\n    }\n\n    .dataframe thead th {\n        text-align: right;\n    }\n</style>\n<table border=\"1\" class=\"dataframe\">\n  <thead>\n    <tr style=\"text-align: right;\">\n      <th></th>\n      <th>UniqueID</th>\n      <th>Org</th>\n      <th>AucID</th>\n      <th>AucZac</th>\n      <th>AucKon</th>\n      <th>AucNazov1</th>\n      <th>AucVal</th>\n      <th>Porovnávacia cena</th>\n      <th>VitaznaPonuka</th>\n      <th>Mena</th>\n      <th>...</th>\n      <th>PocetItems</th>\n      <th>PocetZmienPonuk</th>\n      <th>PocetPredlzeni</th>\n      <th>Stat</th>\n      <th>MinKrokZnizPercenta</th>\n      <th>HistoryDealsInCategory</th>\n      <th>HistoryDealsWithVitaz</th>\n      <th>MoneySpentSoFarInCategory</th>\n      <th>MoneySpentSoFarWithVitaz</th>\n      <th>Relativna Uspora</th>\n    </tr>\n  </thead>\n  <tbody>\n    <tr>\n      <th>0</th>\n      <td>100-45-1413</td>\n      <td>45</td>\n      <td>1413</td>\n      <td>2018-04-25 15:00:00</td>\n      <td>2018-04-27 09:45:00</td>\n      <td>BUTYLGLYKOL (CA</td>\n      <td>Multikriteriální hodnocení</td>\n      <td>198982.8900</td>\n      <td>83283.00</td>\n      <td>CZK</td>\n      <td>...</td>\n      <td>4</td>\n      <td>15.0</td>\n      <td>0</td>\n      <td>Česká republika</td>\n      <td>0.1</td>\n      <td>1</td>\n      <td>1</td>\n      <td>83283.00</td>\n      <td>83283.00</td>\n      <td>0.581456</td>\n    </tr>\n    <tr>\n      <th>1</th>\n      <td>100-45-1443</td>\n      <td>45</td>\n      <td>1443</td>\n      <td>2019-01-24 10:30:00</td>\n      <td>2019-01-31 10:30:00</td>\n      <td>Kancelářské pot</td>\n      <td>Celková nabídka účastníka</td>\n      <td>245087.5215</td>\n      <td>150894.45</td>\n      <td>CZK</td>\n      <td>...</td>\n      <td>41</td>\n      <td>89.0</td>\n      <td>0</td>\n      <td>Česká republika</td>\n      <td>0.0</td>\n      <td>1</td>\n      <td>1</td>\n      <td>150894.45</td>\n      <td>150894.45</td>\n      <td>0.384324</td>\n    </tr>\n    <tr>\n      <th>2</th>\n      <td>100-45-1389</td>\n      <td>45</td>\n      <td>1389</td>\n      <td>2017-10-30 09:15:00</td>\n      <td>2017-11-10 13:00:00</td>\n      <td>Poptávka výroby</td>\n      <td>Celková nabídka účastníka</td>\n      <td>32398.0000</td>\n      <td>7436.00</td>\n      <td>CZK</td>\n      <td>...</td>\n      <td>1</td>\n      <td>9.0</td>\n      <td>0</td>\n      <td>Česká republika</td>\n      <td>0.1</td>\n      <td>1</td>\n      <td>1</td>\n      <td>7436.00</td>\n      <td>7436.00</td>\n      <td>0.770480</td>\n    </tr>\n    <tr>\n      <th>3</th>\n      <td>100-45-1398</td>\n      <td>45</td>\n      <td>1398</td>\n      <td>2018-02-07 10:00:00</td>\n      <td>2018-03-01 00:00:00</td>\n      <td>Pronájem manipu</td>\n      <td>Jednotlivé položky</td>\n      <td>268321.2000</td>\n      <td>0.98</td>\n      <td>CZK</td>\n      <td>...</td>\n      <td>30</td>\n      <td>134.0</td>\n      <td>0</td>\n      <td>Česká republika</td>\n      <td>0.0</td>\n      <td>1</td>\n      <td>1</td>\n      <td>0.98</td>\n      <td>0.98</td>\n      <td>0.999996</td>\n    </tr>\n    <tr>\n      <th>4</th>\n      <td>100-45-1404</td>\n      <td>45</td>\n      <td>1404</td>\n      <td>2018-02-09 15:00:00</td>\n      <td>2018-02-23 15:00:00</td>\n      <td>Cenová poptávka</td>\n      <td>Multikriteriální hodnocení</td>\n      <td>63678.3000</td>\n      <td>57820.00</td>\n      <td>CZK</td>\n      <td>...</td>\n      <td>1</td>\n      <td>3.0</td>\n      <td>0</td>\n      <td>Česká republika</td>\n      <td>0.1</td>\n      <td>3</td>\n      <td>1</td>\n      <td>187387.00</td>\n      <td>57820.00</td>\n      <td>0.091998</td>\n    </tr>\n    <tr>\n      <th>...</th>\n      <td>...</td>\n      <td>...</td>\n      <td>...</td>\n      <td>...</td>\n      <td>...</td>\n      <td>...</td>\n      <td>...</td>\n      <td>...</td>\n      <td>...</td>\n      <td>...</td>\n      <td>...</td>\n      <td>...</td>\n      <td>...</td>\n      <td>...</td>\n      <td>...</td>\n      <td>...</td>\n      <td>...</td>\n      <td>...</td>\n      <td>...</td>\n      <td>...</td>\n      <td>...</td>\n    </tr>\n    <tr>\n      <th>909</th>\n      <td>102-146-2352</td>\n      <td>146</td>\n      <td>2352</td>\n      <td>2018-05-15 14:00:00</td>\n      <td>2018-05-17 10:20:00</td>\n      <td>Upratovanie pri</td>\n      <td>Celková nabídka účastníka</td>\n      <td>18696.3920</td>\n      <td>18442.80</td>\n      <td>EUR</td>\n      <td>...</td>\n      <td>1</td>\n      <td>5.0</td>\n      <td>0</td>\n      <td>SK</td>\n      <td>0.1</td>\n      <td>1</td>\n      <td>1</td>\n      <td>18442.80</td>\n      <td>18442.80</td>\n      <td>0.013564</td>\n    </tr>\n    <tr>\n      <th>910</th>\n      <td>102-146-2409</td>\n      <td>146</td>\n      <td>2409</td>\n      <td>2020-05-20 12:30:00</td>\n      <td>2020-05-22 10:28:00</td>\n      <td>Upratovací serv</td>\n      <td>Celková nabídka účastníka</td>\n      <td>20675.4660</td>\n      <td>16719.05</td>\n      <td>EUR</td>\n      <td>...</td>\n      <td>1</td>\n      <td>12.0</td>\n      <td>4</td>\n      <td>SK</td>\n      <td>0.1</td>\n      <td>2</td>\n      <td>1</td>\n      <td>35161.85</td>\n      <td>16719.05</td>\n      <td>0.191358</td>\n    </tr>\n    <tr>\n      <th>911</th>\n      <td>102-146-2359</td>\n      <td>146</td>\n      <td>2359</td>\n      <td>2018-06-26 15:30:00</td>\n      <td>2018-06-28 10:22:00</td>\n      <td>Inovácia RS - č</td>\n      <td>Celková nabídka účastníka</td>\n      <td>280000.0000</td>\n      <td>298350.00</td>\n      <td>EUR</td>\n      <td>...</td>\n      <td>1</td>\n      <td>11.0</td>\n      <td>1</td>\n      <td>SK</td>\n      <td>0.1</td>\n      <td>1</td>\n      <td>1</td>\n      <td>298350.00</td>\n      <td>298350.00</td>\n      <td>-0.065536</td>\n    </tr>\n    <tr>\n      <th>912</th>\n      <td>1065-181-5895</td>\n      <td>181</td>\n      <td>5895</td>\n      <td>2019-05-14 10:07:00</td>\n      <td>2019-05-15 09:06:00</td>\n      <td>rebrované trubk</td>\n      <td>Celková nabídka účastníka</td>\n      <td>98442.9600</td>\n      <td>99910.00</td>\n      <td>EUR</td>\n      <td>...</td>\n      <td>1</td>\n      <td>19.0</td>\n      <td>3</td>\n      <td>Slovenská republika</td>\n      <td>0.1</td>\n      <td>2</td>\n      <td>2</td>\n      <td>182030.20</td>\n      <td>182030.20</td>\n      <td>-0.014902</td>\n    </tr>\n    <tr>\n      <th>913</th>\n      <td>1065-181-5896</td>\n      <td>181</td>\n      <td>5896</td>\n      <td>2019-05-16 10:00:00</td>\n      <td>2019-05-17 09:09:00</td>\n      <td>rúry bezošvé pr</td>\n      <td>Celková nabídka účastníka</td>\n      <td>295850.0000</td>\n      <td>273420.00</td>\n      <td>EUR</td>\n      <td>...</td>\n      <td>1</td>\n      <td>22.0</td>\n      <td>8</td>\n      <td>Slovenská republika</td>\n      <td>0.1</td>\n      <td>4</td>\n      <td>2</td>\n      <td>563930.20</td>\n      <td>381900.00</td>\n      <td>0.075815</td>\n    </tr>\n  </tbody>\n</table>\n<p>914 rows × 26 columns</p>\n</div>"
     },
     "execution_count": 8,
     "metadata": {},
     "output_type": "execute_result"
    }
   ],
   "source": [
    "data"
   ],
   "metadata": {
    "collapsed": false,
    "ExecuteTime": {
     "start_time": "2024-05-20T22:59:29.923789Z",
     "end_time": "2024-05-20T22:59:29.953013Z"
    }
   }
  },
  {
   "cell_type": "code",
   "execution_count": 9,
   "outputs": [
    {
     "data": {
      "text/plain": "          UniqueID  Org  AucID               AucZac               AucKon  \\\n0      100-45-1413   45   1413  2018-04-25 15:00:00  2018-04-27 09:45:00   \n1      100-45-1443   45   1443  2019-01-24 10:30:00  2019-01-31 10:30:00   \n2      100-45-1389   45   1389  2017-10-30 09:15:00  2017-11-10 13:00:00   \n3      100-45-1398   45   1398  2018-02-07 10:00:00  2018-03-01 00:00:00   \n4      100-45-1404   45   1404  2018-02-09 15:00:00  2018-02-23 15:00:00   \n..             ...  ...    ...                  ...                  ...   \n909   102-146-2352  146   2352  2018-05-15 14:00:00  2018-05-17 10:20:00   \n910   102-146-2409  146   2409  2020-05-20 12:30:00  2020-05-22 10:28:00   \n911   102-146-2359  146   2359  2018-06-26 15:30:00  2018-06-28 10:22:00   \n912  1065-181-5895  181   5895  2019-05-14 10:07:00  2019-05-15 09:06:00   \n913  1065-181-5896  181   5896  2019-05-16 10:00:00  2019-05-17 09:09:00   \n\n           AucNazov1                      AucVal  Porovnávacia cena  \\\n0    BUTYLGLYKOL (CA  Multikriteriální hodnocení        198982.8900   \n1    Kancelářské pot   Celková nabídka účastníka        245087.5215   \n2    Poptávka výroby   Celková nabídka účastníka         32398.0000   \n3    Pronájem manipu          Jednotlivé položky        268321.2000   \n4    Cenová poptávka  Multikriteriální hodnocení         63678.3000   \n..               ...                         ...                ...   \n909  Upratovanie pri   Celková nabídka účastníka         18696.3920   \n910  Upratovací serv   Celková nabídka účastníka         20675.4660   \n911  Inovácia RS - č   Celková nabídka účastníka        280000.0000   \n912  rebrované trubk   Celková nabídka účastníka         98442.9600   \n913  rúry bezošvé pr   Celková nabídka účastníka        295850.0000   \n\n     VitaznaPonuka Mena  ...  PocetItems  PocetZmienPonuk  PocetPredlzeni  \\\n0         83283.00  CZK  ...           4             15.0               0   \n1        150894.45  CZK  ...          41             89.0               0   \n2          7436.00  CZK  ...           1              9.0               0   \n3             0.98  CZK  ...          30            134.0               0   \n4         57820.00  CZK  ...           1              3.0               0   \n..             ...  ...  ...         ...              ...             ...   \n909       18442.80  EUR  ...           1              5.0               0   \n910       16719.05  EUR  ...           1             12.0               4   \n911      298350.00  EUR  ...           1             11.0               1   \n912       99910.00  EUR  ...           1             19.0               3   \n913      273420.00  EUR  ...           1             22.0               8   \n\n                    Stat MinKrokZnizPercenta HistoryDealsInCategory  \\\n0        Česká republika                 0.1                      1   \n1        Česká republika                 0.0                      1   \n2        Česká republika                 0.1                      1   \n3        Česká republika                 0.0                      1   \n4        Česká republika                 0.1                      3   \n..                   ...                 ...                    ...   \n909                   SK                 0.1                      1   \n910                   SK                 0.1                      2   \n911                   SK                 0.1                      1   \n912  Slovenská republika                 0.1                      2   \n913  Slovenská republika                 0.1                      4   \n\n     HistoryDealsWithVitaz  MoneySpentSoFarInCategory  \\\n0                        1                   83283.00   \n1                        1                  150894.45   \n2                        1                    7436.00   \n3                        1                       0.98   \n4                        1                  187387.00   \n..                     ...                        ...   \n909                      1                   18442.80   \n910                      1                   35161.85   \n911                      1                  298350.00   \n912                      2                  182030.20   \n913                      2                  563930.20   \n\n     MoneySpentSoFarWithVitaz Relativna Uspora  \n0                    83283.00         0.581456  \n1                   150894.45         0.384324  \n2                     7436.00         0.770480  \n3                        0.98         0.999996  \n4                    57820.00         0.091998  \n..                        ...              ...  \n909                  18442.80         0.013564  \n910                  16719.05         0.191358  \n911                 298350.00        -0.065536  \n912                 182030.20        -0.014902  \n913                 381900.00         0.075815  \n\n[910 rows x 26 columns]",
      "text/html": "<div>\n<style scoped>\n    .dataframe tbody tr th:only-of-type {\n        vertical-align: middle;\n    }\n\n    .dataframe tbody tr th {\n        vertical-align: top;\n    }\n\n    .dataframe thead th {\n        text-align: right;\n    }\n</style>\n<table border=\"1\" class=\"dataframe\">\n  <thead>\n    <tr style=\"text-align: right;\">\n      <th></th>\n      <th>UniqueID</th>\n      <th>Org</th>\n      <th>AucID</th>\n      <th>AucZac</th>\n      <th>AucKon</th>\n      <th>AucNazov1</th>\n      <th>AucVal</th>\n      <th>Porovnávacia cena</th>\n      <th>VitaznaPonuka</th>\n      <th>Mena</th>\n      <th>...</th>\n      <th>PocetItems</th>\n      <th>PocetZmienPonuk</th>\n      <th>PocetPredlzeni</th>\n      <th>Stat</th>\n      <th>MinKrokZnizPercenta</th>\n      <th>HistoryDealsInCategory</th>\n      <th>HistoryDealsWithVitaz</th>\n      <th>MoneySpentSoFarInCategory</th>\n      <th>MoneySpentSoFarWithVitaz</th>\n      <th>Relativna Uspora</th>\n    </tr>\n  </thead>\n  <tbody>\n    <tr>\n      <th>0</th>\n      <td>100-45-1413</td>\n      <td>45</td>\n      <td>1413</td>\n      <td>2018-04-25 15:00:00</td>\n      <td>2018-04-27 09:45:00</td>\n      <td>BUTYLGLYKOL (CA</td>\n      <td>Multikriteriální hodnocení</td>\n      <td>198982.8900</td>\n      <td>83283.00</td>\n      <td>CZK</td>\n      <td>...</td>\n      <td>4</td>\n      <td>15.0</td>\n      <td>0</td>\n      <td>Česká republika</td>\n      <td>0.1</td>\n      <td>1</td>\n      <td>1</td>\n      <td>83283.00</td>\n      <td>83283.00</td>\n      <td>0.581456</td>\n    </tr>\n    <tr>\n      <th>1</th>\n      <td>100-45-1443</td>\n      <td>45</td>\n      <td>1443</td>\n      <td>2019-01-24 10:30:00</td>\n      <td>2019-01-31 10:30:00</td>\n      <td>Kancelářské pot</td>\n      <td>Celková nabídka účastníka</td>\n      <td>245087.5215</td>\n      <td>150894.45</td>\n      <td>CZK</td>\n      <td>...</td>\n      <td>41</td>\n      <td>89.0</td>\n      <td>0</td>\n      <td>Česká republika</td>\n      <td>0.0</td>\n      <td>1</td>\n      <td>1</td>\n      <td>150894.45</td>\n      <td>150894.45</td>\n      <td>0.384324</td>\n    </tr>\n    <tr>\n      <th>2</th>\n      <td>100-45-1389</td>\n      <td>45</td>\n      <td>1389</td>\n      <td>2017-10-30 09:15:00</td>\n      <td>2017-11-10 13:00:00</td>\n      <td>Poptávka výroby</td>\n      <td>Celková nabídka účastníka</td>\n      <td>32398.0000</td>\n      <td>7436.00</td>\n      <td>CZK</td>\n      <td>...</td>\n      <td>1</td>\n      <td>9.0</td>\n      <td>0</td>\n      <td>Česká republika</td>\n      <td>0.1</td>\n      <td>1</td>\n      <td>1</td>\n      <td>7436.00</td>\n      <td>7436.00</td>\n      <td>0.770480</td>\n    </tr>\n    <tr>\n      <th>3</th>\n      <td>100-45-1398</td>\n      <td>45</td>\n      <td>1398</td>\n      <td>2018-02-07 10:00:00</td>\n      <td>2018-03-01 00:00:00</td>\n      <td>Pronájem manipu</td>\n      <td>Jednotlivé položky</td>\n      <td>268321.2000</td>\n      <td>0.98</td>\n      <td>CZK</td>\n      <td>...</td>\n      <td>30</td>\n      <td>134.0</td>\n      <td>0</td>\n      <td>Česká republika</td>\n      <td>0.0</td>\n      <td>1</td>\n      <td>1</td>\n      <td>0.98</td>\n      <td>0.98</td>\n      <td>0.999996</td>\n    </tr>\n    <tr>\n      <th>4</th>\n      <td>100-45-1404</td>\n      <td>45</td>\n      <td>1404</td>\n      <td>2018-02-09 15:00:00</td>\n      <td>2018-02-23 15:00:00</td>\n      <td>Cenová poptávka</td>\n      <td>Multikriteriální hodnocení</td>\n      <td>63678.3000</td>\n      <td>57820.00</td>\n      <td>CZK</td>\n      <td>...</td>\n      <td>1</td>\n      <td>3.0</td>\n      <td>0</td>\n      <td>Česká republika</td>\n      <td>0.1</td>\n      <td>3</td>\n      <td>1</td>\n      <td>187387.00</td>\n      <td>57820.00</td>\n      <td>0.091998</td>\n    </tr>\n    <tr>\n      <th>...</th>\n      <td>...</td>\n      <td>...</td>\n      <td>...</td>\n      <td>...</td>\n      <td>...</td>\n      <td>...</td>\n      <td>...</td>\n      <td>...</td>\n      <td>...</td>\n      <td>...</td>\n      <td>...</td>\n      <td>...</td>\n      <td>...</td>\n      <td>...</td>\n      <td>...</td>\n      <td>...</td>\n      <td>...</td>\n      <td>...</td>\n      <td>...</td>\n      <td>...</td>\n      <td>...</td>\n    </tr>\n    <tr>\n      <th>909</th>\n      <td>102-146-2352</td>\n      <td>146</td>\n      <td>2352</td>\n      <td>2018-05-15 14:00:00</td>\n      <td>2018-05-17 10:20:00</td>\n      <td>Upratovanie pri</td>\n      <td>Celková nabídka účastníka</td>\n      <td>18696.3920</td>\n      <td>18442.80</td>\n      <td>EUR</td>\n      <td>...</td>\n      <td>1</td>\n      <td>5.0</td>\n      <td>0</td>\n      <td>SK</td>\n      <td>0.1</td>\n      <td>1</td>\n      <td>1</td>\n      <td>18442.80</td>\n      <td>18442.80</td>\n      <td>0.013564</td>\n    </tr>\n    <tr>\n      <th>910</th>\n      <td>102-146-2409</td>\n      <td>146</td>\n      <td>2409</td>\n      <td>2020-05-20 12:30:00</td>\n      <td>2020-05-22 10:28:00</td>\n      <td>Upratovací serv</td>\n      <td>Celková nabídka účastníka</td>\n      <td>20675.4660</td>\n      <td>16719.05</td>\n      <td>EUR</td>\n      <td>...</td>\n      <td>1</td>\n      <td>12.0</td>\n      <td>4</td>\n      <td>SK</td>\n      <td>0.1</td>\n      <td>2</td>\n      <td>1</td>\n      <td>35161.85</td>\n      <td>16719.05</td>\n      <td>0.191358</td>\n    </tr>\n    <tr>\n      <th>911</th>\n      <td>102-146-2359</td>\n      <td>146</td>\n      <td>2359</td>\n      <td>2018-06-26 15:30:00</td>\n      <td>2018-06-28 10:22:00</td>\n      <td>Inovácia RS - č</td>\n      <td>Celková nabídka účastníka</td>\n      <td>280000.0000</td>\n      <td>298350.00</td>\n      <td>EUR</td>\n      <td>...</td>\n      <td>1</td>\n      <td>11.0</td>\n      <td>1</td>\n      <td>SK</td>\n      <td>0.1</td>\n      <td>1</td>\n      <td>1</td>\n      <td>298350.00</td>\n      <td>298350.00</td>\n      <td>-0.065536</td>\n    </tr>\n    <tr>\n      <th>912</th>\n      <td>1065-181-5895</td>\n      <td>181</td>\n      <td>5895</td>\n      <td>2019-05-14 10:07:00</td>\n      <td>2019-05-15 09:06:00</td>\n      <td>rebrované trubk</td>\n      <td>Celková nabídka účastníka</td>\n      <td>98442.9600</td>\n      <td>99910.00</td>\n      <td>EUR</td>\n      <td>...</td>\n      <td>1</td>\n      <td>19.0</td>\n      <td>3</td>\n      <td>Slovenská republika</td>\n      <td>0.1</td>\n      <td>2</td>\n      <td>2</td>\n      <td>182030.20</td>\n      <td>182030.20</td>\n      <td>-0.014902</td>\n    </tr>\n    <tr>\n      <th>913</th>\n      <td>1065-181-5896</td>\n      <td>181</td>\n      <td>5896</td>\n      <td>2019-05-16 10:00:00</td>\n      <td>2019-05-17 09:09:00</td>\n      <td>rúry bezošvé pr</td>\n      <td>Celková nabídka účastníka</td>\n      <td>295850.0000</td>\n      <td>273420.00</td>\n      <td>EUR</td>\n      <td>...</td>\n      <td>1</td>\n      <td>22.0</td>\n      <td>8</td>\n      <td>Slovenská republika</td>\n      <td>0.1</td>\n      <td>4</td>\n      <td>2</td>\n      <td>563930.20</td>\n      <td>381900.00</td>\n      <td>0.075815</td>\n    </tr>\n  </tbody>\n</table>\n<p>910 rows × 26 columns</p>\n</div>"
     },
     "execution_count": 9,
     "metadata": {},
     "output_type": "execute_result"
    }
   ],
   "source": [
    "# Drop the rows where 'Vitaz' equals 0\n",
    "data = data[data['Vitaz'] != 0]\n",
    "data"
   ],
   "metadata": {
    "collapsed": false,
    "ExecuteTime": {
     "start_time": "2024-05-20T23:00:24.367764Z",
     "end_time": "2024-05-20T23:00:24.398561Z"
    }
   }
  },
  {
   "cell_type": "code",
   "execution_count": 10,
   "outputs": [],
   "source": [
    "\n",
    "# Write the resulting DataFrame to a new CSV file\n",
    "data.to_csv('final_data.csv', index=False)"
   ],
   "metadata": {
    "collapsed": false,
    "ExecuteTime": {
     "start_time": "2024-05-20T23:01:01.150884Z",
     "end_time": "2024-05-20T23:01:01.193326Z"
    }
   }
  },
  {
   "cell_type": "code",
   "execution_count": 5,
   "outputs": [
    {
     "name": "stdout",
     "output_type": "stream",
     "text": [
      "True\n"
     ]
    }
   ],
   "source": [
    "# Create a mask where 'Vitaz' equals 0\n",
    "mask = data['Vitaz'] == 0\n",
    "\n",
    "# Check if there are any rows where 'Vitaz' equals 0\n",
    "has_zero_vitaz = mask.any()\n",
    "\n",
    "print(has_zero_vitaz)\n"
   ],
   "metadata": {
    "collapsed": false,
    "ExecuteTime": {
     "start_time": "2024-05-20T22:56:39.500697Z",
     "end_time": "2024-05-20T22:56:39.516885Z"
    }
   }
  },
  {
   "cell_type": "code",
   "execution_count": 6,
   "outputs": [
    {
     "name": "stdout",
     "output_type": "stream",
     "text": [
      "914\n"
     ]
    }
   ],
   "source": [
    "print(len(mask))"
   ],
   "metadata": {
    "collapsed": false,
    "ExecuteTime": {
     "start_time": "2024-05-20T22:57:45.338203Z",
     "end_time": "2024-05-20T22:57:45.345153Z"
    }
   }
  },
  {
   "cell_type": "code",
   "execution_count": 7,
   "outputs": [
    {
     "name": "stdout",
     "output_type": "stream",
     "text": [
      "0      False\n",
      "1      False\n",
      "2      False\n",
      "3      False\n",
      "4      False\n",
      "       ...  \n",
      "909    False\n",
      "910    False\n",
      "911    False\n",
      "912    False\n",
      "913    False\n",
      "Name: Vitaz, Length: 914, dtype: bool\n"
     ]
    }
   ],
   "source": [
    "print(mask)"
   ],
   "metadata": {
    "collapsed": false,
    "ExecuteTime": {
     "start_time": "2024-05-20T22:58:04.020759Z",
     "end_time": "2024-05-20T22:58:04.024984Z"
    }
   }
  },
  {
   "cell_type": "code",
   "execution_count": null,
   "outputs": [],
   "source": [],
   "metadata": {
    "collapsed": false
   }
  }
 ],
 "metadata": {
  "kernelspec": {
   "display_name": "Python 3",
   "language": "python",
   "name": "python3"
  },
  "language_info": {
   "codemirror_mode": {
    "name": "ipython",
    "version": 2
   },
   "file_extension": ".py",
   "mimetype": "text/x-python",
   "name": "python",
   "nbconvert_exporter": "python",
   "pygments_lexer": "ipython2",
   "version": "2.7.6"
  }
 },
 "nbformat": 4,
 "nbformat_minor": 0
}
