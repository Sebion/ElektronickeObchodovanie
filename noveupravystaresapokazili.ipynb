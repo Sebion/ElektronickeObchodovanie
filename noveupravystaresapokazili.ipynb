{
 "cells": [
  {
   "cell_type": "code",
   "execution_count": 2,
   "metadata": {
    "collapsed": true,
    "ExecuteTime": {
     "start_time": "2024-05-20T22:52:23.154168Z",
     "end_time": "2024-05-20T22:52:23.202746Z"
    }
   },
   "outputs": [
    {
     "name": "stdout",
     "output_type": "stream",
     "text": [
      "          UniqueID  Org  AucID               AucZac               AucKon  \\\n",
      "0      100-45-1413   45   1413  2018-04-25 15:00:00  2018-04-27 09:45:00   \n",
      "1      100-45-1443   45   1443  2019-01-24 10:30:00  2019-01-31 10:30:00   \n",
      "2      100-45-1389   45   1389  2017-10-30 09:15:00  2017-11-10 13:00:00   \n",
      "3      100-45-1398   45   1398  2018-02-07 10:00:00  2018-03-01 00:00:00   \n",
      "4      100-45-1404   45   1404  2018-02-09 15:00:00  2018-02-23 15:00:00   \n",
      "..             ...  ...    ...                  ...                  ...   \n",
      "909   102-146-2352  146   2352  2018-05-15 14:00:00  2018-05-17 10:20:00   \n",
      "910   102-146-2409  146   2409  2020-05-20 12:30:00  2020-05-22 10:28:00   \n",
      "911   102-146-2359  146   2359  2018-06-26 15:30:00  2018-06-28 10:22:00   \n",
      "912  1065-181-5895  181   5895  2019-05-14 10:07:00  2019-05-15 09:06:00   \n",
      "913  1065-181-5896  181   5896  2019-05-16 10:00:00  2019-05-17 09:09:00   \n",
      "\n",
      "           AucNazov1                      AucVal  Porovnávacia cena  \\\n",
      "0    BUTYLGLYKOL (CA  Multikriteriální hodnocení        198982.8900   \n",
      "1    Kancelářské pot   Celková nabídka účastníka        245087.5215   \n",
      "2    Poptávka výroby   Celková nabídka účastníka         32398.0000   \n",
      "3    Pronájem manipu          Jednotlivé položky        268321.2000   \n",
      "4    Cenová poptávka  Multikriteriální hodnocení         63678.3000   \n",
      "..               ...                         ...                ...   \n",
      "909  Upratovanie pri   Celková nabídka účastníka         18696.3920   \n",
      "910  Upratovací serv   Celková nabídka účastníka         20675.4660   \n",
      "911  Inovácia RS - č   Celková nabídka účastníka        280000.0000   \n",
      "912  rebrované trubk   Celková nabídka účastníka         98442.9600   \n",
      "913  rúry bezošvé pr   Celková nabídka účastníka        295850.0000   \n",
      "\n",
      "     VitaznaPonuka Mena  ...  PocetItems  PocetZmienPonuk  PocetPredlzeni  \\\n",
      "0         83283.00  CZK  ...           4             15.0               0   \n",
      "1        150894.45  CZK  ...          41             89.0               0   \n",
      "2          7436.00  CZK  ...           1              9.0               0   \n",
      "3             0.98  CZK  ...          30            134.0               0   \n",
      "4         57820.00  CZK  ...           1              3.0               0   \n",
      "..             ...  ...  ...         ...              ...             ...   \n",
      "909       18442.80  EUR  ...           1              5.0               0   \n",
      "910       16719.05  EUR  ...           1             12.0               4   \n",
      "911      298350.00  EUR  ...           1             11.0               1   \n",
      "912       99910.00  EUR  ...           1             19.0               3   \n",
      "913      273420.00  EUR  ...           1             22.0               8   \n",
      "\n",
      "                    Stat MinKrokZnizPercenta HistoryDealsInCategory  \\\n",
      "0        Česká republika                 0.1                      1   \n",
      "1        Česká republika                 0.0                      1   \n",
      "2        Česká republika                 0.1                      1   \n",
      "3        Česká republika                 0.0                      1   \n",
      "4        Česká republika                 0.1                      3   \n",
      "..                   ...                 ...                    ...   \n",
      "909                   SK                 0.1                      1   \n",
      "910                   SK                 0.1                      2   \n",
      "911                   SK                 0.1                      1   \n",
      "912  Slovenská republika                 0.1                      2   \n",
      "913  Slovenská republika                 0.1                      4   \n",
      "\n",
      "     HistoryDealsWithVitaz  MoneySpentSoFarInCategory  \\\n",
      "0                        1                   83283.00   \n",
      "1                        1                  150894.45   \n",
      "2                        1                    7436.00   \n",
      "3                        1                       0.98   \n",
      "4                        1                  187387.00   \n",
      "..                     ...                        ...   \n",
      "909                      1                   18442.80   \n",
      "910                      1                   35161.85   \n",
      "911                      1                  298350.00   \n",
      "912                      2                  182030.20   \n",
      "913                      2                  563930.20   \n",
      "\n",
      "     MoneySpentSoFarWithVitaz Relativna Uspora  \n",
      "0                    83283.00         0.581456  \n",
      "1                   150894.45         0.384324  \n",
      "2                     7436.00         0.770480  \n",
      "3                        0.98         0.999996  \n",
      "4                    57820.00         0.091998  \n",
      "..                        ...              ...  \n",
      "909                  18442.80         0.013564  \n",
      "910                  16719.05         0.191358  \n",
      "911                 298350.00        -0.065536  \n",
      "912                 182030.20        -0.014902  \n",
      "913                 381900.00         0.075815  \n",
      "\n",
      "[914 rows x 26 columns]\n"
     ]
    }
   ],
   "source": [
    "import pandas as pd\n",
    "\n",
    "# Read the CSV file\n",
    "data = pd.read_csv('uzlenzbytkypozberane.csv')\n",
    "\n",
    "# Display the DataFrame\n",
    "print(data)"
   ]
  },
  {
   "cell_type": "code",
   "execution_count": 3,
   "outputs": [
    {
     "data": {
      "text/plain": "3"
     },
     "execution_count": 3,
     "metadata": {},
     "output_type": "execute_result"
    }
   ],
   "source": [
    "num_unique_ids_data = data[data['Vitaz'] == 7923]['UniqueID'].nunique()\n",
    "num_unique_ids_data"
   ],
   "metadata": {
    "collapsed": false,
    "ExecuteTime": {
     "start_time": "2024-05-20T22:52:48.513072Z",
     "end_time": "2024-05-20T22:52:48.517902Z"
    }
   }
  },
  {
   "cell_type": "code",
   "execution_count": 8,
   "outputs": [
    {
     "data": {
      "text/plain": "          UniqueID  Org  AucID               AucZac               AucKon  \\\n0      100-45-1413   45   1413  2018-04-25 15:00:00  2018-04-27 09:45:00   \n1      100-45-1443   45   1443  2019-01-24 10:30:00  2019-01-31 10:30:00   \n2      100-45-1389   45   1389  2017-10-30 09:15:00  2017-11-10 13:00:00   \n3      100-45-1398   45   1398  2018-02-07 10:00:00  2018-03-01 00:00:00   \n4      100-45-1404   45   1404  2018-02-09 15:00:00  2018-02-23 15:00:00   \n..             ...  ...    ...                  ...                  ...   \n909   102-146-2352  146   2352  2018-05-15 14:00:00  2018-05-17 10:20:00   \n910   102-146-2409  146   2409  2020-05-20 12:30:00  2020-05-22 10:28:00   \n911   102-146-2359  146   2359  2018-06-26 15:30:00  2018-06-28 10:22:00   \n912  1065-181-5895  181   5895  2019-05-14 10:07:00  2019-05-15 09:06:00   \n913  1065-181-5896  181   5896  2019-05-16 10:00:00  2019-05-17 09:09:00   \n\n           AucNazov1                      AucVal  Porovnávacia cena  \\\n0    BUTYLGLYKOL (CA  Multikriteriální hodnocení        198982.8900   \n1    Kancelářské pot   Celková nabídka účastníka        245087.5215   \n2    Poptávka výroby   Celková nabídka účastníka         32398.0000   \n3    Pronájem manipu          Jednotlivé položky        268321.2000   \n4    Cenová poptávka  Multikriteriální hodnocení         63678.3000   \n..               ...                         ...                ...   \n909  Upratovanie pri   Celková nabídka účastníka         18696.3920   \n910  Upratovací serv   Celková nabídka účastníka         20675.4660   \n911  Inovácia RS - č   Celková nabídka účastníka        280000.0000   \n912  rebrované trubk   Celková nabídka účastníka         98442.9600   \n913  rúry bezošvé pr   Celková nabídka účastníka        295850.0000   \n\n     VitaznaPonuka Mena  ...  PocetItems  PocetZmienPonuk  PocetPredlzeni  \\\n0         83283.00  CZK  ...           4             15.0               0   \n1        150894.45  CZK  ...          41             89.0               0   \n2          7436.00  CZK  ...           1              9.0               0   \n3             0.98  CZK  ...          30            134.0               0   \n4         57820.00  CZK  ...           1              3.0               0   \n..             ...  ...  ...         ...              ...             ...   \n909       18442.80  EUR  ...           1              5.0               0   \n910       16719.05  EUR  ...           1             12.0               4   \n911      298350.00  EUR  ...           1             11.0               1   \n912       99910.00  EUR  ...           1             19.0               3   \n913      273420.00  EUR  ...           1             22.0               8   \n\n                    Stat MinKrokZnizPercenta HistoryDealsInCategory  \\\n0        Česká republika                 0.1                      1   \n1        Česká republika                 0.0                      1   \n2        Česká republika                 0.1                      1   \n3        Česká republika                 0.0                      1   \n4        Česká republika                 0.1                      3   \n..                   ...                 ...                    ...   \n909                   SK                 0.1                      1   \n910                   SK                 0.1                      2   \n911                   SK                 0.1                      1   \n912  Slovenská republika                 0.1                      2   \n913  Slovenská republika                 0.1                      4   \n\n     HistoryDealsWithVitaz  MoneySpentSoFarInCategory  \\\n0                        1                   83283.00   \n1                        1                  150894.45   \n2                        1                    7436.00   \n3                        1                       0.98   \n4                        1                  187387.00   \n..                     ...                        ...   \n909                      1                   18442.80   \n910                      1                   35161.85   \n911                      1                  298350.00   \n912                      2                  182030.20   \n913                      2                  563930.20   \n\n     MoneySpentSoFarWithVitaz Relativna Uspora  \n0                    83283.00         0.581456  \n1                   150894.45         0.384324  \n2                     7436.00         0.770480  \n3                        0.98         0.999996  \n4                    57820.00         0.091998  \n..                        ...              ...  \n909                  18442.80         0.013564  \n910                  16719.05         0.191358  \n911                 298350.00        -0.065536  \n912                 182030.20        -0.014902  \n913                 381900.00         0.075815  \n\n[914 rows x 26 columns]",
      "text/html": "<div>\n<style scoped>\n    .dataframe tbody tr th:only-of-type {\n        vertical-align: middle;\n    }\n\n    .dataframe tbody tr th {\n        vertical-align: top;\n    }\n\n    .dataframe thead th {\n        text-align: right;\n    }\n</style>\n<table border=\"1\" class=\"dataframe\">\n  <thead>\n    <tr style=\"text-align: right;\">\n      <th></th>\n      <th>UniqueID</th>\n      <th>Org</th>\n      <th>AucID</th>\n      <th>AucZac</th>\n      <th>AucKon</th>\n      <th>AucNazov1</th>\n      <th>AucVal</th>\n      <th>Porovnávacia cena</th>\n      <th>VitaznaPonuka</th>\n      <th>Mena</th>\n      <th>...</th>\n      <th>PocetItems</th>\n      <th>PocetZmienPonuk</th>\n      <th>PocetPredlzeni</th>\n      <th>Stat</th>\n      <th>MinKrokZnizPercenta</th>\n      <th>HistoryDealsInCategory</th>\n      <th>HistoryDealsWithVitaz</th>\n      <th>MoneySpentSoFarInCategory</th>\n      <th>MoneySpentSoFarWithVitaz</th>\n      <th>Relativna Uspora</th>\n    </tr>\n  </thead>\n  <tbody>\n    <tr>\n      <th>0</th>\n      <td>100-45-1413</td>\n      <td>45</td>\n      <td>1413</td>\n      <td>2018-04-25 15:00:00</td>\n      <td>2018-04-27 09:45:00</td>\n      <td>BUTYLGLYKOL (CA</td>\n      <td>Multikriteriální hodnocení</td>\n      <td>198982.8900</td>\n      <td>83283.00</td>\n      <td>CZK</td>\n      <td>...</td>\n      <td>4</td>\n      <td>15.0</td>\n      <td>0</td>\n      <td>Česká republika</td>\n      <td>0.1</td>\n      <td>1</td>\n      <td>1</td>\n      <td>83283.00</td>\n      <td>83283.00</td>\n      <td>0.581456</td>\n    </tr>\n    <tr>\n      <th>1</th>\n      <td>100-45-1443</td>\n      <td>45</td>\n      <td>1443</td>\n      <td>2019-01-24 10:30:00</td>\n      <td>2019-01-31 10:30:00</td>\n      <td>Kancelářské pot</td>\n      <td>Celková nabídka účastníka</td>\n      <td>245087.5215</td>\n      <td>150894.45</td>\n      <td>CZK</td>\n      <td>...</td>\n      <td>41</td>\n      <td>89.0</td>\n      <td>0</td>\n      <td>Česká republika</td>\n      <td>0.0</td>\n      <td>1</td>\n      <td>1</td>\n      <td>150894.45</td>\n      <td>150894.45</td>\n      <td>0.384324</td>\n    </tr>\n    <tr>\n      <th>2</th>\n      <td>100-45-1389</td>\n      <td>45</td>\n      <td>1389</td>\n      <td>2017-10-30 09:15:00</td>\n      <td>2017-11-10 13:00:00</td>\n      <td>Poptávka výroby</td>\n      <td>Celková nabídka účastníka</td>\n      <td>32398.0000</td>\n      <td>7436.00</td>\n      <td>CZK</td>\n      <td>...</td>\n      <td>1</td>\n      <td>9.0</td>\n      <td>0</td>\n      <td>Česká republika</td>\n      <td>0.1</td>\n      <td>1</td>\n      <td>1</td>\n      <td>7436.00</td>\n      <td>7436.00</td>\n      <td>0.770480</td>\n    </tr>\n    <tr>\n      <th>3</th>\n      <td>100-45-1398</td>\n      <td>45</td>\n      <td>1398</td>\n      <td>2018-02-07 10:00:00</td>\n      <td>2018-03-01 00:00:00</td>\n      <td>Pronájem manipu</td>\n      <td>Jednotlivé položky</td>\n      <td>268321.2000</td>\n      <td>0.98</td>\n      <td>CZK</td>\n      <td>...</td>\n      <td>30</td>\n      <td>134.0</td>\n      <td>0</td>\n      <td>Česká republika</td>\n      <td>0.0</td>\n      <td>1</td>\n      <td>1</td>\n      <td>0.98</td>\n      <td>0.98</td>\n      <td>0.999996</td>\n    </tr>\n    <tr>\n      <th>4</th>\n      <td>100-45-1404</td>\n      <td>45</td>\n      <td>1404</td>\n      <td>2018-02-09 15:00:00</td>\n      <td>2018-02-23 15:00:00</td>\n      <td>Cenová poptávka</td>\n      <td>Multikriteriální hodnocení</td>\n      <td>63678.3000</td>\n      <td>57820.00</td>\n      <td>CZK</td>\n      <td>...</td>\n      <td>1</td>\n      <td>3.0</td>\n      <td>0</td>\n      <td>Česká republika</td>\n      <td>0.1</td>\n      <td>3</td>\n      <td>1</td>\n      <td>187387.00</td>\n      <td>57820.00</td>\n      <td>0.091998</td>\n    </tr>\n    <tr>\n      <th>...</th>\n      <td>...</td>\n      <td>...</td>\n      <td>...</td>\n      <td>...</td>\n      <td>...</td>\n      <td>...</td>\n      <td>...</td>\n      <td>...</td>\n      <td>...</td>\n      <td>...</td>\n      <td>...</td>\n      <td>...</td>\n      <td>...</td>\n      <td>...</td>\n      <td>...</td>\n      <td>...</td>\n      <td>...</td>\n      <td>...</td>\n      <td>...</td>\n      <td>...</td>\n      <td>...</td>\n    </tr>\n    <tr>\n      <th>909</th>\n      <td>102-146-2352</td>\n      <td>146</td>\n      <td>2352</td>\n      <td>2018-05-15 14:00:00</td>\n      <td>2018-05-17 10:20:00</td>\n      <td>Upratovanie pri</td>\n      <td>Celková nabídka účastníka</td>\n      <td>18696.3920</td>\n      <td>18442.80</td>\n      <td>EUR</td>\n      <td>...</td>\n      <td>1</td>\n      <td>5.0</td>\n      <td>0</td>\n      <td>SK</td>\n      <td>0.1</td>\n      <td>1</td>\n      <td>1</td>\n      <td>18442.80</td>\n      <td>18442.80</td>\n      <td>0.013564</td>\n    </tr>\n    <tr>\n      <th>910</th>\n      <td>102-146-2409</td>\n      <td>146</td>\n      <td>2409</td>\n      <td>2020-05-20 12:30:00</td>\n      <td>2020-05-22 10:28:00</td>\n      <td>Upratovací serv</td>\n      <td>Celková nabídka účastníka</td>\n      <td>20675.4660</td>\n      <td>16719.05</td>\n      <td>EUR</td>\n      <td>...</td>\n      <td>1</td>\n      <td>12.0</td>\n      <td>4</td>\n      <td>SK</td>\n      <td>0.1</td>\n      <td>2</td>\n      <td>1</td>\n      <td>35161.85</td>\n      <td>16719.05</td>\n      <td>0.191358</td>\n    </tr>\n    <tr>\n      <th>911</th>\n      <td>102-146-2359</td>\n      <td>146</td>\n      <td>2359</td>\n      <td>2018-06-26 15:30:00</td>\n      <td>2018-06-28 10:22:00</td>\n      <td>Inovácia RS - č</td>\n      <td>Celková nabídka účastníka</td>\n      <td>280000.0000</td>\n      <td>298350.00</td>\n      <td>EUR</td>\n      <td>...</td>\n      <td>1</td>\n      <td>11.0</td>\n      <td>1</td>\n      <td>SK</td>\n      <td>0.1</td>\n      <td>1</td>\n      <td>1</td>\n      <td>298350.00</td>\n      <td>298350.00</td>\n      <td>-0.065536</td>\n    </tr>\n    <tr>\n      <th>912</th>\n      <td>1065-181-5895</td>\n      <td>181</td>\n      <td>5895</td>\n      <td>2019-05-14 10:07:00</td>\n      <td>2019-05-15 09:06:00</td>\n      <td>rebrované trubk</td>\n      <td>Celková nabídka účastníka</td>\n      <td>98442.9600</td>\n      <td>99910.00</td>\n      <td>EUR</td>\n      <td>...</td>\n      <td>1</td>\n      <td>19.0</td>\n      <td>3</td>\n      <td>Slovenská republika</td>\n      <td>0.1</td>\n      <td>2</td>\n      <td>2</td>\n      <td>182030.20</td>\n      <td>182030.20</td>\n      <td>-0.014902</td>\n    </tr>\n    <tr>\n      <th>913</th>\n      <td>1065-181-5896</td>\n      <td>181</td>\n      <td>5896</td>\n      <td>2019-05-16 10:00:00</td>\n      <td>2019-05-17 09:09:00</td>\n      <td>rúry bezošvé pr</td>\n      <td>Celková nabídka účastníka</td>\n      <td>295850.0000</td>\n      <td>273420.00</td>\n      <td>EUR</td>\n      <td>...</td>\n      <td>1</td>\n      <td>22.0</td>\n      <td>8</td>\n      <td>Slovenská republika</td>\n      <td>0.1</td>\n      <td>4</td>\n      <td>2</td>\n      <td>563930.20</td>\n      <td>381900.00</td>\n      <td>0.075815</td>\n    </tr>\n  </tbody>\n</table>\n<p>914 rows × 26 columns</p>\n</div>"
     },
     "execution_count": 8,
     "metadata": {},
     "output_type": "execute_result"
    }
   ],
   "source": [
    "data"
   ],
   "metadata": {
    "collapsed": false,
    "ExecuteTime": {
     "start_time": "2024-05-20T22:59:29.923789Z",
     "end_time": "2024-05-20T22:59:29.953013Z"
    }
   }
  },
  {
   "cell_type": "code",
   "execution_count": 9,
   "outputs": [
    {
     "data": {
      "text/plain": "          UniqueID  Org  AucID               AucZac               AucKon  \\\n0      100-45-1413   45   1413  2018-04-25 15:00:00  2018-04-27 09:45:00   \n1      100-45-1443   45   1443  2019-01-24 10:30:00  2019-01-31 10:30:00   \n2      100-45-1389   45   1389  2017-10-30 09:15:00  2017-11-10 13:00:00   \n3      100-45-1398   45   1398  2018-02-07 10:00:00  2018-03-01 00:00:00   \n4      100-45-1404   45   1404  2018-02-09 15:00:00  2018-02-23 15:00:00   \n..             ...  ...    ...                  ...                  ...   \n909   102-146-2352  146   2352  2018-05-15 14:00:00  2018-05-17 10:20:00   \n910   102-146-2409  146   2409  2020-05-20 12:30:00  2020-05-22 10:28:00   \n911   102-146-2359  146   2359  2018-06-26 15:30:00  2018-06-28 10:22:00   \n912  1065-181-5895  181   5895  2019-05-14 10:07:00  2019-05-15 09:06:00   \n913  1065-181-5896  181   5896  2019-05-16 10:00:00  2019-05-17 09:09:00   \n\n           AucNazov1                      AucVal  Porovnávacia cena  \\\n0    BUTYLGLYKOL (CA  Multikriteriální hodnocení        198982.8900   \n1    Kancelářské pot   Celková nabídka účastníka        245087.5215   \n2    Poptávka výroby   Celková nabídka účastníka         32398.0000   \n3    Pronájem manipu          Jednotlivé položky        268321.2000   \n4    Cenová poptávka  Multikriteriální hodnocení         63678.3000   \n..               ...                         ...                ...   \n909  Upratovanie pri   Celková nabídka účastníka         18696.3920   \n910  Upratovací serv   Celková nabídka účastníka         20675.4660   \n911  Inovácia RS - č   Celková nabídka účastníka        280000.0000   \n912  rebrované trubk   Celková nabídka účastníka         98442.9600   \n913  rúry bezošvé pr   Celková nabídka účastníka        295850.0000   \n\n     VitaznaPonuka Mena  ...  PocetItems  PocetZmienPonuk  PocetPredlzeni  \\\n0         83283.00  CZK  ...           4             15.0               0   \n1        150894.45  CZK  ...          41             89.0               0   \n2          7436.00  CZK  ...           1              9.0               0   \n3             0.98  CZK  ...          30            134.0               0   \n4         57820.00  CZK  ...           1              3.0               0   \n..             ...  ...  ...         ...              ...             ...   \n909       18442.80  EUR  ...           1              5.0               0   \n910       16719.05  EUR  ...           1             12.0               4   \n911      298350.00  EUR  ...           1             11.0               1   \n912       99910.00  EUR  ...           1             19.0               3   \n913      273420.00  EUR  ...           1             22.0               8   \n\n                    Stat MinKrokZnizPercenta HistoryDealsInCategory  \\\n0        Česká republika                 0.1                      1   \n1        Česká republika                 0.0                      1   \n2        Česká republika                 0.1                      1   \n3        Česká republika                 0.0                      1   \n4        Česká republika                 0.1                      3   \n..                   ...                 ...                    ...   \n909                   SK                 0.1                      1   \n910                   SK                 0.1                      2   \n911                   SK                 0.1                      1   \n912  Slovenská republika                 0.1                      2   \n913  Slovenská republika                 0.1                      4   \n\n     HistoryDealsWithVitaz  MoneySpentSoFarInCategory  \\\n0                        1                   83283.00   \n1                        1                  150894.45   \n2                        1                    7436.00   \n3                        1                       0.98   \n4                        1                  187387.00   \n..                     ...                        ...   \n909                      1                   18442.80   \n910                      1                   35161.85   \n911                      1                  298350.00   \n912                      2                  182030.20   \n913                      2                  563930.20   \n\n     MoneySpentSoFarWithVitaz Relativna Uspora  \n0                    83283.00         0.581456  \n1                   150894.45         0.384324  \n2                     7436.00         0.770480  \n3                        0.98         0.999996  \n4                    57820.00         0.091998  \n..                        ...              ...  \n909                  18442.80         0.013564  \n910                  16719.05         0.191358  \n911                 298350.00        -0.065536  \n912                 182030.20        -0.014902  \n913                 381900.00         0.075815  \n\n[910 rows x 26 columns]",
      "text/html": "<div>\n<style scoped>\n    .dataframe tbody tr th:only-of-type {\n        vertical-align: middle;\n    }\n\n    .dataframe tbody tr th {\n        vertical-align: top;\n    }\n\n    .dataframe thead th {\n        text-align: right;\n    }\n</style>\n<table border=\"1\" class=\"dataframe\">\n  <thead>\n    <tr style=\"text-align: right;\">\n      <th></th>\n      <th>UniqueID</th>\n      <th>Org</th>\n      <th>AucID</th>\n      <th>AucZac</th>\n      <th>AucKon</th>\n      <th>AucNazov1</th>\n      <th>AucVal</th>\n      <th>Porovnávacia cena</th>\n      <th>VitaznaPonuka</th>\n      <th>Mena</th>\n      <th>...</th>\n      <th>PocetItems</th>\n      <th>PocetZmienPonuk</th>\n      <th>PocetPredlzeni</th>\n      <th>Stat</th>\n      <th>MinKrokZnizPercenta</th>\n      <th>HistoryDealsInCategory</th>\n      <th>HistoryDealsWithVitaz</th>\n      <th>MoneySpentSoFarInCategory</th>\n      <th>MoneySpentSoFarWithVitaz</th>\n      <th>Relativna Uspora</th>\n    </tr>\n  </thead>\n  <tbody>\n    <tr>\n      <th>0</th>\n      <td>100-45-1413</td>\n      <td>45</td>\n      <td>1413</td>\n      <td>2018-04-25 15:00:00</td>\n      <td>2018-04-27 09:45:00</td>\n      <td>BUTYLGLYKOL (CA</td>\n      <td>Multikriteriální hodnocení</td>\n      <td>198982.8900</td>\n      <td>83283.00</td>\n      <td>CZK</td>\n      <td>...</td>\n      <td>4</td>\n      <td>15.0</td>\n      <td>0</td>\n      <td>Česká republika</td>\n      <td>0.1</td>\n      <td>1</td>\n      <td>1</td>\n      <td>83283.00</td>\n      <td>83283.00</td>\n      <td>0.581456</td>\n    </tr>\n    <tr>\n      <th>1</th>\n      <td>100-45-1443</td>\n      <td>45</td>\n      <td>1443</td>\n      <td>2019-01-24 10:30:00</td>\n      <td>2019-01-31 10:30:00</td>\n      <td>Kancelářské pot</td>\n      <td>Celková nabídka účastníka</td>\n      <td>245087.5215</td>\n      <td>150894.45</td>\n      <td>CZK</td>\n      <td>...</td>\n      <td>41</td>\n      <td>89.0</td>\n      <td>0</td>\n      <td>Česká republika</td>\n      <td>0.0</td>\n      <td>1</td>\n      <td>1</td>\n      <td>150894.45</td>\n      <td>150894.45</td>\n      <td>0.384324</td>\n    </tr>\n    <tr>\n      <th>2</th>\n      <td>100-45-1389</td>\n      <td>45</td>\n      <td>1389</td>\n      <td>2017-10-30 09:15:00</td>\n      <td>2017-11-10 13:00:00</td>\n      <td>Poptávka výroby</td>\n      <td>Celková nabídka účastníka</td>\n      <td>32398.0000</td>\n      <td>7436.00</td>\n      <td>CZK</td>\n      <td>...</td>\n      <td>1</td>\n      <td>9.0</td>\n      <td>0</td>\n      <td>Česká republika</td>\n      <td>0.1</td>\n      <td>1</td>\n      <td>1</td>\n      <td>7436.00</td>\n      <td>7436.00</td>\n      <td>0.770480</td>\n    </tr>\n    <tr>\n      <th>3</th>\n      <td>100-45-1398</td>\n      <td>45</td>\n      <td>1398</td>\n      <td>2018-02-07 10:00:00</td>\n      <td>2018-03-01 00:00:00</td>\n      <td>Pronájem manipu</td>\n      <td>Jednotlivé položky</td>\n      <td>268321.2000</td>\n      <td>0.98</td>\n      <td>CZK</td>\n      <td>...</td>\n      <td>30</td>\n      <td>134.0</td>\n      <td>0</td>\n      <td>Česká republika</td>\n      <td>0.0</td>\n      <td>1</td>\n      <td>1</td>\n      <td>0.98</td>\n      <td>0.98</td>\n      <td>0.999996</td>\n    </tr>\n    <tr>\n      <th>4</th>\n      <td>100-45-1404</td>\n      <td>45</td>\n      <td>1404</td>\n      <td>2018-02-09 15:00:00</td>\n      <td>2018-02-23 15:00:00</td>\n      <td>Cenová poptávka</td>\n      <td>Multikriteriální hodnocení</td>\n      <td>63678.3000</td>\n      <td>57820.00</td>\n      <td>CZK</td>\n      <td>...</td>\n      <td>1</td>\n      <td>3.0</td>\n      <td>0</td>\n      <td>Česká republika</td>\n      <td>0.1</td>\n      <td>3</td>\n      <td>1</td>\n      <td>187387.00</td>\n      <td>57820.00</td>\n      <td>0.091998</td>\n    </tr>\n    <tr>\n      <th>...</th>\n      <td>...</td>\n      <td>...</td>\n      <td>...</td>\n      <td>...</td>\n      <td>...</td>\n      <td>...</td>\n      <td>...</td>\n      <td>...</td>\n      <td>...</td>\n      <td>...</td>\n      <td>...</td>\n      <td>...</td>\n      <td>...</td>\n      <td>...</td>\n      <td>...</td>\n      <td>...</td>\n      <td>...</td>\n      <td>...</td>\n      <td>...</td>\n      <td>...</td>\n      <td>...</td>\n    </tr>\n    <tr>\n      <th>909</th>\n      <td>102-146-2352</td>\n      <td>146</td>\n      <td>2352</td>\n      <td>2018-05-15 14:00:00</td>\n      <td>2018-05-17 10:20:00</td>\n      <td>Upratovanie pri</td>\n      <td>Celková nabídka účastníka</td>\n      <td>18696.3920</td>\n      <td>18442.80</td>\n      <td>EUR</td>\n      <td>...</td>\n      <td>1</td>\n      <td>5.0</td>\n      <td>0</td>\n      <td>SK</td>\n      <td>0.1</td>\n      <td>1</td>\n      <td>1</td>\n      <td>18442.80</td>\n      <td>18442.80</td>\n      <td>0.013564</td>\n    </tr>\n    <tr>\n      <th>910</th>\n      <td>102-146-2409</td>\n      <td>146</td>\n      <td>2409</td>\n      <td>2020-05-20 12:30:00</td>\n      <td>2020-05-22 10:28:00</td>\n      <td>Upratovací serv</td>\n      <td>Celková nabídka účastníka</td>\n      <td>20675.4660</td>\n      <td>16719.05</td>\n      <td>EUR</td>\n      <td>...</td>\n      <td>1</td>\n      <td>12.0</td>\n      <td>4</td>\n      <td>SK</td>\n      <td>0.1</td>\n      <td>2</td>\n      <td>1</td>\n      <td>35161.85</td>\n      <td>16719.05</td>\n      <td>0.191358</td>\n    </tr>\n    <tr>\n      <th>911</th>\n      <td>102-146-2359</td>\n      <td>146</td>\n      <td>2359</td>\n      <td>2018-06-26 15:30:00</td>\n      <td>2018-06-28 10:22:00</td>\n      <td>Inovácia RS - č</td>\n      <td>Celková nabídka účastníka</td>\n      <td>280000.0000</td>\n      <td>298350.00</td>\n      <td>EUR</td>\n      <td>...</td>\n      <td>1</td>\n      <td>11.0</td>\n      <td>1</td>\n      <td>SK</td>\n      <td>0.1</td>\n      <td>1</td>\n      <td>1</td>\n      <td>298350.00</td>\n      <td>298350.00</td>\n      <td>-0.065536</td>\n    </tr>\n    <tr>\n      <th>912</th>\n      <td>1065-181-5895</td>\n      <td>181</td>\n      <td>5895</td>\n      <td>2019-05-14 10:07:00</td>\n      <td>2019-05-15 09:06:00</td>\n      <td>rebrované trubk</td>\n      <td>Celková nabídka účastníka</td>\n      <td>98442.9600</td>\n      <td>99910.00</td>\n      <td>EUR</td>\n      <td>...</td>\n      <td>1</td>\n      <td>19.0</td>\n      <td>3</td>\n      <td>Slovenská republika</td>\n      <td>0.1</td>\n      <td>2</td>\n      <td>2</td>\n      <td>182030.20</td>\n      <td>182030.20</td>\n      <td>-0.014902</td>\n    </tr>\n    <tr>\n      <th>913</th>\n      <td>1065-181-5896</td>\n      <td>181</td>\n      <td>5896</td>\n      <td>2019-05-16 10:00:00</td>\n      <td>2019-05-17 09:09:00</td>\n      <td>rúry bezošvé pr</td>\n      <td>Celková nabídka účastníka</td>\n      <td>295850.0000</td>\n      <td>273420.00</td>\n      <td>EUR</td>\n      <td>...</td>\n      <td>1</td>\n      <td>22.0</td>\n      <td>8</td>\n      <td>Slovenská republika</td>\n      <td>0.1</td>\n      <td>4</td>\n      <td>2</td>\n      <td>563930.20</td>\n      <td>381900.00</td>\n      <td>0.075815</td>\n    </tr>\n  </tbody>\n</table>\n<p>910 rows × 26 columns</p>\n</div>"
     },
     "execution_count": 9,
     "metadata": {},
     "output_type": "execute_result"
    }
   ],
   "source": [
    "# Drop the rows where 'Vitaz' equals 0\n",
    "data = data[data['Vitaz'] != 0]\n",
    "data"
   ],
   "metadata": {
    "collapsed": false,
    "ExecuteTime": {
     "start_time": "2024-05-20T23:00:24.367764Z",
     "end_time": "2024-05-20T23:00:24.398561Z"
    }
   }
  },
  {
   "cell_type": "code",
   "execution_count": 10,
   "outputs": [],
   "source": [
    "\n",
    "# Write the resulting DataFrame to a new CSV file\n",
    "data.to_csv('final_data.csv', index=False)"
   ],
   "metadata": {
    "collapsed": false,
    "ExecuteTime": {
     "start_time": "2024-05-20T23:01:01.150884Z",
     "end_time": "2024-05-20T23:01:01.193326Z"
    }
   }
  },
  {
   "cell_type": "code",
   "execution_count": 5,
   "outputs": [
    {
     "name": "stdout",
     "output_type": "stream",
     "text": [
      "True\n"
     ]
    }
   ],
   "source": [
    "# Create a mask where 'Vitaz' equals 0\n",
    "mask = data['Vitaz'] == 0\n",
    "\n",
    "# Check if there are any rows where 'Vitaz' equals 0\n",
    "has_zero_vitaz = mask.any()\n",
    "\n",
    "print(has_zero_vitaz)\n"
   ],
   "metadata": {
    "collapsed": false,
    "ExecuteTime": {
     "start_time": "2024-05-20T22:56:39.500697Z",
     "end_time": "2024-05-20T22:56:39.516885Z"
    }
   }
  },
  {
   "cell_type": "code",
   "execution_count": 6,
   "outputs": [
    {
     "name": "stdout",
     "output_type": "stream",
     "text": [
      "914\n"
     ]
    }
   ],
   "source": [
    "print(len(mask))"
   ],
   "metadata": {
    "collapsed": false,
    "ExecuteTime": {
     "start_time": "2024-05-20T22:57:45.338203Z",
     "end_time": "2024-05-20T22:57:45.345153Z"
    }
   }
  },
  {
   "cell_type": "code",
   "execution_count": 7,
   "outputs": [
    {
     "name": "stdout",
     "output_type": "stream",
     "text": [
      "0      False\n",
      "1      False\n",
      "2      False\n",
      "3      False\n",
      "4      False\n",
      "       ...  \n",
      "909    False\n",
      "910    False\n",
      "911    False\n",
      "912    False\n",
      "913    False\n",
      "Name: Vitaz, Length: 914, dtype: bool\n"
     ]
    }
   ],
   "source": [
    "print(mask)"
   ],
   "metadata": {
    "collapsed": false,
    "ExecuteTime": {
     "start_time": "2024-05-20T22:58:04.020759Z",
     "end_time": "2024-05-20T22:58:04.024984Z"
    }
   }
  },
  {
   "cell_type": "code",
   "execution_count": 9,
   "outputs": [
    {
     "name": "stdout",
     "output_type": "stream",
     "text": [
      "           UniqueID  Org  AucID            NazovKola  IDItem IDParticipant  \\\n",
      "0       100-45-1364   45   1364         Vstupní kolo   54038          2983   \n",
      "1       100-45-1364   45   1364         Vstupní kolo   53969          2983   \n",
      "2       100-45-1364   45   1364         Vstupní kolo   54177          2983   \n",
      "3       100-45-1364   45   1364         Vstupní kolo   54037          2983   \n",
      "4       100-45-1364   45   1364         Vstupní kolo   53979          2983   \n",
      "...             ...  ...    ...                  ...     ...           ...   \n",
      "76552  1105-60-3190   60   3190  Pøedkládání nabídek   58525         10834   \n",
      "76553  1105-60-3191   60   3191                  NaN   58527          5860   \n",
      "76554  1105-60-3191   60   3191                  NaN   58527         10626   \n",
      "76555  1105-60-3191   60   3191                  NaN   58527         10626   \n",
      "76556  1105-60-3192   60   3192  Pøedkládání nabídek   58528          5506   \n",
      "\n",
      "            Datum  CasZmeny NovaHodnota Unnamed: 9  \n",
      "0      13.10.2017  15:58:22         690        NaN  \n",
      "1      13.10.2017  15:58:23         690        NaN  \n",
      "2      13.10.2017  15:58:24         690        NaN  \n",
      "3      13.10.2017  15:58:25         690        NaN  \n",
      "4      13.10.2017  15:58:26         690        NaN  \n",
      "...           ...       ...         ...        ...  \n",
      "76552   30.1.2020  13:25:25       11500        NaN  \n",
      "76553    4.2.2020   7:25:42       18705        NaN  \n",
      "76554    4.2.2020   7:58:26         950        NaN  \n",
      "76555    4.2.2020   7:58:33         990        NaN  \n",
      "76556   17.2.2020  13:23:17       33919        NaN  \n",
      "\n",
      "[76557 rows x 10 columns]\n"
     ]
    },
    {
     "name": "stderr",
     "output_type": "stream",
     "text": [
      "/var/folders/cj/vh3ymv8n1tsf0kp09s2k65l80000gq/T/ipykernel_4189/2253226629.py:4: DtypeWarning: Columns (5,9) have mixed types. Specify dtype option on import or set low_memory=False.\n",
      "  data = pd.read_csv('data_auctionHIsim2024/T4_bidyHI simul2_2024.csv', sep=';', encoding='ISO-8859-1')\n"
     ]
    }
   ],
   "source": [
    "import pandas as pd\n",
    "\n",
    "# Read the CSV file\n",
    "data = pd.read_csv('data_auctionHIsim2024/T4_bidyHI simul2_2024.csv', sep=';', encoding='ISO-8859-1')\n",
    "# Display the DataFrame\n",
    "print(data)"
   ],
   "metadata": {
    "collapsed": false,
    "ExecuteTime": {
     "start_time": "2024-06-04T11:53:11.139305Z",
     "end_time": "2024-06-04T11:53:11.336415Z"
    }
   }
  },
  {
   "cell_type": "code",
   "execution_count": 10,
   "outputs": [
    {
     "data": {
      "text/plain": "           UniqueID  Org  AucID            NazovKola  IDItem IDParticipant  \\\n0       100-45-1364   45   1364         Vstupní kolo   54038          2983   \n1       100-45-1364   45   1364         Vstupní kolo   53969          2983   \n2       100-45-1364   45   1364         Vstupní kolo   54177          2983   \n3       100-45-1364   45   1364         Vstupní kolo   54037          2983   \n4       100-45-1364   45   1364         Vstupní kolo   53979          2983   \n...             ...  ...    ...                  ...     ...           ...   \n76552  1105-60-3190   60   3190  Pøedkládání nabídek   58525         10834   \n76553  1105-60-3191   60   3191                  NaN   58527          5860   \n76554  1105-60-3191   60   3191                  NaN   58527         10626   \n76555  1105-60-3191   60   3191                  NaN   58527         10626   \n76556  1105-60-3192   60   3192  Pøedkládání nabídek   58528          5506   \n\n            Datum  CasZmeny NovaHodnota Unnamed: 9  \n0      13.10.2017  15:58:22         690        NaN  \n1      13.10.2017  15:58:23         690        NaN  \n2      13.10.2017  15:58:24         690        NaN  \n3      13.10.2017  15:58:25         690        NaN  \n4      13.10.2017  15:58:26         690        NaN  \n...           ...       ...         ...        ...  \n76552   30.1.2020  13:25:25       11500        NaN  \n76553    4.2.2020   7:25:42       18705        NaN  \n76554    4.2.2020   7:58:26         950        NaN  \n76555    4.2.2020   7:58:33         990        NaN  \n76556   17.2.2020  13:23:17       33919        NaN  \n\n[76557 rows x 10 columns]",
      "text/html": "<div>\n<style scoped>\n    .dataframe tbody tr th:only-of-type {\n        vertical-align: middle;\n    }\n\n    .dataframe tbody tr th {\n        vertical-align: top;\n    }\n\n    .dataframe thead th {\n        text-align: right;\n    }\n</style>\n<table border=\"1\" class=\"dataframe\">\n  <thead>\n    <tr style=\"text-align: right;\">\n      <th></th>\n      <th>UniqueID</th>\n      <th>Org</th>\n      <th>AucID</th>\n      <th>NazovKola</th>\n      <th>IDItem</th>\n      <th>IDParticipant</th>\n      <th>Datum</th>\n      <th>CasZmeny</th>\n      <th>NovaHodnota</th>\n      <th>Unnamed: 9</th>\n    </tr>\n  </thead>\n  <tbody>\n    <tr>\n      <th>0</th>\n      <td>100-45-1364</td>\n      <td>45</td>\n      <td>1364</td>\n      <td>Vstupní kolo</td>\n      <td>54038</td>\n      <td>2983</td>\n      <td>13.10.2017</td>\n      <td>15:58:22</td>\n      <td>690</td>\n      <td>NaN</td>\n    </tr>\n    <tr>\n      <th>1</th>\n      <td>100-45-1364</td>\n      <td>45</td>\n      <td>1364</td>\n      <td>Vstupní kolo</td>\n      <td>53969</td>\n      <td>2983</td>\n      <td>13.10.2017</td>\n      <td>15:58:23</td>\n      <td>690</td>\n      <td>NaN</td>\n    </tr>\n    <tr>\n      <th>2</th>\n      <td>100-45-1364</td>\n      <td>45</td>\n      <td>1364</td>\n      <td>Vstupní kolo</td>\n      <td>54177</td>\n      <td>2983</td>\n      <td>13.10.2017</td>\n      <td>15:58:24</td>\n      <td>690</td>\n      <td>NaN</td>\n    </tr>\n    <tr>\n      <th>3</th>\n      <td>100-45-1364</td>\n      <td>45</td>\n      <td>1364</td>\n      <td>Vstupní kolo</td>\n      <td>54037</td>\n      <td>2983</td>\n      <td>13.10.2017</td>\n      <td>15:58:25</td>\n      <td>690</td>\n      <td>NaN</td>\n    </tr>\n    <tr>\n      <th>4</th>\n      <td>100-45-1364</td>\n      <td>45</td>\n      <td>1364</td>\n      <td>Vstupní kolo</td>\n      <td>53979</td>\n      <td>2983</td>\n      <td>13.10.2017</td>\n      <td>15:58:26</td>\n      <td>690</td>\n      <td>NaN</td>\n    </tr>\n    <tr>\n      <th>...</th>\n      <td>...</td>\n      <td>...</td>\n      <td>...</td>\n      <td>...</td>\n      <td>...</td>\n      <td>...</td>\n      <td>...</td>\n      <td>...</td>\n      <td>...</td>\n      <td>...</td>\n    </tr>\n    <tr>\n      <th>76552</th>\n      <td>1105-60-3190</td>\n      <td>60</td>\n      <td>3190</td>\n      <td>Pøedkládání nabídek</td>\n      <td>58525</td>\n      <td>10834</td>\n      <td>30.1.2020</td>\n      <td>13:25:25</td>\n      <td>11500</td>\n      <td>NaN</td>\n    </tr>\n    <tr>\n      <th>76553</th>\n      <td>1105-60-3191</td>\n      <td>60</td>\n      <td>3191</td>\n      <td>NaN</td>\n      <td>58527</td>\n      <td>5860</td>\n      <td>4.2.2020</td>\n      <td>7:25:42</td>\n      <td>18705</td>\n      <td>NaN</td>\n    </tr>\n    <tr>\n      <th>76554</th>\n      <td>1105-60-3191</td>\n      <td>60</td>\n      <td>3191</td>\n      <td>NaN</td>\n      <td>58527</td>\n      <td>10626</td>\n      <td>4.2.2020</td>\n      <td>7:58:26</td>\n      <td>950</td>\n      <td>NaN</td>\n    </tr>\n    <tr>\n      <th>76555</th>\n      <td>1105-60-3191</td>\n      <td>60</td>\n      <td>3191</td>\n      <td>NaN</td>\n      <td>58527</td>\n      <td>10626</td>\n      <td>4.2.2020</td>\n      <td>7:58:33</td>\n      <td>990</td>\n      <td>NaN</td>\n    </tr>\n    <tr>\n      <th>76556</th>\n      <td>1105-60-3192</td>\n      <td>60</td>\n      <td>3192</td>\n      <td>Pøedkládání nabídek</td>\n      <td>58528</td>\n      <td>5506</td>\n      <td>17.2.2020</td>\n      <td>13:23:17</td>\n      <td>33919</td>\n      <td>NaN</td>\n    </tr>\n  </tbody>\n</table>\n<p>76557 rows × 10 columns</p>\n</div>"
     },
     "execution_count": 10,
     "metadata": {},
     "output_type": "execute_result"
    }
   ],
   "source": [
    "data"
   ],
   "metadata": {
    "collapsed": false,
    "ExecuteTime": {
     "start_time": "2024-06-04T11:53:11.442761Z",
     "end_time": "2024-06-04T11:53:11.460059Z"
    }
   }
  },
  {
   "cell_type": "code",
   "execution_count": 59,
   "outputs": [
    {
     "data": {
      "text/plain": "           UniqueID  Org  AucID            NazovKola  IDItem IDParticipant  \\\n59894  1105-60-2307   60   2307  Pøedkládání nabídek   44926          7120   \n59895  1105-60-2307   60   2307  Pøedkládání nabídek   44927          7120   \n59896  1105-60-2307   60   2307  Pøedkládání nabídek   44930          7120   \n59897  1105-60-2307   60   2307  Pøedkládání nabídek   44930          7120   \n60248  1105-60-2329   60   2329  Pøedkládání nabídek   46216          7120   \n62270  1105-60-2442   60   2442  Pøedkládání nabídek   53184          7120   \n63254  1105-60-2507   60   2507  Pøedkládání nabídek   53653          7120   \n63255  1105-60-2507   60   2507  Pøedkládání nabídek   53654          7120   \n63256  1105-60-2507   60   2507  Pøedkládání nabídek   53655          7120   \n64068  1105-60-2572   60   2572  Pøedkládání nabídek   54111          7120   \n64220  1105-60-2584   60   2584  Pøedkládání nabídek   54204          7120   \n64234  1105-60-2584   60   2584  Pøedkládání nabídek   54241          7120   \n64823  1105-60-2628   60   2628  Pøedkládání nabídek   54467          7120   \n66015  1105-60-2713   60   2713  Pøedkládání nabídek   55066          7120   \n68352  1105-60-2839   60   2839  Pøedkládání nabídek   55993          7120   \n68353  1105-60-2839   60   2839  Pøedkládání nabídek   55995          7120   \n68354  1105-60-2839   60   2839  Pøedkládání nabídek   55993          7120   \n70347  1105-60-2945   60   2945  Pøedkládání nabídek   56741          7120   \n70603  1105-60-2950   60   2950  Pøedkládání nabídek   56775          7120   \n70604  1105-60-2950   60   2950  Pøedkládání nabídek   56776          7120   \n71464  1105-60-3003   60   3003  Pøedkládání nabídek   57098          7120   \n71465  1105-60-3003   60   3003  Pøedkládání nabídek   57099          7120   \n73272  1105-60-3063   60   3063  Pøedkládání nabídek   57548          7120   \n73273  1105-60-3063   60   3063  Pøedkládání nabídek   57547          7120   \n\n            Datum  CasZmeny NovaHodnota Unnamed: 9  \n59894    4.1.2018   7:18:51          63        NaN  \n59895    4.1.2018   7:18:53          72        NaN  \n59896    4.1.2018   7:19:10          81        NaN  \n59897    4.1.2018   7:19:30          81        NaN  \n60248   19.1.2018   9:24:10         350        NaN  \n62270    5.4.2018  16:03:54        1,25        NaN  \n63254   18.5.2018   9:14:09         610        NaN  \n63255   18.5.2018   9:14:17         780        NaN  \n63256   18.5.2018   9:14:30        2050        NaN  \n64068    3.7.2018   9:05:34        1240        NaN  \n64220    1.8.2018   9:47:14         448        NaN  \n64234    3.8.2018   8:51:40        1000        NaN  \n64823   29.8.2018  12:49:42         482        NaN  \n66015  29.10.2018  10:18:00       953,4        NaN  \n68352   20.2.2019  11:30:57       856,2        NaN  \n68353   20.2.2019  11:31:06        1118        NaN  \n68354   20.2.2019  11:33:35       836,2        NaN  \n70347   20.5.2019  11:09:46         896        NaN  \n70603   24.5.2019   9:59:18         492        NaN  \n70604   24.5.2019   9:59:22        1172        NaN  \n71464   29.7.2019  12:50:55         848        NaN  \n71465   29.7.2019  12:51:02        1076        NaN  \n73272   23.9.2019  11:20:05         958        NaN  \n73273   23.9.2019  11:20:11        1126        NaN  ",
      "text/html": "<div>\n<style scoped>\n    .dataframe tbody tr th:only-of-type {\n        vertical-align: middle;\n    }\n\n    .dataframe tbody tr th {\n        vertical-align: top;\n    }\n\n    .dataframe thead th {\n        text-align: right;\n    }\n</style>\n<table border=\"1\" class=\"dataframe\">\n  <thead>\n    <tr style=\"text-align: right;\">\n      <th></th>\n      <th>UniqueID</th>\n      <th>Org</th>\n      <th>AucID</th>\n      <th>NazovKola</th>\n      <th>IDItem</th>\n      <th>IDParticipant</th>\n      <th>Datum</th>\n      <th>CasZmeny</th>\n      <th>NovaHodnota</th>\n      <th>Unnamed: 9</th>\n    </tr>\n  </thead>\n  <tbody>\n    <tr>\n      <th>59894</th>\n      <td>1105-60-2307</td>\n      <td>60</td>\n      <td>2307</td>\n      <td>Pøedkládání nabídek</td>\n      <td>44926</td>\n      <td>7120</td>\n      <td>4.1.2018</td>\n      <td>7:18:51</td>\n      <td>63</td>\n      <td>NaN</td>\n    </tr>\n    <tr>\n      <th>59895</th>\n      <td>1105-60-2307</td>\n      <td>60</td>\n      <td>2307</td>\n      <td>Pøedkládání nabídek</td>\n      <td>44927</td>\n      <td>7120</td>\n      <td>4.1.2018</td>\n      <td>7:18:53</td>\n      <td>72</td>\n      <td>NaN</td>\n    </tr>\n    <tr>\n      <th>59896</th>\n      <td>1105-60-2307</td>\n      <td>60</td>\n      <td>2307</td>\n      <td>Pøedkládání nabídek</td>\n      <td>44930</td>\n      <td>7120</td>\n      <td>4.1.2018</td>\n      <td>7:19:10</td>\n      <td>81</td>\n      <td>NaN</td>\n    </tr>\n    <tr>\n      <th>59897</th>\n      <td>1105-60-2307</td>\n      <td>60</td>\n      <td>2307</td>\n      <td>Pøedkládání nabídek</td>\n      <td>44930</td>\n      <td>7120</td>\n      <td>4.1.2018</td>\n      <td>7:19:30</td>\n      <td>81</td>\n      <td>NaN</td>\n    </tr>\n    <tr>\n      <th>60248</th>\n      <td>1105-60-2329</td>\n      <td>60</td>\n      <td>2329</td>\n      <td>Pøedkládání nabídek</td>\n      <td>46216</td>\n      <td>7120</td>\n      <td>19.1.2018</td>\n      <td>9:24:10</td>\n      <td>350</td>\n      <td>NaN</td>\n    </tr>\n    <tr>\n      <th>62270</th>\n      <td>1105-60-2442</td>\n      <td>60</td>\n      <td>2442</td>\n      <td>Pøedkládání nabídek</td>\n      <td>53184</td>\n      <td>7120</td>\n      <td>5.4.2018</td>\n      <td>16:03:54</td>\n      <td>1,25</td>\n      <td>NaN</td>\n    </tr>\n    <tr>\n      <th>63254</th>\n      <td>1105-60-2507</td>\n      <td>60</td>\n      <td>2507</td>\n      <td>Pøedkládání nabídek</td>\n      <td>53653</td>\n      <td>7120</td>\n      <td>18.5.2018</td>\n      <td>9:14:09</td>\n      <td>610</td>\n      <td>NaN</td>\n    </tr>\n    <tr>\n      <th>63255</th>\n      <td>1105-60-2507</td>\n      <td>60</td>\n      <td>2507</td>\n      <td>Pøedkládání nabídek</td>\n      <td>53654</td>\n      <td>7120</td>\n      <td>18.5.2018</td>\n      <td>9:14:17</td>\n      <td>780</td>\n      <td>NaN</td>\n    </tr>\n    <tr>\n      <th>63256</th>\n      <td>1105-60-2507</td>\n      <td>60</td>\n      <td>2507</td>\n      <td>Pøedkládání nabídek</td>\n      <td>53655</td>\n      <td>7120</td>\n      <td>18.5.2018</td>\n      <td>9:14:30</td>\n      <td>2050</td>\n      <td>NaN</td>\n    </tr>\n    <tr>\n      <th>64068</th>\n      <td>1105-60-2572</td>\n      <td>60</td>\n      <td>2572</td>\n      <td>Pøedkládání nabídek</td>\n      <td>54111</td>\n      <td>7120</td>\n      <td>3.7.2018</td>\n      <td>9:05:34</td>\n      <td>1240</td>\n      <td>NaN</td>\n    </tr>\n    <tr>\n      <th>64220</th>\n      <td>1105-60-2584</td>\n      <td>60</td>\n      <td>2584</td>\n      <td>Pøedkládání nabídek</td>\n      <td>54204</td>\n      <td>7120</td>\n      <td>1.8.2018</td>\n      <td>9:47:14</td>\n      <td>448</td>\n      <td>NaN</td>\n    </tr>\n    <tr>\n      <th>64234</th>\n      <td>1105-60-2584</td>\n      <td>60</td>\n      <td>2584</td>\n      <td>Pøedkládání nabídek</td>\n      <td>54241</td>\n      <td>7120</td>\n      <td>3.8.2018</td>\n      <td>8:51:40</td>\n      <td>1000</td>\n      <td>NaN</td>\n    </tr>\n    <tr>\n      <th>64823</th>\n      <td>1105-60-2628</td>\n      <td>60</td>\n      <td>2628</td>\n      <td>Pøedkládání nabídek</td>\n      <td>54467</td>\n      <td>7120</td>\n      <td>29.8.2018</td>\n      <td>12:49:42</td>\n      <td>482</td>\n      <td>NaN</td>\n    </tr>\n    <tr>\n      <th>66015</th>\n      <td>1105-60-2713</td>\n      <td>60</td>\n      <td>2713</td>\n      <td>Pøedkládání nabídek</td>\n      <td>55066</td>\n      <td>7120</td>\n      <td>29.10.2018</td>\n      <td>10:18:00</td>\n      <td>953,4</td>\n      <td>NaN</td>\n    </tr>\n    <tr>\n      <th>68352</th>\n      <td>1105-60-2839</td>\n      <td>60</td>\n      <td>2839</td>\n      <td>Pøedkládání nabídek</td>\n      <td>55993</td>\n      <td>7120</td>\n      <td>20.2.2019</td>\n      <td>11:30:57</td>\n      <td>856,2</td>\n      <td>NaN</td>\n    </tr>\n    <tr>\n      <th>68353</th>\n      <td>1105-60-2839</td>\n      <td>60</td>\n      <td>2839</td>\n      <td>Pøedkládání nabídek</td>\n      <td>55995</td>\n      <td>7120</td>\n      <td>20.2.2019</td>\n      <td>11:31:06</td>\n      <td>1118</td>\n      <td>NaN</td>\n    </tr>\n    <tr>\n      <th>68354</th>\n      <td>1105-60-2839</td>\n      <td>60</td>\n      <td>2839</td>\n      <td>Pøedkládání nabídek</td>\n      <td>55993</td>\n      <td>7120</td>\n      <td>20.2.2019</td>\n      <td>11:33:35</td>\n      <td>836,2</td>\n      <td>NaN</td>\n    </tr>\n    <tr>\n      <th>70347</th>\n      <td>1105-60-2945</td>\n      <td>60</td>\n      <td>2945</td>\n      <td>Pøedkládání nabídek</td>\n      <td>56741</td>\n      <td>7120</td>\n      <td>20.5.2019</td>\n      <td>11:09:46</td>\n      <td>896</td>\n      <td>NaN</td>\n    </tr>\n    <tr>\n      <th>70603</th>\n      <td>1105-60-2950</td>\n      <td>60</td>\n      <td>2950</td>\n      <td>Pøedkládání nabídek</td>\n      <td>56775</td>\n      <td>7120</td>\n      <td>24.5.2019</td>\n      <td>9:59:18</td>\n      <td>492</td>\n      <td>NaN</td>\n    </tr>\n    <tr>\n      <th>70604</th>\n      <td>1105-60-2950</td>\n      <td>60</td>\n      <td>2950</td>\n      <td>Pøedkládání nabídek</td>\n      <td>56776</td>\n      <td>7120</td>\n      <td>24.5.2019</td>\n      <td>9:59:22</td>\n      <td>1172</td>\n      <td>NaN</td>\n    </tr>\n    <tr>\n      <th>71464</th>\n      <td>1105-60-3003</td>\n      <td>60</td>\n      <td>3003</td>\n      <td>Pøedkládání nabídek</td>\n      <td>57098</td>\n      <td>7120</td>\n      <td>29.7.2019</td>\n      <td>12:50:55</td>\n      <td>848</td>\n      <td>NaN</td>\n    </tr>\n    <tr>\n      <th>71465</th>\n      <td>1105-60-3003</td>\n      <td>60</td>\n      <td>3003</td>\n      <td>Pøedkládání nabídek</td>\n      <td>57099</td>\n      <td>7120</td>\n      <td>29.7.2019</td>\n      <td>12:51:02</td>\n      <td>1076</td>\n      <td>NaN</td>\n    </tr>\n    <tr>\n      <th>73272</th>\n      <td>1105-60-3063</td>\n      <td>60</td>\n      <td>3063</td>\n      <td>Pøedkládání nabídek</td>\n      <td>57548</td>\n      <td>7120</td>\n      <td>23.9.2019</td>\n      <td>11:20:05</td>\n      <td>958</td>\n      <td>NaN</td>\n    </tr>\n    <tr>\n      <th>73273</th>\n      <td>1105-60-3063</td>\n      <td>60</td>\n      <td>3063</td>\n      <td>Pøedkládání nabídek</td>\n      <td>57547</td>\n      <td>7120</td>\n      <td>23.9.2019</td>\n      <td>11:20:11</td>\n      <td>1126</td>\n      <td>NaN</td>\n    </tr>\n  </tbody>\n</table>\n</div>"
     },
     "execution_count": 59,
     "metadata": {},
     "output_type": "execute_result"
    }
   ],
   "source": [
    "# Select only rows where 'IDParticipant' equals 7120\n",
    "selected_rows = data[data['IDParticipant'] == '7120']\n",
    "\n",
    "# Display the selected rows\n",
    "\n",
    "selected_rows\n",
    "\n"
   ],
   "metadata": {
    "collapsed": false,
    "ExecuteTime": {
     "start_time": "2024-06-04T14:36:11.534834Z",
     "end_time": "2024-06-04T14:36:11.579983Z"
    }
   }
  },
  {
   "cell_type": "code",
   "execution_count": 62,
   "outputs": [
    {
     "data": {
      "text/plain": "UniqueID         object\nOrg               int64\nAucID             int64\nNazovKola        object\nIDItem            int64\nIDParticipant    object\nDatum            object\nCasZmeny         object\nNovaHodnota      object\nUnnamed: 9       object\ndtype: object"
     },
     "execution_count": 62,
     "metadata": {},
     "output_type": "execute_result"
    }
   ],
   "source": [
    "data.dtypes"
   ],
   "metadata": {
    "collapsed": false,
    "ExecuteTime": {
     "start_time": "2024-06-04T15:09:14.397057Z",
     "end_time": "2024-06-04T15:09:14.407664Z"
    }
   }
  },
  {
   "cell_type": "code",
   "execution_count": 63,
   "outputs": [
    {
     "data": {
      "text/plain": "UniqueID                      object\nOrg                            int64\nAucID                          int64\nAucZac                        object\nAucKon                        object\nAucNazov1                     object\nAucVal                        object\nPorovnávacia cena            float64\nVitaznaPonuka                float64\nMena                          object\nPocetPozvanok                  int64\nPocetAktivnychUcast          float64\nVitaz                         object\nAucTypUpresnenie              object\nKateg                         object\nSubkateg                      object\nPocetItems                     int64\nPocetZmienPonuk              float64\nPocetPredlzeni                 int64\nStat                          object\nMinKrokZnizPercenta          float64\nHistoryDealsInCategory         int64\nHistoryDealsWithVitaz          int64\nMoneySpentSoFarInCategory    float64\nMoneySpentSoFarWithVitaz     float64\nRelativna Uspora             float64\ndtype: object"
     },
     "execution_count": 63,
     "metadata": {},
     "output_type": "execute_result"
    }
   ],
   "source": [
    "hlavna.dtypes"
   ],
   "metadata": {
    "collapsed": false,
    "ExecuteTime": {
     "start_time": "2024-06-04T15:09:18.580701Z",
     "end_time": "2024-06-04T15:09:18.593525Z"
    }
   }
  },
  {
   "cell_type": "code",
   "execution_count": 24,
   "outputs": [
    {
     "data": {
      "text/plain": "          UniqueID  Org  AucID               AucZac               AucKon  \\\n0      100-45-1413   45   1413  2018-04-25 15:00:00  2018-04-27 09:45:00   \n1      100-45-1443   45   1443  2019-01-24 10:30:00  2019-01-31 10:30:00   \n2      100-45-1389   45   1389  2017-10-30 09:15:00  2017-11-10 13:00:00   \n3      100-45-1398   45   1398  2018-02-07 10:00:00  2018-03-01 00:00:00   \n4      100-45-1404   45   1404  2018-02-09 15:00:00  2018-02-23 15:00:00   \n..             ...  ...    ...                  ...                  ...   \n909   102-146-2352  146   2352  2018-05-15 14:00:00  2018-05-17 10:20:00   \n910   102-146-2409  146   2409  2020-05-20 12:30:00  2020-05-22 10:28:00   \n911   102-146-2359  146   2359  2018-06-26 15:30:00  2018-06-28 10:22:00   \n912  1065-181-5895  181   5895  2019-05-14 10:07:00  2019-05-15 09:06:00   \n913  1065-181-5896  181   5896  2019-05-16 10:00:00  2019-05-17 09:09:00   \n\n           AucNazov1                      AucVal  Porovnávacia cena  \\\n0    BUTYLGLYKOL (CA  Multikriteriální hodnocení        198982.8900   \n1    Kancelářské pot   Celková nabídka účastníka        245087.5215   \n2    Poptávka výroby   Celková nabídka účastníka         32398.0000   \n3    Pronájem manipu          Jednotlivé položky        268321.2000   \n4    Cenová poptávka  Multikriteriální hodnocení         63678.3000   \n..               ...                         ...                ...   \n909  Upratovanie pri   Celková nabídka účastníka         18696.3920   \n910  Upratovací serv   Celková nabídka účastníka         20675.4660   \n911  Inovácia RS - č   Celková nabídka účastníka        280000.0000   \n912  rebrované trubk   Celková nabídka účastníka         98442.9600   \n913  rúry bezošvé pr   Celková nabídka účastníka        295850.0000   \n\n     VitaznaPonuka Mena  ...  PocetItems  PocetZmienPonuk  PocetPredlzeni  \\\n0         83283.00  CZK  ...           4             15.0               0   \n1        150894.45  CZK  ...          41             89.0               0   \n2          7436.00  CZK  ...           1              9.0               0   \n3             0.98  CZK  ...          30            134.0               0   \n4         57820.00  CZK  ...           1              3.0               0   \n..             ...  ...  ...         ...              ...             ...   \n909       18442.80  EUR  ...           1              5.0               0   \n910       16719.05  EUR  ...           1             12.0               4   \n911      298350.00  EUR  ...           1             11.0               1   \n912       99910.00  EUR  ...           1             19.0               3   \n913      273420.00  EUR  ...           1             22.0               8   \n\n                    Stat MinKrokZnizPercenta HistoryDealsInCategory  \\\n0        Česká republika                 0.1                      1   \n1        Česká republika                 0.0                      1   \n2        Česká republika                 0.1                      1   \n3        Česká republika                 0.0                      1   \n4        Česká republika                 0.1                      3   \n..                   ...                 ...                    ...   \n909                   SK                 0.1                      1   \n910                   SK                 0.1                      2   \n911                   SK                 0.1                      1   \n912  Slovenská republika                 0.1                      2   \n913  Slovenská republika                 0.1                      4   \n\n     HistoryDealsWithVitaz  MoneySpentSoFarInCategory  \\\n0                        1                   83283.00   \n1                        1                  150894.45   \n2                        1                    7436.00   \n3                        1                       0.98   \n4                        1                  187387.00   \n..                     ...                        ...   \n909                      1                   18442.80   \n910                      1                   35161.85   \n911                      1                  298350.00   \n912                      2                  182030.20   \n913                      2                  563930.20   \n\n     MoneySpentSoFarWithVitaz Relativna Uspora  \n0                    83283.00         0.581456  \n1                   150894.45         0.384324  \n2                     7436.00         0.770480  \n3                        0.98         0.999996  \n4                    57820.00         0.091998  \n..                        ...              ...  \n909                  18442.80         0.013564  \n910                  16719.05         0.191358  \n911                 298350.00        -0.065536  \n912                 182030.20        -0.014902  \n913                 381900.00         0.075815  \n\n[914 rows x 26 columns]",
      "text/html": "<div>\n<style scoped>\n    .dataframe tbody tr th:only-of-type {\n        vertical-align: middle;\n    }\n\n    .dataframe tbody tr th {\n        vertical-align: top;\n    }\n\n    .dataframe thead th {\n        text-align: right;\n    }\n</style>\n<table border=\"1\" class=\"dataframe\">\n  <thead>\n    <tr style=\"text-align: right;\">\n      <th></th>\n      <th>UniqueID</th>\n      <th>Org</th>\n      <th>AucID</th>\n      <th>AucZac</th>\n      <th>AucKon</th>\n      <th>AucNazov1</th>\n      <th>AucVal</th>\n      <th>Porovnávacia cena</th>\n      <th>VitaznaPonuka</th>\n      <th>Mena</th>\n      <th>...</th>\n      <th>PocetItems</th>\n      <th>PocetZmienPonuk</th>\n      <th>PocetPredlzeni</th>\n      <th>Stat</th>\n      <th>MinKrokZnizPercenta</th>\n      <th>HistoryDealsInCategory</th>\n      <th>HistoryDealsWithVitaz</th>\n      <th>MoneySpentSoFarInCategory</th>\n      <th>MoneySpentSoFarWithVitaz</th>\n      <th>Relativna Uspora</th>\n    </tr>\n  </thead>\n  <tbody>\n    <tr>\n      <th>0</th>\n      <td>100-45-1413</td>\n      <td>45</td>\n      <td>1413</td>\n      <td>2018-04-25 15:00:00</td>\n      <td>2018-04-27 09:45:00</td>\n      <td>BUTYLGLYKOL (CA</td>\n      <td>Multikriteriální hodnocení</td>\n      <td>198982.8900</td>\n      <td>83283.00</td>\n      <td>CZK</td>\n      <td>...</td>\n      <td>4</td>\n      <td>15.0</td>\n      <td>0</td>\n      <td>Česká republika</td>\n      <td>0.1</td>\n      <td>1</td>\n      <td>1</td>\n      <td>83283.00</td>\n      <td>83283.00</td>\n      <td>0.581456</td>\n    </tr>\n    <tr>\n      <th>1</th>\n      <td>100-45-1443</td>\n      <td>45</td>\n      <td>1443</td>\n      <td>2019-01-24 10:30:00</td>\n      <td>2019-01-31 10:30:00</td>\n      <td>Kancelářské pot</td>\n      <td>Celková nabídka účastníka</td>\n      <td>245087.5215</td>\n      <td>150894.45</td>\n      <td>CZK</td>\n      <td>...</td>\n      <td>41</td>\n      <td>89.0</td>\n      <td>0</td>\n      <td>Česká republika</td>\n      <td>0.0</td>\n      <td>1</td>\n      <td>1</td>\n      <td>150894.45</td>\n      <td>150894.45</td>\n      <td>0.384324</td>\n    </tr>\n    <tr>\n      <th>2</th>\n      <td>100-45-1389</td>\n      <td>45</td>\n      <td>1389</td>\n      <td>2017-10-30 09:15:00</td>\n      <td>2017-11-10 13:00:00</td>\n      <td>Poptávka výroby</td>\n      <td>Celková nabídka účastníka</td>\n      <td>32398.0000</td>\n      <td>7436.00</td>\n      <td>CZK</td>\n      <td>...</td>\n      <td>1</td>\n      <td>9.0</td>\n      <td>0</td>\n      <td>Česká republika</td>\n      <td>0.1</td>\n      <td>1</td>\n      <td>1</td>\n      <td>7436.00</td>\n      <td>7436.00</td>\n      <td>0.770480</td>\n    </tr>\n    <tr>\n      <th>3</th>\n      <td>100-45-1398</td>\n      <td>45</td>\n      <td>1398</td>\n      <td>2018-02-07 10:00:00</td>\n      <td>2018-03-01 00:00:00</td>\n      <td>Pronájem manipu</td>\n      <td>Jednotlivé položky</td>\n      <td>268321.2000</td>\n      <td>0.98</td>\n      <td>CZK</td>\n      <td>...</td>\n      <td>30</td>\n      <td>134.0</td>\n      <td>0</td>\n      <td>Česká republika</td>\n      <td>0.0</td>\n      <td>1</td>\n      <td>1</td>\n      <td>0.98</td>\n      <td>0.98</td>\n      <td>0.999996</td>\n    </tr>\n    <tr>\n      <th>4</th>\n      <td>100-45-1404</td>\n      <td>45</td>\n      <td>1404</td>\n      <td>2018-02-09 15:00:00</td>\n      <td>2018-02-23 15:00:00</td>\n      <td>Cenová poptávka</td>\n      <td>Multikriteriální hodnocení</td>\n      <td>63678.3000</td>\n      <td>57820.00</td>\n      <td>CZK</td>\n      <td>...</td>\n      <td>1</td>\n      <td>3.0</td>\n      <td>0</td>\n      <td>Česká republika</td>\n      <td>0.1</td>\n      <td>3</td>\n      <td>1</td>\n      <td>187387.00</td>\n      <td>57820.00</td>\n      <td>0.091998</td>\n    </tr>\n    <tr>\n      <th>...</th>\n      <td>...</td>\n      <td>...</td>\n      <td>...</td>\n      <td>...</td>\n      <td>...</td>\n      <td>...</td>\n      <td>...</td>\n      <td>...</td>\n      <td>...</td>\n      <td>...</td>\n      <td>...</td>\n      <td>...</td>\n      <td>...</td>\n      <td>...</td>\n      <td>...</td>\n      <td>...</td>\n      <td>...</td>\n      <td>...</td>\n      <td>...</td>\n      <td>...</td>\n      <td>...</td>\n    </tr>\n    <tr>\n      <th>909</th>\n      <td>102-146-2352</td>\n      <td>146</td>\n      <td>2352</td>\n      <td>2018-05-15 14:00:00</td>\n      <td>2018-05-17 10:20:00</td>\n      <td>Upratovanie pri</td>\n      <td>Celková nabídka účastníka</td>\n      <td>18696.3920</td>\n      <td>18442.80</td>\n      <td>EUR</td>\n      <td>...</td>\n      <td>1</td>\n      <td>5.0</td>\n      <td>0</td>\n      <td>SK</td>\n      <td>0.1</td>\n      <td>1</td>\n      <td>1</td>\n      <td>18442.80</td>\n      <td>18442.80</td>\n      <td>0.013564</td>\n    </tr>\n    <tr>\n      <th>910</th>\n      <td>102-146-2409</td>\n      <td>146</td>\n      <td>2409</td>\n      <td>2020-05-20 12:30:00</td>\n      <td>2020-05-22 10:28:00</td>\n      <td>Upratovací serv</td>\n      <td>Celková nabídka účastníka</td>\n      <td>20675.4660</td>\n      <td>16719.05</td>\n      <td>EUR</td>\n      <td>...</td>\n      <td>1</td>\n      <td>12.0</td>\n      <td>4</td>\n      <td>SK</td>\n      <td>0.1</td>\n      <td>2</td>\n      <td>1</td>\n      <td>35161.85</td>\n      <td>16719.05</td>\n      <td>0.191358</td>\n    </tr>\n    <tr>\n      <th>911</th>\n      <td>102-146-2359</td>\n      <td>146</td>\n      <td>2359</td>\n      <td>2018-06-26 15:30:00</td>\n      <td>2018-06-28 10:22:00</td>\n      <td>Inovácia RS - č</td>\n      <td>Celková nabídka účastníka</td>\n      <td>280000.0000</td>\n      <td>298350.00</td>\n      <td>EUR</td>\n      <td>...</td>\n      <td>1</td>\n      <td>11.0</td>\n      <td>1</td>\n      <td>SK</td>\n      <td>0.1</td>\n      <td>1</td>\n      <td>1</td>\n      <td>298350.00</td>\n      <td>298350.00</td>\n      <td>-0.065536</td>\n    </tr>\n    <tr>\n      <th>912</th>\n      <td>1065-181-5895</td>\n      <td>181</td>\n      <td>5895</td>\n      <td>2019-05-14 10:07:00</td>\n      <td>2019-05-15 09:06:00</td>\n      <td>rebrované trubk</td>\n      <td>Celková nabídka účastníka</td>\n      <td>98442.9600</td>\n      <td>99910.00</td>\n      <td>EUR</td>\n      <td>...</td>\n      <td>1</td>\n      <td>19.0</td>\n      <td>3</td>\n      <td>Slovenská republika</td>\n      <td>0.1</td>\n      <td>2</td>\n      <td>2</td>\n      <td>182030.20</td>\n      <td>182030.20</td>\n      <td>-0.014902</td>\n    </tr>\n    <tr>\n      <th>913</th>\n      <td>1065-181-5896</td>\n      <td>181</td>\n      <td>5896</td>\n      <td>2019-05-16 10:00:00</td>\n      <td>2019-05-17 09:09:00</td>\n      <td>rúry bezošvé pr</td>\n      <td>Celková nabídka účastníka</td>\n      <td>295850.0000</td>\n      <td>273420.00</td>\n      <td>EUR</td>\n      <td>...</td>\n      <td>1</td>\n      <td>22.0</td>\n      <td>8</td>\n      <td>Slovenská republika</td>\n      <td>0.1</td>\n      <td>4</td>\n      <td>2</td>\n      <td>563930.20</td>\n      <td>381900.00</td>\n      <td>0.075815</td>\n    </tr>\n  </tbody>\n</table>\n<p>914 rows × 26 columns</p>\n</div>"
     },
     "execution_count": 24,
     "metadata": {},
     "output_type": "execute_result"
    }
   ],
   "source": [
    "import pandas as pd\n",
    "\n",
    "# Read the CSV file\n",
    "hlavna = pd.read_csv('uzlenzbytkypozberane.csv')\n",
    "\n",
    "# Display the DataFrame\n",
    "hlavna"
   ],
   "metadata": {
    "collapsed": false,
    "ExecuteTime": {
     "start_time": "2024-06-04T12:00:16.085932Z",
     "end_time": "2024-06-04T12:00:16.124909Z"
    }
   }
  },
  {
   "cell_type": "code",
   "execution_count": 71,
   "outputs": [
    {
     "data": {
      "text/plain": "         UniqueID  Org  AucID               AucZac               AucKon  \\\n835  106-102-6401  102   6401  2019-05-06 13:00:00  2019-05-09 13:30:00   \n\n           AucNazov1                      AucVal  Porovnávacia cena  \\\n835  Vykonávanie STK  Multikriteriální hodnocení             7210.0   \n\n     VitaznaPonuka Mena  ...  PocetItems  PocetZmienPonuk PocetPredlzeni  \\\n835        209.708  EUR  ...          12             46.0              0   \n\n                    Stat MinKrokZnizPercenta HistoryDealsInCategory  \\\n835  Slovenská republika                 0.1                      6   \n\n     HistoryDealsWithVitaz  MoneySpentSoFarInCategory  \\\n835                      1                  85571.508   \n\n     MoneySpentSoFarWithVitaz Relativna Uspora  \n835                   209.708         0.970914  \n\n[1 rows x 26 columns]",
      "text/html": "<div>\n<style scoped>\n    .dataframe tbody tr th:only-of-type {\n        vertical-align: middle;\n    }\n\n    .dataframe tbody tr th {\n        vertical-align: top;\n    }\n\n    .dataframe thead th {\n        text-align: right;\n    }\n</style>\n<table border=\"1\" class=\"dataframe\">\n  <thead>\n    <tr style=\"text-align: right;\">\n      <th></th>\n      <th>UniqueID</th>\n      <th>Org</th>\n      <th>AucID</th>\n      <th>AucZac</th>\n      <th>AucKon</th>\n      <th>AucNazov1</th>\n      <th>AucVal</th>\n      <th>Porovnávacia cena</th>\n      <th>VitaznaPonuka</th>\n      <th>Mena</th>\n      <th>...</th>\n      <th>PocetItems</th>\n      <th>PocetZmienPonuk</th>\n      <th>PocetPredlzeni</th>\n      <th>Stat</th>\n      <th>MinKrokZnizPercenta</th>\n      <th>HistoryDealsInCategory</th>\n      <th>HistoryDealsWithVitaz</th>\n      <th>MoneySpentSoFarInCategory</th>\n      <th>MoneySpentSoFarWithVitaz</th>\n      <th>Relativna Uspora</th>\n    </tr>\n  </thead>\n  <tbody>\n    <tr>\n      <th>835</th>\n      <td>106-102-6401</td>\n      <td>102</td>\n      <td>6401</td>\n      <td>2019-05-06 13:00:00</td>\n      <td>2019-05-09 13:30:00</td>\n      <td>Vykonávanie STK</td>\n      <td>Multikriteriální hodnocení</td>\n      <td>7210.0</td>\n      <td>209.708</td>\n      <td>EUR</td>\n      <td>...</td>\n      <td>12</td>\n      <td>46.0</td>\n      <td>0</td>\n      <td>Slovenská republika</td>\n      <td>0.1</td>\n      <td>6</td>\n      <td>1</td>\n      <td>85571.508</td>\n      <td>209.708</td>\n      <td>0.970914</td>\n    </tr>\n  </tbody>\n</table>\n<p>1 rows × 26 columns</p>\n</div>"
     },
     "execution_count": 71,
     "metadata": {},
     "output_type": "execute_result"
    }
   ],
   "source": [
    "selected_rows2 = hlavna[hlavna['Vitaz'] == '10309']\n",
    "\n",
    "# Display the selected rows\n",
    "\n",
    "selected_rows2"
   ],
   "metadata": {
    "collapsed": false,
    "ExecuteTime": {
     "start_time": "2024-06-04T15:15:15.254109Z",
     "end_time": "2024-06-04T15:15:15.268282Z"
    }
   }
  },
  {
   "cell_type": "code",
   "execution_count": 79,
   "outputs": [
    {
     "ename": "AttributeError",
     "evalue": "'str' object has no attribute 'dtypes'",
     "output_type": "error",
     "traceback": [
      "\u001B[0;31m---------------------------------------------------------------------------\u001B[0m",
      "\u001B[0;31mAttributeError\u001B[0m                            Traceback (most recent call last)",
      "Cell \u001B[0;32mIn[79], line 1\u001B[0m\n\u001B[0;32m----> 1\u001B[0m \u001B[43mhlavna\u001B[49m\u001B[43m[\u001B[49m\u001B[38;5;124;43m\"\u001B[39;49m\u001B[38;5;124;43mVitaz\u001B[39;49m\u001B[38;5;124;43m\"\u001B[39;49m\u001B[43m]\u001B[49m\u001B[43m[\u001B[49m\u001B[38;5;241;43m0\u001B[39;49m\u001B[43m]\u001B[49m\u001B[38;5;241;43m.\u001B[39;49m\u001B[43mdtypes\u001B[49m\n",
      "\u001B[0;31mAttributeError\u001B[0m: 'str' object has no attribute 'dtypes'"
     ]
    }
   ],
   "source": [
    "hlavna[\"Vitaz\"][0]"
   ],
   "metadata": {
    "collapsed": false,
    "ExecuteTime": {
     "start_time": "2024-06-04T15:57:52.218511Z",
     "end_time": "2024-06-04T15:57:52.231055Z"
    }
   }
  },
  {
   "cell_type": "code",
   "execution_count": 75,
   "outputs": [],
   "source": [
    "# Convert 'Vitaz' in hlavna to string\n",
    "hlavna['Vitaz'] = hlavna['Vitaz'].astype(str)\n",
    "\n",
    "# Convert 'IDParticipant' in data to string\n",
    "data['IDParticipant'] = data['IDParticipant'].astype(str)\n"
   ],
   "metadata": {
    "collapsed": false,
    "ExecuteTime": {
     "start_time": "2024-06-04T15:57:16.523262Z",
     "end_time": "2024-06-04T15:57:16.543149Z"
    }
   }
  },
  {
   "cell_type": "code",
   "execution_count": 68,
   "outputs": [
    {
     "data": {
      "text/plain": "UniqueID                      object\nOrg                            int64\nAucID                          int64\nAucZac                        object\nAucKon                        object\nAucNazov1                     object\nAucVal                        object\nPorovnávacia cena            float64\nVitaznaPonuka                float64\nMena                          object\nPocetPozvanok                  int64\nPocetAktivnychUcast          float64\nVitaz                         object\nAucTypUpresnenie              object\nKateg                         object\nSubkateg                      object\nPocetItems                     int64\nPocetZmienPonuk              float64\nPocetPredlzeni                 int64\nStat                          object\nMinKrokZnizPercenta          float64\nHistoryDealsInCategory         int64\nHistoryDealsWithVitaz          int64\nMoneySpentSoFarInCategory    float64\nMoneySpentSoFarWithVitaz     float64\nRelativna Uspora             float64\ndtype: object"
     },
     "execution_count": 68,
     "metadata": {},
     "output_type": "execute_result"
    }
   ],
   "source": [
    "hlavna.dtypes"
   ],
   "metadata": {
    "collapsed": false,
    "ExecuteTime": {
     "start_time": "2024-06-04T15:11:07.171467Z",
     "end_time": "2024-06-04T15:11:07.186152Z"
    }
   }
  },
  {
   "cell_type": "code",
   "execution_count": 72,
   "outputs": [
    {
     "name": "stdout",
     "output_type": "stream",
     "text": [
      "<class 'str'>\n",
      "<class 'str'>\n"
     ]
    }
   ],
   "source": [
    "# Check the type of the first value in 'Vitaz' column\n",
    "print(type(hlavna['Vitaz'].iloc[0]))\n",
    "\n",
    "# Check the type of the first value in 'IDParticipant' column\n",
    "print(type(data['IDParticipant'].iloc[2]))"
   ],
   "metadata": {
    "collapsed": false,
    "ExecuteTime": {
     "start_time": "2024-06-04T15:38:46.603226Z",
     "end_time": "2024-06-04T15:38:46.607116Z"
    }
   }
  },
  {
   "cell_type": "code",
   "execution_count": 69,
   "outputs": [
    {
     "data": {
      "text/plain": "UniqueID         object\nOrg               int64\nAucID             int64\nNazovKola        object\nIDItem            int64\nIDParticipant    object\nDatum            object\nCasZmeny         object\nNovaHodnota      object\nUnnamed: 9       object\ndtype: object"
     },
     "execution_count": 69,
     "metadata": {},
     "output_type": "execute_result"
    }
   ],
   "source": [
    "data.dtypes"
   ],
   "metadata": {
    "collapsed": false,
    "ExecuteTime": {
     "start_time": "2024-06-04T15:11:08.629314Z",
     "end_time": "2024-06-04T15:11:08.674370Z"
    }
   }
  },
  {
   "cell_type": "code",
   "execution_count": 41,
   "outputs": [],
   "source": [
    "# Write the data DataFrame to a new CSV file\n",
    "data.to_csv('new_bidy.csv', index=False)\n",
    "\n",
    "# Write the hlavna DataFrame to a new CSV file\n",
    "hlavna.to_csv('new_hlavna.csv', index=False)"
   ],
   "metadata": {
    "collapsed": false,
    "ExecuteTime": {
     "start_time": "2024-06-04T12:21:43.428683Z",
     "end_time": "2024-06-04T12:21:43.785069Z"
    }
   }
  },
  {
   "cell_type": "code",
   "execution_count": null,
   "outputs": [],
   "source": [],
   "metadata": {
    "collapsed": false
   }
  },
  {
   "cell_type": "code",
   "execution_count": 60,
   "outputs": [
    {
     "name": "stdout",
     "output_type": "stream",
     "text": [
      "1\n"
     ]
    }
   ],
   "source": [
    "# Find unique values in 'Vitaz' that are not in 'IDParticipant'\n",
    "unique_values_not_included = hlavna[~hlavna['Vitaz'].isin(data['IDParticipant'])]['Vitaz'].nunique()\n",
    "\n",
    "# Display the number of unique values not included\n",
    "print(unique_values_not_included)"
   ],
   "metadata": {
    "collapsed": false,
    "ExecuteTime": {
     "start_time": "2024-06-04T14:37:43.411274Z",
     "end_time": "2024-06-04T14:37:43.416411Z"
    }
   }
  },
  {
   "cell_type": "code",
   "execution_count": 26,
   "outputs": [
    {
     "name": "stdout",
     "output_type": "stream",
     "text": [
      "435\n"
     ]
    }
   ],
   "source": [
    "# Find total count of unique values in 'Vitaz'\n",
    "total_unique_values = hlavna['Vitaz'].nunique()\n",
    "\n",
    "# Display the total count of unique values\n",
    "print(total_unique_values)"
   ],
   "metadata": {
    "collapsed": false,
    "ExecuteTime": {
     "start_time": "2024-06-04T12:00:17.061515Z",
     "end_time": "2024-06-04T12:00:17.069122Z"
    }
   }
  },
  {
   "cell_type": "code",
   "execution_count": 27,
   "outputs": [
    {
     "data": {
      "text/plain": "914"
     },
     "execution_count": 27,
     "metadata": {},
     "output_type": "execute_result"
    }
   ],
   "source": [
    "len(hlavna)"
   ],
   "metadata": {
    "collapsed": false,
    "ExecuteTime": {
     "start_time": "2024-06-04T12:01:19.613004Z",
     "end_time": "2024-06-04T12:01:19.638898Z"
    }
   }
  },
  {
   "cell_type": "code",
   "execution_count": 61,
   "outputs": [
    {
     "name": "stdout",
     "output_type": "stream",
     "text": [
      "0\n"
     ]
    }
   ],
   "source": [
    "# Find unique IDs in 'hlavna' that are not in 'data'\n",
    "unique_ids_not_included = hlavna[~hlavna['UniqueID'].isin(data['UniqueID'])]['UniqueID'].nunique()\n",
    "\n",
    "# Display the number of unique IDs not included\n",
    "print(unique_ids_not_included)"
   ],
   "metadata": {
    "collapsed": false,
    "ExecuteTime": {
     "start_time": "2024-06-04T14:37:54.220741Z",
     "end_time": "2024-06-04T14:37:54.228377Z"
    }
   }
  },
  {
   "cell_type": "code",
   "execution_count": null,
   "outputs": [],
   "source": [],
   "metadata": {
    "collapsed": false
   }
  }
 ],
 "metadata": {
  "kernelspec": {
   "display_name": "Python 3",
   "language": "python",
   "name": "python3"
  },
  "language_info": {
   "codemirror_mode": {
    "name": "ipython",
    "version": 2
   },
   "file_extension": ".py",
   "mimetype": "text/x-python",
   "name": "python",
   "nbconvert_exporter": "python",
   "pygments_lexer": "ipython2",
   "version": "2.7.6"
  }
 },
 "nbformat": 4,
 "nbformat_minor": 0
}
