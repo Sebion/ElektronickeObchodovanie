{
 "cells": [
  {
   "cell_type": "code",
   "execution_count": 1,
   "metadata": {
    "collapsed": true,
    "ExecuteTime": {
     "start_time": "2024-05-09T13:46:31.963371Z",
     "end_time": "2024-05-09T13:46:36.994334Z"
    }
   },
   "outputs": [],
   "source": [
    "import pandas as pd"
   ]
  },
  {
   "cell_type": "code",
   "execution_count": 2,
   "outputs": [
    {
     "data": {
      "text/plain": "           UniqueID  Org  AucID               AucZac               AucKon  \\\n0        1072-6-713    6    713  2018-01-29 11:00:00  2018-01-30 09:50:00   \n1        1072-6-776    6    776  2018-07-18 06:30:00  2018-07-23 10:46:00   \n2        1072-6-783    6    783  2018-08-06 08:30:00  2018-08-07 09:40:00   \n3        1072-6-829    6    829  2018-11-13 12:00:00  2018-11-14 11:55:00   \n4        1072-6-881    6    881  2019-04-01 13:30:00  2019-04-02 09:54:00   \n...             ...  ...    ...                  ...                  ...   \n1615  1065-181-5897  181   5897  2019-07-01 13:00:00  2019-07-08 12:56:00   \n1616  1065-181-5892  181   5892  2019-04-30 10:00:00  2019-04-30 13:28:00   \n1617  1065-181-5895  181   5895  2019-05-14 10:07:00  2019-05-15 09:06:00   \n1618  1065-181-5891  181   5891  2018-09-21 13:00:00  2018-09-24 10:08:00   \n1619  1065-181-5896  181   5896  2019-05-16 10:00:00  2019-05-17 09:09:00   \n\n            AucNazov1                     AucVal  Porovnávacia cena  \\\n0     Výběrové řízení         Jednotlivé položky               0.00   \n1     Výběrové řízení         Jednotlivé položky               0.00   \n2     Výběrové řízení         Jednotlivé položky               0.00   \n3     Výběrové řízení         Jednotlivé položky               0.00   \n4     Výběrové řízení         Jednotlivé položky               0.00   \n...               ...                        ...                ...   \n1615  Plechy 1.4571 I         Jednotlivé položky               0.00   \n1616              NaN  Celková nabídka účastníka               0.00   \n1617  rebrované trubk  Celková nabídka účastníka           98442.96   \n1618  Rebrované trubk  Celková nabídka účastníka               0.00   \n1619  rúry bezošvé pr  Celková nabídka účastníka          295850.00   \n\n      VitaznaPonuka Mena  ...                        Subkateg  PocetItems  \\\n0        420000.000  CZK  ...  Kovy, slitiny, nerez a odlitky           4   \n1        213180.000  CZK  ...  Kovy, slitiny, nerez a odlitky           4   \n2        357035.000  CZK  ...  Kovy, slitiny, nerez a odlitky           2   \n3        328032.000  CZK  ...  Kovy, slitiny, nerez a odlitky           3   \n4        275400.000  CZK  ...  Kovy, slitiny, nerez a odlitky           2   \n...             ...  ...  ...                             ...         ...   \n1615      61317.192  EUR  ...                          Plechy          11   \n1616      82120.200  EUR  ...        Roury, armatury a trubky           1   \n1617      99910.000  EUR  ...        Roury, armatury a trubky           1   \n1618     108480.000  EUR  ...        Roury, armatury a trubky           1   \n1619     273420.000  EUR  ...        Roury, armatury a trubky           1   \n\n      PocetZmienPonuk PocetPredlzeni                 Stat MinKrokZnizPercenta  \\\n0                78.0             63                  NaN                 0.1   \n1               152.0            104                  NaN                 0.1   \n2                97.0             72                  NaN                 0.1   \n3               221.0            202                  NaN                 0.1   \n4                34.0             17                  NaN                 0.1   \n...               ...            ...                  ...                 ...   \n1615            189.0             13  Slovenská republika                 0.1   \n1616             23.0              4  Slovenská republika                 0.0   \n1617             19.0              3  Slovenská republika                 0.1   \n1618              8.0              4  Slovenská republika                 0.0   \n1619             22.0              8  Slovenská republika                 0.1   \n\n      HistoryDealsInCategory  HistoryDealsWithVitaz  \\\n0                          1                      1   \n1                          2                      2   \n2                          3                      3   \n3                          4                      4   \n4                          5                      8   \n...                      ...                    ...   \n1615                       3                      2   \n1616                       1                      1   \n1617                       2                      2   \n1618                       3                      1   \n1619                       4                      2   \n\n      MoneySpentSoFarInCategory MoneySpentSoFarWithVitaz  \n0                     420000.00               420000.000  \n1                     633180.00               633180.000  \n2                     990215.00               990215.000  \n3                    1318247.00              1318247.000  \n4                    1593647.00              5619327.000  \n...                         ...                      ...  \n1615                  182015.79                84774.702  \n1616                   82120.20                82120.200  \n1617                  182030.20               182030.200  \n1618                  290510.20               108480.000  \n1619                  563930.20               381900.000  \n\n[1620 rows x 25 columns]",
      "text/html": "<div>\n<style scoped>\n    .dataframe tbody tr th:only-of-type {\n        vertical-align: middle;\n    }\n\n    .dataframe tbody tr th {\n        vertical-align: top;\n    }\n\n    .dataframe thead th {\n        text-align: right;\n    }\n</style>\n<table border=\"1\" class=\"dataframe\">\n  <thead>\n    <tr style=\"text-align: right;\">\n      <th></th>\n      <th>UniqueID</th>\n      <th>Org</th>\n      <th>AucID</th>\n      <th>AucZac</th>\n      <th>AucKon</th>\n      <th>AucNazov1</th>\n      <th>AucVal</th>\n      <th>Porovnávacia cena</th>\n      <th>VitaznaPonuka</th>\n      <th>Mena</th>\n      <th>...</th>\n      <th>Subkateg</th>\n      <th>PocetItems</th>\n      <th>PocetZmienPonuk</th>\n      <th>PocetPredlzeni</th>\n      <th>Stat</th>\n      <th>MinKrokZnizPercenta</th>\n      <th>HistoryDealsInCategory</th>\n      <th>HistoryDealsWithVitaz</th>\n      <th>MoneySpentSoFarInCategory</th>\n      <th>MoneySpentSoFarWithVitaz</th>\n    </tr>\n  </thead>\n  <tbody>\n    <tr>\n      <th>0</th>\n      <td>1072-6-713</td>\n      <td>6</td>\n      <td>713</td>\n      <td>2018-01-29 11:00:00</td>\n      <td>2018-01-30 09:50:00</td>\n      <td>Výběrové řízení</td>\n      <td>Jednotlivé položky</td>\n      <td>0.00</td>\n      <td>420000.000</td>\n      <td>CZK</td>\n      <td>...</td>\n      <td>Kovy, slitiny, nerez a odlitky</td>\n      <td>4</td>\n      <td>78.0</td>\n      <td>63</td>\n      <td>NaN</td>\n      <td>0.1</td>\n      <td>1</td>\n      <td>1</td>\n      <td>420000.00</td>\n      <td>420000.000</td>\n    </tr>\n    <tr>\n      <th>1</th>\n      <td>1072-6-776</td>\n      <td>6</td>\n      <td>776</td>\n      <td>2018-07-18 06:30:00</td>\n      <td>2018-07-23 10:46:00</td>\n      <td>Výběrové řízení</td>\n      <td>Jednotlivé položky</td>\n      <td>0.00</td>\n      <td>213180.000</td>\n      <td>CZK</td>\n      <td>...</td>\n      <td>Kovy, slitiny, nerez a odlitky</td>\n      <td>4</td>\n      <td>152.0</td>\n      <td>104</td>\n      <td>NaN</td>\n      <td>0.1</td>\n      <td>2</td>\n      <td>2</td>\n      <td>633180.00</td>\n      <td>633180.000</td>\n    </tr>\n    <tr>\n      <th>2</th>\n      <td>1072-6-783</td>\n      <td>6</td>\n      <td>783</td>\n      <td>2018-08-06 08:30:00</td>\n      <td>2018-08-07 09:40:00</td>\n      <td>Výběrové řízení</td>\n      <td>Jednotlivé položky</td>\n      <td>0.00</td>\n      <td>357035.000</td>\n      <td>CZK</td>\n      <td>...</td>\n      <td>Kovy, slitiny, nerez a odlitky</td>\n      <td>2</td>\n      <td>97.0</td>\n      <td>72</td>\n      <td>NaN</td>\n      <td>0.1</td>\n      <td>3</td>\n      <td>3</td>\n      <td>990215.00</td>\n      <td>990215.000</td>\n    </tr>\n    <tr>\n      <th>3</th>\n      <td>1072-6-829</td>\n      <td>6</td>\n      <td>829</td>\n      <td>2018-11-13 12:00:00</td>\n      <td>2018-11-14 11:55:00</td>\n      <td>Výběrové řízení</td>\n      <td>Jednotlivé položky</td>\n      <td>0.00</td>\n      <td>328032.000</td>\n      <td>CZK</td>\n      <td>...</td>\n      <td>Kovy, slitiny, nerez a odlitky</td>\n      <td>3</td>\n      <td>221.0</td>\n      <td>202</td>\n      <td>NaN</td>\n      <td>0.1</td>\n      <td>4</td>\n      <td>4</td>\n      <td>1318247.00</td>\n      <td>1318247.000</td>\n    </tr>\n    <tr>\n      <th>4</th>\n      <td>1072-6-881</td>\n      <td>6</td>\n      <td>881</td>\n      <td>2019-04-01 13:30:00</td>\n      <td>2019-04-02 09:54:00</td>\n      <td>Výběrové řízení</td>\n      <td>Jednotlivé položky</td>\n      <td>0.00</td>\n      <td>275400.000</td>\n      <td>CZK</td>\n      <td>...</td>\n      <td>Kovy, slitiny, nerez a odlitky</td>\n      <td>2</td>\n      <td>34.0</td>\n      <td>17</td>\n      <td>NaN</td>\n      <td>0.1</td>\n      <td>5</td>\n      <td>8</td>\n      <td>1593647.00</td>\n      <td>5619327.000</td>\n    </tr>\n    <tr>\n      <th>...</th>\n      <td>...</td>\n      <td>...</td>\n      <td>...</td>\n      <td>...</td>\n      <td>...</td>\n      <td>...</td>\n      <td>...</td>\n      <td>...</td>\n      <td>...</td>\n      <td>...</td>\n      <td>...</td>\n      <td>...</td>\n      <td>...</td>\n      <td>...</td>\n      <td>...</td>\n      <td>...</td>\n      <td>...</td>\n      <td>...</td>\n      <td>...</td>\n      <td>...</td>\n      <td>...</td>\n    </tr>\n    <tr>\n      <th>1615</th>\n      <td>1065-181-5897</td>\n      <td>181</td>\n      <td>5897</td>\n      <td>2019-07-01 13:00:00</td>\n      <td>2019-07-08 12:56:00</td>\n      <td>Plechy 1.4571 I</td>\n      <td>Jednotlivé položky</td>\n      <td>0.00</td>\n      <td>61317.192</td>\n      <td>EUR</td>\n      <td>...</td>\n      <td>Plechy</td>\n      <td>11</td>\n      <td>189.0</td>\n      <td>13</td>\n      <td>Slovenská republika</td>\n      <td>0.1</td>\n      <td>3</td>\n      <td>2</td>\n      <td>182015.79</td>\n      <td>84774.702</td>\n    </tr>\n    <tr>\n      <th>1616</th>\n      <td>1065-181-5892</td>\n      <td>181</td>\n      <td>5892</td>\n      <td>2019-04-30 10:00:00</td>\n      <td>2019-04-30 13:28:00</td>\n      <td>NaN</td>\n      <td>Celková nabídka účastníka</td>\n      <td>0.00</td>\n      <td>82120.200</td>\n      <td>EUR</td>\n      <td>...</td>\n      <td>Roury, armatury a trubky</td>\n      <td>1</td>\n      <td>23.0</td>\n      <td>4</td>\n      <td>Slovenská republika</td>\n      <td>0.0</td>\n      <td>1</td>\n      <td>1</td>\n      <td>82120.20</td>\n      <td>82120.200</td>\n    </tr>\n    <tr>\n      <th>1617</th>\n      <td>1065-181-5895</td>\n      <td>181</td>\n      <td>5895</td>\n      <td>2019-05-14 10:07:00</td>\n      <td>2019-05-15 09:06:00</td>\n      <td>rebrované trubk</td>\n      <td>Celková nabídka účastníka</td>\n      <td>98442.96</td>\n      <td>99910.000</td>\n      <td>EUR</td>\n      <td>...</td>\n      <td>Roury, armatury a trubky</td>\n      <td>1</td>\n      <td>19.0</td>\n      <td>3</td>\n      <td>Slovenská republika</td>\n      <td>0.1</td>\n      <td>2</td>\n      <td>2</td>\n      <td>182030.20</td>\n      <td>182030.200</td>\n    </tr>\n    <tr>\n      <th>1618</th>\n      <td>1065-181-5891</td>\n      <td>181</td>\n      <td>5891</td>\n      <td>2018-09-21 13:00:00</td>\n      <td>2018-09-24 10:08:00</td>\n      <td>Rebrované trubk</td>\n      <td>Celková nabídka účastníka</td>\n      <td>0.00</td>\n      <td>108480.000</td>\n      <td>EUR</td>\n      <td>...</td>\n      <td>Roury, armatury a trubky</td>\n      <td>1</td>\n      <td>8.0</td>\n      <td>4</td>\n      <td>Slovenská republika</td>\n      <td>0.0</td>\n      <td>3</td>\n      <td>1</td>\n      <td>290510.20</td>\n      <td>108480.000</td>\n    </tr>\n    <tr>\n      <th>1619</th>\n      <td>1065-181-5896</td>\n      <td>181</td>\n      <td>5896</td>\n      <td>2019-05-16 10:00:00</td>\n      <td>2019-05-17 09:09:00</td>\n      <td>rúry bezošvé pr</td>\n      <td>Celková nabídka účastníka</td>\n      <td>295850.00</td>\n      <td>273420.000</td>\n      <td>EUR</td>\n      <td>...</td>\n      <td>Roury, armatury a trubky</td>\n      <td>1</td>\n      <td>22.0</td>\n      <td>8</td>\n      <td>Slovenská republika</td>\n      <td>0.1</td>\n      <td>4</td>\n      <td>2</td>\n      <td>563930.20</td>\n      <td>381900.000</td>\n    </tr>\n  </tbody>\n</table>\n<p>1620 rows × 25 columns</p>\n</div>"
     },
     "execution_count": 2,
     "metadata": {},
     "output_type": "execute_result"
    }
   ],
   "source": [
    "data = pd.read_csv('filtered_hlavna_sorted_doplnena_final.csv')\n",
    "data"
   ],
   "metadata": {
    "collapsed": false,
    "ExecuteTime": {
     "start_time": "2024-05-09T13:46:36.991446Z",
     "end_time": "2024-05-09T13:46:37.060883Z"
    }
   }
  },
  {
   "cell_type": "code",
   "execution_count": 3,
   "outputs": [
    {
     "data": {
      "text/plain": "array(['CZK', 'EUR'], dtype=object)"
     },
     "execution_count": 3,
     "metadata": {},
     "output_type": "execute_result"
    }
   ],
   "source": [
    "unique_currencies = data['Mena'].unique()\n",
    "unique_currencies"
   ],
   "metadata": {
    "collapsed": false,
    "ExecuteTime": {
     "start_time": "2024-05-09T13:48:19.020029Z",
     "end_time": "2024-05-09T13:48:19.025276Z"
    }
   }
  },
  {
   "cell_type": "code",
   "execution_count": 4,
   "outputs": [],
   "source": [
    "# Define the conversion rate from CZK to Euro\n",
    "conversion_rate = 0.038  # Conversion rate from CZK to Euro\n",
    "\n",
    "# Apply the conversion rate only to rows where 'Mena' is 'CZK'\n",
    "data.loc[data['Mena'] == 'CZK', 'VitaznaPonuka'] = data.loc[data['Mena'] == 'CZK', 'VitaznaPonuka'] * conversion_rate\n",
    "\n",
    "# Now 'VitaznaPonuka' is in Euro for rows where 'Mena' was 'CZK'"
   ],
   "metadata": {
    "collapsed": false,
    "ExecuteTime": {
     "start_time": "2024-05-09T13:49:36.061634Z",
     "end_time": "2024-05-09T13:49:36.065880Z"
    }
   }
  },
  {
   "cell_type": "code",
   "execution_count": 5,
   "outputs": [
    {
     "data": {
      "text/plain": "           UniqueID  Org  AucID               AucZac               AucKon  \\\n0        1072-6-713    6    713  2018-01-29 11:00:00  2018-01-30 09:50:00   \n1        1072-6-776    6    776  2018-07-18 06:30:00  2018-07-23 10:46:00   \n2        1072-6-783    6    783  2018-08-06 08:30:00  2018-08-07 09:40:00   \n3        1072-6-829    6    829  2018-11-13 12:00:00  2018-11-14 11:55:00   \n4        1072-6-881    6    881  2019-04-01 13:30:00  2019-04-02 09:54:00   \n...             ...  ...    ...                  ...                  ...   \n1615  1065-181-5897  181   5897  2019-07-01 13:00:00  2019-07-08 12:56:00   \n1616  1065-181-5892  181   5892  2019-04-30 10:00:00  2019-04-30 13:28:00   \n1617  1065-181-5895  181   5895  2019-05-14 10:07:00  2019-05-15 09:06:00   \n1618  1065-181-5891  181   5891  2018-09-21 13:00:00  2018-09-24 10:08:00   \n1619  1065-181-5896  181   5896  2019-05-16 10:00:00  2019-05-17 09:09:00   \n\n            AucNazov1                     AucVal  Porovnávacia cena  \\\n0     Výběrové řízení         Jednotlivé položky               0.00   \n1     Výběrové řízení         Jednotlivé položky               0.00   \n2     Výběrové řízení         Jednotlivé položky               0.00   \n3     Výběrové řízení         Jednotlivé položky               0.00   \n4     Výběrové řízení         Jednotlivé položky               0.00   \n...               ...                        ...                ...   \n1615  Plechy 1.4571 I         Jednotlivé položky               0.00   \n1616              NaN  Celková nabídka účastníka               0.00   \n1617  rebrované trubk  Celková nabídka účastníka           98442.96   \n1618  Rebrované trubk  Celková nabídka účastníka               0.00   \n1619  rúry bezošvé pr  Celková nabídka účastníka          295850.00   \n\n      VitaznaPonuka Mena  ...                        Subkateg  PocetItems  \\\n0         15960.000  CZK  ...  Kovy, slitiny, nerez a odlitky           4   \n1          8100.840  CZK  ...  Kovy, slitiny, nerez a odlitky           4   \n2         13567.330  CZK  ...  Kovy, slitiny, nerez a odlitky           2   \n3         12465.216  CZK  ...  Kovy, slitiny, nerez a odlitky           3   \n4         10465.200  CZK  ...  Kovy, slitiny, nerez a odlitky           2   \n...             ...  ...  ...                             ...         ...   \n1615      61317.192  EUR  ...                          Plechy          11   \n1616      82120.200  EUR  ...        Roury, armatury a trubky           1   \n1617      99910.000  EUR  ...        Roury, armatury a trubky           1   \n1618     108480.000  EUR  ...        Roury, armatury a trubky           1   \n1619     273420.000  EUR  ...        Roury, armatury a trubky           1   \n\n      PocetZmienPonuk PocetPredlzeni                 Stat MinKrokZnizPercenta  \\\n0                78.0             63                  NaN                 0.1   \n1               152.0            104                  NaN                 0.1   \n2                97.0             72                  NaN                 0.1   \n3               221.0            202                  NaN                 0.1   \n4                34.0             17                  NaN                 0.1   \n...               ...            ...                  ...                 ...   \n1615            189.0             13  Slovenská republika                 0.1   \n1616             23.0              4  Slovenská republika                 0.0   \n1617             19.0              3  Slovenská republika                 0.1   \n1618              8.0              4  Slovenská republika                 0.0   \n1619             22.0              8  Slovenská republika                 0.1   \n\n      HistoryDealsInCategory  HistoryDealsWithVitaz  \\\n0                          1                      1   \n1                          2                      2   \n2                          3                      3   \n3                          4                      4   \n4                          5                      8   \n...                      ...                    ...   \n1615                       3                      2   \n1616                       1                      1   \n1617                       2                      2   \n1618                       3                      1   \n1619                       4                      2   \n\n      MoneySpentSoFarInCategory MoneySpentSoFarWithVitaz  \n0                     420000.00               420000.000  \n1                     633180.00               633180.000  \n2                     990215.00               990215.000  \n3                    1318247.00              1318247.000  \n4                    1593647.00              5619327.000  \n...                         ...                      ...  \n1615                  182015.79                84774.702  \n1616                   82120.20                82120.200  \n1617                  182030.20               182030.200  \n1618                  290510.20               108480.000  \n1619                  563930.20               381900.000  \n\n[1620 rows x 25 columns]",
      "text/html": "<div>\n<style scoped>\n    .dataframe tbody tr th:only-of-type {\n        vertical-align: middle;\n    }\n\n    .dataframe tbody tr th {\n        vertical-align: top;\n    }\n\n    .dataframe thead th {\n        text-align: right;\n    }\n</style>\n<table border=\"1\" class=\"dataframe\">\n  <thead>\n    <tr style=\"text-align: right;\">\n      <th></th>\n      <th>UniqueID</th>\n      <th>Org</th>\n      <th>AucID</th>\n      <th>AucZac</th>\n      <th>AucKon</th>\n      <th>AucNazov1</th>\n      <th>AucVal</th>\n      <th>Porovnávacia cena</th>\n      <th>VitaznaPonuka</th>\n      <th>Mena</th>\n      <th>...</th>\n      <th>Subkateg</th>\n      <th>PocetItems</th>\n      <th>PocetZmienPonuk</th>\n      <th>PocetPredlzeni</th>\n      <th>Stat</th>\n      <th>MinKrokZnizPercenta</th>\n      <th>HistoryDealsInCategory</th>\n      <th>HistoryDealsWithVitaz</th>\n      <th>MoneySpentSoFarInCategory</th>\n      <th>MoneySpentSoFarWithVitaz</th>\n    </tr>\n  </thead>\n  <tbody>\n    <tr>\n      <th>0</th>\n      <td>1072-6-713</td>\n      <td>6</td>\n      <td>713</td>\n      <td>2018-01-29 11:00:00</td>\n      <td>2018-01-30 09:50:00</td>\n      <td>Výběrové řízení</td>\n      <td>Jednotlivé položky</td>\n      <td>0.00</td>\n      <td>15960.000</td>\n      <td>CZK</td>\n      <td>...</td>\n      <td>Kovy, slitiny, nerez a odlitky</td>\n      <td>4</td>\n      <td>78.0</td>\n      <td>63</td>\n      <td>NaN</td>\n      <td>0.1</td>\n      <td>1</td>\n      <td>1</td>\n      <td>420000.00</td>\n      <td>420000.000</td>\n    </tr>\n    <tr>\n      <th>1</th>\n      <td>1072-6-776</td>\n      <td>6</td>\n      <td>776</td>\n      <td>2018-07-18 06:30:00</td>\n      <td>2018-07-23 10:46:00</td>\n      <td>Výběrové řízení</td>\n      <td>Jednotlivé položky</td>\n      <td>0.00</td>\n      <td>8100.840</td>\n      <td>CZK</td>\n      <td>...</td>\n      <td>Kovy, slitiny, nerez a odlitky</td>\n      <td>4</td>\n      <td>152.0</td>\n      <td>104</td>\n      <td>NaN</td>\n      <td>0.1</td>\n      <td>2</td>\n      <td>2</td>\n      <td>633180.00</td>\n      <td>633180.000</td>\n    </tr>\n    <tr>\n      <th>2</th>\n      <td>1072-6-783</td>\n      <td>6</td>\n      <td>783</td>\n      <td>2018-08-06 08:30:00</td>\n      <td>2018-08-07 09:40:00</td>\n      <td>Výběrové řízení</td>\n      <td>Jednotlivé položky</td>\n      <td>0.00</td>\n      <td>13567.330</td>\n      <td>CZK</td>\n      <td>...</td>\n      <td>Kovy, slitiny, nerez a odlitky</td>\n      <td>2</td>\n      <td>97.0</td>\n      <td>72</td>\n      <td>NaN</td>\n      <td>0.1</td>\n      <td>3</td>\n      <td>3</td>\n      <td>990215.00</td>\n      <td>990215.000</td>\n    </tr>\n    <tr>\n      <th>3</th>\n      <td>1072-6-829</td>\n      <td>6</td>\n      <td>829</td>\n      <td>2018-11-13 12:00:00</td>\n      <td>2018-11-14 11:55:00</td>\n      <td>Výběrové řízení</td>\n      <td>Jednotlivé položky</td>\n      <td>0.00</td>\n      <td>12465.216</td>\n      <td>CZK</td>\n      <td>...</td>\n      <td>Kovy, slitiny, nerez a odlitky</td>\n      <td>3</td>\n      <td>221.0</td>\n      <td>202</td>\n      <td>NaN</td>\n      <td>0.1</td>\n      <td>4</td>\n      <td>4</td>\n      <td>1318247.00</td>\n      <td>1318247.000</td>\n    </tr>\n    <tr>\n      <th>4</th>\n      <td>1072-6-881</td>\n      <td>6</td>\n      <td>881</td>\n      <td>2019-04-01 13:30:00</td>\n      <td>2019-04-02 09:54:00</td>\n      <td>Výběrové řízení</td>\n      <td>Jednotlivé položky</td>\n      <td>0.00</td>\n      <td>10465.200</td>\n      <td>CZK</td>\n      <td>...</td>\n      <td>Kovy, slitiny, nerez a odlitky</td>\n      <td>2</td>\n      <td>34.0</td>\n      <td>17</td>\n      <td>NaN</td>\n      <td>0.1</td>\n      <td>5</td>\n      <td>8</td>\n      <td>1593647.00</td>\n      <td>5619327.000</td>\n    </tr>\n    <tr>\n      <th>...</th>\n      <td>...</td>\n      <td>...</td>\n      <td>...</td>\n      <td>...</td>\n      <td>...</td>\n      <td>...</td>\n      <td>...</td>\n      <td>...</td>\n      <td>...</td>\n      <td>...</td>\n      <td>...</td>\n      <td>...</td>\n      <td>...</td>\n      <td>...</td>\n      <td>...</td>\n      <td>...</td>\n      <td>...</td>\n      <td>...</td>\n      <td>...</td>\n      <td>...</td>\n      <td>...</td>\n    </tr>\n    <tr>\n      <th>1615</th>\n      <td>1065-181-5897</td>\n      <td>181</td>\n      <td>5897</td>\n      <td>2019-07-01 13:00:00</td>\n      <td>2019-07-08 12:56:00</td>\n      <td>Plechy 1.4571 I</td>\n      <td>Jednotlivé položky</td>\n      <td>0.00</td>\n      <td>61317.192</td>\n      <td>EUR</td>\n      <td>...</td>\n      <td>Plechy</td>\n      <td>11</td>\n      <td>189.0</td>\n      <td>13</td>\n      <td>Slovenská republika</td>\n      <td>0.1</td>\n      <td>3</td>\n      <td>2</td>\n      <td>182015.79</td>\n      <td>84774.702</td>\n    </tr>\n    <tr>\n      <th>1616</th>\n      <td>1065-181-5892</td>\n      <td>181</td>\n      <td>5892</td>\n      <td>2019-04-30 10:00:00</td>\n      <td>2019-04-30 13:28:00</td>\n      <td>NaN</td>\n      <td>Celková nabídka účastníka</td>\n      <td>0.00</td>\n      <td>82120.200</td>\n      <td>EUR</td>\n      <td>...</td>\n      <td>Roury, armatury a trubky</td>\n      <td>1</td>\n      <td>23.0</td>\n      <td>4</td>\n      <td>Slovenská republika</td>\n      <td>0.0</td>\n      <td>1</td>\n      <td>1</td>\n      <td>82120.20</td>\n      <td>82120.200</td>\n    </tr>\n    <tr>\n      <th>1617</th>\n      <td>1065-181-5895</td>\n      <td>181</td>\n      <td>5895</td>\n      <td>2019-05-14 10:07:00</td>\n      <td>2019-05-15 09:06:00</td>\n      <td>rebrované trubk</td>\n      <td>Celková nabídka účastníka</td>\n      <td>98442.96</td>\n      <td>99910.000</td>\n      <td>EUR</td>\n      <td>...</td>\n      <td>Roury, armatury a trubky</td>\n      <td>1</td>\n      <td>19.0</td>\n      <td>3</td>\n      <td>Slovenská republika</td>\n      <td>0.1</td>\n      <td>2</td>\n      <td>2</td>\n      <td>182030.20</td>\n      <td>182030.200</td>\n    </tr>\n    <tr>\n      <th>1618</th>\n      <td>1065-181-5891</td>\n      <td>181</td>\n      <td>5891</td>\n      <td>2018-09-21 13:00:00</td>\n      <td>2018-09-24 10:08:00</td>\n      <td>Rebrované trubk</td>\n      <td>Celková nabídka účastníka</td>\n      <td>0.00</td>\n      <td>108480.000</td>\n      <td>EUR</td>\n      <td>...</td>\n      <td>Roury, armatury a trubky</td>\n      <td>1</td>\n      <td>8.0</td>\n      <td>4</td>\n      <td>Slovenská republika</td>\n      <td>0.0</td>\n      <td>3</td>\n      <td>1</td>\n      <td>290510.20</td>\n      <td>108480.000</td>\n    </tr>\n    <tr>\n      <th>1619</th>\n      <td>1065-181-5896</td>\n      <td>181</td>\n      <td>5896</td>\n      <td>2019-05-16 10:00:00</td>\n      <td>2019-05-17 09:09:00</td>\n      <td>rúry bezošvé pr</td>\n      <td>Celková nabídka účastníka</td>\n      <td>295850.00</td>\n      <td>273420.000</td>\n      <td>EUR</td>\n      <td>...</td>\n      <td>Roury, armatury a trubky</td>\n      <td>1</td>\n      <td>22.0</td>\n      <td>8</td>\n      <td>Slovenská republika</td>\n      <td>0.1</td>\n      <td>4</td>\n      <td>2</td>\n      <td>563930.20</td>\n      <td>381900.000</td>\n    </tr>\n  </tbody>\n</table>\n<p>1620 rows × 25 columns</p>\n</div>"
     },
     "execution_count": 5,
     "metadata": {},
     "output_type": "execute_result"
    }
   ],
   "source": [
    "data"
   ],
   "metadata": {
    "collapsed": false,
    "ExecuteTime": {
     "start_time": "2024-05-09T13:49:46.593152Z",
     "end_time": "2024-05-09T13:49:46.614036Z"
    }
   }
  },
  {
   "cell_type": "code",
   "execution_count": 6,
   "outputs": [],
   "source": [
    "# Drop the 'Mena' column\n",
    "data = data.drop(columns=['Mena'])\n",
    "\n",
    "# Export the DataFrame to a CSV file\n",
    "data.to_csv('filtered_hlavna_sorted_doplnena_final_euro.csv', index=False)"
   ],
   "metadata": {
    "collapsed": false,
    "ExecuteTime": {
     "start_time": "2024-05-09T13:53:05.830083Z",
     "end_time": "2024-05-09T13:53:05.872221Z"
    }
   }
  },
  {
   "cell_type": "code",
   "execution_count": null,
   "outputs": [],
   "source": [],
   "metadata": {
    "collapsed": false
   }
  }
 ],
 "metadata": {
  "kernelspec": {
   "display_name": "Python 3",
   "language": "python",
   "name": "python3"
  },
  "language_info": {
   "codemirror_mode": {
    "name": "ipython",
    "version": 2
   },
   "file_extension": ".py",
   "mimetype": "text/x-python",
   "name": "python",
   "nbconvert_exporter": "python",
   "pygments_lexer": "ipython2",
   "version": "2.7.6"
  }
 },
 "nbformat": 4,
 "nbformat_minor": 0
}
