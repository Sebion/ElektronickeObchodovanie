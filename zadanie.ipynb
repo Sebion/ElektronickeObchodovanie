{
 "cells": [
  {
   "cell_type": "code",
   "execution_count": 14,
   "metadata": {
    "collapsed": true,
    "ExecuteTime": {
     "start_time": "2024-03-18T12:01:44.595904Z",
     "end_time": "2024-03-18T12:01:50.562645Z"
    }
   },
   "outputs": [
    {
     "name": "stdout",
     "output_type": "stream",
     "text": [
      "Requirement already satisfied: pandas in /Users/A117792292/anaconda3/envs/ElektronickeObchodovanie/lib/python3.10/site-packages (2.2.1)\r\n",
      "Requirement already satisfied: numpy<2,>=1.22.4 in /Users/A117792292/anaconda3/envs/ElektronickeObchodovanie/lib/python3.10/site-packages (from pandas) (1.26.4)\r\n",
      "Requirement already satisfied: python-dateutil>=2.8.2 in /Users/A117792292/anaconda3/envs/ElektronickeObchodovanie/lib/python3.10/site-packages (from pandas) (2.8.2)\r\n",
      "Requirement already satisfied: pytz>=2020.1 in /Users/A117792292/anaconda3/envs/ElektronickeObchodovanie/lib/python3.10/site-packages (from pandas) (2023.3.post1)\r\n",
      "Requirement already satisfied: tzdata>=2022.7 in /Users/A117792292/anaconda3/envs/ElektronickeObchodovanie/lib/python3.10/site-packages (from pandas) (2024.1)\r\n",
      "Requirement already satisfied: six>=1.5 in /Users/A117792292/anaconda3/envs/ElektronickeObchodovanie/lib/python3.10/site-packages (from python-dateutil>=2.8.2->pandas) (1.16.0)\r\n",
      "Collecting openpyxl\r\n",
      "  Downloading openpyxl-3.1.2-py2.py3-none-any.whl.metadata (2.5 kB)\r\n",
      "Collecting et-xmlfile (from openpyxl)\r\n",
      "  Downloading et_xmlfile-1.1.0-py3-none-any.whl.metadata (1.8 kB)\r\n",
      "Downloading openpyxl-3.1.2-py2.py3-none-any.whl (249 kB)\r\n",
      "\u001B[2K   \u001B[90m━━━━━━━━━━━━━━━━━━━━━━━━━━━━━━━━━━━━━━━━\u001B[0m \u001B[32m250.0/250.0 kB\u001B[0m \u001B[31m1.5 MB/s\u001B[0m eta \u001B[36m0:00:00\u001B[0m00:01\u001B[0m00:01\u001B[0m\r\n",
      "\u001B[?25hDownloading et_xmlfile-1.1.0-py3-none-any.whl (4.7 kB)\r\n",
      "Installing collected packages: et-xmlfile, openpyxl\r\n",
      "Successfully installed et-xmlfile-1.1.0 openpyxl-3.1.2\r\n"
     ]
    }
   ],
   "source": [
    "#nainstaluje kniznice\n",
    "!pip install pandas\n",
    "!pip install openpyxl"
   ]
  },
  {
   "cell_type": "code",
   "execution_count": 2,
   "outputs": [],
   "source": [
    "#importuje kniznice\n",
    "import pandas as pd\n"
   ],
   "metadata": {
    "collapsed": false,
    "ExecuteTime": {
     "start_time": "2024-03-18T11:53:55.087494Z",
     "end_time": "2024-03-18T11:53:56.057057Z"
    }
   }
  },
  {
   "cell_type": "code",
   "execution_count": 56,
   "outputs": [
    {
     "name": "stderr",
     "output_type": "stream",
     "text": [
      "/var/folders/cj/vh3ymv8n1tsf0kp09s2k65l80000gq/T/ipykernel_89066/2776382465.py:5: DtypeWarning: Columns (5,9) have mixed types. Specify dtype option on import or set low_memory=False.\n",
      "  bidy = pd.read_csv('data_auctionHIsim2024/T4_bidyHI simul2_2024.csv', sep=';', encoding='ISO-8859-1')\n"
     ]
    }
   ],
   "source": [
    "#nacitanie dat\n",
    "hlavna = pd.read_excel('data_auctionHIsim2024/T1_hlavnaHIsim2024.xlsx')\n",
    "nastavenia = pd.read_excel('data_auctionHIsim2024/T2_nastaveniaHIsim2024.xlsx')\n",
    "kriteria = pd.read_excel('data_auctionHIsim2024/T3_kriteriaHIsim2024.xlsx')\n",
    "bidy = pd.read_csv('data_auctionHIsim2024/T4_bidyHI simul2_2024.csv', sep=';', encoding='ISO-8859-1')\n"
   ],
   "metadata": {
    "collapsed": false,
    "ExecuteTime": {
     "start_time": "2024-03-18T23:32:25.408810Z",
     "end_time": "2024-03-18T23:32:57.756050Z"
    }
   }
  },
  {
   "cell_type": "code",
   "execution_count": 32,
   "outputs": [
    {
     "name": "stdout",
     "output_type": "stream",
     "text": [
      "13217\n"
     ]
    },
    {
     "data": {
      "text/plain": "      UniqueID  Org  AucID              AucZac               AucKon  \\\n0  100-45-1364   45   1364 2017-10-13 13:30:00  2017-10-23 13:33:00   \n1  100-45-1365   45   1365 2017-10-06 12:00:00  2017-10-27 12:00:00   \n2  100-45-1369   45   1369 2017-10-12 08:30:00  2017-10-27 08:30:00   \n3  100-45-1378   45   1378 2017-10-17 12:30:00  2017-10-31 11:30:00   \n4  100-45-1379   45   1379 2017-10-23 10:00:00  2017-10-31 09:40:00   \n\n         AucNazov1                      AucVal  Porovnávacia cena  \\\n0  Ocelové pásky v          Jednotlivé položky           24167.04   \n1  Cenová poptávka  Multikriteriální hodnocení               0.00   \n2  Cenová poptávka  Multikriteriální hodnocení               0.00   \n3  Cenová poptávka  Multikriteriální hodnocení               0.00   \n4  Doprava 2018 (S   Celková nabídka účastníka               0.00   \n\n   VitaznaPonuka Mena  ...  MinKrokZnizPercenta  PocKolERMMA  PocKolZadavac  \\\n0     24864.0000  EUR  ...                  0.0      unknown        unknown   \n1    116400.0000  CZK  ...                  0.1      unknown        unknown   \n2     13167.0000  CZK  ...                  0.1      unknown        unknown   \n3     52062.4000  CZK  ...                  0.1      unknown        unknown   \n4    262965.0771  EUR  ...                  0.0      unknown        unknown   \n\n   PocKolNIPPON PocKolHOLLAND UsporaPorov UsporaVstup  UsporaAukc  \\\n0       unknown       unknown     unknown     unknown     unknown   \n1       unknown       unknown     unknown     unknown     unknown   \n2       unknown       unknown     unknown     unknown     unknown   \n3       unknown       unknown     unknown     unknown     unknown   \n4       unknown       unknown     unknown     unknown     unknown   \n\n   KoefVarPonukCelk  KoefVarPonukERMNIP  \n0           unknown             unknown  \n1           unknown             unknown  \n2           unknown             unknown  \n3           unknown             unknown  \n4           unknown             unknown  \n\n[5 rows x 31 columns]",
      "text/html": "<div>\n<style scoped>\n    .dataframe tbody tr th:only-of-type {\n        vertical-align: middle;\n    }\n\n    .dataframe tbody tr th {\n        vertical-align: top;\n    }\n\n    .dataframe thead th {\n        text-align: right;\n    }\n</style>\n<table border=\"1\" class=\"dataframe\">\n  <thead>\n    <tr style=\"text-align: right;\">\n      <th></th>\n      <th>UniqueID</th>\n      <th>Org</th>\n      <th>AucID</th>\n      <th>AucZac</th>\n      <th>AucKon</th>\n      <th>AucNazov1</th>\n      <th>AucVal</th>\n      <th>Porovnávacia cena</th>\n      <th>VitaznaPonuka</th>\n      <th>Mena</th>\n      <th>...</th>\n      <th>MinKrokZnizPercenta</th>\n      <th>PocKolERMMA</th>\n      <th>PocKolZadavac</th>\n      <th>PocKolNIPPON</th>\n      <th>PocKolHOLLAND</th>\n      <th>UsporaPorov</th>\n      <th>UsporaVstup</th>\n      <th>UsporaAukc</th>\n      <th>KoefVarPonukCelk</th>\n      <th>KoefVarPonukERMNIP</th>\n    </tr>\n  </thead>\n  <tbody>\n    <tr>\n      <th>0</th>\n      <td>100-45-1364</td>\n      <td>45</td>\n      <td>1364</td>\n      <td>2017-10-13 13:30:00</td>\n      <td>2017-10-23 13:33:00</td>\n      <td>Ocelové pásky v</td>\n      <td>Jednotlivé položky</td>\n      <td>24167.04</td>\n      <td>24864.0000</td>\n      <td>EUR</td>\n      <td>...</td>\n      <td>0.0</td>\n      <td>unknown</td>\n      <td>unknown</td>\n      <td>unknown</td>\n      <td>unknown</td>\n      <td>unknown</td>\n      <td>unknown</td>\n      <td>unknown</td>\n      <td>unknown</td>\n      <td>unknown</td>\n    </tr>\n    <tr>\n      <th>1</th>\n      <td>100-45-1365</td>\n      <td>45</td>\n      <td>1365</td>\n      <td>2017-10-06 12:00:00</td>\n      <td>2017-10-27 12:00:00</td>\n      <td>Cenová poptávka</td>\n      <td>Multikriteriální hodnocení</td>\n      <td>0.00</td>\n      <td>116400.0000</td>\n      <td>CZK</td>\n      <td>...</td>\n      <td>0.1</td>\n      <td>unknown</td>\n      <td>unknown</td>\n      <td>unknown</td>\n      <td>unknown</td>\n      <td>unknown</td>\n      <td>unknown</td>\n      <td>unknown</td>\n      <td>unknown</td>\n      <td>unknown</td>\n    </tr>\n    <tr>\n      <th>2</th>\n      <td>100-45-1369</td>\n      <td>45</td>\n      <td>1369</td>\n      <td>2017-10-12 08:30:00</td>\n      <td>2017-10-27 08:30:00</td>\n      <td>Cenová poptávka</td>\n      <td>Multikriteriální hodnocení</td>\n      <td>0.00</td>\n      <td>13167.0000</td>\n      <td>CZK</td>\n      <td>...</td>\n      <td>0.1</td>\n      <td>unknown</td>\n      <td>unknown</td>\n      <td>unknown</td>\n      <td>unknown</td>\n      <td>unknown</td>\n      <td>unknown</td>\n      <td>unknown</td>\n      <td>unknown</td>\n      <td>unknown</td>\n    </tr>\n    <tr>\n      <th>3</th>\n      <td>100-45-1378</td>\n      <td>45</td>\n      <td>1378</td>\n      <td>2017-10-17 12:30:00</td>\n      <td>2017-10-31 11:30:00</td>\n      <td>Cenová poptávka</td>\n      <td>Multikriteriální hodnocení</td>\n      <td>0.00</td>\n      <td>52062.4000</td>\n      <td>CZK</td>\n      <td>...</td>\n      <td>0.1</td>\n      <td>unknown</td>\n      <td>unknown</td>\n      <td>unknown</td>\n      <td>unknown</td>\n      <td>unknown</td>\n      <td>unknown</td>\n      <td>unknown</td>\n      <td>unknown</td>\n      <td>unknown</td>\n    </tr>\n    <tr>\n      <th>4</th>\n      <td>100-45-1379</td>\n      <td>45</td>\n      <td>1379</td>\n      <td>2017-10-23 10:00:00</td>\n      <td>2017-10-31 09:40:00</td>\n      <td>Doprava 2018 (S</td>\n      <td>Celková nabídka účastníka</td>\n      <td>0.00</td>\n      <td>262965.0771</td>\n      <td>EUR</td>\n      <td>...</td>\n      <td>0.0</td>\n      <td>unknown</td>\n      <td>unknown</td>\n      <td>unknown</td>\n      <td>unknown</td>\n      <td>unknown</td>\n      <td>unknown</td>\n      <td>unknown</td>\n      <td>unknown</td>\n      <td>unknown</td>\n    </tr>\n  </tbody>\n</table>\n<p>5 rows × 31 columns</p>\n</div>"
     },
     "execution_count": 32,
     "metadata": {},
     "output_type": "execute_result"
    }
   ],
   "source": [
    "#zobrazenie dat\n",
    "print(len(hlavna))\n",
    "hlavna.head()\n",
    "# Assuming 'bidy' is the DataFrame you want to filter\n"
   ],
   "metadata": {
    "collapsed": false,
    "ExecuteTime": {
     "start_time": "2024-03-18T13:22:05.652029Z",
     "end_time": "2024-03-18T13:22:05.668212Z"
    }
   }
  },
  {
   "cell_type": "code",
   "execution_count": 83,
   "outputs": [
    {
     "name": "stdout",
     "output_type": "stream",
     "text": [
      "False\n"
     ]
    }
   ],
   "source": [
    "# Check for duplicates in 'AucID' column of 'hlavna' DataFrame\n",
    "duplicates = hlavna['UniqueID'].duplicated().any()\n",
    "\n",
    "# Print the result\n",
    "print(duplicates)"
   ],
   "metadata": {
    "collapsed": false,
    "ExecuteTime": {
     "start_time": "2024-03-19T14:59:01.447115Z",
     "end_time": "2024-03-19T14:59:01.477740Z"
    }
   }
  },
  {
   "cell_type": "code",
   "execution_count": 86,
   "outputs": [
    {
     "data": {
      "text/plain": "          UniqueID  Org  AucID              AucZac               AucKon  \\\n0      100-45-1364   45   1364 2017-10-13 13:30:00  2017-10-23 13:33:00   \n1      100-45-1365   45   1365 2017-10-06 12:00:00  2017-10-27 12:00:00   \n2      100-45-1369   45   1369 2017-10-12 08:30:00  2017-10-27 08:30:00   \n3      100-45-1378   45   1378 2017-10-17 12:30:00  2017-10-31 11:30:00   \n4      100-45-1379   45   1379 2017-10-23 10:00:00  2017-10-31 09:40:00   \n...            ...  ...    ...                 ...                  ...   \n13212    91-17-423   17    423 2020-04-14 09:00:00  2020-05-06 12:43:00   \n13213    91-17-426   17    426 2020-04-15 09:00:00  2020-06-14 10:00:00   \n13214    91-17-429   17    429 2020-05-05 09:00:00  2020-05-14 12:15:00   \n13215    91-17-430   17    430 2020-07-13 09:00:00  2020-08-03 13:30:00   \n13216    91-17-431   17    431 2020-07-10 12:00:00  2020-07-23 12:00:00   \n\n             AucNazov1                      AucVal  Porovnávacia cena  \\\n0      Ocelové pásky v          Jednotlivé položky           24167.04   \n1      Cenová poptávka  Multikriteriální hodnocení               0.00   \n2      Cenová poptávka  Multikriteriální hodnocení               0.00   \n3      Cenová poptávka  Multikriteriální hodnocení               0.00   \n4      Doprava 2018 (S   Celková nabídka účastníka               0.00   \n...                ...                         ...                ...   \n13212  Realizace stavb   Celková nabídka účastníka               0.00   \n13213  Realizace stavb   Celková nabídka účastníka               0.00   \n13214  Oprava plynovod   Celková nabídka účastníka               0.00   \n13215  Realizace stavb   Celková nabídka účastníka               0.00   \n13216  Realizace stavb   Celková nabídka účastníka               0.00   \n\n       VitaznaPonuka Mena  ...  MinKrokZnizPercenta  PocKolERMMA  \\\n0       2.486400e+04  EUR  ...                  0.0      unknown   \n1       1.164000e+05  CZK  ...                  0.1      unknown   \n2       1.316700e+04  CZK  ...                  0.1      unknown   \n3       5.206240e+04  CZK  ...                  0.1      unknown   \n4       2.629651e+05  EUR  ...                  0.0      unknown   \n...              ...  ...  ...                  ...          ...   \n13212   3.148200e+05  CZK  ...                  0.1      unknown   \n13213   1.353024e+06  CZK  ...                  0.1      unknown   \n13214   8.918300e+04  CZK  ...                  0.1      unknown   \n13215   1.101450e+06  CZK  ...                  0.1      unknown   \n13216   1.430400e+05  CZK  ...                  0.1      unknown   \n\n       PocKolZadavac  PocKolNIPPON PocKolHOLLAND UsporaPorov UsporaVstup  \\\n0            unknown       unknown       unknown     unknown     unknown   \n1            unknown       unknown       unknown     unknown     unknown   \n2            unknown       unknown       unknown     unknown     unknown   \n3            unknown       unknown       unknown     unknown     unknown   \n4            unknown       unknown       unknown     unknown     unknown   \n...              ...           ...           ...         ...         ...   \n13212        unknown       unknown       unknown     unknown     unknown   \n13213        unknown       unknown       unknown     unknown     unknown   \n13214        unknown       unknown       unknown     unknown     unknown   \n13215        unknown       unknown       unknown     unknown     unknown   \n13216        unknown       unknown       unknown     unknown     unknown   \n\n       UsporaAukc  KoefVarPonukCelk  KoefVarPonukERMNIP  \n0         unknown           unknown             unknown  \n1         unknown           unknown             unknown  \n2         unknown           unknown             unknown  \n3         unknown           unknown             unknown  \n4         unknown           unknown             unknown  \n...           ...               ...                 ...  \n13212     unknown           unknown             unknown  \n13213     unknown           unknown             unknown  \n13214     unknown           unknown             unknown  \n13215     unknown           unknown             unknown  \n13216     unknown           unknown             unknown  \n\n[9795 rows x 31 columns]",
      "text/html": "<div>\n<style scoped>\n    .dataframe tbody tr th:only-of-type {\n        vertical-align: middle;\n    }\n\n    .dataframe tbody tr th {\n        vertical-align: top;\n    }\n\n    .dataframe thead th {\n        text-align: right;\n    }\n</style>\n<table border=\"1\" class=\"dataframe\">\n  <thead>\n    <tr style=\"text-align: right;\">\n      <th></th>\n      <th>UniqueID</th>\n      <th>Org</th>\n      <th>AucID</th>\n      <th>AucZac</th>\n      <th>AucKon</th>\n      <th>AucNazov1</th>\n      <th>AucVal</th>\n      <th>Porovnávacia cena</th>\n      <th>VitaznaPonuka</th>\n      <th>Mena</th>\n      <th>...</th>\n      <th>MinKrokZnizPercenta</th>\n      <th>PocKolERMMA</th>\n      <th>PocKolZadavac</th>\n      <th>PocKolNIPPON</th>\n      <th>PocKolHOLLAND</th>\n      <th>UsporaPorov</th>\n      <th>UsporaVstup</th>\n      <th>UsporaAukc</th>\n      <th>KoefVarPonukCelk</th>\n      <th>KoefVarPonukERMNIP</th>\n    </tr>\n  </thead>\n  <tbody>\n    <tr>\n      <th>0</th>\n      <td>100-45-1364</td>\n      <td>45</td>\n      <td>1364</td>\n      <td>2017-10-13 13:30:00</td>\n      <td>2017-10-23 13:33:00</td>\n      <td>Ocelové pásky v</td>\n      <td>Jednotlivé položky</td>\n      <td>24167.04</td>\n      <td>2.486400e+04</td>\n      <td>EUR</td>\n      <td>...</td>\n      <td>0.0</td>\n      <td>unknown</td>\n      <td>unknown</td>\n      <td>unknown</td>\n      <td>unknown</td>\n      <td>unknown</td>\n      <td>unknown</td>\n      <td>unknown</td>\n      <td>unknown</td>\n      <td>unknown</td>\n    </tr>\n    <tr>\n      <th>1</th>\n      <td>100-45-1365</td>\n      <td>45</td>\n      <td>1365</td>\n      <td>2017-10-06 12:00:00</td>\n      <td>2017-10-27 12:00:00</td>\n      <td>Cenová poptávka</td>\n      <td>Multikriteriální hodnocení</td>\n      <td>0.00</td>\n      <td>1.164000e+05</td>\n      <td>CZK</td>\n      <td>...</td>\n      <td>0.1</td>\n      <td>unknown</td>\n      <td>unknown</td>\n      <td>unknown</td>\n      <td>unknown</td>\n      <td>unknown</td>\n      <td>unknown</td>\n      <td>unknown</td>\n      <td>unknown</td>\n      <td>unknown</td>\n    </tr>\n    <tr>\n      <th>2</th>\n      <td>100-45-1369</td>\n      <td>45</td>\n      <td>1369</td>\n      <td>2017-10-12 08:30:00</td>\n      <td>2017-10-27 08:30:00</td>\n      <td>Cenová poptávka</td>\n      <td>Multikriteriální hodnocení</td>\n      <td>0.00</td>\n      <td>1.316700e+04</td>\n      <td>CZK</td>\n      <td>...</td>\n      <td>0.1</td>\n      <td>unknown</td>\n      <td>unknown</td>\n      <td>unknown</td>\n      <td>unknown</td>\n      <td>unknown</td>\n      <td>unknown</td>\n      <td>unknown</td>\n      <td>unknown</td>\n      <td>unknown</td>\n    </tr>\n    <tr>\n      <th>3</th>\n      <td>100-45-1378</td>\n      <td>45</td>\n      <td>1378</td>\n      <td>2017-10-17 12:30:00</td>\n      <td>2017-10-31 11:30:00</td>\n      <td>Cenová poptávka</td>\n      <td>Multikriteriální hodnocení</td>\n      <td>0.00</td>\n      <td>5.206240e+04</td>\n      <td>CZK</td>\n      <td>...</td>\n      <td>0.1</td>\n      <td>unknown</td>\n      <td>unknown</td>\n      <td>unknown</td>\n      <td>unknown</td>\n      <td>unknown</td>\n      <td>unknown</td>\n      <td>unknown</td>\n      <td>unknown</td>\n      <td>unknown</td>\n    </tr>\n    <tr>\n      <th>4</th>\n      <td>100-45-1379</td>\n      <td>45</td>\n      <td>1379</td>\n      <td>2017-10-23 10:00:00</td>\n      <td>2017-10-31 09:40:00</td>\n      <td>Doprava 2018 (S</td>\n      <td>Celková nabídka účastníka</td>\n      <td>0.00</td>\n      <td>2.629651e+05</td>\n      <td>EUR</td>\n      <td>...</td>\n      <td>0.0</td>\n      <td>unknown</td>\n      <td>unknown</td>\n      <td>unknown</td>\n      <td>unknown</td>\n      <td>unknown</td>\n      <td>unknown</td>\n      <td>unknown</td>\n      <td>unknown</td>\n      <td>unknown</td>\n    </tr>\n    <tr>\n      <th>...</th>\n      <td>...</td>\n      <td>...</td>\n      <td>...</td>\n      <td>...</td>\n      <td>...</td>\n      <td>...</td>\n      <td>...</td>\n      <td>...</td>\n      <td>...</td>\n      <td>...</td>\n      <td>...</td>\n      <td>...</td>\n      <td>...</td>\n      <td>...</td>\n      <td>...</td>\n      <td>...</td>\n      <td>...</td>\n      <td>...</td>\n      <td>...</td>\n      <td>...</td>\n      <td>...</td>\n    </tr>\n    <tr>\n      <th>13212</th>\n      <td>91-17-423</td>\n      <td>17</td>\n      <td>423</td>\n      <td>2020-04-14 09:00:00</td>\n      <td>2020-05-06 12:43:00</td>\n      <td>Realizace stavb</td>\n      <td>Celková nabídka účastníka</td>\n      <td>0.00</td>\n      <td>3.148200e+05</td>\n      <td>CZK</td>\n      <td>...</td>\n      <td>0.1</td>\n      <td>unknown</td>\n      <td>unknown</td>\n      <td>unknown</td>\n      <td>unknown</td>\n      <td>unknown</td>\n      <td>unknown</td>\n      <td>unknown</td>\n      <td>unknown</td>\n      <td>unknown</td>\n    </tr>\n    <tr>\n      <th>13213</th>\n      <td>91-17-426</td>\n      <td>17</td>\n      <td>426</td>\n      <td>2020-04-15 09:00:00</td>\n      <td>2020-06-14 10:00:00</td>\n      <td>Realizace stavb</td>\n      <td>Celková nabídka účastníka</td>\n      <td>0.00</td>\n      <td>1.353024e+06</td>\n      <td>CZK</td>\n      <td>...</td>\n      <td>0.1</td>\n      <td>unknown</td>\n      <td>unknown</td>\n      <td>unknown</td>\n      <td>unknown</td>\n      <td>unknown</td>\n      <td>unknown</td>\n      <td>unknown</td>\n      <td>unknown</td>\n      <td>unknown</td>\n    </tr>\n    <tr>\n      <th>13214</th>\n      <td>91-17-429</td>\n      <td>17</td>\n      <td>429</td>\n      <td>2020-05-05 09:00:00</td>\n      <td>2020-05-14 12:15:00</td>\n      <td>Oprava plynovod</td>\n      <td>Celková nabídka účastníka</td>\n      <td>0.00</td>\n      <td>8.918300e+04</td>\n      <td>CZK</td>\n      <td>...</td>\n      <td>0.1</td>\n      <td>unknown</td>\n      <td>unknown</td>\n      <td>unknown</td>\n      <td>unknown</td>\n      <td>unknown</td>\n      <td>unknown</td>\n      <td>unknown</td>\n      <td>unknown</td>\n      <td>unknown</td>\n    </tr>\n    <tr>\n      <th>13215</th>\n      <td>91-17-430</td>\n      <td>17</td>\n      <td>430</td>\n      <td>2020-07-13 09:00:00</td>\n      <td>2020-08-03 13:30:00</td>\n      <td>Realizace stavb</td>\n      <td>Celková nabídka účastníka</td>\n      <td>0.00</td>\n      <td>1.101450e+06</td>\n      <td>CZK</td>\n      <td>...</td>\n      <td>0.1</td>\n      <td>unknown</td>\n      <td>unknown</td>\n      <td>unknown</td>\n      <td>unknown</td>\n      <td>unknown</td>\n      <td>unknown</td>\n      <td>unknown</td>\n      <td>unknown</td>\n      <td>unknown</td>\n    </tr>\n    <tr>\n      <th>13216</th>\n      <td>91-17-431</td>\n      <td>17</td>\n      <td>431</td>\n      <td>2020-07-10 12:00:00</td>\n      <td>2020-07-23 12:00:00</td>\n      <td>Realizace stavb</td>\n      <td>Celková nabídka účastníka</td>\n      <td>0.00</td>\n      <td>1.430400e+05</td>\n      <td>CZK</td>\n      <td>...</td>\n      <td>0.1</td>\n      <td>unknown</td>\n      <td>unknown</td>\n      <td>unknown</td>\n      <td>unknown</td>\n      <td>unknown</td>\n      <td>unknown</td>\n      <td>unknown</td>\n      <td>unknown</td>\n      <td>unknown</td>\n    </tr>\n  </tbody>\n</table>\n<p>9795 rows × 31 columns</p>\n</div>"
     },
     "execution_count": 86,
     "metadata": {},
     "output_type": "execute_result"
    }
   ],
   "source": [
    "# Select only the duplicated rows in 'AucID' column of 'hlavna' DataFrame\n",
    "duplicated_rows = hlavna[hlavna['AucID'].duplicated(keep=False)]\n",
    "\n",
    "# Print the duplicated rows\n",
    "duplicated_rows\n",
    "#TU JE PROBLEM !"
   ],
   "metadata": {
    "collapsed": false,
    "ExecuteTime": {
     "start_time": "2024-03-19T15:00:47.011415Z",
     "end_time": "2024-03-19T15:00:47.093812Z"
    }
   }
  },
  {
   "cell_type": "code",
   "execution_count": 93,
   "outputs": [
    {
     "data": {
      "text/plain": "          UniqueID  Org  AucID              AucZac               AucKon  \\\n591  1065-181-5885  181   5885 2018-08-21 08:00:00  2018-08-22 11:36:00   \n592  1065-181-5891  181   5891 2018-09-21 13:00:00  2018-09-24 10:08:00   \n593  1065-181-5892  181   5892 2019-04-30 10:00:00  2019-04-30 13:28:00   \n594  1065-181-5893  181   5893 2019-05-02 08:45:00  2019-05-06 11:19:00   \n595  1065-181-5895  181   5895 2019-05-14 10:07:00  2019-05-15 09:06:00   \n596  1065-181-5896  181   5896 2019-05-16 10:00:00  2019-05-17 09:09:00   \n597  1065-181-5897  181   5897 2019-07-01 13:00:00  2019-07-08 12:56:00   \n598  1065-181-5898  181   5898 2020-02-24 11:00:00  2020-02-25 09:00:00   \n\n           AucNazov1                     AucVal  Porovnávacia cena  \\\n591  plechy 1.4541 n         Jednotlivé položky               0.00   \n592  Rebrované trubk  Celková nabídka účastníka               0.00   \n593              NaN  Celková nabídka účastníka               0.00   \n594  plechy 1.4541,          Jednotlivé položky               0.00   \n595  rebrované trubk  Celková nabídka účastníka           98442.96   \n596  rúry bezošvé pr  Celková nabídka účastníka          295850.00   \n597  Plechy 1.4571 I         Jednotlivé položky               0.00   \n598  Mazadlá a Uvoľn         Jednotlivé položky               0.00   \n\n     VitaznaPonuka Mena  ...  MinKrokZnizPercenta  PocKolERMMA  PocKolZadavac  \\\n591      97241.088  EUR  ...                  0.1      unknown        unknown   \n592     108480.000  EUR  ...                  0.0      unknown        unknown   \n593      82120.200  EUR  ...                  0.0      unknown        unknown   \n594      23457.510  EUR  ...                  0.1      unknown        unknown   \n595      99910.000  EUR  ...                  0.1      unknown        unknown   \n596     273420.000  EUR  ...                  0.1      unknown        unknown   \n597      61317.192  EUR  ...                  0.1      unknown        unknown   \n598      45753.600  EUR  ...                  0.1      unknown        unknown   \n\n     PocKolNIPPON PocKolHOLLAND UsporaPorov UsporaVstup  UsporaAukc  \\\n591       unknown       unknown     unknown     unknown     unknown   \n592       unknown       unknown     unknown     unknown     unknown   \n593       unknown       unknown     unknown     unknown     unknown   \n594       unknown       unknown     unknown     unknown     unknown   \n595       unknown       unknown     unknown     unknown     unknown   \n596       unknown       unknown     unknown     unknown     unknown   \n597       unknown       unknown     unknown     unknown     unknown   \n598       unknown       unknown     unknown     unknown     unknown   \n\n     KoefVarPonukCelk  KoefVarPonukERMNIP  \n591           unknown             unknown  \n592           unknown             unknown  \n593           unknown             unknown  \n594           unknown             unknown  \n595           unknown             unknown  \n596           unknown             unknown  \n597           unknown             unknown  \n598           unknown             unknown  \n\n[8 rows x 31 columns]",
      "text/html": "<div>\n<style scoped>\n    .dataframe tbody tr th:only-of-type {\n        vertical-align: middle;\n    }\n\n    .dataframe tbody tr th {\n        vertical-align: top;\n    }\n\n    .dataframe thead th {\n        text-align: right;\n    }\n</style>\n<table border=\"1\" class=\"dataframe\">\n  <thead>\n    <tr style=\"text-align: right;\">\n      <th></th>\n      <th>UniqueID</th>\n      <th>Org</th>\n      <th>AucID</th>\n      <th>AucZac</th>\n      <th>AucKon</th>\n      <th>AucNazov1</th>\n      <th>AucVal</th>\n      <th>Porovnávacia cena</th>\n      <th>VitaznaPonuka</th>\n      <th>Mena</th>\n      <th>...</th>\n      <th>MinKrokZnizPercenta</th>\n      <th>PocKolERMMA</th>\n      <th>PocKolZadavac</th>\n      <th>PocKolNIPPON</th>\n      <th>PocKolHOLLAND</th>\n      <th>UsporaPorov</th>\n      <th>UsporaVstup</th>\n      <th>UsporaAukc</th>\n      <th>KoefVarPonukCelk</th>\n      <th>KoefVarPonukERMNIP</th>\n    </tr>\n  </thead>\n  <tbody>\n    <tr>\n      <th>591</th>\n      <td>1065-181-5885</td>\n      <td>181</td>\n      <td>5885</td>\n      <td>2018-08-21 08:00:00</td>\n      <td>2018-08-22 11:36:00</td>\n      <td>plechy 1.4541 n</td>\n      <td>Jednotlivé položky</td>\n      <td>0.00</td>\n      <td>97241.088</td>\n      <td>EUR</td>\n      <td>...</td>\n      <td>0.1</td>\n      <td>unknown</td>\n      <td>unknown</td>\n      <td>unknown</td>\n      <td>unknown</td>\n      <td>unknown</td>\n      <td>unknown</td>\n      <td>unknown</td>\n      <td>unknown</td>\n      <td>unknown</td>\n    </tr>\n    <tr>\n      <th>592</th>\n      <td>1065-181-5891</td>\n      <td>181</td>\n      <td>5891</td>\n      <td>2018-09-21 13:00:00</td>\n      <td>2018-09-24 10:08:00</td>\n      <td>Rebrované trubk</td>\n      <td>Celková nabídka účastníka</td>\n      <td>0.00</td>\n      <td>108480.000</td>\n      <td>EUR</td>\n      <td>...</td>\n      <td>0.0</td>\n      <td>unknown</td>\n      <td>unknown</td>\n      <td>unknown</td>\n      <td>unknown</td>\n      <td>unknown</td>\n      <td>unknown</td>\n      <td>unknown</td>\n      <td>unknown</td>\n      <td>unknown</td>\n    </tr>\n    <tr>\n      <th>593</th>\n      <td>1065-181-5892</td>\n      <td>181</td>\n      <td>5892</td>\n      <td>2019-04-30 10:00:00</td>\n      <td>2019-04-30 13:28:00</td>\n      <td>NaN</td>\n      <td>Celková nabídka účastníka</td>\n      <td>0.00</td>\n      <td>82120.200</td>\n      <td>EUR</td>\n      <td>...</td>\n      <td>0.0</td>\n      <td>unknown</td>\n      <td>unknown</td>\n      <td>unknown</td>\n      <td>unknown</td>\n      <td>unknown</td>\n      <td>unknown</td>\n      <td>unknown</td>\n      <td>unknown</td>\n      <td>unknown</td>\n    </tr>\n    <tr>\n      <th>594</th>\n      <td>1065-181-5893</td>\n      <td>181</td>\n      <td>5893</td>\n      <td>2019-05-02 08:45:00</td>\n      <td>2019-05-06 11:19:00</td>\n      <td>plechy 1.4541,</td>\n      <td>Jednotlivé položky</td>\n      <td>0.00</td>\n      <td>23457.510</td>\n      <td>EUR</td>\n      <td>...</td>\n      <td>0.1</td>\n      <td>unknown</td>\n      <td>unknown</td>\n      <td>unknown</td>\n      <td>unknown</td>\n      <td>unknown</td>\n      <td>unknown</td>\n      <td>unknown</td>\n      <td>unknown</td>\n      <td>unknown</td>\n    </tr>\n    <tr>\n      <th>595</th>\n      <td>1065-181-5895</td>\n      <td>181</td>\n      <td>5895</td>\n      <td>2019-05-14 10:07:00</td>\n      <td>2019-05-15 09:06:00</td>\n      <td>rebrované trubk</td>\n      <td>Celková nabídka účastníka</td>\n      <td>98442.96</td>\n      <td>99910.000</td>\n      <td>EUR</td>\n      <td>...</td>\n      <td>0.1</td>\n      <td>unknown</td>\n      <td>unknown</td>\n      <td>unknown</td>\n      <td>unknown</td>\n      <td>unknown</td>\n      <td>unknown</td>\n      <td>unknown</td>\n      <td>unknown</td>\n      <td>unknown</td>\n    </tr>\n    <tr>\n      <th>596</th>\n      <td>1065-181-5896</td>\n      <td>181</td>\n      <td>5896</td>\n      <td>2019-05-16 10:00:00</td>\n      <td>2019-05-17 09:09:00</td>\n      <td>rúry bezošvé pr</td>\n      <td>Celková nabídka účastníka</td>\n      <td>295850.00</td>\n      <td>273420.000</td>\n      <td>EUR</td>\n      <td>...</td>\n      <td>0.1</td>\n      <td>unknown</td>\n      <td>unknown</td>\n      <td>unknown</td>\n      <td>unknown</td>\n      <td>unknown</td>\n      <td>unknown</td>\n      <td>unknown</td>\n      <td>unknown</td>\n      <td>unknown</td>\n    </tr>\n    <tr>\n      <th>597</th>\n      <td>1065-181-5897</td>\n      <td>181</td>\n      <td>5897</td>\n      <td>2019-07-01 13:00:00</td>\n      <td>2019-07-08 12:56:00</td>\n      <td>Plechy 1.4571 I</td>\n      <td>Jednotlivé položky</td>\n      <td>0.00</td>\n      <td>61317.192</td>\n      <td>EUR</td>\n      <td>...</td>\n      <td>0.1</td>\n      <td>unknown</td>\n      <td>unknown</td>\n      <td>unknown</td>\n      <td>unknown</td>\n      <td>unknown</td>\n      <td>unknown</td>\n      <td>unknown</td>\n      <td>unknown</td>\n      <td>unknown</td>\n    </tr>\n    <tr>\n      <th>598</th>\n      <td>1065-181-5898</td>\n      <td>181</td>\n      <td>5898</td>\n      <td>2020-02-24 11:00:00</td>\n      <td>2020-02-25 09:00:00</td>\n      <td>Mazadlá a Uvoľn</td>\n      <td>Jednotlivé položky</td>\n      <td>0.00</td>\n      <td>45753.600</td>\n      <td>EUR</td>\n      <td>...</td>\n      <td>0.1</td>\n      <td>unknown</td>\n      <td>unknown</td>\n      <td>unknown</td>\n      <td>unknown</td>\n      <td>unknown</td>\n      <td>unknown</td>\n      <td>unknown</td>\n      <td>unknown</td>\n      <td>unknown</td>\n    </tr>\n  </tbody>\n</table>\n<p>8 rows × 31 columns</p>\n</div>"
     },
     "execution_count": 93,
     "metadata": {},
     "output_type": "execute_result"
    }
   ],
   "source": [
    "filtered_hlavna = hlavna[hlavna['Org'] == 181]\n",
    "filtered_hlavna\n",
    "#POZNAMKY:\n",
    "#mozeme hned povedat podla poctu pozvanok ktora polozka je najrizikovejsia\n",
    "#dopocitat agregovane ze kolko a ako casto nakupujem od dodavatela\n",
    "#postupne pre vsetky riadky dopocitat kolko predtym minul\n",
    "#groupby-lambda\n",
    "#zoradit v case"
   ],
   "metadata": {
    "collapsed": false,
    "ExecuteTime": {
     "start_time": "2024-03-19T15:07:54.260617Z",
     "end_time": "2024-03-19T15:07:54.275000Z"
    }
   }
  },
  {
   "cell_type": "code",
   "execution_count": 39,
   "outputs": [
    {
     "name": "stdout",
     "output_type": "stream",
     "text": [
      "False\n"
     ]
    }
   ],
   "source": [
    "# Check for null values in 'PocetPozvanok' column of 'hlavna' DataFrame\n",
    "has_nulls = hlavna['PocetPozvanok'].isnull().any()\n",
    "\n",
    "# Print the result\n",
    "print(has_nulls)"
   ],
   "metadata": {
    "collapsed": false,
    "ExecuteTime": {
     "start_time": "2024-03-18T20:11:10.183288Z",
     "end_time": "2024-03-18T20:11:10.188047Z"
    }
   }
  },
  {
   "cell_type": "code",
   "execution_count": 34,
   "outputs": [
    {
     "name": "stdout",
     "output_type": "stream",
     "text": [
      "Org\n",
      "1      2786\n",
      "2       262\n",
      "3       189\n",
      "4        31\n",
      "5       159\n",
      "       ... \n",
      "181       8\n",
      "192       3\n",
      "243       4\n",
      "276       1\n",
      "323       1\n",
      "Length: 117, dtype: int64\n"
     ]
    }
   ],
   "source": [
    "# Group by 'Org' column and get the size of each group\n",
    "org_counts = hlavna.groupby('Org').size()\n",
    "\n",
    "# Display the counts\n",
    "print(org_counts)"
   ],
   "metadata": {
    "collapsed": false,
    "ExecuteTime": {
     "start_time": "2024-03-18T20:00:23.260391Z",
     "end_time": "2024-03-18T20:00:23.299939Z"
    }
   }
  },
  {
   "cell_type": "code",
   "execution_count": 27,
   "outputs": [
    {
     "name": "stdout",
     "output_type": "stream",
     "text": [
      "48221\n"
     ]
    },
    {
     "data": {
      "text/plain": "      UniqueID  Org  AucID  IDkola            NazovKola  LubZmenaCien  \\\n0  100-45-1364   45   1364  2979.0         Vstupní kolo           1.0   \n1  100-45-1364   45   1364  2980.0          Aukční kolo           0.0   \n2  100-45-1365   45   1365  2981.0  Předkládání nabídek           1.0   \n3  100-45-1366   45   1366  2982.0  Předkládání nabídek           1.0   \n4  100-45-1368   45   1368  2986.0         Vstupní kolo           1.0   \n\n   LubZmenaVolPodmienok  MoznDorovnPonuku  MoznDorovnNajPonuku  PredlzitMin  \\\n0                   1.0               0.0                  1.0          0.0   \n1                   1.0               0.0                  0.0          2.0   \n2                   0.0               0.0                  1.0          0.0   \n3                   0.0               0.0                  1.0          0.0   \n4                   1.0               0.0                  1.0          0.0   \n\n   ...  ZobrazMnozstvo  ZobrazPocetPoloz  ZobrazPomocVypocet  \\\n0  ...             1.0               0.0                 1.0   \n1  ...             1.0               1.0                 0.0   \n2  ...             1.0               0.0                 0.0   \n3  ...             1.0               0.0                 1.0   \n4  ...             1.0               1.0                 1.0   \n\n   ZobrazPomocVypocetUcas  ZobrazPoradie  ZobrazPorDoX  ZobrazPoradiePoloziek  \\\n0                     0.0            0.0           0.0                    0.0   \n1                     0.0            0.0           0.0                    0.0   \n2                     0.0            0.0           0.0                    0.0   \n3                     1.0            0.0           0.0                    0.0   \n4                     1.0            0.0           0.0                    0.0   \n\n   ZobrazPorPomocVypoc  ZobrazPorPomocVypocDoX  ZobrazMinMaxCenu  \n0                  0.0                     0.0               0.0  \n1                  0.0                     0.0               0.0  \n2                  0.0                     0.0               1.0  \n3                  0.0                     0.0               0.0  \n4                  0.0                     0.0               1.0  \n\n[5 rows x 33 columns]",
      "text/html": "<div>\n<style scoped>\n    .dataframe tbody tr th:only-of-type {\n        vertical-align: middle;\n    }\n\n    .dataframe tbody tr th {\n        vertical-align: top;\n    }\n\n    .dataframe thead th {\n        text-align: right;\n    }\n</style>\n<table border=\"1\" class=\"dataframe\">\n  <thead>\n    <tr style=\"text-align: right;\">\n      <th></th>\n      <th>UniqueID</th>\n      <th>Org</th>\n      <th>AucID</th>\n      <th>IDkola</th>\n      <th>NazovKola</th>\n      <th>LubZmenaCien</th>\n      <th>LubZmenaVolPodmienok</th>\n      <th>MoznDorovnPonuku</th>\n      <th>MoznDorovnNajPonuku</th>\n      <th>PredlzitMin</th>\n      <th>...</th>\n      <th>ZobrazMnozstvo</th>\n      <th>ZobrazPocetPoloz</th>\n      <th>ZobrazPomocVypocet</th>\n      <th>ZobrazPomocVypocetUcas</th>\n      <th>ZobrazPoradie</th>\n      <th>ZobrazPorDoX</th>\n      <th>ZobrazPoradiePoloziek</th>\n      <th>ZobrazPorPomocVypoc</th>\n      <th>ZobrazPorPomocVypocDoX</th>\n      <th>ZobrazMinMaxCenu</th>\n    </tr>\n  </thead>\n  <tbody>\n    <tr>\n      <th>0</th>\n      <td>100-45-1364</td>\n      <td>45</td>\n      <td>1364</td>\n      <td>2979.0</td>\n      <td>Vstupní kolo</td>\n      <td>1.0</td>\n      <td>1.0</td>\n      <td>0.0</td>\n      <td>1.0</td>\n      <td>0.0</td>\n      <td>...</td>\n      <td>1.0</td>\n      <td>0.0</td>\n      <td>1.0</td>\n      <td>0.0</td>\n      <td>0.0</td>\n      <td>0.0</td>\n      <td>0.0</td>\n      <td>0.0</td>\n      <td>0.0</td>\n      <td>0.0</td>\n    </tr>\n    <tr>\n      <th>1</th>\n      <td>100-45-1364</td>\n      <td>45</td>\n      <td>1364</td>\n      <td>2980.0</td>\n      <td>Aukční kolo</td>\n      <td>0.0</td>\n      <td>1.0</td>\n      <td>0.0</td>\n      <td>0.0</td>\n      <td>2.0</td>\n      <td>...</td>\n      <td>1.0</td>\n      <td>1.0</td>\n      <td>0.0</td>\n      <td>0.0</td>\n      <td>0.0</td>\n      <td>0.0</td>\n      <td>0.0</td>\n      <td>0.0</td>\n      <td>0.0</td>\n      <td>0.0</td>\n    </tr>\n    <tr>\n      <th>2</th>\n      <td>100-45-1365</td>\n      <td>45</td>\n      <td>1365</td>\n      <td>2981.0</td>\n      <td>Předkládání nabídek</td>\n      <td>1.0</td>\n      <td>0.0</td>\n      <td>0.0</td>\n      <td>1.0</td>\n      <td>0.0</td>\n      <td>...</td>\n      <td>1.0</td>\n      <td>0.0</td>\n      <td>0.0</td>\n      <td>0.0</td>\n      <td>0.0</td>\n      <td>0.0</td>\n      <td>0.0</td>\n      <td>0.0</td>\n      <td>0.0</td>\n      <td>1.0</td>\n    </tr>\n    <tr>\n      <th>3</th>\n      <td>100-45-1366</td>\n      <td>45</td>\n      <td>1366</td>\n      <td>2982.0</td>\n      <td>Předkládání nabídek</td>\n      <td>1.0</td>\n      <td>0.0</td>\n      <td>0.0</td>\n      <td>1.0</td>\n      <td>0.0</td>\n      <td>...</td>\n      <td>1.0</td>\n      <td>0.0</td>\n      <td>1.0</td>\n      <td>1.0</td>\n      <td>0.0</td>\n      <td>0.0</td>\n      <td>0.0</td>\n      <td>0.0</td>\n      <td>0.0</td>\n      <td>0.0</td>\n    </tr>\n    <tr>\n      <th>4</th>\n      <td>100-45-1368</td>\n      <td>45</td>\n      <td>1368</td>\n      <td>2986.0</td>\n      <td>Vstupní kolo</td>\n      <td>1.0</td>\n      <td>1.0</td>\n      <td>0.0</td>\n      <td>1.0</td>\n      <td>0.0</td>\n      <td>...</td>\n      <td>1.0</td>\n      <td>1.0</td>\n      <td>1.0</td>\n      <td>1.0</td>\n      <td>0.0</td>\n      <td>0.0</td>\n      <td>0.0</td>\n      <td>0.0</td>\n      <td>0.0</td>\n      <td>1.0</td>\n    </tr>\n  </tbody>\n</table>\n<p>5 rows × 33 columns</p>\n</div>"
     },
     "execution_count": 27,
     "metadata": {},
     "output_type": "execute_result"
    }
   ],
   "source": [
    "print(len(nastavenia))\n",
    "nastavenia.head()\n"
   ],
   "metadata": {
    "collapsed": false,
    "ExecuteTime": {
     "start_time": "2024-03-18T12:06:09.507834Z",
     "end_time": "2024-03-18T12:06:09.546506Z"
    }
   }
  },
  {
   "cell_type": "code",
   "execution_count": 99,
   "outputs": [
    {
     "name": "stdout",
     "output_type": "stream",
     "text": [
      "        UniqueID  Org  AucID  IDkola            NazovKola  LubZmenaCien  \\\n",
      "9593  1423-2-105    2    105   188.0  Předkládání nabídek           1.0   \n",
      "9594  1423-2-105    2    105   189.0       Kontrolní kolo           0.0   \n",
      "\n",
      "      LubZmenaVolPodmienok  MoznDorovnPonuku  MoznDorovnNajPonuku  \\\n",
      "9593                   0.0               0.0                  1.0   \n",
      "9594                   0.0               0.0                  1.0   \n",
      "\n",
      "      PredlzitMin  ...  ZobrazMnozstvo  ZobrazPocetPoloz  ZobrazPomocVypocet  \\\n",
      "9593          0.0  ...             1.0               0.0                 0.0   \n",
      "9594          0.0  ...             1.0               1.0                 1.0   \n",
      "\n",
      "      ZobrazPomocVypocetUcas  ZobrazPoradie  ZobrazPorDoX  \\\n",
      "9593                     0.0            1.0           0.0   \n",
      "9594                     1.0            0.0           0.0   \n",
      "\n",
      "      ZobrazPoradiePoloziek  ZobrazPorPomocVypoc  ZobrazPorPomocVypocDoX  \\\n",
      "9593                    0.0                  0.0                     0.0   \n",
      "9594                    0.0                  0.0                     0.0   \n",
      "\n",
      "      ZobrazMinMaxCenu  \n",
      "9593               0.0  \n",
      "9594               0.0  \n",
      "\n",
      "[2 rows x 33 columns]\n"
     ]
    }
   ],
   "source": [
    "filtered_nastavenia = nastavenia[nastavenia['UniqueID'] =='1423-2-105']\n",
    "print(filtered_nastavenia)"
   ],
   "metadata": {
    "collapsed": false,
    "ExecuteTime": {
     "start_time": "2024-03-21T13:04:47.173189Z",
     "end_time": "2024-03-21T13:04:47.369933Z"
    }
   }
  },
  {
   "cell_type": "code",
   "execution_count": 28,
   "outputs": [
    {
     "name": "stdout",
     "output_type": "stream",
     "text": [
      "26620\n"
     ]
    },
    {
     "data": {
      "text/plain": "      UniqueID  Org  AucID                AucEvaluated  HodnotaKriteria\n0  100-45-1364   45   1364          Jednotlivé položky              NaN\n1  100-45-1365   45   1365  Multikriteriální hodnocení             99.4\n2  100-45-1365   45   1365  Multikriteriální hodnocení              0.2\n3  100-45-1365   45   1365  Multikriteriální hodnocení              0.2\n4  100-45-1365   45   1365  Multikriteriální hodnocení              0.2",
      "text/html": "<div>\n<style scoped>\n    .dataframe tbody tr th:only-of-type {\n        vertical-align: middle;\n    }\n\n    .dataframe tbody tr th {\n        vertical-align: top;\n    }\n\n    .dataframe thead th {\n        text-align: right;\n    }\n</style>\n<table border=\"1\" class=\"dataframe\">\n  <thead>\n    <tr style=\"text-align: right;\">\n      <th></th>\n      <th>UniqueID</th>\n      <th>Org</th>\n      <th>AucID</th>\n      <th>AucEvaluated</th>\n      <th>HodnotaKriteria</th>\n    </tr>\n  </thead>\n  <tbody>\n    <tr>\n      <th>0</th>\n      <td>100-45-1364</td>\n      <td>45</td>\n      <td>1364</td>\n      <td>Jednotlivé položky</td>\n      <td>NaN</td>\n    </tr>\n    <tr>\n      <th>1</th>\n      <td>100-45-1365</td>\n      <td>45</td>\n      <td>1365</td>\n      <td>Multikriteriální hodnocení</td>\n      <td>99.4</td>\n    </tr>\n    <tr>\n      <th>2</th>\n      <td>100-45-1365</td>\n      <td>45</td>\n      <td>1365</td>\n      <td>Multikriteriální hodnocení</td>\n      <td>0.2</td>\n    </tr>\n    <tr>\n      <th>3</th>\n      <td>100-45-1365</td>\n      <td>45</td>\n      <td>1365</td>\n      <td>Multikriteriální hodnocení</td>\n      <td>0.2</td>\n    </tr>\n    <tr>\n      <th>4</th>\n      <td>100-45-1365</td>\n      <td>45</td>\n      <td>1365</td>\n      <td>Multikriteriální hodnocení</td>\n      <td>0.2</td>\n    </tr>\n  </tbody>\n</table>\n</div>"
     },
     "execution_count": 28,
     "metadata": {},
     "output_type": "execute_result"
    }
   ],
   "source": [
    "print(len(kriteria))\n",
    "kriteria.head()\n"
   ],
   "metadata": {
    "collapsed": false,
    "ExecuteTime": {
     "start_time": "2024-03-18T12:06:33.649672Z",
     "end_time": "2024-03-18T12:06:33.656018Z"
    }
   }
  },
  {
   "cell_type": "code",
   "execution_count": 51,
   "outputs": [
    {
     "name": "stdout",
     "output_type": "stream",
     "text": [
      "76557\n"
     ]
    },
    {
     "data": {
      "text/plain": "      UniqueID  Org  AucID     NazovKola  IDItem IDParticipant       Datum  \\\n0  100-45-1364   45   1364  Vstupní kolo   54038          2983  13.10.2017   \n1  100-45-1364   45   1364  Vstupní kolo   53969          2983  13.10.2017   \n2  100-45-1364   45   1364  Vstupní kolo   54177          2983  13.10.2017   \n3  100-45-1364   45   1364  Vstupní kolo   54037          2983  13.10.2017   \n4  100-45-1364   45   1364  Vstupní kolo   53979          2983  13.10.2017   \n\n   CasZmeny NovaHodnota Unnamed: 9  \n0  15:58:22         690        NaN  \n1  15:58:23         690        NaN  \n2  15:58:24         690        NaN  \n3  15:58:25         690        NaN  \n4  15:58:26         690        NaN  ",
      "text/html": "<div>\n<style scoped>\n    .dataframe tbody tr th:only-of-type {\n        vertical-align: middle;\n    }\n\n    .dataframe tbody tr th {\n        vertical-align: top;\n    }\n\n    .dataframe thead th {\n        text-align: right;\n    }\n</style>\n<table border=\"1\" class=\"dataframe\">\n  <thead>\n    <tr style=\"text-align: right;\">\n      <th></th>\n      <th>UniqueID</th>\n      <th>Org</th>\n      <th>AucID</th>\n      <th>NazovKola</th>\n      <th>IDItem</th>\n      <th>IDParticipant</th>\n      <th>Datum</th>\n      <th>CasZmeny</th>\n      <th>NovaHodnota</th>\n      <th>Unnamed: 9</th>\n    </tr>\n  </thead>\n  <tbody>\n    <tr>\n      <th>0</th>\n      <td>100-45-1364</td>\n      <td>45</td>\n      <td>1364</td>\n      <td>Vstupní kolo</td>\n      <td>54038</td>\n      <td>2983</td>\n      <td>13.10.2017</td>\n      <td>15:58:22</td>\n      <td>690</td>\n      <td>NaN</td>\n    </tr>\n    <tr>\n      <th>1</th>\n      <td>100-45-1364</td>\n      <td>45</td>\n      <td>1364</td>\n      <td>Vstupní kolo</td>\n      <td>53969</td>\n      <td>2983</td>\n      <td>13.10.2017</td>\n      <td>15:58:23</td>\n      <td>690</td>\n      <td>NaN</td>\n    </tr>\n    <tr>\n      <th>2</th>\n      <td>100-45-1364</td>\n      <td>45</td>\n      <td>1364</td>\n      <td>Vstupní kolo</td>\n      <td>54177</td>\n      <td>2983</td>\n      <td>13.10.2017</td>\n      <td>15:58:24</td>\n      <td>690</td>\n      <td>NaN</td>\n    </tr>\n    <tr>\n      <th>3</th>\n      <td>100-45-1364</td>\n      <td>45</td>\n      <td>1364</td>\n      <td>Vstupní kolo</td>\n      <td>54037</td>\n      <td>2983</td>\n      <td>13.10.2017</td>\n      <td>15:58:25</td>\n      <td>690</td>\n      <td>NaN</td>\n    </tr>\n    <tr>\n      <th>4</th>\n      <td>100-45-1364</td>\n      <td>45</td>\n      <td>1364</td>\n      <td>Vstupní kolo</td>\n      <td>53979</td>\n      <td>2983</td>\n      <td>13.10.2017</td>\n      <td>15:58:26</td>\n      <td>690</td>\n      <td>NaN</td>\n    </tr>\n  </tbody>\n</table>\n</div>"
     },
     "execution_count": 51,
     "metadata": {},
     "output_type": "execute_result"
    }
   ],
   "source": [
    "print(len(bidy))\n",
    "bidy.head()"
   ],
   "metadata": {
    "collapsed": false,
    "ExecuteTime": {
     "start_time": "2024-03-18T23:28:05.067053Z",
     "end_time": "2024-03-18T23:28:05.077769Z"
    }
   }
  },
  {
   "cell_type": "code",
   "execution_count": 102,
   "outputs": [
    {
     "data": {
      "text/plain": "Empty DataFrame\nColumns: [UniqueID, Org, AucID, NazovKola, IDItem, IDParticipant, Datum, CasZmeny, NovaHodnota, Unnamed: 9]\nIndex: []",
      "text/html": "<div>\n<style scoped>\n    .dataframe tbody tr th:only-of-type {\n        vertical-align: middle;\n    }\n\n    .dataframe tbody tr th {\n        vertical-align: top;\n    }\n\n    .dataframe thead th {\n        text-align: right;\n    }\n</style>\n<table border=\"1\" class=\"dataframe\">\n  <thead>\n    <tr style=\"text-align: right;\">\n      <th></th>\n      <th>UniqueID</th>\n      <th>Org</th>\n      <th>AucID</th>\n      <th>NazovKola</th>\n      <th>IDItem</th>\n      <th>IDParticipant</th>\n      <th>Datum</th>\n      <th>CasZmeny</th>\n      <th>NovaHodnota</th>\n      <th>Unnamed: 9</th>\n    </tr>\n  </thead>\n  <tbody>\n  </tbody>\n</table>\n</div>"
     },
     "execution_count": 102,
     "metadata": {},
     "output_type": "execute_result"
    }
   ],
   "source": [
    "filtered_bidy = bidy[bidy['UniqueID'] =='1425-2-54']\n",
    "filtered_bidy\n",
    "# unique_participant_count = filtered_bidy['IDParticipant'].nunique()\n",
    "# print(unique_participant_count)\n",
    "# unique_item_count = filtered_bidy['IDItem'].nunique()\n",
    "# print(unique_item_count)\n",
    "#POZNAMKA\n",
    "#Niektore tu nesu organizacie preco ? zmazat ? alebocodopici"
   ],
   "metadata": {
    "collapsed": false,
    "ExecuteTime": {
     "start_time": "2024-03-21T13:05:50.601152Z",
     "end_time": "2024-03-21T13:05:50.620774Z"
    }
   }
  },
  {
   "cell_type": "code",
   "execution_count": 108,
   "outputs": [
    {
     "data": {
      "text/plain": "2518"
     },
     "execution_count": 108,
     "metadata": {},
     "output_type": "execute_result"
    }
   ],
   "source": [
    "bidy['UniqueID'].nunique()\n",
    "\n"
   ],
   "metadata": {
    "collapsed": false,
    "ExecuteTime": {
     "start_time": "2024-03-21T13:12:10.347241Z",
     "end_time": "2024-03-21T13:12:10.358742Z"
    }
   }
  },
  {
   "cell_type": "code",
   "execution_count": 81,
   "outputs": [
    {
     "name": "stdout",
     "output_type": "stream",
     "text": [
      "3\n",
      "1\n"
     ]
    }
   ],
   "source": [
    "unique_participant_count = filtered_bidy['IDParticipant'].nunique()\n",
    "print(unique_participant_count)\n",
    "unique_item_count = filtered_bidy['IDItem'].nunique()\n",
    "print(unique_item_count)"
   ],
   "metadata": {
    "collapsed": false,
    "ExecuteTime": {
     "start_time": "2024-03-19T14:52:53.834136Z",
     "end_time": "2024-03-19T14:52:53.839258Z"
    }
   }
  },
  {
   "cell_type": "code",
   "execution_count": 103,
   "outputs": [
    {
     "name": "stdout",
     "output_type": "stream",
     "text": [
      "True\n"
     ]
    }
   ],
   "source": [
    "#Co sa opytat ?\n",
    "# Get the 'UniqueID' column from the 'duplicated_rows' DataFrame\n",
    "duplicated_unique_ids = duplicated_rows['UniqueID']\n",
    "\n",
    "# Check if any of these 'UniqueID's are present in the 'bidy' DataFrame\n",
    "is_present_in_bidy = bidy['UniqueID'].isin(duplicated_unique_ids)\n",
    "\n",
    "# Print the result\n",
    "print(is_present_in_bidy.any())"
   ],
   "metadata": {
    "collapsed": false,
    "ExecuteTime": {
     "start_time": "2024-03-21T13:08:19.825800Z",
     "end_time": "2024-03-21T13:08:19.857872Z"
    }
   }
  },
  {
   "cell_type": "code",
   "execution_count": 104,
   "outputs": [
    {
     "name": "stdout",
     "output_type": "stream",
     "text": [
      "0         100-45-1364\n",
      "1         100-45-1364\n",
      "2         100-45-1364\n",
      "3         100-45-1364\n",
      "4         100-45-1364\n",
      "             ...     \n",
      "76539    1105-60-3189\n",
      "76553    1105-60-3191\n",
      "76554    1105-60-3191\n",
      "76555    1105-60-3191\n",
      "76556    1105-60-3192\n",
      "Name: UniqueID, Length: 57058, dtype: object\n"
     ]
    }
   ],
   "source": [
    "# Get the 'UniqueID' column from the 'duplicated_rows' DataFrame\n",
    "duplicated_unique_ids = duplicated_rows['UniqueID']\n",
    "\n",
    "# Check if any of these 'UniqueID's are present in the 'bidy' DataFrame\n",
    "ids_present_in_bidy = bidy[bidy['UniqueID'].isin(duplicated_unique_ids)]\n",
    "\n",
    "# Print the 'UniqueID's that are present in both DataFrames\n",
    "print(ids_present_in_bidy['UniqueID'])"
   ],
   "metadata": {
    "collapsed": false,
    "ExecuteTime": {
     "start_time": "2024-03-21T13:08:59.909555Z",
     "end_time": "2024-03-21T13:09:00.532206Z"
    }
   }
  },
  {
   "cell_type": "code",
   "execution_count": 105,
   "outputs": [
    {
     "name": "stdout",
     "output_type": "stream",
     "text": [
      "19499\n"
     ]
    }
   ],
   "source": [
    "# Get the 'UniqueID' column from the 'duplicated_rows' DataFrame\n",
    "duplicated_unique_ids = duplicated_rows['UniqueID']\n",
    "\n",
    "# Check which of these 'UniqueID's are not present in the 'bidy' DataFrame\n",
    "not_present_in_bidy = ~bidy['UniqueID'].isin(duplicated_unique_ids)\n",
    "\n",
    "# Count the number of 'UniqueID's that are not present in 'bidy'\n",
    "count_not_present_in_bidy = not_present_in_bidy.sum()\n",
    "\n",
    "# Print the result\n",
    "print(count_not_present_in_bidy)"
   ],
   "metadata": {
    "collapsed": false,
    "ExecuteTime": {
     "start_time": "2024-03-21T13:10:29.608293Z",
     "end_time": "2024-03-21T13:10:29.623794Z"
    }
   }
  },
  {
   "cell_type": "code",
   "execution_count": null,
   "outputs": [],
   "source": [],
   "metadata": {
    "collapsed": false
   }
  }
 ],
 "metadata": {
  "kernelspec": {
   "display_name": "Python 3",
   "language": "python",
   "name": "python3"
  },
  "language_info": {
   "codemirror_mode": {
    "name": "ipython",
    "version": 2
   },
   "file_extension": ".py",
   "mimetype": "text/x-python",
   "name": "python",
   "nbconvert_exporter": "python",
   "pygments_lexer": "ipython2",
   "version": "2.7.6"
  }
 },
 "nbformat": 4,
 "nbformat_minor": 0
}
