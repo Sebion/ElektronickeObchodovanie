{
 "cells": [
  {
   "cell_type": "code",
   "execution_count": 1,
   "metadata": {
    "collapsed": true,
    "ExecuteTime": {
     "start_time": "2024-04-10T12:52:12.952466Z",
     "end_time": "2024-04-10T12:52:19.439174Z"
    }
   },
   "outputs": [
    {
     "name": "stdout",
     "output_type": "stream",
     "text": [
      "Requirement already satisfied: pandas in /Users/A117792292/anaconda3/envs/ElektronickeObchodovanie/lib/python3.10/site-packages (2.2.1)\r\n",
      "Requirement already satisfied: numpy<2,>=1.22.4 in /Users/A117792292/anaconda3/envs/ElektronickeObchodovanie/lib/python3.10/site-packages (from pandas) (1.26.4)\r\n",
      "Requirement already satisfied: python-dateutil>=2.8.2 in /Users/A117792292/anaconda3/envs/ElektronickeObchodovanie/lib/python3.10/site-packages (from pandas) (2.8.2)\r\n",
      "Requirement already satisfied: pytz>=2020.1 in /Users/A117792292/anaconda3/envs/ElektronickeObchodovanie/lib/python3.10/site-packages (from pandas) (2023.3.post1)\r\n",
      "Requirement already satisfied: tzdata>=2022.7 in /Users/A117792292/anaconda3/envs/ElektronickeObchodovanie/lib/python3.10/site-packages (from pandas) (2024.1)\r\n",
      "Requirement already satisfied: six>=1.5 in /Users/A117792292/anaconda3/envs/ElektronickeObchodovanie/lib/python3.10/site-packages (from python-dateutil>=2.8.2->pandas) (1.16.0)\r\n",
      "Requirement already satisfied: openpyxl in /Users/A117792292/anaconda3/envs/ElektronickeObchodovanie/lib/python3.10/site-packages (3.1.2)\r\n",
      "Requirement already satisfied: et-xmlfile in /Users/A117792292/anaconda3/envs/ElektronickeObchodovanie/lib/python3.10/site-packages (from openpyxl) (1.1.0)\r\n"
     ]
    }
   ],
   "source": [
    "#nainstaluje kniznice\n",
    "!pip install pandas\n",
    "!pip install openpyxl"
   ]
  },
  {
   "cell_type": "code",
   "execution_count": 1,
   "outputs": [],
   "source": [
    "#importuje kniznice\n",
    "import pandas as pd\n"
   ],
   "metadata": {
    "collapsed": false,
    "ExecuteTime": {
     "start_time": "2024-05-02T11:37:34.150010Z",
     "end_time": "2024-05-02T11:37:38.099773Z"
    }
   }
  },
  {
   "cell_type": "code",
   "execution_count": 4,
   "outputs": [],
   "source": [
    "pd.set_option('display.max_columns', None)"
   ],
   "metadata": {
    "collapsed": false,
    "ExecuteTime": {
     "start_time": "2024-05-02T11:38:59.049818Z",
     "end_time": "2024-05-02T11:38:59.065593Z"
    }
   }
  },
  {
   "cell_type": "code",
   "execution_count": 2,
   "outputs": [
    {
     "name": "stderr",
     "output_type": "stream",
     "text": [
      "/var/folders/cj/vh3ymv8n1tsf0kp09s2k65l80000gq/T/ipykernel_12126/2776382465.py:5: DtypeWarning: Columns (5,9) have mixed types. Specify dtype option on import or set low_memory=False.\n",
      "  bidy = pd.read_csv('data_auctionHIsim2024/T4_bidyHI simul2_2024.csv', sep=';', encoding='ISO-8859-1')\n"
     ]
    }
   ],
   "source": [
    "#nacitanie dat\n",
    "hlavna = pd.read_excel('data_auctionHIsim2024/T1_hlavnaHIsim2024.xlsx')\n",
    "nastavenia = pd.read_excel('data_auctionHIsim2024/T2_nastaveniaHIsim2024.xlsx')\n",
    "kriteria = pd.read_excel('data_auctionHIsim2024/T3_kriteriaHIsim2024.xlsx')\n",
    "bidy = pd.read_csv('data_auctionHIsim2024/T4_bidyHI simul2_2024.csv', sep=';', encoding='ISO-8859-1')\n"
   ],
   "metadata": {
    "collapsed": false,
    "ExecuteTime": {
     "start_time": "2024-05-02T11:37:37.823584Z",
     "end_time": "2024-05-02T11:38:14.027057Z"
    }
   }
  },
  {
   "cell_type": "code",
   "execution_count": 5,
   "outputs": [
    {
     "name": "stdout",
     "output_type": "stream",
     "text": [
      "13217\n"
     ]
    },
    {
     "data": {
      "text/plain": "      UniqueID  Org  AucID              AucZac               AucKon  \\\n0  100-45-1364   45   1364 2017-10-13 13:30:00  2017-10-23 13:33:00   \n1  100-45-1365   45   1365 2017-10-06 12:00:00  2017-10-27 12:00:00   \n2  100-45-1369   45   1369 2017-10-12 08:30:00  2017-10-27 08:30:00   \n3  100-45-1378   45   1378 2017-10-17 12:30:00  2017-10-31 11:30:00   \n4  100-45-1379   45   1379 2017-10-23 10:00:00  2017-10-31 09:40:00   \n\n         AucNazov1                      AucVal  Porovnávacia cena  \\\n0  Ocelové pásky v          Jednotlivé položky           24167.04   \n1  Cenová poptávka  Multikriteriální hodnocení               0.00   \n2  Cenová poptávka  Multikriteriální hodnocení               0.00   \n3  Cenová poptávka  Multikriteriální hodnocení               0.00   \n4  Doprava 2018 (S   Celková nabídka účastníka               0.00   \n\n   VitaznaPonuka Mena  PocetPozvanok  PocetPrihlasenychUcast  \\\n0     24864.0000  EUR             10                     NaN   \n1    116400.0000  CZK             10                     NaN   \n2     13167.0000  CZK             12                     NaN   \n3     52062.4000  CZK              9                     NaN   \n4    262965.0771  EUR             24                     NaN   \n\n   PocetAktivnychUcast  Vitaz AucTypUpresnenie  \\\n0                  NaN   2978            ERMMA   \n1                  NaN   3543         poptavka   \n2                  NaN   3543         poptavka   \n3                  NaN   5763         poptavka   \n4                  NaN   3578            ERMMA   \n\n                                        Kateg           Subkateg  PocetItems  \\\n0              Hutní materiál, kovy a slitiny             Plechy           8   \n1          Stroje, zařízení, nástroje, nářadí      Náhradní díly           2   \n2          Stroje, zařízení, nástroje, nářadí      Náhradní díly           4   \n3          Stroje, zařízení, nástroje, nářadí      Náhradní díly           4   \n4  Dopravní služby, auto-moto a příslušenství  Silniční přeprava          65   \n\n   PocetZmienPonuk  PocetPredlzeni             Stat  MinKrokZnizPercenta  \\\n0              NaN              11  Česká republika                  0.0   \n1              NaN               0  Česká republika                  0.1   \n2              NaN               0  Česká republika                  0.1   \n3              NaN               0  Česká republika                  0.1   \n4              NaN              86  Česká republika                  0.0   \n\n  PocKolERMMA PocKolZadavac PocKolNIPPON PocKolHOLLAND UsporaPorov  \\\n0     unknown       unknown      unknown       unknown     unknown   \n1     unknown       unknown      unknown       unknown     unknown   \n2     unknown       unknown      unknown       unknown     unknown   \n3     unknown       unknown      unknown       unknown     unknown   \n4     unknown       unknown      unknown       unknown     unknown   \n\n  UsporaVstup UsporaAukc KoefVarPonukCelk KoefVarPonukERMNIP  \n0     unknown    unknown          unknown            unknown  \n1     unknown    unknown          unknown            unknown  \n2     unknown    unknown          unknown            unknown  \n3     unknown    unknown          unknown            unknown  \n4     unknown    unknown          unknown            unknown  ",
      "text/html": "<div>\n<style scoped>\n    .dataframe tbody tr th:only-of-type {\n        vertical-align: middle;\n    }\n\n    .dataframe tbody tr th {\n        vertical-align: top;\n    }\n\n    .dataframe thead th {\n        text-align: right;\n    }\n</style>\n<table border=\"1\" class=\"dataframe\">\n  <thead>\n    <tr style=\"text-align: right;\">\n      <th></th>\n      <th>UniqueID</th>\n      <th>Org</th>\n      <th>AucID</th>\n      <th>AucZac</th>\n      <th>AucKon</th>\n      <th>AucNazov1</th>\n      <th>AucVal</th>\n      <th>Porovnávacia cena</th>\n      <th>VitaznaPonuka</th>\n      <th>Mena</th>\n      <th>PocetPozvanok</th>\n      <th>PocetPrihlasenychUcast</th>\n      <th>PocetAktivnychUcast</th>\n      <th>Vitaz</th>\n      <th>AucTypUpresnenie</th>\n      <th>Kateg</th>\n      <th>Subkateg</th>\n      <th>PocetItems</th>\n      <th>PocetZmienPonuk</th>\n      <th>PocetPredlzeni</th>\n      <th>Stat</th>\n      <th>MinKrokZnizPercenta</th>\n      <th>PocKolERMMA</th>\n      <th>PocKolZadavac</th>\n      <th>PocKolNIPPON</th>\n      <th>PocKolHOLLAND</th>\n      <th>UsporaPorov</th>\n      <th>UsporaVstup</th>\n      <th>UsporaAukc</th>\n      <th>KoefVarPonukCelk</th>\n      <th>KoefVarPonukERMNIP</th>\n    </tr>\n  </thead>\n  <tbody>\n    <tr>\n      <th>0</th>\n      <td>100-45-1364</td>\n      <td>45</td>\n      <td>1364</td>\n      <td>2017-10-13 13:30:00</td>\n      <td>2017-10-23 13:33:00</td>\n      <td>Ocelové pásky v</td>\n      <td>Jednotlivé položky</td>\n      <td>24167.04</td>\n      <td>24864.0000</td>\n      <td>EUR</td>\n      <td>10</td>\n      <td>NaN</td>\n      <td>NaN</td>\n      <td>2978</td>\n      <td>ERMMA</td>\n      <td>Hutní materiál, kovy a slitiny</td>\n      <td>Plechy</td>\n      <td>8</td>\n      <td>NaN</td>\n      <td>11</td>\n      <td>Česká republika</td>\n      <td>0.0</td>\n      <td>unknown</td>\n      <td>unknown</td>\n      <td>unknown</td>\n      <td>unknown</td>\n      <td>unknown</td>\n      <td>unknown</td>\n      <td>unknown</td>\n      <td>unknown</td>\n      <td>unknown</td>\n    </tr>\n    <tr>\n      <th>1</th>\n      <td>100-45-1365</td>\n      <td>45</td>\n      <td>1365</td>\n      <td>2017-10-06 12:00:00</td>\n      <td>2017-10-27 12:00:00</td>\n      <td>Cenová poptávka</td>\n      <td>Multikriteriální hodnocení</td>\n      <td>0.00</td>\n      <td>116400.0000</td>\n      <td>CZK</td>\n      <td>10</td>\n      <td>NaN</td>\n      <td>NaN</td>\n      <td>3543</td>\n      <td>poptavka</td>\n      <td>Stroje, zařízení, nástroje, nářadí</td>\n      <td>Náhradní díly</td>\n      <td>2</td>\n      <td>NaN</td>\n      <td>0</td>\n      <td>Česká republika</td>\n      <td>0.1</td>\n      <td>unknown</td>\n      <td>unknown</td>\n      <td>unknown</td>\n      <td>unknown</td>\n      <td>unknown</td>\n      <td>unknown</td>\n      <td>unknown</td>\n      <td>unknown</td>\n      <td>unknown</td>\n    </tr>\n    <tr>\n      <th>2</th>\n      <td>100-45-1369</td>\n      <td>45</td>\n      <td>1369</td>\n      <td>2017-10-12 08:30:00</td>\n      <td>2017-10-27 08:30:00</td>\n      <td>Cenová poptávka</td>\n      <td>Multikriteriální hodnocení</td>\n      <td>0.00</td>\n      <td>13167.0000</td>\n      <td>CZK</td>\n      <td>12</td>\n      <td>NaN</td>\n      <td>NaN</td>\n      <td>3543</td>\n      <td>poptavka</td>\n      <td>Stroje, zařízení, nástroje, nářadí</td>\n      <td>Náhradní díly</td>\n      <td>4</td>\n      <td>NaN</td>\n      <td>0</td>\n      <td>Česká republika</td>\n      <td>0.1</td>\n      <td>unknown</td>\n      <td>unknown</td>\n      <td>unknown</td>\n      <td>unknown</td>\n      <td>unknown</td>\n      <td>unknown</td>\n      <td>unknown</td>\n      <td>unknown</td>\n      <td>unknown</td>\n    </tr>\n    <tr>\n      <th>3</th>\n      <td>100-45-1378</td>\n      <td>45</td>\n      <td>1378</td>\n      <td>2017-10-17 12:30:00</td>\n      <td>2017-10-31 11:30:00</td>\n      <td>Cenová poptávka</td>\n      <td>Multikriteriální hodnocení</td>\n      <td>0.00</td>\n      <td>52062.4000</td>\n      <td>CZK</td>\n      <td>9</td>\n      <td>NaN</td>\n      <td>NaN</td>\n      <td>5763</td>\n      <td>poptavka</td>\n      <td>Stroje, zařízení, nástroje, nářadí</td>\n      <td>Náhradní díly</td>\n      <td>4</td>\n      <td>NaN</td>\n      <td>0</td>\n      <td>Česká republika</td>\n      <td>0.1</td>\n      <td>unknown</td>\n      <td>unknown</td>\n      <td>unknown</td>\n      <td>unknown</td>\n      <td>unknown</td>\n      <td>unknown</td>\n      <td>unknown</td>\n      <td>unknown</td>\n      <td>unknown</td>\n    </tr>\n    <tr>\n      <th>4</th>\n      <td>100-45-1379</td>\n      <td>45</td>\n      <td>1379</td>\n      <td>2017-10-23 10:00:00</td>\n      <td>2017-10-31 09:40:00</td>\n      <td>Doprava 2018 (S</td>\n      <td>Celková nabídka účastníka</td>\n      <td>0.00</td>\n      <td>262965.0771</td>\n      <td>EUR</td>\n      <td>24</td>\n      <td>NaN</td>\n      <td>NaN</td>\n      <td>3578</td>\n      <td>ERMMA</td>\n      <td>Dopravní služby, auto-moto a příslušenství</td>\n      <td>Silniční přeprava</td>\n      <td>65</td>\n      <td>NaN</td>\n      <td>86</td>\n      <td>Česká republika</td>\n      <td>0.0</td>\n      <td>unknown</td>\n      <td>unknown</td>\n      <td>unknown</td>\n      <td>unknown</td>\n      <td>unknown</td>\n      <td>unknown</td>\n      <td>unknown</td>\n      <td>unknown</td>\n      <td>unknown</td>\n    </tr>\n  </tbody>\n</table>\n</div>"
     },
     "execution_count": 5,
     "metadata": {},
     "output_type": "execute_result"
    }
   ],
   "source": [
    "#zobrazenie dat\n",
    "print(len(hlavna))\n",
    "hlavna.head()\n",
    "# Assuming 'bidy' is the DataFrame you want to filter\n"
   ],
   "metadata": {
    "collapsed": false,
    "ExecuteTime": {
     "start_time": "2024-05-02T11:39:01.817213Z",
     "end_time": "2024-05-02T11:39:01.872943Z"
    }
   }
  },
  {
   "cell_type": "code",
   "execution_count": 60,
   "outputs": [],
   "source": [
    "# Write 'hlavna' DataFrame to a CSV file\n",
    "hlavna.to_csv('hlavna_doplnena.csv', index=False)"
   ],
   "metadata": {
    "collapsed": false,
    "ExecuteTime": {
     "start_time": "2024-04-11T14:11:35.353659Z",
     "end_time": "2024-04-11T14:11:35.652730Z"
    }
   }
  },
  {
   "cell_type": "code",
   "execution_count": 6,
   "outputs": [
    {
     "name": "stdout",
     "output_type": "stream",
     "text": [
      "False\n"
     ]
    }
   ],
   "source": [
    "# Check for duplicates in 'AucID' column of 'hlavna' DataFrame\n",
    "duplicates = hlavna['UniqueID'].duplicated().any()\n",
    "\n",
    "# Print the result\n",
    "print(duplicates)"
   ],
   "metadata": {
    "collapsed": false,
    "ExecuteTime": {
     "start_time": "2024-05-02T11:39:19.286264Z",
     "end_time": "2024-05-02T11:39:19.295443Z"
    }
   }
  },
  {
   "cell_type": "code",
   "execution_count": 7,
   "outputs": [
    {
     "data": {
      "text/plain": "          UniqueID  Org  AucID              AucZac               AucKon  \\\n0      100-45-1364   45   1364 2017-10-13 13:30:00  2017-10-23 13:33:00   \n1      100-45-1365   45   1365 2017-10-06 12:00:00  2017-10-27 12:00:00   \n2      100-45-1369   45   1369 2017-10-12 08:30:00  2017-10-27 08:30:00   \n3      100-45-1378   45   1378 2017-10-17 12:30:00  2017-10-31 11:30:00   \n4      100-45-1379   45   1379 2017-10-23 10:00:00  2017-10-31 09:40:00   \n...            ...  ...    ...                 ...                  ...   \n13212    91-17-423   17    423 2020-04-14 09:00:00  2020-05-06 12:43:00   \n13213    91-17-426   17    426 2020-04-15 09:00:00  2020-06-14 10:00:00   \n13214    91-17-429   17    429 2020-05-05 09:00:00  2020-05-14 12:15:00   \n13215    91-17-430   17    430 2020-07-13 09:00:00  2020-08-03 13:30:00   \n13216    91-17-431   17    431 2020-07-10 12:00:00  2020-07-23 12:00:00   \n\n             AucNazov1                      AucVal  Porovnávacia cena  \\\n0      Ocelové pásky v          Jednotlivé položky           24167.04   \n1      Cenová poptávka  Multikriteriální hodnocení               0.00   \n2      Cenová poptávka  Multikriteriální hodnocení               0.00   \n3      Cenová poptávka  Multikriteriální hodnocení               0.00   \n4      Doprava 2018 (S   Celková nabídka účastníka               0.00   \n...                ...                         ...                ...   \n13212  Realizace stavb   Celková nabídka účastníka               0.00   \n13213  Realizace stavb   Celková nabídka účastníka               0.00   \n13214  Oprava plynovod   Celková nabídka účastníka               0.00   \n13215  Realizace stavb   Celková nabídka účastníka               0.00   \n13216  Realizace stavb   Celková nabídka účastníka               0.00   \n\n       VitaznaPonuka Mena  PocetPozvanok  PocetPrihlasenychUcast  \\\n0       2.486400e+04  EUR             10                     NaN   \n1       1.164000e+05  CZK             10                     NaN   \n2       1.316700e+04  CZK             12                     NaN   \n3       5.206240e+04  CZK              9                     NaN   \n4       2.629651e+05  EUR             24                     NaN   \n...              ...  ...            ...                     ...   \n13212   3.148200e+05  CZK              5                     NaN   \n13213   1.353024e+06  CZK              9                     NaN   \n13214   8.918300e+04  CZK              1                     NaN   \n13215   1.101450e+06  CZK              2                     NaN   \n13216   1.430400e+05  CZK              4                     NaN   \n\n       PocetAktivnychUcast  Vitaz AucTypUpresnenie  \\\n0                      NaN   2978            ERMMA   \n1                      NaN   3543         poptavka   \n2                      NaN   3543         poptavka   \n3                      NaN   5763         poptavka   \n4                      NaN   3578            ERMMA   \n...                    ...    ...              ...   \n13212                  NaN   3867            ERMMA   \n13213                  NaN   3863       zapecetene   \n13214                  NaN   4508            ERMMA   \n13215                  NaN   4508       zapecetene   \n13216                  NaN   4508       zapecetene   \n\n                                            Kateg  \\\n0                  Hutní materiál, kovy a slitiny   \n1              Stroje, zařízení, nástroje, nářadí   \n2              Stroje, zařízení, nástroje, nářadí   \n3              Stroje, zařízení, nástroje, nářadí   \n4      Dopravní služby, auto-moto a příslušenství   \n...                                           ...   \n13212                                Stavebnictví   \n13213                                Stavebnictví   \n13214                                Stavebnictví   \n13215                                Stavebnictví   \n13216                                Stavebnictví   \n\n                                          Subkateg  PocetItems  \\\n0                                           Plechy           8   \n1                                    Náhradní díly           2   \n2                                    Náhradní díly           4   \n3                                    Náhradní díly           4   \n4                                Silniční přeprava          65   \n...                                            ...         ...   \n13212  Stavební práce, rekonstrukce a revitalizace           1   \n13213  Stavební práce, rekonstrukce a revitalizace           1   \n13214  Stavební práce, rekonstrukce a revitalizace           1   \n13215          Stavební úpravy potrubí a plynovodů           1   \n13216          Stavební úpravy potrubí a plynovodů           1   \n\n       PocetZmienPonuk  PocetPredlzeni             Stat  MinKrokZnizPercenta  \\\n0                  NaN              11  Česká republika                  0.0   \n1                  NaN               0  Česká republika                  0.1   \n2                  NaN               0  Česká republika                  0.1   \n3                  NaN               0  Česká republika                  0.1   \n4                  NaN              86  Česká republika                  0.0   \n...                ...             ...              ...                  ...   \n13212              NaN              14  Česká republika                  0.1   \n13213              NaN               0              NaN                  0.1   \n13214              NaN               0  Česká republika                  0.1   \n13215              NaN               0              NaN                  0.1   \n13216              NaN               0              NaN                  0.1   \n\n      PocKolERMMA PocKolZadavac PocKolNIPPON PocKolHOLLAND UsporaPorov  \\\n0         unknown       unknown      unknown       unknown     unknown   \n1         unknown       unknown      unknown       unknown     unknown   \n2         unknown       unknown      unknown       unknown     unknown   \n3         unknown       unknown      unknown       unknown     unknown   \n4         unknown       unknown      unknown       unknown     unknown   \n...           ...           ...          ...           ...         ...   \n13212     unknown       unknown      unknown       unknown     unknown   \n13213     unknown       unknown      unknown       unknown     unknown   \n13214     unknown       unknown      unknown       unknown     unknown   \n13215     unknown       unknown      unknown       unknown     unknown   \n13216     unknown       unknown      unknown       unknown     unknown   \n\n      UsporaVstup UsporaAukc KoefVarPonukCelk KoefVarPonukERMNIP  \n0         unknown    unknown          unknown            unknown  \n1         unknown    unknown          unknown            unknown  \n2         unknown    unknown          unknown            unknown  \n3         unknown    unknown          unknown            unknown  \n4         unknown    unknown          unknown            unknown  \n...           ...        ...              ...                ...  \n13212     unknown    unknown          unknown            unknown  \n13213     unknown    unknown          unknown            unknown  \n13214     unknown    unknown          unknown            unknown  \n13215     unknown    unknown          unknown            unknown  \n13216     unknown    unknown          unknown            unknown  \n\n[9795 rows x 31 columns]",
      "text/html": "<div>\n<style scoped>\n    .dataframe tbody tr th:only-of-type {\n        vertical-align: middle;\n    }\n\n    .dataframe tbody tr th {\n        vertical-align: top;\n    }\n\n    .dataframe thead th {\n        text-align: right;\n    }\n</style>\n<table border=\"1\" class=\"dataframe\">\n  <thead>\n    <tr style=\"text-align: right;\">\n      <th></th>\n      <th>UniqueID</th>\n      <th>Org</th>\n      <th>AucID</th>\n      <th>AucZac</th>\n      <th>AucKon</th>\n      <th>AucNazov1</th>\n      <th>AucVal</th>\n      <th>Porovnávacia cena</th>\n      <th>VitaznaPonuka</th>\n      <th>Mena</th>\n      <th>PocetPozvanok</th>\n      <th>PocetPrihlasenychUcast</th>\n      <th>PocetAktivnychUcast</th>\n      <th>Vitaz</th>\n      <th>AucTypUpresnenie</th>\n      <th>Kateg</th>\n      <th>Subkateg</th>\n      <th>PocetItems</th>\n      <th>PocetZmienPonuk</th>\n      <th>PocetPredlzeni</th>\n      <th>Stat</th>\n      <th>MinKrokZnizPercenta</th>\n      <th>PocKolERMMA</th>\n      <th>PocKolZadavac</th>\n      <th>PocKolNIPPON</th>\n      <th>PocKolHOLLAND</th>\n      <th>UsporaPorov</th>\n      <th>UsporaVstup</th>\n      <th>UsporaAukc</th>\n      <th>KoefVarPonukCelk</th>\n      <th>KoefVarPonukERMNIP</th>\n    </tr>\n  </thead>\n  <tbody>\n    <tr>\n      <th>0</th>\n      <td>100-45-1364</td>\n      <td>45</td>\n      <td>1364</td>\n      <td>2017-10-13 13:30:00</td>\n      <td>2017-10-23 13:33:00</td>\n      <td>Ocelové pásky v</td>\n      <td>Jednotlivé položky</td>\n      <td>24167.04</td>\n      <td>2.486400e+04</td>\n      <td>EUR</td>\n      <td>10</td>\n      <td>NaN</td>\n      <td>NaN</td>\n      <td>2978</td>\n      <td>ERMMA</td>\n      <td>Hutní materiál, kovy a slitiny</td>\n      <td>Plechy</td>\n      <td>8</td>\n      <td>NaN</td>\n      <td>11</td>\n      <td>Česká republika</td>\n      <td>0.0</td>\n      <td>unknown</td>\n      <td>unknown</td>\n      <td>unknown</td>\n      <td>unknown</td>\n      <td>unknown</td>\n      <td>unknown</td>\n      <td>unknown</td>\n      <td>unknown</td>\n      <td>unknown</td>\n    </tr>\n    <tr>\n      <th>1</th>\n      <td>100-45-1365</td>\n      <td>45</td>\n      <td>1365</td>\n      <td>2017-10-06 12:00:00</td>\n      <td>2017-10-27 12:00:00</td>\n      <td>Cenová poptávka</td>\n      <td>Multikriteriální hodnocení</td>\n      <td>0.00</td>\n      <td>1.164000e+05</td>\n      <td>CZK</td>\n      <td>10</td>\n      <td>NaN</td>\n      <td>NaN</td>\n      <td>3543</td>\n      <td>poptavka</td>\n      <td>Stroje, zařízení, nástroje, nářadí</td>\n      <td>Náhradní díly</td>\n      <td>2</td>\n      <td>NaN</td>\n      <td>0</td>\n      <td>Česká republika</td>\n      <td>0.1</td>\n      <td>unknown</td>\n      <td>unknown</td>\n      <td>unknown</td>\n      <td>unknown</td>\n      <td>unknown</td>\n      <td>unknown</td>\n      <td>unknown</td>\n      <td>unknown</td>\n      <td>unknown</td>\n    </tr>\n    <tr>\n      <th>2</th>\n      <td>100-45-1369</td>\n      <td>45</td>\n      <td>1369</td>\n      <td>2017-10-12 08:30:00</td>\n      <td>2017-10-27 08:30:00</td>\n      <td>Cenová poptávka</td>\n      <td>Multikriteriální hodnocení</td>\n      <td>0.00</td>\n      <td>1.316700e+04</td>\n      <td>CZK</td>\n      <td>12</td>\n      <td>NaN</td>\n      <td>NaN</td>\n      <td>3543</td>\n      <td>poptavka</td>\n      <td>Stroje, zařízení, nástroje, nářadí</td>\n      <td>Náhradní díly</td>\n      <td>4</td>\n      <td>NaN</td>\n      <td>0</td>\n      <td>Česká republika</td>\n      <td>0.1</td>\n      <td>unknown</td>\n      <td>unknown</td>\n      <td>unknown</td>\n      <td>unknown</td>\n      <td>unknown</td>\n      <td>unknown</td>\n      <td>unknown</td>\n      <td>unknown</td>\n      <td>unknown</td>\n    </tr>\n    <tr>\n      <th>3</th>\n      <td>100-45-1378</td>\n      <td>45</td>\n      <td>1378</td>\n      <td>2017-10-17 12:30:00</td>\n      <td>2017-10-31 11:30:00</td>\n      <td>Cenová poptávka</td>\n      <td>Multikriteriální hodnocení</td>\n      <td>0.00</td>\n      <td>5.206240e+04</td>\n      <td>CZK</td>\n      <td>9</td>\n      <td>NaN</td>\n      <td>NaN</td>\n      <td>5763</td>\n      <td>poptavka</td>\n      <td>Stroje, zařízení, nástroje, nářadí</td>\n      <td>Náhradní díly</td>\n      <td>4</td>\n      <td>NaN</td>\n      <td>0</td>\n      <td>Česká republika</td>\n      <td>0.1</td>\n      <td>unknown</td>\n      <td>unknown</td>\n      <td>unknown</td>\n      <td>unknown</td>\n      <td>unknown</td>\n      <td>unknown</td>\n      <td>unknown</td>\n      <td>unknown</td>\n      <td>unknown</td>\n    </tr>\n    <tr>\n      <th>4</th>\n      <td>100-45-1379</td>\n      <td>45</td>\n      <td>1379</td>\n      <td>2017-10-23 10:00:00</td>\n      <td>2017-10-31 09:40:00</td>\n      <td>Doprava 2018 (S</td>\n      <td>Celková nabídka účastníka</td>\n      <td>0.00</td>\n      <td>2.629651e+05</td>\n      <td>EUR</td>\n      <td>24</td>\n      <td>NaN</td>\n      <td>NaN</td>\n      <td>3578</td>\n      <td>ERMMA</td>\n      <td>Dopravní služby, auto-moto a příslušenství</td>\n      <td>Silniční přeprava</td>\n      <td>65</td>\n      <td>NaN</td>\n      <td>86</td>\n      <td>Česká republika</td>\n      <td>0.0</td>\n      <td>unknown</td>\n      <td>unknown</td>\n      <td>unknown</td>\n      <td>unknown</td>\n      <td>unknown</td>\n      <td>unknown</td>\n      <td>unknown</td>\n      <td>unknown</td>\n      <td>unknown</td>\n    </tr>\n    <tr>\n      <th>...</th>\n      <td>...</td>\n      <td>...</td>\n      <td>...</td>\n      <td>...</td>\n      <td>...</td>\n      <td>...</td>\n      <td>...</td>\n      <td>...</td>\n      <td>...</td>\n      <td>...</td>\n      <td>...</td>\n      <td>...</td>\n      <td>...</td>\n      <td>...</td>\n      <td>...</td>\n      <td>...</td>\n      <td>...</td>\n      <td>...</td>\n      <td>...</td>\n      <td>...</td>\n      <td>...</td>\n      <td>...</td>\n      <td>...</td>\n      <td>...</td>\n      <td>...</td>\n      <td>...</td>\n      <td>...</td>\n      <td>...</td>\n      <td>...</td>\n      <td>...</td>\n      <td>...</td>\n    </tr>\n    <tr>\n      <th>13212</th>\n      <td>91-17-423</td>\n      <td>17</td>\n      <td>423</td>\n      <td>2020-04-14 09:00:00</td>\n      <td>2020-05-06 12:43:00</td>\n      <td>Realizace stavb</td>\n      <td>Celková nabídka účastníka</td>\n      <td>0.00</td>\n      <td>3.148200e+05</td>\n      <td>CZK</td>\n      <td>5</td>\n      <td>NaN</td>\n      <td>NaN</td>\n      <td>3867</td>\n      <td>ERMMA</td>\n      <td>Stavebnictví</td>\n      <td>Stavební práce, rekonstrukce a revitalizace</td>\n      <td>1</td>\n      <td>NaN</td>\n      <td>14</td>\n      <td>Česká republika</td>\n      <td>0.1</td>\n      <td>unknown</td>\n      <td>unknown</td>\n      <td>unknown</td>\n      <td>unknown</td>\n      <td>unknown</td>\n      <td>unknown</td>\n      <td>unknown</td>\n      <td>unknown</td>\n      <td>unknown</td>\n    </tr>\n    <tr>\n      <th>13213</th>\n      <td>91-17-426</td>\n      <td>17</td>\n      <td>426</td>\n      <td>2020-04-15 09:00:00</td>\n      <td>2020-06-14 10:00:00</td>\n      <td>Realizace stavb</td>\n      <td>Celková nabídka účastníka</td>\n      <td>0.00</td>\n      <td>1.353024e+06</td>\n      <td>CZK</td>\n      <td>9</td>\n      <td>NaN</td>\n      <td>NaN</td>\n      <td>3863</td>\n      <td>zapecetene</td>\n      <td>Stavebnictví</td>\n      <td>Stavební práce, rekonstrukce a revitalizace</td>\n      <td>1</td>\n      <td>NaN</td>\n      <td>0</td>\n      <td>NaN</td>\n      <td>0.1</td>\n      <td>unknown</td>\n      <td>unknown</td>\n      <td>unknown</td>\n      <td>unknown</td>\n      <td>unknown</td>\n      <td>unknown</td>\n      <td>unknown</td>\n      <td>unknown</td>\n      <td>unknown</td>\n    </tr>\n    <tr>\n      <th>13214</th>\n      <td>91-17-429</td>\n      <td>17</td>\n      <td>429</td>\n      <td>2020-05-05 09:00:00</td>\n      <td>2020-05-14 12:15:00</td>\n      <td>Oprava plynovod</td>\n      <td>Celková nabídka účastníka</td>\n      <td>0.00</td>\n      <td>8.918300e+04</td>\n      <td>CZK</td>\n      <td>1</td>\n      <td>NaN</td>\n      <td>NaN</td>\n      <td>4508</td>\n      <td>ERMMA</td>\n      <td>Stavebnictví</td>\n      <td>Stavební práce, rekonstrukce a revitalizace</td>\n      <td>1</td>\n      <td>NaN</td>\n      <td>0</td>\n      <td>Česká republika</td>\n      <td>0.1</td>\n      <td>unknown</td>\n      <td>unknown</td>\n      <td>unknown</td>\n      <td>unknown</td>\n      <td>unknown</td>\n      <td>unknown</td>\n      <td>unknown</td>\n      <td>unknown</td>\n      <td>unknown</td>\n    </tr>\n    <tr>\n      <th>13215</th>\n      <td>91-17-430</td>\n      <td>17</td>\n      <td>430</td>\n      <td>2020-07-13 09:00:00</td>\n      <td>2020-08-03 13:30:00</td>\n      <td>Realizace stavb</td>\n      <td>Celková nabídka účastníka</td>\n      <td>0.00</td>\n      <td>1.101450e+06</td>\n      <td>CZK</td>\n      <td>2</td>\n      <td>NaN</td>\n      <td>NaN</td>\n      <td>4508</td>\n      <td>zapecetene</td>\n      <td>Stavebnictví</td>\n      <td>Stavební úpravy potrubí a plynovodů</td>\n      <td>1</td>\n      <td>NaN</td>\n      <td>0</td>\n      <td>NaN</td>\n      <td>0.1</td>\n      <td>unknown</td>\n      <td>unknown</td>\n      <td>unknown</td>\n      <td>unknown</td>\n      <td>unknown</td>\n      <td>unknown</td>\n      <td>unknown</td>\n      <td>unknown</td>\n      <td>unknown</td>\n    </tr>\n    <tr>\n      <th>13216</th>\n      <td>91-17-431</td>\n      <td>17</td>\n      <td>431</td>\n      <td>2020-07-10 12:00:00</td>\n      <td>2020-07-23 12:00:00</td>\n      <td>Realizace stavb</td>\n      <td>Celková nabídka účastníka</td>\n      <td>0.00</td>\n      <td>1.430400e+05</td>\n      <td>CZK</td>\n      <td>4</td>\n      <td>NaN</td>\n      <td>NaN</td>\n      <td>4508</td>\n      <td>zapecetene</td>\n      <td>Stavebnictví</td>\n      <td>Stavební úpravy potrubí a plynovodů</td>\n      <td>1</td>\n      <td>NaN</td>\n      <td>0</td>\n      <td>NaN</td>\n      <td>0.1</td>\n      <td>unknown</td>\n      <td>unknown</td>\n      <td>unknown</td>\n      <td>unknown</td>\n      <td>unknown</td>\n      <td>unknown</td>\n      <td>unknown</td>\n      <td>unknown</td>\n      <td>unknown</td>\n    </tr>\n  </tbody>\n</table>\n<p>9795 rows × 31 columns</p>\n</div>"
     },
     "execution_count": 7,
     "metadata": {},
     "output_type": "execute_result"
    }
   ],
   "source": [
    "# Select only the duplicated rows in 'AucID' column of 'hlavna' DataFrame\n",
    "duplicated_rows = hlavna[hlavna['AucID'].duplicated(keep=False)]\n",
    "\n",
    "# Print the duplicated rows\n",
    "duplicated_rows\n",
    "#TU JE PROBLEM ! - NERIESIT FOCUSOVAT SA NA UniqueID"
   ],
   "metadata": {
    "collapsed": false,
    "ExecuteTime": {
     "start_time": "2024-05-02T11:39:34.231992Z",
     "end_time": "2024-05-02T11:39:34.305660Z"
    }
   }
  },
  {
   "cell_type": "code",
   "execution_count": 8,
   "outputs": [
    {
     "data": {
      "text/plain": "          UniqueID  Org  AucID              AucZac               AucKon  \\\n0      100-45-1364   45   1364 2017-10-13 13:30:00  2017-10-23 13:33:00   \n4193   1459-1-1364    1   1364 2020-01-24 09:00:00  2020-03-24 11:00:00   \n4442  1465-19-1364   19   1364 2019-02-13 13:25:00  2019-02-13 14:15:00   \n5137  1474-19-1364   19   1364 2019-02-13 13:25:00  2019-02-13 14:15:00   \n\n            AucNazov1              AucVal  Porovnávacia cena  VitaznaPonuka  \\\n0     Ocelové pásky v  Jednotlivé položky           24167.04       24864.00   \n4193  GO elektro NP a  Jednotlivé položky               0.00      222911.82   \n4442  1784 Sofia       Jednotlivé položky               0.00         525.20   \n5137  1784 Sofia       Jednotlivé položky               0.00         530.40   \n\n     Mena  PocetPozvanok  PocetPrihlasenychUcast  PocetAktivnychUcast  Vitaz  \\\n0     EUR             10                     NaN                  NaN   2978   \n4193  CZK              8                     NaN                  NaN   3941   \n4442  EUR             24                     NaN                  NaN   1713   \n5137  EUR             23                     NaN                  NaN   1713   \n\n     AucTypUpresnenie                                       Kateg  \\\n0               ERMMA              Hutní materiál, kovy a slitiny   \n4193         poptavka                                Stavebnictví   \n4442            ERMMA  Dopravní služby, auto-moto a příslušenství   \n5137            ERMMA  Dopravní služby, auto-moto a příslušenství   \n\n                                         Subkateg  PocetItems  \\\n0                                          Plechy           8   \n4193  Stavební práce, rekonstrukce a revitalizace           1   \n4442                            Silniční přeprava           1   \n5137                            Silniční přeprava           1   \n\n      PocetZmienPonuk  PocetPredlzeni             Stat  MinKrokZnizPercenta  \\\n0                 NaN              11  Česká republika                  0.0   \n4193              NaN               0              NaN                  0.1   \n4442              NaN               0              NaN                  0.0   \n5137              NaN               0              NaN                  0.0   \n\n     PocKolERMMA PocKolZadavac PocKolNIPPON PocKolHOLLAND UsporaPorov  \\\n0        unknown       unknown      unknown       unknown     unknown   \n4193     unknown       unknown      unknown       unknown     unknown   \n4442     unknown       unknown      unknown       unknown     unknown   \n5137     unknown       unknown      unknown       unknown     unknown   \n\n     UsporaVstup UsporaAukc KoefVarPonukCelk KoefVarPonukERMNIP  \n0        unknown    unknown          unknown            unknown  \n4193     unknown    unknown          unknown            unknown  \n4442     unknown    unknown          unknown            unknown  \n5137     unknown    unknown          unknown            unknown  ",
      "text/html": "<div>\n<style scoped>\n    .dataframe tbody tr th:only-of-type {\n        vertical-align: middle;\n    }\n\n    .dataframe tbody tr th {\n        vertical-align: top;\n    }\n\n    .dataframe thead th {\n        text-align: right;\n    }\n</style>\n<table border=\"1\" class=\"dataframe\">\n  <thead>\n    <tr style=\"text-align: right;\">\n      <th></th>\n      <th>UniqueID</th>\n      <th>Org</th>\n      <th>AucID</th>\n      <th>AucZac</th>\n      <th>AucKon</th>\n      <th>AucNazov1</th>\n      <th>AucVal</th>\n      <th>Porovnávacia cena</th>\n      <th>VitaznaPonuka</th>\n      <th>Mena</th>\n      <th>PocetPozvanok</th>\n      <th>PocetPrihlasenychUcast</th>\n      <th>PocetAktivnychUcast</th>\n      <th>Vitaz</th>\n      <th>AucTypUpresnenie</th>\n      <th>Kateg</th>\n      <th>Subkateg</th>\n      <th>PocetItems</th>\n      <th>PocetZmienPonuk</th>\n      <th>PocetPredlzeni</th>\n      <th>Stat</th>\n      <th>MinKrokZnizPercenta</th>\n      <th>PocKolERMMA</th>\n      <th>PocKolZadavac</th>\n      <th>PocKolNIPPON</th>\n      <th>PocKolHOLLAND</th>\n      <th>UsporaPorov</th>\n      <th>UsporaVstup</th>\n      <th>UsporaAukc</th>\n      <th>KoefVarPonukCelk</th>\n      <th>KoefVarPonukERMNIP</th>\n    </tr>\n  </thead>\n  <tbody>\n    <tr>\n      <th>0</th>\n      <td>100-45-1364</td>\n      <td>45</td>\n      <td>1364</td>\n      <td>2017-10-13 13:30:00</td>\n      <td>2017-10-23 13:33:00</td>\n      <td>Ocelové pásky v</td>\n      <td>Jednotlivé položky</td>\n      <td>24167.04</td>\n      <td>24864.00</td>\n      <td>EUR</td>\n      <td>10</td>\n      <td>NaN</td>\n      <td>NaN</td>\n      <td>2978</td>\n      <td>ERMMA</td>\n      <td>Hutní materiál, kovy a slitiny</td>\n      <td>Plechy</td>\n      <td>8</td>\n      <td>NaN</td>\n      <td>11</td>\n      <td>Česká republika</td>\n      <td>0.0</td>\n      <td>unknown</td>\n      <td>unknown</td>\n      <td>unknown</td>\n      <td>unknown</td>\n      <td>unknown</td>\n      <td>unknown</td>\n      <td>unknown</td>\n      <td>unknown</td>\n      <td>unknown</td>\n    </tr>\n    <tr>\n      <th>4193</th>\n      <td>1459-1-1364</td>\n      <td>1</td>\n      <td>1364</td>\n      <td>2020-01-24 09:00:00</td>\n      <td>2020-03-24 11:00:00</td>\n      <td>GO elektro NP a</td>\n      <td>Jednotlivé položky</td>\n      <td>0.00</td>\n      <td>222911.82</td>\n      <td>CZK</td>\n      <td>8</td>\n      <td>NaN</td>\n      <td>NaN</td>\n      <td>3941</td>\n      <td>poptavka</td>\n      <td>Stavebnictví</td>\n      <td>Stavební práce, rekonstrukce a revitalizace</td>\n      <td>1</td>\n      <td>NaN</td>\n      <td>0</td>\n      <td>NaN</td>\n      <td>0.1</td>\n      <td>unknown</td>\n      <td>unknown</td>\n      <td>unknown</td>\n      <td>unknown</td>\n      <td>unknown</td>\n      <td>unknown</td>\n      <td>unknown</td>\n      <td>unknown</td>\n      <td>unknown</td>\n    </tr>\n    <tr>\n      <th>4442</th>\n      <td>1465-19-1364</td>\n      <td>19</td>\n      <td>1364</td>\n      <td>2019-02-13 13:25:00</td>\n      <td>2019-02-13 14:15:00</td>\n      <td>1784 Sofia</td>\n      <td>Jednotlivé položky</td>\n      <td>0.00</td>\n      <td>525.20</td>\n      <td>EUR</td>\n      <td>24</td>\n      <td>NaN</td>\n      <td>NaN</td>\n      <td>1713</td>\n      <td>ERMMA</td>\n      <td>Dopravní služby, auto-moto a příslušenství</td>\n      <td>Silniční přeprava</td>\n      <td>1</td>\n      <td>NaN</td>\n      <td>0</td>\n      <td>NaN</td>\n      <td>0.0</td>\n      <td>unknown</td>\n      <td>unknown</td>\n      <td>unknown</td>\n      <td>unknown</td>\n      <td>unknown</td>\n      <td>unknown</td>\n      <td>unknown</td>\n      <td>unknown</td>\n      <td>unknown</td>\n    </tr>\n    <tr>\n      <th>5137</th>\n      <td>1474-19-1364</td>\n      <td>19</td>\n      <td>1364</td>\n      <td>2019-02-13 13:25:00</td>\n      <td>2019-02-13 14:15:00</td>\n      <td>1784 Sofia</td>\n      <td>Jednotlivé položky</td>\n      <td>0.00</td>\n      <td>530.40</td>\n      <td>EUR</td>\n      <td>23</td>\n      <td>NaN</td>\n      <td>NaN</td>\n      <td>1713</td>\n      <td>ERMMA</td>\n      <td>Dopravní služby, auto-moto a příslušenství</td>\n      <td>Silniční přeprava</td>\n      <td>1</td>\n      <td>NaN</td>\n      <td>0</td>\n      <td>NaN</td>\n      <td>0.0</td>\n      <td>unknown</td>\n      <td>unknown</td>\n      <td>unknown</td>\n      <td>unknown</td>\n      <td>unknown</td>\n      <td>unknown</td>\n      <td>unknown</td>\n      <td>unknown</td>\n      <td>unknown</td>\n    </tr>\n  </tbody>\n</table>\n</div>"
     },
     "execution_count": 8,
     "metadata": {},
     "output_type": "execute_result"
    }
   ],
   "source": [
    "filtered_hlavna = hlavna[hlavna['AucID'] == 1364]\n",
    "filtered_hlavna"
   ],
   "metadata": {
    "collapsed": false,
    "ExecuteTime": {
     "start_time": "2024-05-02T11:39:54.195701Z",
     "end_time": "2024-05-02T11:39:54.222535Z"
    }
   }
  },
  {
   "cell_type": "code",
   "execution_count": 45,
   "outputs": [
    {
     "data": {
      "text/plain": "      UniqueID  Org  AucID              AucZac               AucKon  \\\n0  100-45-1364   45   1364 2017-10-13 13:30:00  2017-10-23 13:33:00   \n\n         AucNazov1              AucVal  Porovnávacia cena  VitaznaPonuka Mena  \\\n0  Ocelové pásky v  Jednotlivé položky           24167.04        24864.0  EUR   \n\n   PocetPozvanok  PocetPrihlasenychUcast  PocetAktivnychUcast  Vitaz  \\\n0             10                     NaN                  6.0   2978   \n\n  AucTypUpresnenie                           Kateg Subkateg  PocetItems  \\\n0            ERMMA  Hutní materiál, kovy a slitiny   Plechy           8   \n\n   PocetZmienPonuk  PocetPredlzeni             Stat  MinKrokZnizPercenta  \\\n0             92.0              11  Česká republika                  0.0   \n\n  PocKolERMMA PocKolZadavac PocKolNIPPON PocKolHOLLAND UsporaPorov  \\\n0     unknown       unknown      unknown       unknown     unknown   \n\n  UsporaVstup UsporaAukc KoefVarPonukCelk KoefVarPonukERMNIP  \n0     unknown    unknown          unknown            unknown  ",
      "text/html": "<div>\n<style scoped>\n    .dataframe tbody tr th:only-of-type {\n        vertical-align: middle;\n    }\n\n    .dataframe tbody tr th {\n        vertical-align: top;\n    }\n\n    .dataframe thead th {\n        text-align: right;\n    }\n</style>\n<table border=\"1\" class=\"dataframe\">\n  <thead>\n    <tr style=\"text-align: right;\">\n      <th></th>\n      <th>UniqueID</th>\n      <th>Org</th>\n      <th>AucID</th>\n      <th>AucZac</th>\n      <th>AucKon</th>\n      <th>AucNazov1</th>\n      <th>AucVal</th>\n      <th>Porovnávacia cena</th>\n      <th>VitaznaPonuka</th>\n      <th>Mena</th>\n      <th>PocetPozvanok</th>\n      <th>PocetPrihlasenychUcast</th>\n      <th>PocetAktivnychUcast</th>\n      <th>Vitaz</th>\n      <th>AucTypUpresnenie</th>\n      <th>Kateg</th>\n      <th>Subkateg</th>\n      <th>PocetItems</th>\n      <th>PocetZmienPonuk</th>\n      <th>PocetPredlzeni</th>\n      <th>Stat</th>\n      <th>MinKrokZnizPercenta</th>\n      <th>PocKolERMMA</th>\n      <th>PocKolZadavac</th>\n      <th>PocKolNIPPON</th>\n      <th>PocKolHOLLAND</th>\n      <th>UsporaPorov</th>\n      <th>UsporaVstup</th>\n      <th>UsporaAukc</th>\n      <th>KoefVarPonukCelk</th>\n      <th>KoefVarPonukERMNIP</th>\n    </tr>\n  </thead>\n  <tbody>\n    <tr>\n      <th>0</th>\n      <td>100-45-1364</td>\n      <td>45</td>\n      <td>1364</td>\n      <td>2017-10-13 13:30:00</td>\n      <td>2017-10-23 13:33:00</td>\n      <td>Ocelové pásky v</td>\n      <td>Jednotlivé položky</td>\n      <td>24167.04</td>\n      <td>24864.0</td>\n      <td>EUR</td>\n      <td>10</td>\n      <td>NaN</td>\n      <td>6.0</td>\n      <td>2978</td>\n      <td>ERMMA</td>\n      <td>Hutní materiál, kovy a slitiny</td>\n      <td>Plechy</td>\n      <td>8</td>\n      <td>92.0</td>\n      <td>11</td>\n      <td>Česká republika</td>\n      <td>0.0</td>\n      <td>unknown</td>\n      <td>unknown</td>\n      <td>unknown</td>\n      <td>unknown</td>\n      <td>unknown</td>\n      <td>unknown</td>\n      <td>unknown</td>\n      <td>unknown</td>\n      <td>unknown</td>\n    </tr>\n  </tbody>\n</table>\n</div>"
     },
     "execution_count": 45,
     "metadata": {},
     "output_type": "execute_result"
    }
   ],
   "source": [
    "filtered_hlavna = hlavna[hlavna['UniqueID'] == \"100-45-1364\"]\n",
    "filtered_hlavna\n",
    "#POZNAMKY:\n",
    "#DOPOCITAT POCET AKTIVNYCH kokotvoooo\n",
    "#DOPOCITAT POCET BIDOV\n",
    "#mozeme hned povedat podla poctu pozvanok ktora polozka je najrizikovejsia\n",
    "#dopocitat agregovane ze kolko a ako casto nakupujem od dodavatela\n",
    "#postupne pre vsetky riadky dopocitat kolko predtym minul\n",
    "#groupby-lambda\n",
    "#zoradit v case"
   ],
   "metadata": {
    "collapsed": false,
    "ExecuteTime": {
     "start_time": "2024-05-03T22:04:34.585547Z",
     "end_time": "2024-05-03T22:04:34.615387Z"
    }
   }
  },
  {
   "cell_type": "code",
   "execution_count": 10,
   "outputs": [
    {
     "name": "stdout",
     "output_type": "stream",
     "text": [
      "False\n"
     ]
    }
   ],
   "source": [
    "# Check for null values in 'PocetPozvanok' column of 'hlavna' DataFrame\n",
    "has_nulls = hlavna['PocetPozvanok'].isnull().any()\n",
    "\n",
    "# Print the result\n",
    "print(has_nulls)"
   ],
   "metadata": {
    "collapsed": false,
    "ExecuteTime": {
     "start_time": "2024-05-02T11:40:20.451827Z",
     "end_time": "2024-05-02T11:40:20.463073Z"
    }
   }
  },
  {
   "cell_type": "code",
   "execution_count": 21,
   "outputs": [
    {
     "name": "stdout",
     "output_type": "stream",
     "text": [
      "Org\n",
      "1      2786\n",
      "2       262\n",
      "3       189\n",
      "4        31\n",
      "5       159\n",
      "       ... \n",
      "181       8\n",
      "192       3\n",
      "243       4\n",
      "276       1\n",
      "323       1\n",
      "Length: 117, dtype: int64\n"
     ]
    }
   ],
   "source": [
    "# Group by 'Org' column and get the size of each group\n",
    "org_counts = hlavna.groupby('Org').size()\n",
    "\n",
    "# Display the counts\n",
    "print(org_counts)"
   ],
   "metadata": {
    "collapsed": false,
    "ExecuteTime": {
     "start_time": "2024-04-11T11:05:09.256430Z",
     "end_time": "2024-04-11T11:05:09.262247Z"
    }
   }
  },
  {
   "cell_type": "code",
   "execution_count": 11,
   "outputs": [
    {
     "name": "stdout",
     "output_type": "stream",
     "text": [
      "48221\n"
     ]
    },
    {
     "data": {
      "text/plain": "      UniqueID  Org  AucID  IDkola            NazovKola  LubZmenaCien  \\\n0  100-45-1364   45   1364  2979.0         Vstupní kolo           1.0   \n1  100-45-1364   45   1364  2980.0          Aukční kolo           0.0   \n2  100-45-1365   45   1365  2981.0  Předkládání nabídek           1.0   \n3  100-45-1366   45   1366  2982.0  Předkládání nabídek           1.0   \n4  100-45-1368   45   1368  2986.0         Vstupní kolo           1.0   \n\n   LubZmenaVolPodmienok  MoznDorovnPonuku  MoznDorovnNajPonuku  PredlzitMin  \\\n0                   1.0               0.0                  1.0          0.0   \n1                   1.0               0.0                  0.0          2.0   \n2                   0.0               0.0                  1.0          0.0   \n3                   0.0               0.0                  1.0          0.0   \n4                   1.0               0.0                  1.0          0.0   \n\n   ...  ZobrazMnozstvo  ZobrazPocetPoloz  ZobrazPomocVypocet  \\\n0  ...             1.0               0.0                 1.0   \n1  ...             1.0               1.0                 0.0   \n2  ...             1.0               0.0                 0.0   \n3  ...             1.0               0.0                 1.0   \n4  ...             1.0               1.0                 1.0   \n\n   ZobrazPomocVypocetUcas  ZobrazPoradie  ZobrazPorDoX  ZobrazPoradiePoloziek  \\\n0                     0.0            0.0           0.0                    0.0   \n1                     0.0            0.0           0.0                    0.0   \n2                     0.0            0.0           0.0                    0.0   \n3                     1.0            0.0           0.0                    0.0   \n4                     1.0            0.0           0.0                    0.0   \n\n   ZobrazPorPomocVypoc  ZobrazPorPomocVypocDoX  ZobrazMinMaxCenu  \n0                  0.0                     0.0               0.0  \n1                  0.0                     0.0               0.0  \n2                  0.0                     0.0               1.0  \n3                  0.0                     0.0               0.0  \n4                  0.0                     0.0               1.0  \n\n[5 rows x 33 columns]",
      "text/html": "<div>\n<style scoped>\n    .dataframe tbody tr th:only-of-type {\n        vertical-align: middle;\n    }\n\n    .dataframe tbody tr th {\n        vertical-align: top;\n    }\n\n    .dataframe thead th {\n        text-align: right;\n    }\n</style>\n<table border=\"1\" class=\"dataframe\">\n  <thead>\n    <tr style=\"text-align: right;\">\n      <th></th>\n      <th>UniqueID</th>\n      <th>Org</th>\n      <th>AucID</th>\n      <th>IDkola</th>\n      <th>NazovKola</th>\n      <th>LubZmenaCien</th>\n      <th>LubZmenaVolPodmienok</th>\n      <th>MoznDorovnPonuku</th>\n      <th>MoznDorovnNajPonuku</th>\n      <th>PredlzitMin</th>\n      <th>...</th>\n      <th>ZobrazMnozstvo</th>\n      <th>ZobrazPocetPoloz</th>\n      <th>ZobrazPomocVypocet</th>\n      <th>ZobrazPomocVypocetUcas</th>\n      <th>ZobrazPoradie</th>\n      <th>ZobrazPorDoX</th>\n      <th>ZobrazPoradiePoloziek</th>\n      <th>ZobrazPorPomocVypoc</th>\n      <th>ZobrazPorPomocVypocDoX</th>\n      <th>ZobrazMinMaxCenu</th>\n    </tr>\n  </thead>\n  <tbody>\n    <tr>\n      <th>0</th>\n      <td>100-45-1364</td>\n      <td>45</td>\n      <td>1364</td>\n      <td>2979.0</td>\n      <td>Vstupní kolo</td>\n      <td>1.0</td>\n      <td>1.0</td>\n      <td>0.0</td>\n      <td>1.0</td>\n      <td>0.0</td>\n      <td>...</td>\n      <td>1.0</td>\n      <td>0.0</td>\n      <td>1.0</td>\n      <td>0.0</td>\n      <td>0.0</td>\n      <td>0.0</td>\n      <td>0.0</td>\n      <td>0.0</td>\n      <td>0.0</td>\n      <td>0.0</td>\n    </tr>\n    <tr>\n      <th>1</th>\n      <td>100-45-1364</td>\n      <td>45</td>\n      <td>1364</td>\n      <td>2980.0</td>\n      <td>Aukční kolo</td>\n      <td>0.0</td>\n      <td>1.0</td>\n      <td>0.0</td>\n      <td>0.0</td>\n      <td>2.0</td>\n      <td>...</td>\n      <td>1.0</td>\n      <td>1.0</td>\n      <td>0.0</td>\n      <td>0.0</td>\n      <td>0.0</td>\n      <td>0.0</td>\n      <td>0.0</td>\n      <td>0.0</td>\n      <td>0.0</td>\n      <td>0.0</td>\n    </tr>\n    <tr>\n      <th>2</th>\n      <td>100-45-1365</td>\n      <td>45</td>\n      <td>1365</td>\n      <td>2981.0</td>\n      <td>Předkládání nabídek</td>\n      <td>1.0</td>\n      <td>0.0</td>\n      <td>0.0</td>\n      <td>1.0</td>\n      <td>0.0</td>\n      <td>...</td>\n      <td>1.0</td>\n      <td>0.0</td>\n      <td>0.0</td>\n      <td>0.0</td>\n      <td>0.0</td>\n      <td>0.0</td>\n      <td>0.0</td>\n      <td>0.0</td>\n      <td>0.0</td>\n      <td>1.0</td>\n    </tr>\n    <tr>\n      <th>3</th>\n      <td>100-45-1366</td>\n      <td>45</td>\n      <td>1366</td>\n      <td>2982.0</td>\n      <td>Předkládání nabídek</td>\n      <td>1.0</td>\n      <td>0.0</td>\n      <td>0.0</td>\n      <td>1.0</td>\n      <td>0.0</td>\n      <td>...</td>\n      <td>1.0</td>\n      <td>0.0</td>\n      <td>1.0</td>\n      <td>1.0</td>\n      <td>0.0</td>\n      <td>0.0</td>\n      <td>0.0</td>\n      <td>0.0</td>\n      <td>0.0</td>\n      <td>0.0</td>\n    </tr>\n    <tr>\n      <th>4</th>\n      <td>100-45-1368</td>\n      <td>45</td>\n      <td>1368</td>\n      <td>2986.0</td>\n      <td>Vstupní kolo</td>\n      <td>1.0</td>\n      <td>1.0</td>\n      <td>0.0</td>\n      <td>1.0</td>\n      <td>0.0</td>\n      <td>...</td>\n      <td>1.0</td>\n      <td>1.0</td>\n      <td>1.0</td>\n      <td>1.0</td>\n      <td>0.0</td>\n      <td>0.0</td>\n      <td>0.0</td>\n      <td>0.0</td>\n      <td>0.0</td>\n      <td>1.0</td>\n    </tr>\n  </tbody>\n</table>\n<p>5 rows × 33 columns</p>\n</div>"
     },
     "execution_count": 11,
     "metadata": {},
     "output_type": "execute_result"
    }
   ],
   "source": [
    "print(len(nastavenia))\n",
    "nastavenia.head()\n"
   ],
   "metadata": {
    "collapsed": false,
    "ExecuteTime": {
     "start_time": "2024-04-10T13:03:41.481863Z",
     "end_time": "2024-04-10T13:03:41.495753Z"
    }
   }
  },
  {
   "cell_type": "code",
   "execution_count": 26,
   "outputs": [
    {
     "name": "stdout",
     "output_type": "stream",
     "text": [
      "         UniqueID  Org  AucID  IDkola            NazovKola  LubZmenaCien  \\\n",
      "10902  1460-4-142    4    142   275.0  Předkládání nabídek           1.0   \n",
      "\n",
      "       LubZmenaVolPodmienok  MoznDorovnPonuku  MoznDorovnNajPonuku  \\\n",
      "10902                   0.0               0.0                  1.0   \n",
      "\n",
      "       PredlzitMin  ...  ZobrazMnozstvo  ZobrazPocetPoloz  ZobrazPomocVypocet  \\\n",
      "10902          0.0  ...             1.0               0.0                 0.0   \n",
      "\n",
      "       ZobrazPomocVypocetUcas  ZobrazPoradie  ZobrazPorDoX  \\\n",
      "10902                     0.0            0.0           0.0   \n",
      "\n",
      "       ZobrazPoradiePoloziek  ZobrazPorPomocVypoc  ZobrazPorPomocVypocDoX  \\\n",
      "10902                    0.0                  0.0                     0.0   \n",
      "\n",
      "       ZobrazMinMaxCenu  \n",
      "10902               0.0  \n",
      "\n",
      "[1 rows x 33 columns]\n"
     ]
    }
   ],
   "source": [
    "filtered_nastavenia = nastavenia[nastavenia['UniqueID'] =='1460-4-142']\n",
    "print(filtered_nastavenia)"
   ],
   "metadata": {
    "collapsed": false,
    "ExecuteTime": {
     "start_time": "2024-04-11T11:12:18.833626Z",
     "end_time": "2024-04-11T11:12:18.853135Z"
    }
   }
  },
  {
   "cell_type": "code",
   "execution_count": 28,
   "outputs": [
    {
     "name": "stdout",
     "output_type": "stream",
     "text": [
      "26620\n"
     ]
    },
    {
     "data": {
      "text/plain": "      UniqueID  Org  AucID                AucEvaluated  HodnotaKriteria\n0  100-45-1364   45   1364          Jednotlivé položky              NaN\n1  100-45-1365   45   1365  Multikriteriální hodnocení             99.4\n2  100-45-1365   45   1365  Multikriteriální hodnocení              0.2\n3  100-45-1365   45   1365  Multikriteriální hodnocení              0.2\n4  100-45-1365   45   1365  Multikriteriální hodnocení              0.2",
      "text/html": "<div>\n<style scoped>\n    .dataframe tbody tr th:only-of-type {\n        vertical-align: middle;\n    }\n\n    .dataframe tbody tr th {\n        vertical-align: top;\n    }\n\n    .dataframe thead th {\n        text-align: right;\n    }\n</style>\n<table border=\"1\" class=\"dataframe\">\n  <thead>\n    <tr style=\"text-align: right;\">\n      <th></th>\n      <th>UniqueID</th>\n      <th>Org</th>\n      <th>AucID</th>\n      <th>AucEvaluated</th>\n      <th>HodnotaKriteria</th>\n    </tr>\n  </thead>\n  <tbody>\n    <tr>\n      <th>0</th>\n      <td>100-45-1364</td>\n      <td>45</td>\n      <td>1364</td>\n      <td>Jednotlivé položky</td>\n      <td>NaN</td>\n    </tr>\n    <tr>\n      <th>1</th>\n      <td>100-45-1365</td>\n      <td>45</td>\n      <td>1365</td>\n      <td>Multikriteriální hodnocení</td>\n      <td>99.4</td>\n    </tr>\n    <tr>\n      <th>2</th>\n      <td>100-45-1365</td>\n      <td>45</td>\n      <td>1365</td>\n      <td>Multikriteriální hodnocení</td>\n      <td>0.2</td>\n    </tr>\n    <tr>\n      <th>3</th>\n      <td>100-45-1365</td>\n      <td>45</td>\n      <td>1365</td>\n      <td>Multikriteriální hodnocení</td>\n      <td>0.2</td>\n    </tr>\n    <tr>\n      <th>4</th>\n      <td>100-45-1365</td>\n      <td>45</td>\n      <td>1365</td>\n      <td>Multikriteriální hodnocení</td>\n      <td>0.2</td>\n    </tr>\n  </tbody>\n</table>\n</div>"
     },
     "execution_count": 28,
     "metadata": {},
     "output_type": "execute_result"
    }
   ],
   "source": [
    "print(len(kriteria))\n",
    "kriteria.head()\n"
   ],
   "metadata": {
    "collapsed": false,
    "ExecuteTime": {
     "start_time": "2024-03-18T12:06:33.649672Z",
     "end_time": "2024-03-18T12:06:33.656018Z"
    }
   }
  },
  {
   "cell_type": "code",
   "execution_count": 11,
   "outputs": [
    {
     "name": "stdout",
     "output_type": "stream",
     "text": [
      "76557\n"
     ]
    },
    {
     "data": {
      "text/plain": "      UniqueID  Org  AucID     NazovKola  IDItem IDParticipant       Datum  \\\n0  100-45-1364   45   1364  Vstupní kolo   54038          2983  13.10.2017   \n1  100-45-1364   45   1364  Vstupní kolo   53969          2983  13.10.2017   \n2  100-45-1364   45   1364  Vstupní kolo   54177          2983  13.10.2017   \n3  100-45-1364   45   1364  Vstupní kolo   54037          2983  13.10.2017   \n4  100-45-1364   45   1364  Vstupní kolo   53979          2983  13.10.2017   \n\n   CasZmeny NovaHodnota Unnamed: 9  \n0  15:58:22         690        NaN  \n1  15:58:23         690        NaN  \n2  15:58:24         690        NaN  \n3  15:58:25         690        NaN  \n4  15:58:26         690        NaN  ",
      "text/html": "<div>\n<style scoped>\n    .dataframe tbody tr th:only-of-type {\n        vertical-align: middle;\n    }\n\n    .dataframe tbody tr th {\n        vertical-align: top;\n    }\n\n    .dataframe thead th {\n        text-align: right;\n    }\n</style>\n<table border=\"1\" class=\"dataframe\">\n  <thead>\n    <tr style=\"text-align: right;\">\n      <th></th>\n      <th>UniqueID</th>\n      <th>Org</th>\n      <th>AucID</th>\n      <th>NazovKola</th>\n      <th>IDItem</th>\n      <th>IDParticipant</th>\n      <th>Datum</th>\n      <th>CasZmeny</th>\n      <th>NovaHodnota</th>\n      <th>Unnamed: 9</th>\n    </tr>\n  </thead>\n  <tbody>\n    <tr>\n      <th>0</th>\n      <td>100-45-1364</td>\n      <td>45</td>\n      <td>1364</td>\n      <td>Vstupní kolo</td>\n      <td>54038</td>\n      <td>2983</td>\n      <td>13.10.2017</td>\n      <td>15:58:22</td>\n      <td>690</td>\n      <td>NaN</td>\n    </tr>\n    <tr>\n      <th>1</th>\n      <td>100-45-1364</td>\n      <td>45</td>\n      <td>1364</td>\n      <td>Vstupní kolo</td>\n      <td>53969</td>\n      <td>2983</td>\n      <td>13.10.2017</td>\n      <td>15:58:23</td>\n      <td>690</td>\n      <td>NaN</td>\n    </tr>\n    <tr>\n      <th>2</th>\n      <td>100-45-1364</td>\n      <td>45</td>\n      <td>1364</td>\n      <td>Vstupní kolo</td>\n      <td>54177</td>\n      <td>2983</td>\n      <td>13.10.2017</td>\n      <td>15:58:24</td>\n      <td>690</td>\n      <td>NaN</td>\n    </tr>\n    <tr>\n      <th>3</th>\n      <td>100-45-1364</td>\n      <td>45</td>\n      <td>1364</td>\n      <td>Vstupní kolo</td>\n      <td>54037</td>\n      <td>2983</td>\n      <td>13.10.2017</td>\n      <td>15:58:25</td>\n      <td>690</td>\n      <td>NaN</td>\n    </tr>\n    <tr>\n      <th>4</th>\n      <td>100-45-1364</td>\n      <td>45</td>\n      <td>1364</td>\n      <td>Vstupní kolo</td>\n      <td>53979</td>\n      <td>2983</td>\n      <td>13.10.2017</td>\n      <td>15:58:26</td>\n      <td>690</td>\n      <td>NaN</td>\n    </tr>\n  </tbody>\n</table>\n</div>"
     },
     "execution_count": 11,
     "metadata": {},
     "output_type": "execute_result"
    }
   ],
   "source": [
    "print(len(bidy))\n",
    "bidy.head()"
   ],
   "metadata": {
    "collapsed": false,
    "ExecuteTime": {
     "start_time": "2024-05-02T11:40:49.651524Z",
     "end_time": "2024-05-02T11:40:49.661531Z"
    }
   }
  },
  {
   "cell_type": "code",
   "execution_count": 42,
   "outputs": [
    {
     "name": "stdout",
     "output_type": "stream",
     "text": [
      "0\n",
      "0\n"
     ]
    },
    {
     "data": {
      "text/plain": "Empty DataFrame\nColumns: [UniqueID, Org, AucID, NazovKola, IDItem, IDParticipant, Datum, CasZmeny, NovaHodnota, Unnamed: 9]\nIndex: []",
      "text/html": "<div>\n<style scoped>\n    .dataframe tbody tr th:only-of-type {\n        vertical-align: middle;\n    }\n\n    .dataframe tbody tr th {\n        vertical-align: top;\n    }\n\n    .dataframe thead th {\n        text-align: right;\n    }\n</style>\n<table border=\"1\" class=\"dataframe\">\n  <thead>\n    <tr style=\"text-align: right;\">\n      <th></th>\n      <th>UniqueID</th>\n      <th>Org</th>\n      <th>AucID</th>\n      <th>NazovKola</th>\n      <th>IDItem</th>\n      <th>IDParticipant</th>\n      <th>Datum</th>\n      <th>CasZmeny</th>\n      <th>NovaHodnota</th>\n      <th>Unnamed: 9</th>\n    </tr>\n  </thead>\n  <tbody>\n  </tbody>\n</table>\n</div>"
     },
     "execution_count": 42,
     "metadata": {},
     "output_type": "execute_result"
    }
   ],
   "source": [
    "filtered_bidy = bidy[bidy['Org'] == '1']\n",
    "#1105-60-3193 tu nesu ziadne\n",
    "#102-143-2401 tu su\n",
    "unique_participant_count = filtered_bidy['IDParticipant'].nunique()\n",
    "print(unique_participant_count)\n",
    "unique_item_count = filtered_bidy['IDItem'].nunique()\n",
    "print(unique_item_count)\n",
    "filtered_bidy\n",
    "\n",
    "#POZNAMKA\n",
    "#Niektore tu nesu organizacie preco ? zmazat ? alebocodopici DROPNEME ICH"
   ],
   "metadata": {
    "collapsed": false,
    "ExecuteTime": {
     "start_time": "2024-05-03T22:02:26.326148Z",
     "end_time": "2024-05-03T22:02:26.381803Z"
    }
   }
  },
  {
   "cell_type": "code",
   "execution_count": 51,
   "outputs": [],
   "source": [],
   "metadata": {
    "collapsed": false,
    "ExecuteTime": {
     "start_time": "2024-04-11T13:45:52.328030Z",
     "end_time": "2024-04-11T13:45:52.338426Z"
    }
   }
  },
  {
   "cell_type": "code",
   "execution_count": 18,
   "outputs": [],
   "source": [
    "# Fill the null values in 'PocetZmienPonuk' column with 0\n",
    "hlavna['PocetZmienPonuk'] = hlavna['PocetZmienPonuk'].fillna(0)\n",
    "\n",
    "# Convert the data type of 'PocetZmienPonuk' column to integer\n",
    "hlavna['PocetZmienPonuk'] = hlavna['PocetZmienPonuk'].astype(int)\n",
    "# Calculate the count of rows for each 'UniqueID' in 'bidy' DataFrame\n"
   ],
   "metadata": {
    "collapsed": false,
    "ExecuteTime": {
     "start_time": "2024-05-02T11:52:57.714219Z",
     "end_time": "2024-05-02T11:52:57.813470Z"
    }
   }
  },
  {
   "cell_type": "code",
   "execution_count": 30,
   "outputs": [
    {
     "data": {
      "text/plain": "      UniqueID  Org  AucID              AucZac               AucKon  \\\n0  100-45-1364   45   1364 2017-10-13 13:30:00  2017-10-23 13:33:00   \n1  100-45-1365   45   1365 2017-10-06 12:00:00  2017-10-27 12:00:00   \n2  100-45-1369   45   1369 2017-10-12 08:30:00  2017-10-27 08:30:00   \n3  100-45-1378   45   1378 2017-10-17 12:30:00  2017-10-31 11:30:00   \n4  100-45-1379   45   1379 2017-10-23 10:00:00  2017-10-31 09:40:00   \n\n         AucNazov1                      AucVal  Porovnávacia cena  \\\n0  Ocelové pásky v          Jednotlivé položky           24167.04   \n1  Cenová poptávka  Multikriteriální hodnocení               0.00   \n2  Cenová poptávka  Multikriteriální hodnocení               0.00   \n3  Cenová poptávka  Multikriteriální hodnocení               0.00   \n4  Doprava 2018 (S   Celková nabídka účastníka               0.00   \n\n   VitaznaPonuka Mena  PocetPozvanok  PocetPrihlasenychUcast  \\\n0     24864.0000  EUR             10                     NaN   \n1    116400.0000  CZK             10                     NaN   \n2     13167.0000  CZK             12                     NaN   \n3     52062.4000  CZK              9                     NaN   \n4    262965.0771  EUR             24                     NaN   \n\n   PocetAktivnychUcast  Vitaz AucTypUpresnenie  \\\n0                  6.0   2978            ERMMA   \n1                  2.0   3543         poptavka   \n2                  4.0   3543         poptavka   \n3                  2.0   5763         poptavka   \n4                  9.0   3578            ERMMA   \n\n                                        Kateg           Subkateg  PocetItems  \\\n0              Hutní materiál, kovy a slitiny             Plechy           8   \n1          Stroje, zařízení, nástroje, nářadí      Náhradní díly           2   \n2          Stroje, zařízení, nástroje, nářadí      Náhradní díly           4   \n3          Stroje, zařízení, nástroje, nářadí      Náhradní díly           4   \n4  Dopravní služby, auto-moto a příslušenství  Silniční přeprava          65   \n\n   PocetZmienPonuk  PocetPredlzeni             Stat  MinKrokZnizPercenta  \\\n0             92.0              11  Česká republika                  0.0   \n1              4.0               0  Česká republika                  0.1   \n2             16.0               0  Česká republika                  0.1   \n3              5.0               0  Česká republika                  0.1   \n4            566.0              86  Česká republika                  0.0   \n\n  PocKolERMMA PocKolZadavac PocKolNIPPON PocKolHOLLAND UsporaPorov  \\\n0     unknown       unknown      unknown       unknown     unknown   \n1     unknown       unknown      unknown       unknown     unknown   \n2     unknown       unknown      unknown       unknown     unknown   \n3     unknown       unknown      unknown       unknown     unknown   \n4     unknown       unknown      unknown       unknown     unknown   \n\n  UsporaVstup UsporaAukc KoefVarPonukCelk KoefVarPonukERMNIP  \n0     unknown    unknown          unknown            unknown  \n1     unknown    unknown          unknown            unknown  \n2     unknown    unknown          unknown            unknown  \n3     unknown    unknown          unknown            unknown  \n4     unknown    unknown          unknown            unknown  ",
      "text/html": "<div>\n<style scoped>\n    .dataframe tbody tr th:only-of-type {\n        vertical-align: middle;\n    }\n\n    .dataframe tbody tr th {\n        vertical-align: top;\n    }\n\n    .dataframe thead th {\n        text-align: right;\n    }\n</style>\n<table border=\"1\" class=\"dataframe\">\n  <thead>\n    <tr style=\"text-align: right;\">\n      <th></th>\n      <th>UniqueID</th>\n      <th>Org</th>\n      <th>AucID</th>\n      <th>AucZac</th>\n      <th>AucKon</th>\n      <th>AucNazov1</th>\n      <th>AucVal</th>\n      <th>Porovnávacia cena</th>\n      <th>VitaznaPonuka</th>\n      <th>Mena</th>\n      <th>PocetPozvanok</th>\n      <th>PocetPrihlasenychUcast</th>\n      <th>PocetAktivnychUcast</th>\n      <th>Vitaz</th>\n      <th>AucTypUpresnenie</th>\n      <th>Kateg</th>\n      <th>Subkateg</th>\n      <th>PocetItems</th>\n      <th>PocetZmienPonuk</th>\n      <th>PocetPredlzeni</th>\n      <th>Stat</th>\n      <th>MinKrokZnizPercenta</th>\n      <th>PocKolERMMA</th>\n      <th>PocKolZadavac</th>\n      <th>PocKolNIPPON</th>\n      <th>PocKolHOLLAND</th>\n      <th>UsporaPorov</th>\n      <th>UsporaVstup</th>\n      <th>UsporaAukc</th>\n      <th>KoefVarPonukCelk</th>\n      <th>KoefVarPonukERMNIP</th>\n    </tr>\n  </thead>\n  <tbody>\n    <tr>\n      <th>0</th>\n      <td>100-45-1364</td>\n      <td>45</td>\n      <td>1364</td>\n      <td>2017-10-13 13:30:00</td>\n      <td>2017-10-23 13:33:00</td>\n      <td>Ocelové pásky v</td>\n      <td>Jednotlivé položky</td>\n      <td>24167.04</td>\n      <td>24864.0000</td>\n      <td>EUR</td>\n      <td>10</td>\n      <td>NaN</td>\n      <td>6.0</td>\n      <td>2978</td>\n      <td>ERMMA</td>\n      <td>Hutní materiál, kovy a slitiny</td>\n      <td>Plechy</td>\n      <td>8</td>\n      <td>92.0</td>\n      <td>11</td>\n      <td>Česká republika</td>\n      <td>0.0</td>\n      <td>unknown</td>\n      <td>unknown</td>\n      <td>unknown</td>\n      <td>unknown</td>\n      <td>unknown</td>\n      <td>unknown</td>\n      <td>unknown</td>\n      <td>unknown</td>\n      <td>unknown</td>\n    </tr>\n    <tr>\n      <th>1</th>\n      <td>100-45-1365</td>\n      <td>45</td>\n      <td>1365</td>\n      <td>2017-10-06 12:00:00</td>\n      <td>2017-10-27 12:00:00</td>\n      <td>Cenová poptávka</td>\n      <td>Multikriteriální hodnocení</td>\n      <td>0.00</td>\n      <td>116400.0000</td>\n      <td>CZK</td>\n      <td>10</td>\n      <td>NaN</td>\n      <td>2.0</td>\n      <td>3543</td>\n      <td>poptavka</td>\n      <td>Stroje, zařízení, nástroje, nářadí</td>\n      <td>Náhradní díly</td>\n      <td>2</td>\n      <td>4.0</td>\n      <td>0</td>\n      <td>Česká republika</td>\n      <td>0.1</td>\n      <td>unknown</td>\n      <td>unknown</td>\n      <td>unknown</td>\n      <td>unknown</td>\n      <td>unknown</td>\n      <td>unknown</td>\n      <td>unknown</td>\n      <td>unknown</td>\n      <td>unknown</td>\n    </tr>\n    <tr>\n      <th>2</th>\n      <td>100-45-1369</td>\n      <td>45</td>\n      <td>1369</td>\n      <td>2017-10-12 08:30:00</td>\n      <td>2017-10-27 08:30:00</td>\n      <td>Cenová poptávka</td>\n      <td>Multikriteriální hodnocení</td>\n      <td>0.00</td>\n      <td>13167.0000</td>\n      <td>CZK</td>\n      <td>12</td>\n      <td>NaN</td>\n      <td>4.0</td>\n      <td>3543</td>\n      <td>poptavka</td>\n      <td>Stroje, zařízení, nástroje, nářadí</td>\n      <td>Náhradní díly</td>\n      <td>4</td>\n      <td>16.0</td>\n      <td>0</td>\n      <td>Česká republika</td>\n      <td>0.1</td>\n      <td>unknown</td>\n      <td>unknown</td>\n      <td>unknown</td>\n      <td>unknown</td>\n      <td>unknown</td>\n      <td>unknown</td>\n      <td>unknown</td>\n      <td>unknown</td>\n      <td>unknown</td>\n    </tr>\n    <tr>\n      <th>3</th>\n      <td>100-45-1378</td>\n      <td>45</td>\n      <td>1378</td>\n      <td>2017-10-17 12:30:00</td>\n      <td>2017-10-31 11:30:00</td>\n      <td>Cenová poptávka</td>\n      <td>Multikriteriální hodnocení</td>\n      <td>0.00</td>\n      <td>52062.4000</td>\n      <td>CZK</td>\n      <td>9</td>\n      <td>NaN</td>\n      <td>2.0</td>\n      <td>5763</td>\n      <td>poptavka</td>\n      <td>Stroje, zařízení, nástroje, nářadí</td>\n      <td>Náhradní díly</td>\n      <td>4</td>\n      <td>5.0</td>\n      <td>0</td>\n      <td>Česká republika</td>\n      <td>0.1</td>\n      <td>unknown</td>\n      <td>unknown</td>\n      <td>unknown</td>\n      <td>unknown</td>\n      <td>unknown</td>\n      <td>unknown</td>\n      <td>unknown</td>\n      <td>unknown</td>\n      <td>unknown</td>\n    </tr>\n    <tr>\n      <th>4</th>\n      <td>100-45-1379</td>\n      <td>45</td>\n      <td>1379</td>\n      <td>2017-10-23 10:00:00</td>\n      <td>2017-10-31 09:40:00</td>\n      <td>Doprava 2018 (S</td>\n      <td>Celková nabídka účastníka</td>\n      <td>0.00</td>\n      <td>262965.0771</td>\n      <td>EUR</td>\n      <td>24</td>\n      <td>NaN</td>\n      <td>9.0</td>\n      <td>3578</td>\n      <td>ERMMA</td>\n      <td>Dopravní služby, auto-moto a příslušenství</td>\n      <td>Silniční přeprava</td>\n      <td>65</td>\n      <td>566.0</td>\n      <td>86</td>\n      <td>Česká republika</td>\n      <td>0.0</td>\n      <td>unknown</td>\n      <td>unknown</td>\n      <td>unknown</td>\n      <td>unknown</td>\n      <td>unknown</td>\n      <td>unknown</td>\n      <td>unknown</td>\n      <td>unknown</td>\n      <td>unknown</td>\n    </tr>\n  </tbody>\n</table>\n</div>"
     },
     "execution_count": 30,
     "metadata": {},
     "output_type": "execute_result"
    }
   ],
   "source": [
    "hlavna.head()"
   ],
   "metadata": {
    "collapsed": false,
    "ExecuteTime": {
     "start_time": "2024-05-02T12:17:10.943519Z",
     "end_time": "2024-05-02T12:17:10.967340Z"
    }
   }
  },
  {
   "cell_type": "code",
   "execution_count": 20,
   "outputs": [
    {
     "name": "stdout",
     "output_type": "stream",
     "text": [
      "0         92.0\n",
      "1          4.0\n",
      "2         16.0\n",
      "3          5.0\n",
      "4        566.0\n",
      "         ...  \n",
      "13212      0.0\n",
      "13213      0.0\n",
      "13214      0.0\n",
      "13215      0.0\n",
      "13216      0.0\n",
      "Name: Counts, Length: 13217, dtype: float64\n"
     ]
    }
   ],
   "source": [
    "bidy_counts = bidy.groupby('UniqueID').size()\n",
    "# Create a dictionary where the keys are the 'UniqueID's and the values are the counts\n",
    "bidy_counts_dict = bidy_counts.to_dict()\n",
    "\n",
    "\n",
    "# # Map the 'UniqueID's in 'hlavna' DataFrame to the counts in the dictionary\n",
    "# Map the 'UniqueID's in 'hlavna' DataFrame to the counts in the dictionary\n",
    "hlavna['Counts'] = hlavna['UniqueID'].map(bidy_counts_dict)\n",
    "\n",
    "# Fill the null values in 'Counts' column with 0\n",
    "hlavna['Counts'] = hlavna['Counts'].fillna(0)\n",
    "print(hlavna['Counts'])\n",
    "# # Fill the null values in 'PocetZmienPonuk' attribute with the values from the new series\n",
    "## Assign the values from 'Counts' column to 'PocetZmienPonuk' column\n",
    "hlavna['PocetZmienPonuk'] = hlavna['Counts']\n",
    "# # Drop the 'Counts' column as it is no longer needed\n",
    "hlavna = hlavna.drop(columns=['Counts'])"
   ],
   "metadata": {
    "collapsed": false,
    "ExecuteTime": {
     "start_time": "2024-05-02T11:53:48.878342Z",
     "end_time": "2024-05-02T11:53:48.920515Z"
    }
   }
  },
  {
   "cell_type": "code",
   "execution_count": 23,
   "outputs": [
    {
     "data": {
      "text/plain": "           UniqueID  Org  AucID              AucZac               AucKon  \\\n1623   1105-60-3193   60   3193 2020-02-03 15:30:00  2020-02-24 13:00:00   \n1624   1105-60-3194   60   3194 2020-02-05 10:00:00  2020-02-07 10:05:00   \n1625   1105-60-3195   60   3195 2020-02-06 08:00:00  2020-02-06 11:00:00   \n1626   1105-60-3197   60   3197 2020-02-06 08:00:00  2020-02-10 07:00:00   \n1627   1105-60-3198   60   3198 2020-02-07 09:05:00  2020-02-07 11:30:00   \n...             ...  ...    ...                 ...                  ...   \n13212     91-17-423   17    423 2020-04-14 09:00:00  2020-05-06 12:43:00   \n13213     91-17-426   17    426 2020-04-15 09:00:00  2020-06-14 10:00:00   \n13214     91-17-429   17    429 2020-05-05 09:00:00  2020-05-14 12:15:00   \n13215     91-17-430   17    430 2020-07-13 09:00:00  2020-08-03 13:30:00   \n13216     91-17-431   17    431 2020-07-10 12:00:00  2020-07-23 12:00:00   \n\n             AucNazov1                     AucVal  Porovnávacia cena  \\\n1623   Pracoviště pro   Celková nabídka účastníka          1545000.0   \n1624   Kompletní výrob  Celková nabídka účastníka          1393168.0   \n1625   Silniční doprav         Jednotlivé položky                0.0   \n1626   Nástroje pro ob         Jednotlivé položky                0.0   \n1627   Silniční doprav  Celková nabídka účastníka                0.0   \n...                ...                        ...                ...   \n13212  Realizace stavb  Celková nabídka účastníka                0.0   \n13213  Realizace stavb  Celková nabídka účastníka                0.0   \n13214  Oprava plynovod  Celková nabídka účastníka                0.0   \n13215  Realizace stavb  Celková nabídka účastníka                0.0   \n13216  Realizace stavb  Celková nabídka účastníka                0.0   \n\n       VitaznaPonuka Mena  PocetPozvanok  PocetPrihlasenychUcast  \\\n1623     1939200.000  CZK             19                     NaN   \n1624     1143540.000  CZK             40                     NaN   \n1625       36920.000  CZK             51                     NaN   \n1626        6096.625  CZK             53                     NaN   \n1627       22950.000  CZK             46                     NaN   \n...              ...  ...            ...                     ...   \n13212     314820.000  CZK              5                     NaN   \n13213    1353024.400  CZK              9                     NaN   \n13214      89183.000  CZK              1                     NaN   \n13215    1101450.000  CZK              2                     NaN   \n13216     143040.000  CZK              4                     NaN   \n\n       PocetAktivnychUcast  Vitaz AucTypUpresnenie  \\\n1623                   NaN   5898         poptavka   \n1624                   NaN   9561         poptavka   \n1625                   NaN  10834         poptavka   \n1626                   NaN   5977         poptavka   \n1627                   NaN   8956         poptavka   \n...                    ...    ...              ...   \n13212                  NaN   3867            ERMMA   \n13213                  NaN   3863       zapecetene   \n13214                  NaN   4508            ERMMA   \n13215                  NaN   4508       zapecetene   \n13216                  NaN   4508       zapecetene   \n\n                                            Kateg  \\\n1623           Stroje, zařízení, nástroje, nářadí   \n1624           Stroje, zařízení, nástroje, nářadí   \n1625   Dopravní služby, auto-moto a příslušenství   \n1626           Stroje, zařízení, nástroje, nářadí   \n1627   Dopravní služby, auto-moto a příslušenství   \n...                                           ...   \n13212                                Stavebnictví   \n13213                                Stavebnictví   \n13214                                Stavebnictví   \n13215                                Stavebnictví   \n13216                                Stavebnictví   \n\n                                          Subkateg  PocetItems  \\\n1623                  Svařovací materiály a služby           1   \n1624                             Nářadí a nástroje           4   \n1625                             Silniční přeprava           1   \n1626                             Nářadí a nástroje          10   \n1627                             Silniční přeprava           1   \n...                                            ...         ...   \n13212  Stavební práce, rekonstrukce a revitalizace           1   \n13213  Stavební práce, rekonstrukce a revitalizace           1   \n13214  Stavební práce, rekonstrukce a revitalizace           1   \n13215          Stavební úpravy potrubí a plynovodů           1   \n13216          Stavební úpravy potrubí a plynovodů           1   \n\n       PocetZmienPonuk  PocetPredlzeni             Stat  MinKrokZnizPercenta  \\\n1623               0.0               0              NaN                  0.1   \n1624               0.0               1              NaN                  0.1   \n1625               0.0               0              NaN                  0.0   \n1626               0.0               0              NaN                  0.1   \n1627               0.0               0              NaN                  0.0   \n...                ...             ...              ...                  ...   \n13212              0.0              14  Česká republika                  0.1   \n13213              0.0               0              NaN                  0.1   \n13214              0.0               0  Česká republika                  0.1   \n13215              0.0               0              NaN                  0.1   \n13216              0.0               0              NaN                  0.1   \n\n      PocKolERMMA PocKolZadavac PocKolNIPPON PocKolHOLLAND UsporaPorov  \\\n1623      unknown       unknown      unknown       unknown     unknown   \n1624      unknown       unknown      unknown       unknown     unknown   \n1625      unknown       unknown      unknown       unknown     unknown   \n1626      unknown       unknown      unknown       unknown     unknown   \n1627      unknown       unknown      unknown       unknown     unknown   \n...           ...           ...          ...           ...         ...   \n13212     unknown       unknown      unknown       unknown     unknown   \n13213     unknown       unknown      unknown       unknown     unknown   \n13214     unknown       unknown      unknown       unknown     unknown   \n13215     unknown       unknown      unknown       unknown     unknown   \n13216     unknown       unknown      unknown       unknown     unknown   \n\n      UsporaVstup UsporaAukc KoefVarPonukCelk KoefVarPonukERMNIP  \n1623      unknown    unknown          unknown            unknown  \n1624      unknown    unknown          unknown            unknown  \n1625      unknown    unknown          unknown            unknown  \n1626      unknown    unknown          unknown            unknown  \n1627      unknown    unknown          unknown            unknown  \n...           ...        ...              ...                ...  \n13212     unknown    unknown          unknown            unknown  \n13213     unknown    unknown          unknown            unknown  \n13214     unknown    unknown          unknown            unknown  \n13215     unknown    unknown          unknown            unknown  \n13216     unknown    unknown          unknown            unknown  \n\n[11594 rows x 31 columns]",
      "text/html": "<div>\n<style scoped>\n    .dataframe tbody tr th:only-of-type {\n        vertical-align: middle;\n    }\n\n    .dataframe tbody tr th {\n        vertical-align: top;\n    }\n\n    .dataframe thead th {\n        text-align: right;\n    }\n</style>\n<table border=\"1\" class=\"dataframe\">\n  <thead>\n    <tr style=\"text-align: right;\">\n      <th></th>\n      <th>UniqueID</th>\n      <th>Org</th>\n      <th>AucID</th>\n      <th>AucZac</th>\n      <th>AucKon</th>\n      <th>AucNazov1</th>\n      <th>AucVal</th>\n      <th>Porovnávacia cena</th>\n      <th>VitaznaPonuka</th>\n      <th>Mena</th>\n      <th>PocetPozvanok</th>\n      <th>PocetPrihlasenychUcast</th>\n      <th>PocetAktivnychUcast</th>\n      <th>Vitaz</th>\n      <th>AucTypUpresnenie</th>\n      <th>Kateg</th>\n      <th>Subkateg</th>\n      <th>PocetItems</th>\n      <th>PocetZmienPonuk</th>\n      <th>PocetPredlzeni</th>\n      <th>Stat</th>\n      <th>MinKrokZnizPercenta</th>\n      <th>PocKolERMMA</th>\n      <th>PocKolZadavac</th>\n      <th>PocKolNIPPON</th>\n      <th>PocKolHOLLAND</th>\n      <th>UsporaPorov</th>\n      <th>UsporaVstup</th>\n      <th>UsporaAukc</th>\n      <th>KoefVarPonukCelk</th>\n      <th>KoefVarPonukERMNIP</th>\n    </tr>\n  </thead>\n  <tbody>\n    <tr>\n      <th>1623</th>\n      <td>1105-60-3193</td>\n      <td>60</td>\n      <td>3193</td>\n      <td>2020-02-03 15:30:00</td>\n      <td>2020-02-24 13:00:00</td>\n      <td>Pracoviště pro</td>\n      <td>Celková nabídka účastníka</td>\n      <td>1545000.0</td>\n      <td>1939200.000</td>\n      <td>CZK</td>\n      <td>19</td>\n      <td>NaN</td>\n      <td>NaN</td>\n      <td>5898</td>\n      <td>poptavka</td>\n      <td>Stroje, zařízení, nástroje, nářadí</td>\n      <td>Svařovací materiály a služby</td>\n      <td>1</td>\n      <td>0.0</td>\n      <td>0</td>\n      <td>NaN</td>\n      <td>0.1</td>\n      <td>unknown</td>\n      <td>unknown</td>\n      <td>unknown</td>\n      <td>unknown</td>\n      <td>unknown</td>\n      <td>unknown</td>\n      <td>unknown</td>\n      <td>unknown</td>\n      <td>unknown</td>\n    </tr>\n    <tr>\n      <th>1624</th>\n      <td>1105-60-3194</td>\n      <td>60</td>\n      <td>3194</td>\n      <td>2020-02-05 10:00:00</td>\n      <td>2020-02-07 10:05:00</td>\n      <td>Kompletní výrob</td>\n      <td>Celková nabídka účastníka</td>\n      <td>1393168.0</td>\n      <td>1143540.000</td>\n      <td>CZK</td>\n      <td>40</td>\n      <td>NaN</td>\n      <td>NaN</td>\n      <td>9561</td>\n      <td>poptavka</td>\n      <td>Stroje, zařízení, nástroje, nářadí</td>\n      <td>Nářadí a nástroje</td>\n      <td>4</td>\n      <td>0.0</td>\n      <td>1</td>\n      <td>NaN</td>\n      <td>0.1</td>\n      <td>unknown</td>\n      <td>unknown</td>\n      <td>unknown</td>\n      <td>unknown</td>\n      <td>unknown</td>\n      <td>unknown</td>\n      <td>unknown</td>\n      <td>unknown</td>\n      <td>unknown</td>\n    </tr>\n    <tr>\n      <th>1625</th>\n      <td>1105-60-3195</td>\n      <td>60</td>\n      <td>3195</td>\n      <td>2020-02-06 08:00:00</td>\n      <td>2020-02-06 11:00:00</td>\n      <td>Silniční doprav</td>\n      <td>Jednotlivé položky</td>\n      <td>0.0</td>\n      <td>36920.000</td>\n      <td>CZK</td>\n      <td>51</td>\n      <td>NaN</td>\n      <td>NaN</td>\n      <td>10834</td>\n      <td>poptavka</td>\n      <td>Dopravní služby, auto-moto a příslušenství</td>\n      <td>Silniční přeprava</td>\n      <td>1</td>\n      <td>0.0</td>\n      <td>0</td>\n      <td>NaN</td>\n      <td>0.0</td>\n      <td>unknown</td>\n      <td>unknown</td>\n      <td>unknown</td>\n      <td>unknown</td>\n      <td>unknown</td>\n      <td>unknown</td>\n      <td>unknown</td>\n      <td>unknown</td>\n      <td>unknown</td>\n    </tr>\n    <tr>\n      <th>1626</th>\n      <td>1105-60-3197</td>\n      <td>60</td>\n      <td>3197</td>\n      <td>2020-02-06 08:00:00</td>\n      <td>2020-02-10 07:00:00</td>\n      <td>Nástroje pro ob</td>\n      <td>Jednotlivé položky</td>\n      <td>0.0</td>\n      <td>6096.625</td>\n      <td>CZK</td>\n      <td>53</td>\n      <td>NaN</td>\n      <td>NaN</td>\n      <td>5977</td>\n      <td>poptavka</td>\n      <td>Stroje, zařízení, nástroje, nářadí</td>\n      <td>Nářadí a nástroje</td>\n      <td>10</td>\n      <td>0.0</td>\n      <td>0</td>\n      <td>NaN</td>\n      <td>0.1</td>\n      <td>unknown</td>\n      <td>unknown</td>\n      <td>unknown</td>\n      <td>unknown</td>\n      <td>unknown</td>\n      <td>unknown</td>\n      <td>unknown</td>\n      <td>unknown</td>\n      <td>unknown</td>\n    </tr>\n    <tr>\n      <th>1627</th>\n      <td>1105-60-3198</td>\n      <td>60</td>\n      <td>3198</td>\n      <td>2020-02-07 09:05:00</td>\n      <td>2020-02-07 11:30:00</td>\n      <td>Silniční doprav</td>\n      <td>Celková nabídka účastníka</td>\n      <td>0.0</td>\n      <td>22950.000</td>\n      <td>CZK</td>\n      <td>46</td>\n      <td>NaN</td>\n      <td>NaN</td>\n      <td>8956</td>\n      <td>poptavka</td>\n      <td>Dopravní služby, auto-moto a příslušenství</td>\n      <td>Silniční přeprava</td>\n      <td>1</td>\n      <td>0.0</td>\n      <td>0</td>\n      <td>NaN</td>\n      <td>0.0</td>\n      <td>unknown</td>\n      <td>unknown</td>\n      <td>unknown</td>\n      <td>unknown</td>\n      <td>unknown</td>\n      <td>unknown</td>\n      <td>unknown</td>\n      <td>unknown</td>\n      <td>unknown</td>\n    </tr>\n    <tr>\n      <th>...</th>\n      <td>...</td>\n      <td>...</td>\n      <td>...</td>\n      <td>...</td>\n      <td>...</td>\n      <td>...</td>\n      <td>...</td>\n      <td>...</td>\n      <td>...</td>\n      <td>...</td>\n      <td>...</td>\n      <td>...</td>\n      <td>...</td>\n      <td>...</td>\n      <td>...</td>\n      <td>...</td>\n      <td>...</td>\n      <td>...</td>\n      <td>...</td>\n      <td>...</td>\n      <td>...</td>\n      <td>...</td>\n      <td>...</td>\n      <td>...</td>\n      <td>...</td>\n      <td>...</td>\n      <td>...</td>\n      <td>...</td>\n      <td>...</td>\n      <td>...</td>\n      <td>...</td>\n    </tr>\n    <tr>\n      <th>13212</th>\n      <td>91-17-423</td>\n      <td>17</td>\n      <td>423</td>\n      <td>2020-04-14 09:00:00</td>\n      <td>2020-05-06 12:43:00</td>\n      <td>Realizace stavb</td>\n      <td>Celková nabídka účastníka</td>\n      <td>0.0</td>\n      <td>314820.000</td>\n      <td>CZK</td>\n      <td>5</td>\n      <td>NaN</td>\n      <td>NaN</td>\n      <td>3867</td>\n      <td>ERMMA</td>\n      <td>Stavebnictví</td>\n      <td>Stavební práce, rekonstrukce a revitalizace</td>\n      <td>1</td>\n      <td>0.0</td>\n      <td>14</td>\n      <td>Česká republika</td>\n      <td>0.1</td>\n      <td>unknown</td>\n      <td>unknown</td>\n      <td>unknown</td>\n      <td>unknown</td>\n      <td>unknown</td>\n      <td>unknown</td>\n      <td>unknown</td>\n      <td>unknown</td>\n      <td>unknown</td>\n    </tr>\n    <tr>\n      <th>13213</th>\n      <td>91-17-426</td>\n      <td>17</td>\n      <td>426</td>\n      <td>2020-04-15 09:00:00</td>\n      <td>2020-06-14 10:00:00</td>\n      <td>Realizace stavb</td>\n      <td>Celková nabídka účastníka</td>\n      <td>0.0</td>\n      <td>1353024.400</td>\n      <td>CZK</td>\n      <td>9</td>\n      <td>NaN</td>\n      <td>NaN</td>\n      <td>3863</td>\n      <td>zapecetene</td>\n      <td>Stavebnictví</td>\n      <td>Stavební práce, rekonstrukce a revitalizace</td>\n      <td>1</td>\n      <td>0.0</td>\n      <td>0</td>\n      <td>NaN</td>\n      <td>0.1</td>\n      <td>unknown</td>\n      <td>unknown</td>\n      <td>unknown</td>\n      <td>unknown</td>\n      <td>unknown</td>\n      <td>unknown</td>\n      <td>unknown</td>\n      <td>unknown</td>\n      <td>unknown</td>\n    </tr>\n    <tr>\n      <th>13214</th>\n      <td>91-17-429</td>\n      <td>17</td>\n      <td>429</td>\n      <td>2020-05-05 09:00:00</td>\n      <td>2020-05-14 12:15:00</td>\n      <td>Oprava plynovod</td>\n      <td>Celková nabídka účastníka</td>\n      <td>0.0</td>\n      <td>89183.000</td>\n      <td>CZK</td>\n      <td>1</td>\n      <td>NaN</td>\n      <td>NaN</td>\n      <td>4508</td>\n      <td>ERMMA</td>\n      <td>Stavebnictví</td>\n      <td>Stavební práce, rekonstrukce a revitalizace</td>\n      <td>1</td>\n      <td>0.0</td>\n      <td>0</td>\n      <td>Česká republika</td>\n      <td>0.1</td>\n      <td>unknown</td>\n      <td>unknown</td>\n      <td>unknown</td>\n      <td>unknown</td>\n      <td>unknown</td>\n      <td>unknown</td>\n      <td>unknown</td>\n      <td>unknown</td>\n      <td>unknown</td>\n    </tr>\n    <tr>\n      <th>13215</th>\n      <td>91-17-430</td>\n      <td>17</td>\n      <td>430</td>\n      <td>2020-07-13 09:00:00</td>\n      <td>2020-08-03 13:30:00</td>\n      <td>Realizace stavb</td>\n      <td>Celková nabídka účastníka</td>\n      <td>0.0</td>\n      <td>1101450.000</td>\n      <td>CZK</td>\n      <td>2</td>\n      <td>NaN</td>\n      <td>NaN</td>\n      <td>4508</td>\n      <td>zapecetene</td>\n      <td>Stavebnictví</td>\n      <td>Stavební úpravy potrubí a plynovodů</td>\n      <td>1</td>\n      <td>0.0</td>\n      <td>0</td>\n      <td>NaN</td>\n      <td>0.1</td>\n      <td>unknown</td>\n      <td>unknown</td>\n      <td>unknown</td>\n      <td>unknown</td>\n      <td>unknown</td>\n      <td>unknown</td>\n      <td>unknown</td>\n      <td>unknown</td>\n      <td>unknown</td>\n    </tr>\n    <tr>\n      <th>13216</th>\n      <td>91-17-431</td>\n      <td>17</td>\n      <td>431</td>\n      <td>2020-07-10 12:00:00</td>\n      <td>2020-07-23 12:00:00</td>\n      <td>Realizace stavb</td>\n      <td>Celková nabídka účastníka</td>\n      <td>0.0</td>\n      <td>143040.000</td>\n      <td>CZK</td>\n      <td>4</td>\n      <td>NaN</td>\n      <td>NaN</td>\n      <td>4508</td>\n      <td>zapecetene</td>\n      <td>Stavebnictví</td>\n      <td>Stavební úpravy potrubí a plynovodů</td>\n      <td>1</td>\n      <td>0.0</td>\n      <td>0</td>\n      <td>NaN</td>\n      <td>0.1</td>\n      <td>unknown</td>\n      <td>unknown</td>\n      <td>unknown</td>\n      <td>unknown</td>\n      <td>unknown</td>\n      <td>unknown</td>\n      <td>unknown</td>\n      <td>unknown</td>\n      <td>unknown</td>\n    </tr>\n  </tbody>\n</table>\n<p>11594 rows × 31 columns</p>\n</div>"
     },
     "execution_count": 23,
     "metadata": {},
     "output_type": "execute_result"
    }
   ],
   "source": [
    "# Filter rows where 'PocetZmienPonuk' is 0\n",
    "rows_with_zero = hlavna[hlavna['PocetZmienPonuk'] == 0]\n",
    "\n",
    "# Display the filtered rows\n",
    "rows_with_zero"
   ],
   "metadata": {
    "collapsed": false,
    "ExecuteTime": {
     "start_time": "2024-05-02T11:54:49.088977Z",
     "end_time": "2024-05-02T11:54:49.150862Z"
    }
   }
  },
  {
   "cell_type": "code",
   "execution_count": 31,
   "outputs": [
    {
     "data": {
      "text/plain": "           UniqueID  Org  AucID              AucZac               AucKon  \\\n1623   1105-60-3193   60   3193 2020-02-03 15:30:00  2020-02-24 13:00:00   \n1624   1105-60-3194   60   3194 2020-02-05 10:00:00  2020-02-07 10:05:00   \n1625   1105-60-3195   60   3195 2020-02-06 08:00:00  2020-02-06 11:00:00   \n1626   1105-60-3197   60   3197 2020-02-06 08:00:00  2020-02-10 07:00:00   \n1627   1105-60-3198   60   3198 2020-02-07 09:05:00  2020-02-07 11:30:00   \n...             ...  ...    ...                 ...                  ...   \n13212     91-17-423   17    423 2020-04-14 09:00:00  2020-05-06 12:43:00   \n13213     91-17-426   17    426 2020-04-15 09:00:00  2020-06-14 10:00:00   \n13214     91-17-429   17    429 2020-05-05 09:00:00  2020-05-14 12:15:00   \n13215     91-17-430   17    430 2020-07-13 09:00:00  2020-08-03 13:30:00   \n13216     91-17-431   17    431 2020-07-10 12:00:00  2020-07-23 12:00:00   \n\n             AucNazov1                     AucVal  Porovnávacia cena  \\\n1623   Pracoviště pro   Celková nabídka účastníka          1545000.0   \n1624   Kompletní výrob  Celková nabídka účastníka          1393168.0   \n1625   Silniční doprav         Jednotlivé položky                0.0   \n1626   Nástroje pro ob         Jednotlivé položky                0.0   \n1627   Silniční doprav  Celková nabídka účastníka                0.0   \n...                ...                        ...                ...   \n13212  Realizace stavb  Celková nabídka účastníka                0.0   \n13213  Realizace stavb  Celková nabídka účastníka                0.0   \n13214  Oprava plynovod  Celková nabídka účastníka                0.0   \n13215  Realizace stavb  Celková nabídka účastníka                0.0   \n13216  Realizace stavb  Celková nabídka účastníka                0.0   \n\n       VitaznaPonuka Mena  PocetPozvanok  PocetPrihlasenychUcast  \\\n1623     1939200.000  CZK             19                     NaN   \n1624     1143540.000  CZK             40                     NaN   \n1625       36920.000  CZK             51                     NaN   \n1626        6096.625  CZK             53                     NaN   \n1627       22950.000  CZK             46                     NaN   \n...              ...  ...            ...                     ...   \n13212     314820.000  CZK              5                     NaN   \n13213    1353024.400  CZK              9                     NaN   \n13214      89183.000  CZK              1                     NaN   \n13215    1101450.000  CZK              2                     NaN   \n13216     143040.000  CZK              4                     NaN   \n\n       PocetAktivnychUcast  Vitaz AucTypUpresnenie  \\\n1623                   0.0   5898         poptavka   \n1624                   0.0   9561         poptavka   \n1625                   0.0  10834         poptavka   \n1626                   0.0   5977         poptavka   \n1627                   0.0   8956         poptavka   \n...                    ...    ...              ...   \n13212                  0.0   3867            ERMMA   \n13213                  0.0   3863       zapecetene   \n13214                  0.0   4508            ERMMA   \n13215                  0.0   4508       zapecetene   \n13216                  0.0   4508       zapecetene   \n\n                                            Kateg  \\\n1623           Stroje, zařízení, nástroje, nářadí   \n1624           Stroje, zařízení, nástroje, nářadí   \n1625   Dopravní služby, auto-moto a příslušenství   \n1626           Stroje, zařízení, nástroje, nářadí   \n1627   Dopravní služby, auto-moto a příslušenství   \n...                                           ...   \n13212                                Stavebnictví   \n13213                                Stavebnictví   \n13214                                Stavebnictví   \n13215                                Stavebnictví   \n13216                                Stavebnictví   \n\n                                          Subkateg  PocetItems  \\\n1623                  Svařovací materiály a služby           1   \n1624                             Nářadí a nástroje           4   \n1625                             Silniční přeprava           1   \n1626                             Nářadí a nástroje          10   \n1627                             Silniční přeprava           1   \n...                                            ...         ...   \n13212  Stavební práce, rekonstrukce a revitalizace           1   \n13213  Stavební práce, rekonstrukce a revitalizace           1   \n13214  Stavební práce, rekonstrukce a revitalizace           1   \n13215          Stavební úpravy potrubí a plynovodů           1   \n13216          Stavební úpravy potrubí a plynovodů           1   \n\n       PocetZmienPonuk  PocetPredlzeni             Stat  MinKrokZnizPercenta  \\\n1623               0.0               0              NaN                  0.1   \n1624               0.0               1              NaN                  0.1   \n1625               0.0               0              NaN                  0.0   \n1626               0.0               0              NaN                  0.1   \n1627               0.0               0              NaN                  0.0   \n...                ...             ...              ...                  ...   \n13212              0.0              14  Česká republika                  0.1   \n13213              0.0               0              NaN                  0.1   \n13214              0.0               0  Česká republika                  0.1   \n13215              0.0               0              NaN                  0.1   \n13216              0.0               0              NaN                  0.1   \n\n      PocKolERMMA PocKolZadavac PocKolNIPPON PocKolHOLLAND UsporaPorov  \\\n1623      unknown       unknown      unknown       unknown     unknown   \n1624      unknown       unknown      unknown       unknown     unknown   \n1625      unknown       unknown      unknown       unknown     unknown   \n1626      unknown       unknown      unknown       unknown     unknown   \n1627      unknown       unknown      unknown       unknown     unknown   \n...           ...           ...          ...           ...         ...   \n13212     unknown       unknown      unknown       unknown     unknown   \n13213     unknown       unknown      unknown       unknown     unknown   \n13214     unknown       unknown      unknown       unknown     unknown   \n13215     unknown       unknown      unknown       unknown     unknown   \n13216     unknown       unknown      unknown       unknown     unknown   \n\n      UsporaVstup UsporaAukc KoefVarPonukCelk KoefVarPonukERMNIP  \n1623      unknown    unknown          unknown            unknown  \n1624      unknown    unknown          unknown            unknown  \n1625      unknown    unknown          unknown            unknown  \n1626      unknown    unknown          unknown            unknown  \n1627      unknown    unknown          unknown            unknown  \n...           ...        ...              ...                ...  \n13212     unknown    unknown          unknown            unknown  \n13213     unknown    unknown          unknown            unknown  \n13214     unknown    unknown          unknown            unknown  \n13215     unknown    unknown          unknown            unknown  \n13216     unknown    unknown          unknown            unknown  \n\n[11594 rows x 31 columns]",
      "text/html": "<div>\n<style scoped>\n    .dataframe tbody tr th:only-of-type {\n        vertical-align: middle;\n    }\n\n    .dataframe tbody tr th {\n        vertical-align: top;\n    }\n\n    .dataframe thead th {\n        text-align: right;\n    }\n</style>\n<table border=\"1\" class=\"dataframe\">\n  <thead>\n    <tr style=\"text-align: right;\">\n      <th></th>\n      <th>UniqueID</th>\n      <th>Org</th>\n      <th>AucID</th>\n      <th>AucZac</th>\n      <th>AucKon</th>\n      <th>AucNazov1</th>\n      <th>AucVal</th>\n      <th>Porovnávacia cena</th>\n      <th>VitaznaPonuka</th>\n      <th>Mena</th>\n      <th>PocetPozvanok</th>\n      <th>PocetPrihlasenychUcast</th>\n      <th>PocetAktivnychUcast</th>\n      <th>Vitaz</th>\n      <th>AucTypUpresnenie</th>\n      <th>Kateg</th>\n      <th>Subkateg</th>\n      <th>PocetItems</th>\n      <th>PocetZmienPonuk</th>\n      <th>PocetPredlzeni</th>\n      <th>Stat</th>\n      <th>MinKrokZnizPercenta</th>\n      <th>PocKolERMMA</th>\n      <th>PocKolZadavac</th>\n      <th>PocKolNIPPON</th>\n      <th>PocKolHOLLAND</th>\n      <th>UsporaPorov</th>\n      <th>UsporaVstup</th>\n      <th>UsporaAukc</th>\n      <th>KoefVarPonukCelk</th>\n      <th>KoefVarPonukERMNIP</th>\n    </tr>\n  </thead>\n  <tbody>\n    <tr>\n      <th>1623</th>\n      <td>1105-60-3193</td>\n      <td>60</td>\n      <td>3193</td>\n      <td>2020-02-03 15:30:00</td>\n      <td>2020-02-24 13:00:00</td>\n      <td>Pracoviště pro</td>\n      <td>Celková nabídka účastníka</td>\n      <td>1545000.0</td>\n      <td>1939200.000</td>\n      <td>CZK</td>\n      <td>19</td>\n      <td>NaN</td>\n      <td>0.0</td>\n      <td>5898</td>\n      <td>poptavka</td>\n      <td>Stroje, zařízení, nástroje, nářadí</td>\n      <td>Svařovací materiály a služby</td>\n      <td>1</td>\n      <td>0.0</td>\n      <td>0</td>\n      <td>NaN</td>\n      <td>0.1</td>\n      <td>unknown</td>\n      <td>unknown</td>\n      <td>unknown</td>\n      <td>unknown</td>\n      <td>unknown</td>\n      <td>unknown</td>\n      <td>unknown</td>\n      <td>unknown</td>\n      <td>unknown</td>\n    </tr>\n    <tr>\n      <th>1624</th>\n      <td>1105-60-3194</td>\n      <td>60</td>\n      <td>3194</td>\n      <td>2020-02-05 10:00:00</td>\n      <td>2020-02-07 10:05:00</td>\n      <td>Kompletní výrob</td>\n      <td>Celková nabídka účastníka</td>\n      <td>1393168.0</td>\n      <td>1143540.000</td>\n      <td>CZK</td>\n      <td>40</td>\n      <td>NaN</td>\n      <td>0.0</td>\n      <td>9561</td>\n      <td>poptavka</td>\n      <td>Stroje, zařízení, nástroje, nářadí</td>\n      <td>Nářadí a nástroje</td>\n      <td>4</td>\n      <td>0.0</td>\n      <td>1</td>\n      <td>NaN</td>\n      <td>0.1</td>\n      <td>unknown</td>\n      <td>unknown</td>\n      <td>unknown</td>\n      <td>unknown</td>\n      <td>unknown</td>\n      <td>unknown</td>\n      <td>unknown</td>\n      <td>unknown</td>\n      <td>unknown</td>\n    </tr>\n    <tr>\n      <th>1625</th>\n      <td>1105-60-3195</td>\n      <td>60</td>\n      <td>3195</td>\n      <td>2020-02-06 08:00:00</td>\n      <td>2020-02-06 11:00:00</td>\n      <td>Silniční doprav</td>\n      <td>Jednotlivé položky</td>\n      <td>0.0</td>\n      <td>36920.000</td>\n      <td>CZK</td>\n      <td>51</td>\n      <td>NaN</td>\n      <td>0.0</td>\n      <td>10834</td>\n      <td>poptavka</td>\n      <td>Dopravní služby, auto-moto a příslušenství</td>\n      <td>Silniční přeprava</td>\n      <td>1</td>\n      <td>0.0</td>\n      <td>0</td>\n      <td>NaN</td>\n      <td>0.0</td>\n      <td>unknown</td>\n      <td>unknown</td>\n      <td>unknown</td>\n      <td>unknown</td>\n      <td>unknown</td>\n      <td>unknown</td>\n      <td>unknown</td>\n      <td>unknown</td>\n      <td>unknown</td>\n    </tr>\n    <tr>\n      <th>1626</th>\n      <td>1105-60-3197</td>\n      <td>60</td>\n      <td>3197</td>\n      <td>2020-02-06 08:00:00</td>\n      <td>2020-02-10 07:00:00</td>\n      <td>Nástroje pro ob</td>\n      <td>Jednotlivé položky</td>\n      <td>0.0</td>\n      <td>6096.625</td>\n      <td>CZK</td>\n      <td>53</td>\n      <td>NaN</td>\n      <td>0.0</td>\n      <td>5977</td>\n      <td>poptavka</td>\n      <td>Stroje, zařízení, nástroje, nářadí</td>\n      <td>Nářadí a nástroje</td>\n      <td>10</td>\n      <td>0.0</td>\n      <td>0</td>\n      <td>NaN</td>\n      <td>0.1</td>\n      <td>unknown</td>\n      <td>unknown</td>\n      <td>unknown</td>\n      <td>unknown</td>\n      <td>unknown</td>\n      <td>unknown</td>\n      <td>unknown</td>\n      <td>unknown</td>\n      <td>unknown</td>\n    </tr>\n    <tr>\n      <th>1627</th>\n      <td>1105-60-3198</td>\n      <td>60</td>\n      <td>3198</td>\n      <td>2020-02-07 09:05:00</td>\n      <td>2020-02-07 11:30:00</td>\n      <td>Silniční doprav</td>\n      <td>Celková nabídka účastníka</td>\n      <td>0.0</td>\n      <td>22950.000</td>\n      <td>CZK</td>\n      <td>46</td>\n      <td>NaN</td>\n      <td>0.0</td>\n      <td>8956</td>\n      <td>poptavka</td>\n      <td>Dopravní služby, auto-moto a příslušenství</td>\n      <td>Silniční přeprava</td>\n      <td>1</td>\n      <td>0.0</td>\n      <td>0</td>\n      <td>NaN</td>\n      <td>0.0</td>\n      <td>unknown</td>\n      <td>unknown</td>\n      <td>unknown</td>\n      <td>unknown</td>\n      <td>unknown</td>\n      <td>unknown</td>\n      <td>unknown</td>\n      <td>unknown</td>\n      <td>unknown</td>\n    </tr>\n    <tr>\n      <th>...</th>\n      <td>...</td>\n      <td>...</td>\n      <td>...</td>\n      <td>...</td>\n      <td>...</td>\n      <td>...</td>\n      <td>...</td>\n      <td>...</td>\n      <td>...</td>\n      <td>...</td>\n      <td>...</td>\n      <td>...</td>\n      <td>...</td>\n      <td>...</td>\n      <td>...</td>\n      <td>...</td>\n      <td>...</td>\n      <td>...</td>\n      <td>...</td>\n      <td>...</td>\n      <td>...</td>\n      <td>...</td>\n      <td>...</td>\n      <td>...</td>\n      <td>...</td>\n      <td>...</td>\n      <td>...</td>\n      <td>...</td>\n      <td>...</td>\n      <td>...</td>\n      <td>...</td>\n    </tr>\n    <tr>\n      <th>13212</th>\n      <td>91-17-423</td>\n      <td>17</td>\n      <td>423</td>\n      <td>2020-04-14 09:00:00</td>\n      <td>2020-05-06 12:43:00</td>\n      <td>Realizace stavb</td>\n      <td>Celková nabídka účastníka</td>\n      <td>0.0</td>\n      <td>314820.000</td>\n      <td>CZK</td>\n      <td>5</td>\n      <td>NaN</td>\n      <td>0.0</td>\n      <td>3867</td>\n      <td>ERMMA</td>\n      <td>Stavebnictví</td>\n      <td>Stavební práce, rekonstrukce a revitalizace</td>\n      <td>1</td>\n      <td>0.0</td>\n      <td>14</td>\n      <td>Česká republika</td>\n      <td>0.1</td>\n      <td>unknown</td>\n      <td>unknown</td>\n      <td>unknown</td>\n      <td>unknown</td>\n      <td>unknown</td>\n      <td>unknown</td>\n      <td>unknown</td>\n      <td>unknown</td>\n      <td>unknown</td>\n    </tr>\n    <tr>\n      <th>13213</th>\n      <td>91-17-426</td>\n      <td>17</td>\n      <td>426</td>\n      <td>2020-04-15 09:00:00</td>\n      <td>2020-06-14 10:00:00</td>\n      <td>Realizace stavb</td>\n      <td>Celková nabídka účastníka</td>\n      <td>0.0</td>\n      <td>1353024.400</td>\n      <td>CZK</td>\n      <td>9</td>\n      <td>NaN</td>\n      <td>0.0</td>\n      <td>3863</td>\n      <td>zapecetene</td>\n      <td>Stavebnictví</td>\n      <td>Stavební práce, rekonstrukce a revitalizace</td>\n      <td>1</td>\n      <td>0.0</td>\n      <td>0</td>\n      <td>NaN</td>\n      <td>0.1</td>\n      <td>unknown</td>\n      <td>unknown</td>\n      <td>unknown</td>\n      <td>unknown</td>\n      <td>unknown</td>\n      <td>unknown</td>\n      <td>unknown</td>\n      <td>unknown</td>\n      <td>unknown</td>\n    </tr>\n    <tr>\n      <th>13214</th>\n      <td>91-17-429</td>\n      <td>17</td>\n      <td>429</td>\n      <td>2020-05-05 09:00:00</td>\n      <td>2020-05-14 12:15:00</td>\n      <td>Oprava plynovod</td>\n      <td>Celková nabídka účastníka</td>\n      <td>0.0</td>\n      <td>89183.000</td>\n      <td>CZK</td>\n      <td>1</td>\n      <td>NaN</td>\n      <td>0.0</td>\n      <td>4508</td>\n      <td>ERMMA</td>\n      <td>Stavebnictví</td>\n      <td>Stavební práce, rekonstrukce a revitalizace</td>\n      <td>1</td>\n      <td>0.0</td>\n      <td>0</td>\n      <td>Česká republika</td>\n      <td>0.1</td>\n      <td>unknown</td>\n      <td>unknown</td>\n      <td>unknown</td>\n      <td>unknown</td>\n      <td>unknown</td>\n      <td>unknown</td>\n      <td>unknown</td>\n      <td>unknown</td>\n      <td>unknown</td>\n    </tr>\n    <tr>\n      <th>13215</th>\n      <td>91-17-430</td>\n      <td>17</td>\n      <td>430</td>\n      <td>2020-07-13 09:00:00</td>\n      <td>2020-08-03 13:30:00</td>\n      <td>Realizace stavb</td>\n      <td>Celková nabídka účastníka</td>\n      <td>0.0</td>\n      <td>1101450.000</td>\n      <td>CZK</td>\n      <td>2</td>\n      <td>NaN</td>\n      <td>0.0</td>\n      <td>4508</td>\n      <td>zapecetene</td>\n      <td>Stavebnictví</td>\n      <td>Stavební úpravy potrubí a plynovodů</td>\n      <td>1</td>\n      <td>0.0</td>\n      <td>0</td>\n      <td>NaN</td>\n      <td>0.1</td>\n      <td>unknown</td>\n      <td>unknown</td>\n      <td>unknown</td>\n      <td>unknown</td>\n      <td>unknown</td>\n      <td>unknown</td>\n      <td>unknown</td>\n      <td>unknown</td>\n      <td>unknown</td>\n    </tr>\n    <tr>\n      <th>13216</th>\n      <td>91-17-431</td>\n      <td>17</td>\n      <td>431</td>\n      <td>2020-07-10 12:00:00</td>\n      <td>2020-07-23 12:00:00</td>\n      <td>Realizace stavb</td>\n      <td>Celková nabídka účastníka</td>\n      <td>0.0</td>\n      <td>143040.000</td>\n      <td>CZK</td>\n      <td>4</td>\n      <td>NaN</td>\n      <td>0.0</td>\n      <td>4508</td>\n      <td>zapecetene</td>\n      <td>Stavebnictví</td>\n      <td>Stavební úpravy potrubí a plynovodů</td>\n      <td>1</td>\n      <td>0.0</td>\n      <td>0</td>\n      <td>NaN</td>\n      <td>0.1</td>\n      <td>unknown</td>\n      <td>unknown</td>\n      <td>unknown</td>\n      <td>unknown</td>\n      <td>unknown</td>\n      <td>unknown</td>\n      <td>unknown</td>\n      <td>unknown</td>\n      <td>unknown</td>\n    </tr>\n  </tbody>\n</table>\n<p>11594 rows × 31 columns</p>\n</div>"
     },
     "execution_count": 31,
     "metadata": {},
     "output_type": "execute_result"
    }
   ],
   "source": [
    "rows_with_zero = hlavna[hlavna['PocetAktivnychUcast'] == 0]\n",
    "\n",
    "# Display the filtered rows\n",
    "rows_with_zero"
   ],
   "metadata": {
    "collapsed": false,
    "ExecuteTime": {
     "start_time": "2024-05-02T12:17:41.689913Z",
     "end_time": "2024-05-02T12:17:41.739656Z"
    }
   }
  },
  {
   "cell_type": "code",
   "execution_count": 31,
   "outputs": [
    {
     "data": {
      "text/plain": "2518"
     },
     "execution_count": 31,
     "metadata": {},
     "output_type": "execute_result"
    }
   ],
   "source": [
    "bidy['UniqueID'].nunique()\n",
    "\n",
    "#LEN TOLKO AUKCII JE OK"
   ],
   "metadata": {
    "collapsed": false,
    "ExecuteTime": {
     "start_time": "2024-04-11T11:14:23.164185Z",
     "end_time": "2024-04-11T11:14:23.173037Z"
    }
   }
  },
  {
   "cell_type": "code",
   "execution_count": 36,
   "outputs": [
    {
     "name": "stdout",
     "output_type": "stream",
     "text": [
      "13217\n",
      "1623\n",
      "11594\n"
     ]
    }
   ],
   "source": [
    "# Get the unique 'UniqueID's from the 'bidy' DataFrame\n",
    "unique_ids_bidy = bidy['UniqueID'].unique()\n",
    "print(len(hlavna))\n",
    "# Filter the 'hlavna' DataFrame to only include rows where 'UniqueID' is in 'unique_ids_bidy'\n",
    "filtered_hlavna = hlavna[hlavna['UniqueID'].isin(unique_ids_bidy)]\n",
    "\n",
    "# Get the number of rows in the filtered DataFrame\n",
    "num_rows = len(filtered_hlavna)\n",
    "\n",
    "print(num_rows)\n",
    "\n",
    "\n",
    "print(len(hlavna)-len(filtered_hlavna))"
   ],
   "metadata": {
    "collapsed": false,
    "ExecuteTime": {
     "start_time": "2024-05-03T21:48:53.805318Z",
     "end_time": "2024-05-03T21:48:54.112283Z"
    }
   }
  },
  {
   "cell_type": "code",
   "execution_count": 39,
   "outputs": [
    {
     "data": {
      "text/plain": "          UniqueID  Org  AucID              AucZac               AucKon  \\\n0      100-45-1364   45   1364 2017-10-13 13:30:00  2017-10-23 13:33:00   \n1      100-45-1365   45   1365 2017-10-06 12:00:00  2017-10-27 12:00:00   \n2      100-45-1369   45   1369 2017-10-12 08:30:00  2017-10-27 08:30:00   \n3      100-45-1378   45   1378 2017-10-17 12:30:00  2017-10-31 11:30:00   \n4      100-45-1379   45   1379 2017-10-23 10:00:00  2017-10-31 09:40:00   \n...            ...  ...    ...                 ...                  ...   \n1618  1105-60-3188   60   3188 2020-01-29 10:00:00  2020-01-29 13:00:00   \n1619  1105-60-3189   60   3189 2020-01-30 10:30:00  2020-01-30 13:30:00   \n1620  1105-60-3190   60   3190 2020-01-30 10:30:00  2020-01-30 13:30:00   \n1621  1105-60-3191   60   3191 2020-02-06 07:30:00  2020-02-10 02:30:00   \n1622  1105-60-3192   60   3192 2020-02-03 14:30:00  2020-02-18 13:00:00   \n\n            AucNazov1                      AucVal  Porovnávacia cena  \\\n0     Ocelové pásky v          Jednotlivé položky           24167.04   \n1     Cenová poptávka  Multikriteriální hodnocení               0.00   \n2     Cenová poptávka  Multikriteriální hodnocení               0.00   \n3     Cenová poptávka  Multikriteriální hodnocení               0.00   \n4     Doprava 2018 (S   Celková nabídka účastníka               0.00   \n...               ...                         ...                ...   \n1618  Silniční doprav          Jednotlivé položky               0.00   \n1619  Silniční doprav          Jednotlivé položky               0.00   \n1620  Silniční doprav          Jednotlivé položky               0.00   \n1621  Nástroje pro ob          Jednotlivé položky               0.00   \n1622  Sušící pec pro    Celková nabídka účastníka          104000.00   \n\n      VitaznaPonuka Mena  PocetPozvanok  PocetPrihlasenychUcast  \\\n0        24864.0000  EUR             10                     NaN   \n1       116400.0000  CZK             10                     NaN   \n2        13167.0000  CZK             12                     NaN   \n3        52062.4000  CZK              9                     NaN   \n4       262965.0771  EUR             24                     NaN   \n...             ...  ...            ...                     ...   \n1618     86500.0000  CZK             52                     NaN   \n1619      2111.5000  CZK             49                     NaN   \n1620      8330.0000  CZK             43                     NaN   \n1621      2059.2000  CZK             50                     NaN   \n1622     32223.0500  CZK             19                     NaN   \n\n      PocetAktivnychUcast  Vitaz AucTypUpresnenie  \\\n0                     6.0   2978            ERMMA   \n1                     2.0   3543         poptavka   \n2                     4.0   3543         poptavka   \n3                     2.0   5763         poptavka   \n4                     9.0   3578            ERMMA   \n...                   ...    ...              ...   \n1618                  7.0   5999         poptavka   \n1619                  7.0   8976         poptavka   \n1620                  8.0  11070         poptavka   \n1621                  2.0  10626         poptavka   \n1622                  1.0   5506         poptavka   \n\n                                           Kateg  \\\n0                 Hutní materiál, kovy a slitiny   \n1             Stroje, zařízení, nástroje, nářadí   \n2             Stroje, zařízení, nástroje, nářadí   \n3             Stroje, zařízení, nástroje, nářadí   \n4     Dopravní služby, auto-moto a příslušenství   \n...                                          ...   \n1618  Dopravní služby, auto-moto a příslušenství   \n1619  Dopravní služby, auto-moto a příslušenství   \n1620  Dopravní služby, auto-moto a příslušenství   \n1621          Stroje, zařízení, nástroje, nářadí   \n1622          Stroje, zařízení, nástroje, nářadí   \n\n                          Subkateg  PocetItems  PocetZmienPonuk  \\\n0                           Plechy           8             92.0   \n1                    Náhradní díly           2              4.0   \n2                    Náhradní díly           4             16.0   \n3                    Náhradní díly           4              5.0   \n4                Silniční přeprava          65            566.0   \n...                            ...         ...              ...   \n1618             Silniční přeprava           2             17.0   \n1619             Silniční přeprava           1              8.0   \n1620             Silniční přeprava           1             13.0   \n1621             Nářadí a nástroje           1              3.0   \n1622  Svařovací materiály a služby           1              1.0   \n\n      PocetPredlzeni             Stat  MinKrokZnizPercenta PocKolERMMA  \\\n0                 11  Česká republika                  0.0     unknown   \n1                  0  Česká republika                  0.1     unknown   \n2                  0  Česká republika                  0.1     unknown   \n3                  0  Česká republika                  0.1     unknown   \n4                 86  Česká republika                  0.0     unknown   \n...              ...              ...                  ...         ...   \n1618               0              NaN                  0.0     unknown   \n1619               0              NaN                  0.0     unknown   \n1620               0              NaN                  0.0     unknown   \n1621               0              NaN                  0.1     unknown   \n1622               0              NaN                  0.1     unknown   \n\n     PocKolZadavac PocKolNIPPON PocKolHOLLAND UsporaPorov UsporaVstup  \\\n0          unknown      unknown       unknown     unknown     unknown   \n1          unknown      unknown       unknown     unknown     unknown   \n2          unknown      unknown       unknown     unknown     unknown   \n3          unknown      unknown       unknown     unknown     unknown   \n4          unknown      unknown       unknown     unknown     unknown   \n...            ...          ...           ...         ...         ...   \n1618       unknown      unknown       unknown     unknown     unknown   \n1619       unknown      unknown       unknown     unknown     unknown   \n1620       unknown      unknown       unknown     unknown     unknown   \n1621       unknown      unknown       unknown     unknown     unknown   \n1622       unknown      unknown       unknown     unknown     unknown   \n\n     UsporaAukc KoefVarPonukCelk KoefVarPonukERMNIP  \n0       unknown          unknown            unknown  \n1       unknown          unknown            unknown  \n2       unknown          unknown            unknown  \n3       unknown          unknown            unknown  \n4       unknown          unknown            unknown  \n...         ...              ...                ...  \n1618    unknown          unknown            unknown  \n1619    unknown          unknown            unknown  \n1620    unknown          unknown            unknown  \n1621    unknown          unknown            unknown  \n1622    unknown          unknown            unknown  \n\n[1623 rows x 31 columns]",
      "text/html": "<div>\n<style scoped>\n    .dataframe tbody tr th:only-of-type {\n        vertical-align: middle;\n    }\n\n    .dataframe tbody tr th {\n        vertical-align: top;\n    }\n\n    .dataframe thead th {\n        text-align: right;\n    }\n</style>\n<table border=\"1\" class=\"dataframe\">\n  <thead>\n    <tr style=\"text-align: right;\">\n      <th></th>\n      <th>UniqueID</th>\n      <th>Org</th>\n      <th>AucID</th>\n      <th>AucZac</th>\n      <th>AucKon</th>\n      <th>AucNazov1</th>\n      <th>AucVal</th>\n      <th>Porovnávacia cena</th>\n      <th>VitaznaPonuka</th>\n      <th>Mena</th>\n      <th>PocetPozvanok</th>\n      <th>PocetPrihlasenychUcast</th>\n      <th>PocetAktivnychUcast</th>\n      <th>Vitaz</th>\n      <th>AucTypUpresnenie</th>\n      <th>Kateg</th>\n      <th>Subkateg</th>\n      <th>PocetItems</th>\n      <th>PocetZmienPonuk</th>\n      <th>PocetPredlzeni</th>\n      <th>Stat</th>\n      <th>MinKrokZnizPercenta</th>\n      <th>PocKolERMMA</th>\n      <th>PocKolZadavac</th>\n      <th>PocKolNIPPON</th>\n      <th>PocKolHOLLAND</th>\n      <th>UsporaPorov</th>\n      <th>UsporaVstup</th>\n      <th>UsporaAukc</th>\n      <th>KoefVarPonukCelk</th>\n      <th>KoefVarPonukERMNIP</th>\n    </tr>\n  </thead>\n  <tbody>\n    <tr>\n      <th>0</th>\n      <td>100-45-1364</td>\n      <td>45</td>\n      <td>1364</td>\n      <td>2017-10-13 13:30:00</td>\n      <td>2017-10-23 13:33:00</td>\n      <td>Ocelové pásky v</td>\n      <td>Jednotlivé položky</td>\n      <td>24167.04</td>\n      <td>24864.0000</td>\n      <td>EUR</td>\n      <td>10</td>\n      <td>NaN</td>\n      <td>6.0</td>\n      <td>2978</td>\n      <td>ERMMA</td>\n      <td>Hutní materiál, kovy a slitiny</td>\n      <td>Plechy</td>\n      <td>8</td>\n      <td>92.0</td>\n      <td>11</td>\n      <td>Česká republika</td>\n      <td>0.0</td>\n      <td>unknown</td>\n      <td>unknown</td>\n      <td>unknown</td>\n      <td>unknown</td>\n      <td>unknown</td>\n      <td>unknown</td>\n      <td>unknown</td>\n      <td>unknown</td>\n      <td>unknown</td>\n    </tr>\n    <tr>\n      <th>1</th>\n      <td>100-45-1365</td>\n      <td>45</td>\n      <td>1365</td>\n      <td>2017-10-06 12:00:00</td>\n      <td>2017-10-27 12:00:00</td>\n      <td>Cenová poptávka</td>\n      <td>Multikriteriální hodnocení</td>\n      <td>0.00</td>\n      <td>116400.0000</td>\n      <td>CZK</td>\n      <td>10</td>\n      <td>NaN</td>\n      <td>2.0</td>\n      <td>3543</td>\n      <td>poptavka</td>\n      <td>Stroje, zařízení, nástroje, nářadí</td>\n      <td>Náhradní díly</td>\n      <td>2</td>\n      <td>4.0</td>\n      <td>0</td>\n      <td>Česká republika</td>\n      <td>0.1</td>\n      <td>unknown</td>\n      <td>unknown</td>\n      <td>unknown</td>\n      <td>unknown</td>\n      <td>unknown</td>\n      <td>unknown</td>\n      <td>unknown</td>\n      <td>unknown</td>\n      <td>unknown</td>\n    </tr>\n    <tr>\n      <th>2</th>\n      <td>100-45-1369</td>\n      <td>45</td>\n      <td>1369</td>\n      <td>2017-10-12 08:30:00</td>\n      <td>2017-10-27 08:30:00</td>\n      <td>Cenová poptávka</td>\n      <td>Multikriteriální hodnocení</td>\n      <td>0.00</td>\n      <td>13167.0000</td>\n      <td>CZK</td>\n      <td>12</td>\n      <td>NaN</td>\n      <td>4.0</td>\n      <td>3543</td>\n      <td>poptavka</td>\n      <td>Stroje, zařízení, nástroje, nářadí</td>\n      <td>Náhradní díly</td>\n      <td>4</td>\n      <td>16.0</td>\n      <td>0</td>\n      <td>Česká republika</td>\n      <td>0.1</td>\n      <td>unknown</td>\n      <td>unknown</td>\n      <td>unknown</td>\n      <td>unknown</td>\n      <td>unknown</td>\n      <td>unknown</td>\n      <td>unknown</td>\n      <td>unknown</td>\n      <td>unknown</td>\n    </tr>\n    <tr>\n      <th>3</th>\n      <td>100-45-1378</td>\n      <td>45</td>\n      <td>1378</td>\n      <td>2017-10-17 12:30:00</td>\n      <td>2017-10-31 11:30:00</td>\n      <td>Cenová poptávka</td>\n      <td>Multikriteriální hodnocení</td>\n      <td>0.00</td>\n      <td>52062.4000</td>\n      <td>CZK</td>\n      <td>9</td>\n      <td>NaN</td>\n      <td>2.0</td>\n      <td>5763</td>\n      <td>poptavka</td>\n      <td>Stroje, zařízení, nástroje, nářadí</td>\n      <td>Náhradní díly</td>\n      <td>4</td>\n      <td>5.0</td>\n      <td>0</td>\n      <td>Česká republika</td>\n      <td>0.1</td>\n      <td>unknown</td>\n      <td>unknown</td>\n      <td>unknown</td>\n      <td>unknown</td>\n      <td>unknown</td>\n      <td>unknown</td>\n      <td>unknown</td>\n      <td>unknown</td>\n      <td>unknown</td>\n    </tr>\n    <tr>\n      <th>4</th>\n      <td>100-45-1379</td>\n      <td>45</td>\n      <td>1379</td>\n      <td>2017-10-23 10:00:00</td>\n      <td>2017-10-31 09:40:00</td>\n      <td>Doprava 2018 (S</td>\n      <td>Celková nabídka účastníka</td>\n      <td>0.00</td>\n      <td>262965.0771</td>\n      <td>EUR</td>\n      <td>24</td>\n      <td>NaN</td>\n      <td>9.0</td>\n      <td>3578</td>\n      <td>ERMMA</td>\n      <td>Dopravní služby, auto-moto a příslušenství</td>\n      <td>Silniční přeprava</td>\n      <td>65</td>\n      <td>566.0</td>\n      <td>86</td>\n      <td>Česká republika</td>\n      <td>0.0</td>\n      <td>unknown</td>\n      <td>unknown</td>\n      <td>unknown</td>\n      <td>unknown</td>\n      <td>unknown</td>\n      <td>unknown</td>\n      <td>unknown</td>\n      <td>unknown</td>\n      <td>unknown</td>\n    </tr>\n    <tr>\n      <th>...</th>\n      <td>...</td>\n      <td>...</td>\n      <td>...</td>\n      <td>...</td>\n      <td>...</td>\n      <td>...</td>\n      <td>...</td>\n      <td>...</td>\n      <td>...</td>\n      <td>...</td>\n      <td>...</td>\n      <td>...</td>\n      <td>...</td>\n      <td>...</td>\n      <td>...</td>\n      <td>...</td>\n      <td>...</td>\n      <td>...</td>\n      <td>...</td>\n      <td>...</td>\n      <td>...</td>\n      <td>...</td>\n      <td>...</td>\n      <td>...</td>\n      <td>...</td>\n      <td>...</td>\n      <td>...</td>\n      <td>...</td>\n      <td>...</td>\n      <td>...</td>\n      <td>...</td>\n    </tr>\n    <tr>\n      <th>1618</th>\n      <td>1105-60-3188</td>\n      <td>60</td>\n      <td>3188</td>\n      <td>2020-01-29 10:00:00</td>\n      <td>2020-01-29 13:00:00</td>\n      <td>Silniční doprav</td>\n      <td>Jednotlivé položky</td>\n      <td>0.00</td>\n      <td>86500.0000</td>\n      <td>CZK</td>\n      <td>52</td>\n      <td>NaN</td>\n      <td>7.0</td>\n      <td>5999</td>\n      <td>poptavka</td>\n      <td>Dopravní služby, auto-moto a příslušenství</td>\n      <td>Silniční přeprava</td>\n      <td>2</td>\n      <td>17.0</td>\n      <td>0</td>\n      <td>NaN</td>\n      <td>0.0</td>\n      <td>unknown</td>\n      <td>unknown</td>\n      <td>unknown</td>\n      <td>unknown</td>\n      <td>unknown</td>\n      <td>unknown</td>\n      <td>unknown</td>\n      <td>unknown</td>\n      <td>unknown</td>\n    </tr>\n    <tr>\n      <th>1619</th>\n      <td>1105-60-3189</td>\n      <td>60</td>\n      <td>3189</td>\n      <td>2020-01-30 10:30:00</td>\n      <td>2020-01-30 13:30:00</td>\n      <td>Silniční doprav</td>\n      <td>Jednotlivé položky</td>\n      <td>0.00</td>\n      <td>2111.5000</td>\n      <td>CZK</td>\n      <td>49</td>\n      <td>NaN</td>\n      <td>7.0</td>\n      <td>8976</td>\n      <td>poptavka</td>\n      <td>Dopravní služby, auto-moto a příslušenství</td>\n      <td>Silniční přeprava</td>\n      <td>1</td>\n      <td>8.0</td>\n      <td>0</td>\n      <td>NaN</td>\n      <td>0.0</td>\n      <td>unknown</td>\n      <td>unknown</td>\n      <td>unknown</td>\n      <td>unknown</td>\n      <td>unknown</td>\n      <td>unknown</td>\n      <td>unknown</td>\n      <td>unknown</td>\n      <td>unknown</td>\n    </tr>\n    <tr>\n      <th>1620</th>\n      <td>1105-60-3190</td>\n      <td>60</td>\n      <td>3190</td>\n      <td>2020-01-30 10:30:00</td>\n      <td>2020-01-30 13:30:00</td>\n      <td>Silniční doprav</td>\n      <td>Jednotlivé položky</td>\n      <td>0.00</td>\n      <td>8330.0000</td>\n      <td>CZK</td>\n      <td>43</td>\n      <td>NaN</td>\n      <td>8.0</td>\n      <td>11070</td>\n      <td>poptavka</td>\n      <td>Dopravní služby, auto-moto a příslušenství</td>\n      <td>Silniční přeprava</td>\n      <td>1</td>\n      <td>13.0</td>\n      <td>0</td>\n      <td>NaN</td>\n      <td>0.0</td>\n      <td>unknown</td>\n      <td>unknown</td>\n      <td>unknown</td>\n      <td>unknown</td>\n      <td>unknown</td>\n      <td>unknown</td>\n      <td>unknown</td>\n      <td>unknown</td>\n      <td>unknown</td>\n    </tr>\n    <tr>\n      <th>1621</th>\n      <td>1105-60-3191</td>\n      <td>60</td>\n      <td>3191</td>\n      <td>2020-02-06 07:30:00</td>\n      <td>2020-02-10 02:30:00</td>\n      <td>Nástroje pro ob</td>\n      <td>Jednotlivé položky</td>\n      <td>0.00</td>\n      <td>2059.2000</td>\n      <td>CZK</td>\n      <td>50</td>\n      <td>NaN</td>\n      <td>2.0</td>\n      <td>10626</td>\n      <td>poptavka</td>\n      <td>Stroje, zařízení, nástroje, nářadí</td>\n      <td>Nářadí a nástroje</td>\n      <td>1</td>\n      <td>3.0</td>\n      <td>0</td>\n      <td>NaN</td>\n      <td>0.1</td>\n      <td>unknown</td>\n      <td>unknown</td>\n      <td>unknown</td>\n      <td>unknown</td>\n      <td>unknown</td>\n      <td>unknown</td>\n      <td>unknown</td>\n      <td>unknown</td>\n      <td>unknown</td>\n    </tr>\n    <tr>\n      <th>1622</th>\n      <td>1105-60-3192</td>\n      <td>60</td>\n      <td>3192</td>\n      <td>2020-02-03 14:30:00</td>\n      <td>2020-02-18 13:00:00</td>\n      <td>Sušící pec pro</td>\n      <td>Celková nabídka účastníka</td>\n      <td>104000.00</td>\n      <td>32223.0500</td>\n      <td>CZK</td>\n      <td>19</td>\n      <td>NaN</td>\n      <td>1.0</td>\n      <td>5506</td>\n      <td>poptavka</td>\n      <td>Stroje, zařízení, nástroje, nářadí</td>\n      <td>Svařovací materiály a služby</td>\n      <td>1</td>\n      <td>1.0</td>\n      <td>0</td>\n      <td>NaN</td>\n      <td>0.1</td>\n      <td>unknown</td>\n      <td>unknown</td>\n      <td>unknown</td>\n      <td>unknown</td>\n      <td>unknown</td>\n      <td>unknown</td>\n      <td>unknown</td>\n      <td>unknown</td>\n      <td>unknown</td>\n    </tr>\n  </tbody>\n</table>\n<p>1623 rows × 31 columns</p>\n</div>"
     },
     "execution_count": 39,
     "metadata": {},
     "output_type": "execute_result"
    }
   ],
   "source": [
    "filtered_hlavna"
   ],
   "metadata": {
    "collapsed": false,
    "ExecuteTime": {
     "start_time": "2024-05-03T21:52:18.702659Z",
     "end_time": "2024-05-03T21:52:18.785657Z"
    }
   }
  },
  {
   "cell_type": "code",
   "execution_count": 56,
   "outputs": [
    {
     "name": "stdout",
     "output_type": "stream",
     "text": [
      "6\n",
      "8\n"
     ]
    }
   ],
   "source": [
    "unique_participant_count = filtered_bidy['IDParticipant'].nunique()\n",
    "print(unique_participant_count)\n",
    "unique_item_count = filtered_bidy['IDItem'].nunique()\n",
    "print(unique_item_count)"
   ],
   "metadata": {
    "collapsed": false,
    "ExecuteTime": {
     "start_time": "2024-04-11T13:51:44.680904Z",
     "end_time": "2024-04-11T13:51:44.688874Z"
    }
   }
  },
  {
   "cell_type": "code",
   "execution_count": 24,
   "outputs": [],
   "source": [
    "# Fill the null values in 'PocetZmienPonuk' column with 0\n",
    "hlavna['PocetAktivnychUcast'] = hlavna['PocetAktivnychUcast'].fillna(0)\n",
    "\n",
    "# Convert the data type of 'PocetZmienPonuk' column to integer\n",
    "hlavna['PocetAktivnychUcast'] = hlavna['PocetAktivnychUcast'].astype(int)"
   ],
   "metadata": {
    "collapsed": false,
    "ExecuteTime": {
     "start_time": "2024-05-02T12:13:00.867998Z",
     "end_time": "2024-05-02T12:13:00.887075Z"
    }
   }
  },
  {
   "cell_type": "code",
   "execution_count": 29,
   "outputs": [
    {
     "name": "stdout",
     "output_type": "stream",
     "text": [
      "{'100-45-1364': 6, '100-45-1365': 2, '100-45-1366': 2, '100-45-1368': 2, '100-45-1369': 4, '100-45-1378': 2, '100-45-1379': 9, '100-45-1380': 18, '100-45-1382': 14, '100-45-1383': 6, '100-45-1385': 3, '100-45-1386': 2, '100-45-1387': 5, '100-45-1388': 4, '100-45-1389': 4, '100-45-1390': 3, '100-45-1391': 4, '100-45-1392': 4, '100-45-1393': 5, '100-45-1394': 7, '100-45-1396': 4, '100-45-1397': 3, '100-45-1398': 6, '100-45-1401': 6, '100-45-1402': 3, '100-45-1403': 6, '100-45-1404': 3, '100-45-1405': 2, '100-45-1406': 6, '100-45-1408': 4, '100-45-1410': 2, '100-45-1411': 7, '100-45-1412': 4, '100-45-1413': 3, '100-45-1414': 8, '100-45-1415': 5, '100-45-1416': 7, '100-45-1417': 3, '100-45-1419': 7, '100-45-1420': 6, '100-45-1422': 5, '100-45-1423': 4, '100-45-1424': 7, '100-45-1425': 12, '100-45-1426': 11, '100-45-1427': 6, '100-45-1428': 2, '100-45-1429': 6, '100-45-1430': 6, '100-45-1431': 5, '100-45-1435': 6, '100-45-1437': 5, '100-45-1438': 4, '100-45-1439': 6, '100-45-1441': 7, '100-45-1442': 5, '100-45-1443': 2, '100-45-1444': 8, '100-45-1446': 2, '100-45-1447': 7, '100-45-1448': 5, '100-45-1449': 8, '100-45-1450': 6, '100-45-1451': 6, '100-45-1452': 7, '100-45-1453': 1, '100-45-1454': 6, '100-45-1455': 5, '100-45-1456': 7, '100-45-1457': 6, '100-45-1458': 5, '100-45-1460': 2, '100-45-1461': 8, '100-45-1462': 6, '100-45-1463': 5, '100-45-1464': 5, '100-45-1466': 6, '100-45-1467': 6, '100-45-1468': 4, '100-45-1469': 6, '100-45-1471': 6, '100-45-1472': 6, '100-45-1474': 5, '100-45-1475': 5, '100-45-1477': 4, '100-45-1478': 5, '100-45-1479': 6, '100-45-1481': 4, '100-45-1482': 5, '100-45-1483': 4, '102-141-2381': 2, '102-141-2382': 2, '102-141-2412': 4, '102-141-2413': 3, '102-142-2355': 2, '102-142-2368': 1, '102-142-2399': 2, '102-143-2349': 1, '102-143-2350': 2, '102-143-2354': 1, '102-143-2356': 3, '102-143-2357': 2, '102-143-2361': 3, '102-143-2363': 3, '102-143-2372': 2, '102-143-2373': 4, '102-143-2377': 2, '102-143-2378': 2, '102-143-2379': 2, '102-143-2380': 3, '102-143-2383': 4, '102-143-2384': 4, '102-143-2385': 4, '102-143-2388': 3, '102-143-2389': 1, '102-143-2390': 4, '102-143-2391': 2, '102-143-2392': 1, '102-143-2397': 1, '102-143-2398': 2, '102-143-2401': 1, '102-143-2402': 8, '102-143-2406': 3, '102-143-2408': 4, '102-143-2414': 1, '102-146-2348': 3, '102-146-2352': 3, '102-146-2353': 3, '102-146-2359': 3, '102-146-2360': 4, '102-146-2366': 2, '102-146-2369': 3, '102-146-2374': 2, '102-146-2375': 2, '102-146-2376': 2, '102-146-2387': 3, '102-146-2393': 3, '102-146-2394': 2, '102-146-2395': 3, '102-146-2396': 2, '102-146-2403': 4, '102-146-2404': 4, '102-146-2407': 2, '102-146-2409': 3, '102-146-2410': 5, '1040-168-5831': 5, '1040-168-5833': 1, '1040-168-5835': 3, '1040-168-5836': 2, '1040-168-5837': 2, '1040-168-5838': 3, '1040-168-5839': 5, '106-100-5636': 3, '106-100-5719': 1, '106-100-5839': 3, '106-100-5880': 3, '106-100-5885': 3, '106-100-5888': 3, '106-100-5975': 1, '106-100-5980': 1, '106-100-6011': 2, '106-100-6027': 3, '106-100-6078': 3, '106-100-6083': 3, '106-100-6316': 3, '106-100-6341': 2, '106-100-6414': 3, '106-100-6530': 3, '106-100-6531': 3, '106-100-6532': 3, '106-100-6541': 3, '106-100-6835': 3, '106-100-6876': 3, '106-101-5651': 3, '106-101-5672': 3, '106-101-5951': 3, '106-101-5958': 3, '106-101-6069': 3, '106-101-6086': 3, '106-101-6141': 3, '106-101-6317': 3, '106-101-6371': 3, '106-101-6509': 6, '106-101-6747': 1, '106-101-6831': 3, '106-102-5542': 2, '106-102-5563': 2, '106-102-5599': 1, '106-102-5610': 1, '106-102-5664': 1, '106-102-5665': 1, '106-102-5666': 1, '106-102-5695': 2, '106-102-5711': 2, '106-102-5712': 2, '106-102-5713': 3, '106-102-5819': 3, '106-102-5842': 3, '106-102-5927': 3, '106-102-5964': 3, '106-102-5965': 3, '106-102-5970': 1, '106-102-6025': 1, '106-102-6079': 1, '106-102-6089': 2, '106-102-6093': 1, '106-102-6101': 1, '106-102-6106': 2, '106-102-6147': 2, '106-102-6148': 1, '106-102-6176': 2, '106-102-6183': 1, '106-102-6237': 2, '106-102-6295': 1, '106-102-6297': 3, '106-102-6308': 1, '106-102-6310': 1, '106-102-6365': 1, '106-102-6380': 1, '106-102-6401': 3, '106-102-6428': 3, '106-102-6439': 1, '106-102-6440': 2, '106-102-6447': 3, '106-102-6448': 2, '106-102-6473': 2, '106-102-6479': 2, '106-102-6513': 2, '106-102-6556': 1, '106-102-6568': 2, '106-102-6574': 2, '106-102-6594': 2, '106-102-6601': 2, '106-102-6612': 2, '106-102-6663': 1, '106-102-6721': 2, '106-102-6728': 4, '106-102-6731': 1, '106-102-6744': 1, '106-102-6746': 1, '106-102-6750': 1, '106-102-6751': 3, '106-102-6759': 2, '106-102-6788': 2, '106-102-6880': 3, '106-102-6881': 3, '106-102-6924': 3, '106-102-6937': 1, '106-102-6946': 3, '106-102-6956': 1, '106-102-6957': 4, '106-102-6958': 2, '106-102-6961': 1, '106-102-6965': 1, '106-102-6966': 2, '106-102-6967': 1, '106-102-6968': 2, '106-102-6969': 1, '106-102-6971': 1, '106-102-6972': 2, '106-102-6973': 2, '106-103-5525': 2, '106-103-5533': 2, '106-103-5535': 1, '106-103-5560': 2, '106-103-5569': 1, '106-103-5653': 2, '106-103-5729': 1, '106-103-5826': 1, '106-103-6104': 3, '106-103-6168': 1, '106-103-6296': 3, '106-103-6311': 2, '106-103-6320': 3, '106-103-6339': 3, '106-103-6403': 3, '106-103-6453': 2, '106-103-6608': 2, '106-103-6653': 2, '106-103-6703': 3, '106-103-6737': 1, '106-103-6886': 3, '106-103-6891': 1, '106-103-6913': 2, '106-103-6915': 1, '106-106-6794': 5, '106-106-6818': 8, '106-106-6905': 18, '106-106-6906': 13, '106-77-5420': 1, '106-77-5536': 2, '106-77-5539': 3, '106-77-5540': 3, '106-77-5546': 3, '106-77-5570': 2, '106-77-5571': 3, '106-77-5572': 3, '106-77-5573': 3, '106-77-5581': 3, '106-77-5612': 2, '106-77-5613': 3, '106-77-5624': 3, '106-77-5629': 3, '106-77-5631': 1, '106-77-5641': 1, '106-77-5646': 2, '106-77-5647': 3, '106-77-5654': 3, '106-77-5660': 5, '106-77-5668': 2, '106-77-5670': 1, '106-77-5671': 2, '106-77-5678': 3, '106-77-5679': 2, '106-77-5704': 1, '106-77-5705': 2, '106-77-5707': 2, '106-77-5709': 3, '106-77-5718': 3, '106-77-5722': 2, '106-77-5725': 3, '106-77-5728': 3, '106-77-5731': 3, '106-77-5732': 3, '106-77-5767': 3, '106-77-5812': 2, '106-77-5824': 3, '106-77-5828': 1, '106-77-5836': 3, '106-77-5837': 3, '106-77-5838': 2, '106-77-5840': 3, '106-77-5845': 2, '106-77-5846': 4, '106-77-5884': 3, '106-77-5886': 3, '106-77-5887': 3, '106-77-5890': 1, '106-77-5892': 3, '106-77-5894': 3, '106-77-5895': 3, '106-77-5897': 2, '106-77-5898': 2, '106-77-5901': 3, '106-77-5902': 2, '106-77-5904': 3, '106-77-5909': 3, '106-77-5910': 3, '106-77-5911': 3, '106-77-5922': 3, '106-77-5923': 3, '106-77-5928': 2, '106-77-5929': 2, '106-77-5933': 2, '106-77-5934': 3, '106-77-5941': 3, '106-77-5942': 3, '106-77-5944': 1, '106-77-5945': 3, '106-77-5961': 3, '106-77-5968': 2, '106-77-5979': 3, '106-77-5985': 2, '106-77-5988': 3, '106-77-5994': 3, '106-77-5995': 2, '106-77-5997': 1, '106-77-6000': 2, '106-77-6003': 2, '106-77-6014': 2, '106-77-6017': 2, '106-77-6021': 2, '106-77-6028': 2, '106-77-6034': 3, '106-77-6035': 3, '106-77-6039': 2, '106-77-6041': 3, '106-77-6045': 2, '106-77-6061': 3, '106-77-6066': 4, '106-77-6077': 3, '106-77-6085': 2, '106-77-6110': 4, '106-77-6130': 1, '106-77-6152': 3, '106-77-6154': 4, '106-77-6157': 2, '106-77-6158': 3, '106-77-6159': 3, '106-77-6162': 3, '106-77-6182': 3, '106-77-6210': 3, '106-77-6290': 3, '106-77-6300': 1, '106-77-6302': 2, '106-77-6327': 2, '106-77-6338': 3, '106-77-6344': 2, '106-77-6347': 3, '106-77-6350': 1, '106-77-6363': 3, '106-77-6386': 5, '106-77-6437': 5, '106-77-6454': 3, '106-77-6463': 2, '106-77-6472': 2, '106-77-6476': 1, '106-77-6495': 5, '106-77-6500': 2, '106-77-6501': 2, '106-77-6503': 1, '106-77-6512': 3, '106-77-6515': 2, '106-77-6516': 3, '106-77-6517': 3, '106-77-6520': 3, '106-77-6533': 2, '106-77-6544': 3, '106-77-6547': 1, '106-77-6589': 2, '106-77-6596': 2, '106-77-6606': 2, '106-77-6615': 1, '106-77-6617': 2, '106-77-6621': 3, '106-77-6622': 1, '106-77-6623': 3, '106-77-6624': 3, '106-77-6630': 3, '106-77-6632': 3, '106-77-6634': 2, '106-77-6635': 3, '106-77-6643': 3, '106-77-6644': 2, '106-77-6650': 3, '106-77-6654': 1, '106-77-6655': 1, '106-77-6664': 2, '106-77-6678': 2, '106-77-6682': 4, '106-77-6683': 1, '106-77-6685': 1, '106-77-6686': 4, '106-77-6687': 5, '106-77-6688': 3, '106-77-6689': 4, '106-77-6690': 2, '106-77-6691': 1, '106-77-6692': 1, '106-77-6694': 4, '106-77-6696': 1, '106-77-6700': 3, '106-77-6701': 2, '106-77-6702': 3, '106-77-6704': 3, '106-77-6707': 1, '106-77-6710': 2, '106-77-6713': 3, '106-77-6714': 3, '106-77-6715': 2, '106-77-6727': 3, '106-77-6729': 2, '106-77-6734': 3, '106-77-6742': 3, '106-77-6763': 3, '106-77-6765': 3, '106-77-6768': 1, '106-77-6796': 3, '106-77-6807': 3, '106-77-6808': 3, '106-77-6809': 2, '106-77-6810': 4, '106-77-6813': 5, '106-77-6815': 4, '106-77-6817': 2, '106-77-6823': 2, '106-77-6836': 3, '106-77-6867': 3, '106-77-6877': 1, '106-77-6878': 3, '106-77-6879': 3, '106-77-6883': 3, '106-77-6895': 1, '106-77-6918': 1, '106-77-6921': 2, '106-77-6933': 2, '106-77-6942': 2, '106-77-6949': 1, '106-77-6959': 3, '106-78-5693': 3, '106-78-5694': 3, '106-78-5834': 3, '106-78-5835': 3, '106-78-6084': 2, '106-78-6216': 2, '106-78-6331': 1, '106-78-6332': 3, '106-78-6433': 3, '106-78-6465': 3, '106-78-6504': 3, '106-78-6569': 3, '106-78-6570': 3, '106-78-6581': 3, '106-78-6659': 3, '106-78-6699': 3, '106-79-5700': 2, '106-79-5721': 2, '106-79-5874': 1, '106-79-6075': 2, '106-79-6212': 1, '106-79-6301': 1, '106-79-6336': 3, '106-79-6408': 3, '106-79-6419': 2, '106-79-6508': 1, '106-79-6572': 2, '106-79-6611': 3, '106-79-6720': 1, '106-79-6758': 2, '106-79-6884': 3, '106-81-5621': 2, '106-81-5628': 3, '106-81-5634': 3, '106-81-5663': 1, '106-81-5677': 2, '106-81-5680': 2, '106-81-5698': 2, '106-81-5708': 3, '106-81-5720': 2, '106-81-5764': 3, '106-81-5833': 3, '106-81-5848': 2, '106-81-5972': 3, '106-81-5973': 3, '106-81-5974': 2, '106-81-5989': 2, '106-81-5990': 2, '106-81-6012': 2, '106-81-6013': 2, '106-81-6063': 2, '106-81-6163': 2, '106-81-6164': 2, '106-81-6167': 3, '106-81-6294': 3, '106-81-6323': 2, '106-81-6335': 1, '106-81-6352': 2, '106-81-6353': 2, '106-81-6361': 3, '106-81-6377': 3, '106-81-6388': 2, '106-81-6423': 3, '106-81-6436': 6, '106-81-6452': 1, '106-81-6480': 3, '106-81-6481': 2, '106-81-6497': 1, '106-81-6502': 3, '106-81-6507': 2, '106-81-6549': 3, '106-81-6551': 3, '106-81-6557': 3, '106-81-6575': 3, '106-81-6609': 2, '106-81-6610': 2, '106-81-6662': 3, '106-81-6730': 3, '106-81-6738': 2, '106-81-6806': 3, '106-81-6892': 1, '106-81-6896': 3, '106-81-6920': 2, '106-81-6923': 2, '106-81-6939': 3, '106-82-5545': 3, '106-82-5558': 2, '106-82-5562': 3, '106-82-5579': 3, '106-82-5580': 3, '106-82-5582': 1, '106-82-5585': 5, '106-82-5602': 3, '106-82-5603': 3, '106-82-5604': 2, '106-82-5606': 3, '106-82-5611': 3, '106-82-5619': 2, '106-82-5620': 3, '106-82-5638': 1, '106-82-5639': 3, '106-82-5640': 3, '106-82-5643': 3, '106-82-5645': 2, '106-82-5657': 3, '106-82-5673': 3, '106-82-5676': 3, '106-82-5692': 3, '106-82-5724': 3, '106-82-5843': 3, '106-82-5844': 2, '106-82-5852': 3, '106-82-5881': 3, '106-82-5908': 3, '106-82-5939': 3, '106-82-5991': 4, '106-82-5992': 3, '106-82-6019': 2, '106-82-6046': 3, '106-82-6059': 3, '106-82-6096': 3, '106-82-6103': 3, '106-82-6143': 3, '106-82-6144': 3, '106-82-6170': 4, '106-82-6172': 2, '106-82-6179': 3, '106-82-6286': 3, '106-82-6291': 2, '106-82-6305': 3, '106-82-6328': 3, '106-82-6370': 4, '106-82-6392': 3, '106-82-6415': 2, '106-82-6416': 3, '106-82-6469': 4, '106-82-6489': 4, '106-82-6491': 3, '106-82-6492': 1, '106-82-6493': 3, '106-82-6560': 2, '106-82-6679': 3, '106-82-6718': 2, '106-82-6719': 2, '106-82-6739': 3, '106-82-6764': 3, '106-82-6828': 3, '106-82-6829': 4, '106-82-6868': 1, '106-82-6885': 3, '106-82-6887': 3, '106-82-6888': 3, '106-82-6889': 3, '106-82-6893': 3, '106-82-6910': 3, '106-82-6927': 3, '106-82-6929': 3, '106-82-6960': 1, '106-83-5878': 2, '106-83-6538': 3, '106-83-6539': 3, '106-83-6649': 3, '106-83-6677': 3, '106-83-6756': 2, '106-84-5584': 2, '106-84-5586': 3, '106-84-5587': 2, '106-84-5588': 3, '106-84-5589': 3, '106-84-5591': 3, '106-84-5592': 3, '106-84-5594': 2, '106-84-5595': 3, '106-84-5630': 1, '106-84-5644': 1, '106-84-5703': 2, '106-84-5726': 2, '106-84-5893': 1, '106-84-5917': 2, '106-84-5953': 3, '106-84-5963': 2, '106-84-5976': 1, '106-84-5986': 3, '106-84-6149': 1, '106-84-6184': 1, '106-84-6211': 2, '106-84-6284': 3, '106-84-6333': 3, '106-84-6385': 4, '106-84-6400': 3, '106-84-6482': 3, '106-84-6483': 2, '106-84-6510': 3, '106-84-6548': 3, '106-84-6552': 3, '106-84-6553': 3, '106-84-6554': 3, '106-84-6562': 3, '106-84-6563': 3, '106-84-6564': 3, '106-84-6565': 3, '106-84-6566': 3, '106-84-6567': 3, '106-84-6577': 2, '106-84-6578': 3, '106-84-6579': 3, '106-84-6580': 3, '106-84-6598': 3, '106-84-6705': 3, '106-84-6706': 3, '106-84-6725': 3, '106-84-6726': 3, '106-84-6762': 1, '106-84-6767': 3, '106-84-6822': 1, '106-84-6890': 3, '106-85-5701': 2, '106-85-5710': 2, '106-85-5864': 2, '106-85-5889': 2, '106-85-5906': 2, '106-85-5978': 3, '106-85-6036': 3, '106-85-6064': 3, '106-85-6065': 2, '106-85-6145': 2, '106-85-6156': 1, '106-85-6657': 2, '106-85-6695': 2, '106-85-6752': 2, '106-85-6761': 1, '106-85-6804': 1, '106-85-6819': 1, '106-86-5557': 3, '106-86-5583': 3, '106-86-5596': 3, '106-86-5597': 3, '106-86-5598': 3, '106-86-5600': 3, '106-86-5601': 3, '106-86-5605': 3, '106-86-5607': 2, '106-86-5608': 1, '106-86-5667': 2, '106-86-5674': 1, '106-86-5808': 4, '106-86-5809': 2, '106-86-5851': 1, '106-86-5883': 3, '106-86-5949': 1, '106-86-6097': 3, '106-86-6100': 3, '106-86-6108': 1, '106-86-6173': 3, '106-86-6345': 1, '106-86-6399': 2, '106-86-6450': 4, '106-86-6474': 2, '106-86-6537': 3, '106-86-6540': 3, '106-86-6588': 1, '106-86-6658': 2, '106-86-6697': 3, '106-86-6723': 2, '106-86-6724': 2, '106-86-6925': 2, '106-86-6926': 2, '106-87-5830': 1, '106-87-5940': 3, '106-87-5948': 1, '106-87-5962': 2, '106-87-5971': 2, '106-87-5998': 3, '106-87-6042': 3, '106-87-6340': 2, '106-87-6484': 2, '106-87-6595': 3, '106-87-6604': 3, '106-87-6605': 2, '106-87-6743': 3, '106-87-6911': 3, '106-88-5523': 2, '106-88-5531': 3, '106-88-5574': 3, '106-88-5617': 2, '106-88-5618': 1, '106-88-5637': 1, '106-88-5648': 1, '106-88-5650': 1, '106-88-5675': 1, '106-88-5685': 1, '106-88-5687': 1, '106-88-5697': 3, '106-88-5717': 1, '106-88-5727': 2, '106-88-5810': 1, '106-88-5811': 1, '106-88-5822': 2, '106-88-5856': 2, '106-88-5872': 2, '106-88-5875': 1, '106-88-5876': 2, '106-88-5882': 1, '106-88-5913': 2, '106-88-5914': 1, '106-88-5916': 3, '106-88-5936': 3, '106-88-5937': 2, '106-88-5947': 2, '106-88-5956': 1, '106-88-5957': 3, '106-88-5966': 1, '106-88-5967': 1, '106-88-5982': 1, '106-88-5983': 1, '106-88-6016': 1, '106-88-6037': 2, '106-88-6049': 1, '106-88-6052': 1, '106-88-6072': 1, '106-88-6073': 2, '106-88-6080': 1, '106-88-6081': 1, '106-88-6092': 1, '106-88-6098': 1, '106-88-6099': 1, '106-88-6153': 2, '106-88-6165': 1, '106-88-6354': 3, '106-88-6384': 1, '106-88-6390': 2, '106-88-6435': 1, '106-88-6446': 1, '106-88-6457': 1, '106-88-6558': 1, '106-88-6584': 2, '106-88-6597': 3, '106-88-6628': 3, '106-88-6631': 3, '106-88-6755': 3, '106-88-6827': 2, '106-88-6938': 2, '106-88-6974': 2, '106-89-5632': 3, '106-89-5633': 2, '106-89-5669': 3, '106-89-5715': 2, '106-89-5831': 2, '106-89-5862': 3, '106-89-5899': 2, '106-89-5920': 3, '106-89-5925': 3, '106-89-5946': 2, '106-89-6020': 3, '106-89-6038': 2, '106-89-6142': 3, '106-89-6285': 3, '106-89-6417': 3, '106-89-6422': 3, '106-89-6429': 4, '106-89-6455': 4, '106-89-6511': 3, '106-89-6528': 3, '106-89-6555': 3, '106-89-6651': 2, '106-89-6754': 3, '106-90-5659': 3, '106-90-6033': 1, '106-90-6071': 3, '106-90-6378': 1, '106-90-6420': 5, '106-90-6438': 5, '106-90-6451': 1, '106-90-6506': 2, '106-91-5524': 3, '106-91-5538': 2, '106-91-5559': 2, '106-91-5568': 3, '106-91-5652': 4, '106-91-5716': 3, '106-91-5825': 2, '106-91-5849': 3, '106-91-5912': 2, '106-91-5926': 2, '106-91-5943': 3, '106-91-5959': 2, '106-91-5987': 2, '106-91-5993': 1, '106-91-6023': 2, '106-91-6024': 2, '106-91-6047': 2, '106-91-6067': 2, '106-91-6068': 2, '106-91-6105': 2, '106-91-6174': 2, '106-91-6180': 2, '106-91-6318': 2, '106-91-6322': 3, '106-91-6351': 3, '106-91-6366': 3, '106-91-6427': 3, '106-91-6430': 2, '106-91-6431': 6, '106-91-6459': 5, '106-91-6499': 4, '106-91-6522': 3, '106-91-6535': 3, '106-91-6536': 3, '106-91-6640': 3, '106-91-6882': 3, '106-91-6928': 4, '106-92-5635': 3, '106-92-5827': 3, '106-92-6362': 3, '106-92-6460': 3, '106-92-6461': 3, '106-92-6550': 3, '106-92-6684': 3, '106-93-5537': 3, '106-93-5564': 1, '106-93-5565': 2, '106-93-5566': 1, '106-93-5567': 1, '106-93-5786': 1, '106-93-5832': 1, '106-93-5969': 3, '106-93-6001': 1, '106-93-6002': 2, '106-93-6022': 1, '106-93-6043': 2, '106-93-6048': 1, '106-93-6070': 1, '106-93-6095': 2, '106-93-6146': 2, '106-93-6166': 3, '106-93-6181': 3, '106-93-6319': 3, '106-93-6505': 3, '106-93-6545': 1, '106-93-6546': 1, '106-93-6561': 2, '106-93-6573': 1, '106-93-6607': 2, '106-93-6741': 2, '106-93-6757': 1, '106-93-6826': 1, '106-93-6898': 1, '106-94-5625': 2, '106-94-5853': 3, '106-94-5861': 2, '106-94-5900': 3, '106-94-5932': 4, '106-94-6349': 3, '106-94-6382': 3, '106-94-6383': 3, '106-94-6600': 3, '106-94-6602': 3, '106-94-6603': 3, '106-95-5544': 1, '106-95-5550': 1, '106-95-5551': 2, '106-95-5552': 1, '106-95-5554': 1, '106-95-5556': 2, '106-95-5590': 1, '106-95-5662': 1, '106-95-5696': 1, '106-95-5823': 2, '106-95-5915': 2, '106-95-5960': 1, '106-95-6031': 1, '106-95-6032': 1, '106-95-6044': 2, '106-95-6074': 1, '106-95-6076': 1, '106-95-6109': 2, '106-95-6155': 2, '106-95-6160': 2, '106-95-6161': 1, '106-95-6177': 1, '106-95-6289': 2, '106-95-6304': 2, '106-95-6324': 1, '106-95-6325': 1, '106-95-6326': 1, '106-95-6409': 3, '106-95-6478': 1, '106-95-6490': 1, '106-95-6526': 1, '106-95-6583': 3, '106-95-6587': 3, '106-95-6592': 2, '106-95-6593': 1, '106-95-6599': 1, '106-95-6712': 2, '106-95-6733': 2, '106-95-6748': 3, '106-95-6820': 2, '106-95-6824': 2, '106-95-6825': 2, '106-95-6907': 3, '106-95-6947': 1, '106-95-6951': 3, '106-95-6963': 2, '106-95-6975': 2, '106-96-5534': 1, '106-96-5541': 3, '106-96-5543': 2, '106-96-5609': 3, '106-96-5649': 2, '106-96-5688': 3, '106-96-5690': 2, '106-96-5691': 3, '106-96-5702': 1, '106-96-5730': 3, '106-96-5734': 2, '106-96-5735': 2, '106-96-5736': 2, '106-96-5738': 1, '106-96-5739': 1, '106-96-5740': 1, '106-96-5741': 1, '106-96-5742': 1, '106-96-5743': 1, '106-96-5744': 1, '106-96-5745': 1, '106-96-5746': 2, '106-96-5747': 1, '106-96-5748': 1, '106-96-5749': 1, '106-96-5750': 1, '106-96-5751': 1, '106-96-5752': 1, '106-96-5753': 1, '106-96-5758': 1, '106-96-5759': 1, '106-96-5760': 1, '106-96-5761': 1, '106-96-5762': 1, '106-96-5763': 1, '106-96-5765': 1, '106-96-5769': 1, '106-96-5770': 1, '106-96-5771': 1, '106-96-5772': 1, '106-96-5773': 3, '106-96-5774': 1, '106-96-5775': 1, '106-96-5776': 1, '106-96-5777': 1, '106-96-5778': 1, '106-96-5779': 1, '106-96-5780': 1, '106-96-5781': 1, '106-96-5782': 1, '106-96-5783': 1, '106-96-5784': 1, '106-96-5785': 1, '106-96-5787': 1, '106-96-5788': 1, '106-96-5789': 1, '106-96-5790': 2, '106-96-5791': 1, '106-96-5792': 1, '106-96-5793': 1, '106-96-5794': 1, '106-96-5795': 1, '106-96-5796': 1, '106-96-5797': 1, '106-96-5798': 2, '106-96-5799': 2, '106-96-5800': 2, '106-96-5801': 1, '106-96-5802': 1, '106-96-5803': 1, '106-96-5804': 1, '106-96-5805': 1, '106-96-5806': 1, '106-96-5854': 3, '106-96-5855': 2, '106-96-5858': 3, '106-96-5860': 1, '106-96-5879': 1, '106-96-5930': 3, '106-96-5954': 1, '106-96-5977': 3, '106-96-6004': 2, '106-96-6087': 1, '106-96-6111': 1, '106-96-6112': 1, '106-96-6113': 1, '106-96-6114': 1, '106-96-6115': 1, '106-96-6116': 1, '106-96-6117': 1, '106-96-6118': 1, '106-96-6119': 1, '106-96-6120': 3, '106-96-6121': 1, '106-96-6122': 1, '106-96-6123': 1, '106-96-6124': 2, '106-96-6125': 2, '106-96-6126': 2, '106-96-6127': 2, '106-96-6128': 2, '106-96-6129': 2, '106-96-6131': 1, '106-96-6132': 1, '106-96-6133': 1, '106-96-6134': 1, '106-96-6135': 1, '106-96-6136': 1, '106-96-6137': 1, '106-96-6138': 1, '106-96-6139': 1, '106-96-6140': 1, '106-96-6171': 2, '106-96-6185': 1, '106-96-6186': 1, '106-96-6187': 2, '106-96-6188': 1, '106-96-6189': 1, '106-96-6190': 1, '106-96-6191': 1, '106-96-6192': 1, '106-96-6193': 1, '106-96-6194': 1, '106-96-6195': 1, '106-96-6196': 1, '106-96-6197': 1, '106-96-6198': 1, '106-96-6199': 1, '106-96-6200': 1, '106-96-6201': 1, '106-96-6202': 1, '106-96-6203': 1, '106-96-6204': 1, '106-96-6205': 1, '106-96-6206': 1, '106-96-6207': 1, '106-96-6208': 1, '106-96-6218': 1, '106-96-6219': 1, '106-96-6220': 1, '106-96-6221': 1, '106-96-6222': 1, '106-96-6223': 1, '106-96-6224': 1, '106-96-6225': 1, '106-96-6226': 1, '106-96-6227': 1, '106-96-6228': 1, '106-96-6229': 1, '106-96-6230': 1, '106-96-6231': 1, '106-96-6232': 1, '106-96-6233': 1, '106-96-6234': 1, '106-96-6235': 1, '106-96-6236': 1, '106-96-6238': 1, '106-96-6239': 1, '106-96-6240': 1, '106-96-6241': 1, '106-96-6242': 1, '106-96-6243': 1, '106-96-6244': 1, '106-96-6245': 1, '106-96-6246': 1, '106-96-6247': 1, '106-96-6248': 1, '106-96-6250': 1, '106-96-6251': 1, '106-96-6253': 1, '106-96-6254': 1, '106-96-6255': 1, '106-96-6256': 1, '106-96-6257': 1, '106-96-6258': 1, '106-96-6259': 1, '106-96-6260': 1, '106-96-6261': 1, '106-96-6262': 1, '106-96-6263': 1, '106-96-6264': 1, '106-96-6265': 1, '106-96-6266': 1, '106-96-6267': 1, '106-96-6268': 1, '106-96-6269': 1, '106-96-6270': 1, '106-96-6271': 1, '106-96-6272': 1, '106-96-6273': 1, '106-96-6274': 1, '106-96-6275': 1, '106-96-6276': 1, '106-96-6277': 1, '106-96-6278': 1, '106-96-6279': 1, '106-96-6280': 1, '106-96-6281': 1, '106-96-6282': 1, '106-96-6283': 1, '106-96-6306': 1, '106-96-6307': 3, '106-96-6309': 1, '106-96-6312': 1, '106-96-6313': 1, '106-96-6314': 1, '106-96-6334': 1, '106-96-6367': 3, '106-96-6407': 2, '106-96-6411': 2, '106-96-6412': 3, '106-96-6413': 2, '106-96-6434': 3, '106-96-6445': 3, '106-96-6458': 2, '106-96-6462': 2, '106-96-6470': 3, '106-96-6471': 2, '106-96-6477': 2, '106-96-6485': 2, '106-96-6527': 2, '106-96-6576': 2, '106-96-6585': 2, '106-96-6711': 2, '106-96-6722': 3, '106-96-6789': 1, '106-96-6790': 1, '106-96-6791': 1, '106-96-6792': 1, '106-96-6830': 1, '106-96-6832': 1, '106-96-6833': 1, '106-96-6834': 1, '106-96-6869': 3, '106-96-6870': 2, '106-96-6871': 3, '106-96-6872': 2, '106-96-6873': 3, '106-96-6874': 2, '106-96-6875': 1, '106-96-6897': 1, '106-96-6900': 2, '106-96-6903': 3, '106-96-6904': 1, '106-96-6908': 1, '106-96-6909': 1, '106-96-6912': 1, '106-96-6919': 1, '106-96-6930': 1, '106-96-6931': 1, '106-96-6932': 1, '106-96-6934': 1, '106-96-6952': 3, '106-97-5615': 3, '106-97-5616': 3, '106-97-5850': 3, '106-97-6018': 4, '106-97-6026': 3, '106-97-6292': 3, '106-97-6293': 3, '106-97-6303': 3, '106-97-6391': 2, '106-97-6402': 2, '106-97-6496': 4, '106-97-6543': 3, '106-97-6922': 1, '106-98-5578': 2, '106-98-5623': 2, '106-98-5896': 2, '106-98-6015': 2, '106-98-6288': 5, '106-98-6894': 3, '106-98-6962': 3, '106-99-5528': 3, '106-99-5530': 1, '106-99-5532': 4, '106-99-5873': 3, '106-99-5955': 4, '106-99-5999': 2, '106-99-6050': 3, '106-99-6150': 3, '106-99-6299': 3, '106-99-6410': 3, '106-99-6523': 3, '106-99-6524': 2, '106-99-6586': 2, '106-99-6590': 3, '106-99-6614': 3, '106-99-6638': 3, '106-99-6639': 3, '106-99-6732': 3, '106-99-6749': 3, '106-99-6766': 3, '1065-181-5885': 6, '1065-181-5891': 2, '1065-181-5892': 3, '1065-181-5893': 4, '1065-181-5895': 2, '1065-181-5896': 2, '1065-181-5897': 4, '1065-181-5898': 2, '107-84-811': 2, '107-84-812': 1, '107-84-813': 3, '107-84-814': 1, '107-84-815': 1, '107-84-816': 3, '107-84-817': 2, '107-84-818': 3, '107-84-819': 2, '107-84-820': 1, '107-84-821': 4, '107-84-822': 1, '107-84-824': 1, '107-84-825': 2, '107-84-827': 3, '107-84-828': 1, '107-84-829': 2, '107-84-830': 2, '107-84-832': 1, '107-84-833': 6, '107-84-834': 2, '107-84-835': 12, '107-84-836': 3, '107-84-837': 2, '107-84-838': 5, '107-84-841': 14, '1072-6-1000': 4, '1072-6-1002': 1, '1072-6-1003': 10, '1072-6-1005': 7, '1072-6-1006': 3, '1072-6-1007': 2, '1072-6-1008': 6, '1072-6-1009': 11, '1072-6-1010': 4, '1072-6-1011': 3, '1072-6-1013': 8, '1072-6-1014': 3, '1072-6-1015': 9, '1072-6-1016': 5, '1072-6-1017': 2, '1072-6-1022': 3, '1072-6-681': 2, '1072-6-682': 7, '1072-6-683': 5, '1072-6-684': 1, '1072-6-686': 2, '1072-6-687': 1, '1072-6-688': 5, '1072-6-689': 9, '1072-6-690': 7, '1072-6-691': 3, '1072-6-692': 3, '1072-6-693': 2, '1072-6-694': 3, '1072-6-695': 4, '1072-6-696': 7, '1072-6-697': 3, '1072-6-698': 2, '1072-6-699': 5, '1072-6-700': 5, '1072-6-701': 8, '1072-6-702': 3, '1072-6-703': 3, '1072-6-704': 4, '1072-6-705': 2, '1072-6-706': 9, '1072-6-707': 4, '1072-6-708': 2, '1072-6-710': 5, '1072-6-711': 3, '1072-6-713': 4, '1072-6-714': 3, '1072-6-715': 6, '1072-6-716': 2, '1072-6-717': 2, '1072-6-720': 9, '1072-6-722': 3, '1072-6-723': 2, '1072-6-724': 6, '1072-6-727': 4, '1072-6-729': 3, '1072-6-730': 8, '1072-6-731': 4, '1072-6-732': 2, '1072-6-733': 11, '1072-6-734': 2, '1072-6-735': 3, '1072-6-736': 6, '1072-6-737': 2, '1072-6-738': 4, '1072-6-739': 3, '1072-6-741': 2, '1072-6-742': 3, '1072-6-743': 2, '1072-6-745': 4, '1072-6-746': 10, '1072-6-748': 8, '1072-6-749': 5, '1072-6-750': 3, '1072-6-751': 4, '1072-6-752': 4, '1072-6-753': 1, '1072-6-754': 7, '1072-6-755': 3, '1072-6-756': 4, '1072-6-757': 4, '1072-6-759': 9, '1072-6-760': 1, '1072-6-761': 2, '1072-6-762': 8, '1072-6-763': 4, '1072-6-765': 2, '1072-6-766': 2, '1072-6-767': 2, '1072-6-769': 3, '1072-6-770': 9, '1072-6-771': 10, '1072-6-772': 5, '1072-6-773': 2, '1072-6-774': 4, '1072-6-775': 5, '1072-6-776': 6, '1072-6-777': 4, '1072-6-778': 1, '1072-6-780': 3, '1072-6-781': 4, '1072-6-782': 3, '1072-6-783': 3, '1072-6-784': 3, '1072-6-786': 4, '1072-6-787': 8, '1072-6-788': 8, '1072-6-789': 3, '1072-6-790': 5, '1072-6-791': 3, '1072-6-792': 3, '1072-6-793': 9, '1072-6-794': 2, '1072-6-795': 1, '1072-6-796': 3, '1072-6-797': 4, '1072-6-798': 2, '1072-6-799': 9, '1072-6-801': 8, '1072-6-802': 3, '1072-6-803': 2, '1072-6-804': 4, '1072-6-807': 3, '1072-6-808': 8, '1072-6-809': 2, '1072-6-810': 5, '1072-6-811': 1, '1072-6-812': 4, '1072-6-813': 2, '1072-6-814': 1, '1072-6-815': 8, '1072-6-816': 10, '1072-6-817': 3, '1072-6-819': 4, '1072-6-820': 3, '1072-6-821': 5, '1072-6-822': 2, '1072-6-825': 8, '1072-6-826': 4, '1072-6-827': 2, '1072-6-829': 3, '1072-6-830': 9, '1072-6-831': 8, '1072-6-832': 4, '1072-6-833': 2, '1072-6-835': 5, '1072-6-836': 1, '1072-6-837': 3, '1072-6-838': 1, '1072-6-839': 2, '1072-6-840': 3, '1072-6-841': 8, '1072-6-842': 2, '1072-6-843': 1, '1072-6-844': 8, '1072-6-845': 3, '1072-6-846': 5, '1072-6-847': 3, '1072-6-848': 10, '1072-6-849': 2, '1072-6-850': 2, '1072-6-851': 4, '1072-6-852': 1, '1072-6-853': 3, '1072-6-854': 7, '1072-6-855': 4, '1072-6-856': 3, '1072-6-857': 3, '1072-6-858': 9, '1072-6-859': 2, '1072-6-860': 3, '1072-6-861': 4, '1072-6-862': 9, '1072-6-863': 2, '1072-6-864': 3, '1072-6-865': 2, '1072-6-866': 5, '1072-6-867': 4, '1072-6-868': 4, '1072-6-869': 4, '1072-6-870': 2, '1072-6-871': 8, '1072-6-872': 2, '1072-6-873': 7, '1072-6-875': 2, '1072-6-876': 2, '1072-6-877': 2, '1072-6-878': 6, '1072-6-879': 5, '1072-6-881': 5, '1072-6-882': 1, '1072-6-883': 3, '1072-6-884': 10, '1072-6-885': 5, '1072-6-886': 7, '1072-6-887': 2, '1072-6-888': 2, '1072-6-889': 4, '1072-6-890': 3, '1072-6-891': 3, '1072-6-892': 2, '1072-6-893': 3, '1072-6-894': 6, '1072-6-895': 6, '1072-6-896': 3, '1072-6-897': 4, '1072-6-898': 5, '1072-6-899': 4, '1072-6-900': 7, '1072-6-901': 1, '1072-6-902': 2, '1072-6-903': 7, '1072-6-904': 2, '1072-6-908': 9, '1072-6-910': 3, '1072-6-911': 7, '1072-6-912': 5, '1072-6-915': 3, '1072-6-916': 7, '1072-6-917': 10, '1072-6-918': 4, '1072-6-919': 5, '1072-6-920': 7, '1072-6-923': 7, '1072-6-924': 2, '1072-6-925': 4, '1072-6-926': 5, '1072-6-927': 1, '1072-6-928': 4, '1072-6-929': 4, '1072-6-930': 11, '1072-6-932': 9, '1072-6-934': 6, '1072-6-938': 9, '1072-6-939': 5, '1072-6-940': 3, '1072-6-943': 4, '1072-6-944': 1, '1072-6-945': 4, '1072-6-946': 4, '1072-6-947': 4, '1072-6-948': 9, '1072-6-951': 5, '1072-6-952': 8, '1072-6-953': 1, '1072-6-954': 2, '1072-6-955': 2, '1072-6-956': 4, '1072-6-959': 2, '1072-6-961': 3, '1072-6-962': 3, '1072-6-963': 9, '1072-6-965': 8, '1072-6-966': 9, '1072-6-967': 10, '1072-6-968': 3, '1072-6-969': 3, '1072-6-970': 1, '1072-6-971': 7, '1072-6-975': 8, '1072-6-979': 7, '1072-6-980': 4, '1072-6-981': 2, '1072-6-982': 2, '1072-6-983': 10, '1072-6-984': 8, '1072-6-985': 6, '1072-6-986': 9, '1072-6-987': 4, '1072-6-988': 9, '1072-6-989': 5, '1072-6-990': 4, '1072-6-991': 2, '1072-6-993': 9, '1072-6-994': 9, '1072-6-995': 2, '1072-6-996': 7, '1072-6-997': 8, '1072-6-998': 4, '1072-6-999': 6, '1086-24-819': 6, '1086-24-820': 7, '1086-24-821': 7, '1086-24-823': 2, '1086-24-824': 7, '1086-24-825': 3, '1086-24-826': 2, '1086-24-827': 3, '1086-24-828': 10, '1086-24-829': 5, '1086-24-830': 3, '1086-24-831': 4, '1086-24-832': 2, '1086-24-833': 2, '1086-24-836': 2, '1086-24-837': 2, '1086-24-838': 6, '1087-1-57': 5, '1087-1-58': 1, '109-143-4409': 4, '109-143-4410': 2, '109-143-4411': 2, '1101-12-1587': 6, '1101-12-1588': 3, '1104-50-1874': 3, '1104-50-1875': 2, '1104-50-1876': 1, '1104-50-1877': 2, '1104-50-1878': 2, '1104-50-1879': 3, '1104-50-1880': 2, '1104-50-1881': 2, '1104-50-1882': 4, '1104-50-1883': 2, '1104-50-1884': 2, '1104-50-1885': 2, '1104-50-1886': 2, '1104-50-1887': 2, '1104-50-1888': 2, '1104-50-1889': 1, '1104-50-1890': 3, '1104-50-1892': 5, '1104-50-1893': 4, '1104-50-1894': 4, '1104-50-1895': 2, '1104-50-1896': 4, '1104-50-1897': 2, '1104-50-1898': 1, '1104-50-1899': 1, '1104-50-1901': 1, '1104-50-1902': 1, '1104-50-1903': 2, '1104-50-1905': 3, '1104-50-1906': 2, '1104-50-1907': 1, '1104-50-1908': 2, '1104-50-1910': 1, '1104-50-1911': 2, '1104-50-1913': 4, '1104-50-1915': 1, '1104-50-1916': 1, '1104-50-1917': 5, '1104-50-1918': 1, '1104-50-1919': 3, '1104-50-1920': 2, '1104-50-1921': 2, '1104-50-1923': 1, '1104-50-1925': 3, '1104-50-1926': 2, '1104-50-1927': 3, '1104-50-1928': 6, '1104-50-1929': 2, '1104-50-1930': 2, '1104-50-1932': 2, '1104-50-1933': 2, '1104-50-1934': 2, '1104-50-1936': 2, '1104-50-1937': 1, '1104-50-1939': 1, '1104-50-1940': 2, '1104-50-1941': 1, '1104-50-1942': 3, '1104-50-1944': 2, '1104-50-1945': 2, '1104-50-1946': 2, '1104-50-1947': 4, '1104-50-1948': 4, '1104-50-1949': 2, '1104-50-1950': 3, '1104-50-1951': 3, '1104-50-1952': 1, '1104-50-1953': 2, '1104-50-1954': 2, '1104-50-1956': 1, '1104-50-1957': 1, '1104-50-1958': 1, '1104-50-1959': 1, '1104-50-1960': 2, '1104-50-1961': 5, '1104-50-1962': 3, '1104-50-1963': 2, '1104-50-1964': 3, '1104-50-1965': 3, '1104-50-1966': 5, '1104-50-1967': 1, '1104-50-1969': 3, '1104-50-1970': 5, '1104-50-1971': 4, '1104-50-1972': 3, '1104-50-1973': 6, '1104-50-1974': 5, '1104-50-1975': 14, '1104-50-1976': 2, '1104-50-1977': 5, '1104-50-1978': 2, '1104-50-1979': 5, '1104-50-1980': 3, '1105-60-2296': 5, '1105-60-2298': 1, '1105-60-2300': 4, '1105-60-2301': 6, '1105-60-2302': 2, '1105-60-2303': 1, '1105-60-2304': 3, '1105-60-2305': 8, '1105-60-2306': 3, '1105-60-2307': 5, '1105-60-2308': 5, '1105-60-2309': 5, '1105-60-2310': 5, '1105-60-2311': 3, '1105-60-2312': 1, '1105-60-2313': 10, '1105-60-2315': 1, '1105-60-2316': 3, '1105-60-2317': 3, '1105-60-2318': 5, '1105-60-2319': 2, '1105-60-2320': 2, '1105-60-2323': 1, '1105-60-2324': 1, '1105-60-2325': 5, '1105-60-2326': 7, '1105-60-2327': 4, '1105-60-2328': 4, '1105-60-2329': 6, '1105-60-2330': 5, '1105-60-2331': 1, '1105-60-2333': 3, '1105-60-2334': 3, '1105-60-2335': 7, '1105-60-2336': 3, '1105-60-2337': 2, '1105-60-2338': 1, '1105-60-2339': 7, '1105-60-2340': 2, '1105-60-2341': 1, '1105-60-2342': 5, '1105-60-2343': 2, '1105-60-2344': 4, '1105-60-2346': 5, '1105-60-2347': 8, '1105-60-2348': 9, '1105-60-2349': 3, '1105-60-2351': 7, '1105-60-2352': 1, '1105-60-2353': 4, '1105-60-2354': 3, '1105-60-2355': 9, '1105-60-2356': 1, '1105-60-2357': 5, '1105-60-2358': 9, '1105-60-2359': 2, '1105-60-2360': 1, '1105-60-2361': 7, '1105-60-2363': 3, '1105-60-2364': 5, '1105-60-2365': 19, '1105-60-2367': 5, '1105-60-2368': 6, '1105-60-2369': 4, '1105-60-2370': 6, '1105-60-2371': 1, '1105-60-2372': 5, '1105-60-2373': 2, '1105-60-2374': 7, '1105-60-2375': 1, '1105-60-2376': 5, '1105-60-2378': 5, '1105-60-2379': 4, '1105-60-2380': 4, '1105-60-2381': 7, '1105-60-2382': 4, '1105-60-2384': 5, '1105-60-2385': 1, '1105-60-2386': 5, '1105-60-2387': 4, '1105-60-2388': 4, '1105-60-2389': 5, '1105-60-2390': 5, '1105-60-2392': 12, '1105-60-2393': 5, '1105-60-2394': 3, '1105-60-2395': 6, '1105-60-2396': 3, '1105-60-2397': 7, '1105-60-2399': 4, '1105-60-2400': 2, '1105-60-2402': 6, '1105-60-2403': 4, '1105-60-2404': 2, '1105-60-2405': 2, '1105-60-2406': 7, '1105-60-2407': 6, '1105-60-2408': 3, '1105-60-2409': 3, '1105-60-2410': 2, '1105-60-2411': 2, '1105-60-2412': 2, '1105-60-2413': 5, '1105-60-2414': 6, '1105-60-2415': 4, '1105-60-2416': 2, '1105-60-2419': 4, '1105-60-2420': 5, '1105-60-2421': 3, '1105-60-2422': 3, '1105-60-2423': 8, '1105-60-2424': 3, '1105-60-2425': 4, '1105-60-2426': 2, '1105-60-2427': 3, '1105-60-2428': 3, '1105-60-2429': 6, '1105-60-2430': 6, '1105-60-2431': 4, '1105-60-2432': 4, '1105-60-2433': 4, '1105-60-2434': 3, '1105-60-2435': 1, '1105-60-2436': 4, '1105-60-2437': 7, '1105-60-2438': 6, '1105-60-2439': 3, '1105-60-2440': 3, '1105-60-2441': 2, '1105-60-2442': 10, '1105-60-2443': 1, '1105-60-2444': 3, '1105-60-2448': 7, '1105-60-2449': 1, '1105-60-2453': 9, '1105-60-2454': 1, '1105-60-2455': 3, '1105-60-2456': 5, '1105-60-2457': 7, '1105-60-2459': 1, '1105-60-2461': 6, '1105-60-2462': 4, '1105-60-2463': 4, '1105-60-2464': 4, '1105-60-2465': 7, '1105-60-2466': 5, '1105-60-2467': 6, '1105-60-2468': 1, '1105-60-2469': 8, '1105-60-2470': 5, '1105-60-2471': 3, '1105-60-2472': 3, '1105-60-2474': 5, '1105-60-2475': 6, '1105-60-2476': 2, '1105-60-2477': 6, '1105-60-2478': 3, '1105-60-2479': 6, '1105-60-2480': 7, '1105-60-2482': 5, '1105-60-2483': 4, '1105-60-2484': 5, '1105-60-2485': 5, '1105-60-2486': 5, '1105-60-2487': 1, '1105-60-2488': 3, '1105-60-2489': 9, '1105-60-2490': 7, '1105-60-2491': 4, '1105-60-2492': 3, '1105-60-2493': 5, '1105-60-2494': 3, '1105-60-2495': 7, '1105-60-2497': 5, '1105-60-2498': 1, '1105-60-2499': 7, '1105-60-2501': 4, '1105-60-2502': 3, '1105-60-2503': 11, '1105-60-2504': 8, '1105-60-2505': 1, '1105-60-2506': 4, '1105-60-2507': 6, '1105-60-2508': 2, '1105-60-2509': 3, '1105-60-2510': 8, '1105-60-2511': 3, '1105-60-2512': 8, '1105-60-2513': 4, '1105-60-2514': 3, '1105-60-2515': 4, '1105-60-2516': 4, '1105-60-2517': 8, '1105-60-2518': 8, '1105-60-2519': 3, '1105-60-2520': 3, '1105-60-2521': 7, '1105-60-2522': 1, '1105-60-2523': 3, '1105-60-2524': 4, '1105-60-2525': 3, '1105-60-2526': 2, '1105-60-2527': 1, '1105-60-2528': 4, '1105-60-2529': 5, '1105-60-2530': 1, '1105-60-2531': 7, '1105-60-2532': 3, '1105-60-2533': 5, '1105-60-2534': 7, '1105-60-2535': 6, '1105-60-2536': 2, '1105-60-2538': 1, '1105-60-2540': 6, '1105-60-2541': 5, '1105-60-2542': 5, '1105-60-2543': 5, '1105-60-2544': 3, '1105-60-2545': 1, '1105-60-2546': 5, '1105-60-2547': 2, '1105-60-2548': 5, '1105-60-2550': 7, '1105-60-2551': 2, '1105-60-2553': 2, '1105-60-2554': 2, '1105-60-2555': 2, '1105-60-2556': 2, '1105-60-2557': 2, '1105-60-2558': 4, '1105-60-2559': 4, '1105-60-2560': 3, '1105-60-2561': 1, '1105-60-2563': 2, '1105-60-2564': 1, '1105-60-2569': 2, '1105-60-2570': 1, '1105-60-2571': 1, '1105-60-2572': 4, '1105-60-2573': 6, '1105-60-2574': 3, '1105-60-2575': 2, '1105-60-2576': 3, '1105-60-2577': 6, '1105-60-2578': 1, '1105-60-2580': 2, '1105-60-2581': 1, '1105-60-2582': 1, '1105-60-2583': 5, '1105-60-2584': 11, '1105-60-2585': 3, '1105-60-2588': 2, '1105-60-2589': 1, '1105-60-2591': 1, '1105-60-2592': 1, '1105-60-2594': 3, '1105-60-2595': 6, '1105-60-2596': 7, '1105-60-2597': 7, '1105-60-2598': 2, '1105-60-2599': 4, '1105-60-2600': 3, '1105-60-2601': 7, '1105-60-2602': 1, '1105-60-2603': 2, '1105-60-2604': 2, '1105-60-2605': 1, '1105-60-2606': 4, '1105-60-2607': 4, '1105-60-2608': 3, '1105-60-2610': 2, '1105-60-2611': 2, '1105-60-2612': 3, '1105-60-2613': 4, '1105-60-2614': 7, '1105-60-2615': 3, '1105-60-2616': 1, '1105-60-2617': 2, '1105-60-2618': 1, '1105-60-2619': 8, '1105-60-2620': 7, '1105-60-2621': 7, '1105-60-2622': 2, '1105-60-2623': 4, '1105-60-2624': 5, '1105-60-2625': 3, '1105-60-2626': 1, '1105-60-2627': 1, '1105-60-2628': 8, '1105-60-2629': 3, '1105-60-2630': 6, '1105-60-2631': 3, '1105-60-2632': 4, '1105-60-2633': 8, '1105-60-2634': 5, '1105-60-2635': 3, '1105-60-2636': 4, '1105-60-2637': 3, '1105-60-2638': 6, '1105-60-2639': 2, '1105-60-2640': 3, '1105-60-2641': 4, '1105-60-2642': 2, '1105-60-2644': 3, '1105-60-2645': 2, '1105-60-2646': 4, '1105-60-2647': 3, '1105-60-2648': 2, '1105-60-2649': 8, '1105-60-2650': 9, '1105-60-2651': 5, '1105-60-2652': 3, '1105-60-2654': 2, '1105-60-2656': 4, '1105-60-2657': 7, '1105-60-2658': 1, '1105-60-2659': 2, '1105-60-2660': 8, '1105-60-2661': 6, '1105-60-2662': 2, '1105-60-2663': 3, '1105-60-2664': 3, '1105-60-2665': 4, '1105-60-2666': 3, '1105-60-2668': 6, '1105-60-2669': 6, '1105-60-2670': 4, '1105-60-2671': 10, '1105-60-2672': 2, '1105-60-2673': 7, '1105-60-2674': 3, '1105-60-2675': 2, '1105-60-2676': 4, '1105-60-2677': 1, '1105-60-2678': 3, '1105-60-2679': 4, '1105-60-2680': 4, '1105-60-2681': 8, '1105-60-2682': 1, '1105-60-2683': 2, '1105-60-2684': 5, '1105-60-2685': 5, '1105-60-2689': 5, '1105-60-2690': 8, '1105-60-2691': 3, '1105-60-2693': 5, '1105-60-2694': 3, '1105-60-2695': 4, '1105-60-2698': 4, '1105-60-2700': 3, '1105-60-2702': 5, '1105-60-2703': 1, '1105-60-2704': 8, '1105-60-2705': 8, '1105-60-2706': 9, '1105-60-2707': 2, '1105-60-2708': 4, '1105-60-2709': 6, '1105-60-2710': 1, '1105-60-2711': 5, '1105-60-2712': 7, '1105-60-2713': 8, '1105-60-2714': 4, '1105-60-2715': 4, '1105-60-2716': 3, '1105-60-2717': 3, '1105-60-2718': 4, '1105-60-2719': 5, '1105-60-2720': 6, '1105-60-2721': 3, '1105-60-2722': 3, '1105-60-2723': 5, '1105-60-2724': 6, '1105-60-2726': 6, '1105-60-2727': 7, '1105-60-2728': 1, '1105-60-2729': 3, '1105-60-2730': 11, '1105-60-2731': 6, '1105-60-2732': 5, '1105-60-2733': 2, '1105-60-2735': 5, '1105-60-2736': 6, '1105-60-2737': 3, '1105-60-2738': 4, '1105-60-2740': 3, '1105-60-2741': 6, '1105-60-2742': 9, '1105-60-2743': 5, '1105-60-2744': 3, '1105-60-2745': 5, '1105-60-2746': 4, '1105-60-2747': 9, '1105-60-2748': 6, '1105-60-2749': 4, '1105-60-2750': 2, '1105-60-2751': 12, '1105-60-2752': 6, '1105-60-2753': 3, '1105-60-2754': 7, '1105-60-2755': 2, '1105-60-2756': 5, '1105-60-2757': 3, '1105-60-2758': 6, '1105-60-2760': 5, '1105-60-2761': 4, '1105-60-2762': 5, '1105-60-2763': 4, '1105-60-2764': 5, '1105-60-2765': 8, '1105-60-2768': 4, '1105-60-2769': 6, '1105-60-2771': 3, '1105-60-2772': 5, '1105-60-2773': 11, '1105-60-2774': 4, '1105-60-2775': 1, '1105-60-2776': 7, '1105-60-2777': 9, '1105-60-2778': 6, '1105-60-2779': 2, '1105-60-2780': 7, '1105-60-2781': 7, '1105-60-2783': 7, '1105-60-2784': 8, '1105-60-2785': 8, '1105-60-2786': 6, '1105-60-2787': 7, '1105-60-2788': 1, '1105-60-2789': 4, '1105-60-2791': 2, '1105-60-2792': 3, '1105-60-2793': 8, '1105-60-2794': 4, '1105-60-2795': 5, '1105-60-2796': 8, '1105-60-2797': 12, '1105-60-2798': 3, '1105-60-2799': 4, '1105-60-2800': 8, '1105-60-2801': 7, '1105-60-2802': 7, '1105-60-2803': 8, '1105-60-2804': 6, '1105-60-2805': 6, '1105-60-2806': 4, '1105-60-2807': 5, '1105-60-2808': 2, '1105-60-2809': 11, '1105-60-2810': 8, '1105-60-2811': 7, '1105-60-2812': 3, '1105-60-2813': 7, '1105-60-2814': 1, '1105-60-2815': 4, '1105-60-2816': 3, '1105-60-2817': 5, '1105-60-2818': 7, '1105-60-2819': 4, '1105-60-2820': 5, '1105-60-2821': 2, '1105-60-2822': 5, '1105-60-2823': 3, '1105-60-2824': 2, '1105-60-2826': 5, '1105-60-2827': 9, '1105-60-2828': 7, '1105-60-2829': 5, '1105-60-2830': 6, '1105-60-2831': 3, '1105-60-2833': 7, '1105-60-2834': 1, '1105-60-2836': 4, '1105-60-2837': 2, '1105-60-2838': 6, '1105-60-2839': 12, '1105-60-2840': 9, '1105-60-2841': 8, '1105-60-2842': 4, '1105-60-2843': 5, '1105-60-2844': 11, '1105-60-2845': 2, '1105-60-2846': 3, '1105-60-2847': 3, '1105-60-2848': 8, '1105-60-2849': 8, '1105-60-2850': 3, '1105-60-2851': 4, '1105-60-2852': 2, '1105-60-2853': 7, '1105-60-2854': 2, '1105-60-2855': 9, '1105-60-2857': 3, '1105-60-2858': 4, '1105-60-2859': 4, '1105-60-2861': 6, '1105-60-2862': 4, '1105-60-2863': 7, '1105-60-2864': 2, '1105-60-2865': 5, '1105-60-2866': 4, '1105-60-2867': 4, '1105-60-2868': 2, '1105-60-2869': 2, '1105-60-2870': 7, '1105-60-2871': 3, '1105-60-2872': 4, '1105-60-2873': 8, '1105-60-2874': 1, '1105-60-2876': 4, '1105-60-2877': 10, '1105-60-2878': 4, '1105-60-2879': 4, '1105-60-2880': 3, '1105-60-2881': 1, '1105-60-2882': 6, '1105-60-2883': 3, '1105-60-2884': 5, '1105-60-2885': 6, '1105-60-2886': 5, '1105-60-2887': 4, '1105-60-2888': 2, '1105-60-2890': 2, '1105-60-2891': 2, '1105-60-2892': 2, '1105-60-2894': 1, '1105-60-2895': 3, '1105-60-2896': 3, '1105-60-2897': 1, '1105-60-2898': 3, '1105-60-2899': 8, '1105-60-2900': 4, '1105-60-2901': 8, '1105-60-2902': 3, '1105-60-2903': 3, '1105-60-2904': 5, '1105-60-2905': 7, '1105-60-2906': 3, '1105-60-2908': 5, '1105-60-2909': 9, '1105-60-2910': 4, '1105-60-2911': 4, '1105-60-2912': 2, '1105-60-2913': 5, '1105-60-2914': 4, '1105-60-2915': 5, '1105-60-2916': 5, '1105-60-2917': 3, '1105-60-2918': 2, '1105-60-2919': 4, '1105-60-2920': 9, '1105-60-2921': 5, '1105-60-2922': 10, '1105-60-2924': 3, '1105-60-2925': 5, '1105-60-2926': 8, '1105-60-2927': 4, '1105-60-2928': 2, '1105-60-2929': 3, '1105-60-2930': 7, '1105-60-2931': 2, '1105-60-2932': 4, '1105-60-2933': 2, '1105-60-2934': 1, '1105-60-2935': 5, '1105-60-2936': 3, '1105-60-2938': 10, '1105-60-2939': 3, '1105-60-2940': 5, '1105-60-2942': 8, '1105-60-2943': 4, '1105-60-2944': 6, '1105-60-2945': 6, '1105-60-2946': 7, '1105-60-2947': 5, '1105-60-2948': 4, '1105-60-2949': 3, '1105-60-2950': 13, '1105-60-2951': 10, '1105-60-2952': 9, '1105-60-2953': 4, '1105-60-2954': 6, '1105-60-2955': 3, '1105-60-2956': 5, '1105-60-2957': 5, '1105-60-2958': 1, '1105-60-2959': 1, '1105-60-2960': 2, '1105-60-2961': 9, '1105-60-2962': 7, '1105-60-2964': 8, '1105-60-2965': 5, '1105-60-2967': 2, '1105-60-2968': 3, '1105-60-2969': 6, '1105-60-2970': 2, '1105-60-2971': 3, '1105-60-2972': 3, '1105-60-2973': 1, '1105-60-2974': 3, '1105-60-2975': 11, '1105-60-2976': 3, '1105-60-2977': 6, '1105-60-2978': 5, '1105-60-2979': 2, '1105-60-2980': 11, '1105-60-2981': 3, '1105-60-2982': 2, '1105-60-2983': 3, '1105-60-2984': 6, '1105-60-2985': 6, '1105-60-2986': 5, '1105-60-2987': 5, '1105-60-2988': 2, '1105-60-2989': 9, '1105-60-2990': 3, '1105-60-2991': 7, '1105-60-2993': 5, '1105-60-2994': 5, '1105-60-2995': 3, '1105-60-2996': 4, '1105-60-2997': 6, '1105-60-2998': 3, '1105-60-2999': 3, '1105-60-3000': 2, '1105-60-3001': 5, '1105-60-3002': 8, '1105-60-3003': 14, '1105-60-3004': 2, '1105-60-3005': 4, '1105-60-3006': 4, '1105-60-3007': 5, '1105-60-3008': 4, '1105-60-3009': 8, '1105-60-3010': 5, '1105-60-3011': 5, '1105-60-3012': 9, '1105-60-3013': 8, '1105-60-3014': 6, '1105-60-3015': 3, '1105-60-3016': 7, '1105-60-3017': 2, '1105-60-3018': 4, '1105-60-3019': 8, '1105-60-3021': 5, '1105-60-3022': 8, '1105-60-3023': 8, '1105-60-3024': 9, '1105-60-3025': 11, '1105-60-3026': 5, '1105-60-3027': 7, '1105-60-3028': 5, '1105-60-3029': 8, '1105-60-3030': 4, '1105-60-3032': 8, '1105-60-3033': 4, '1105-60-3034': 7, '1105-60-3035': 7, '1105-60-3036': 3, '1105-60-3037': 4, '1105-60-3038': 2, '1105-60-3039': 6, '1105-60-3040': 9, '1105-60-3041': 10, '1105-60-3043': 5, '1105-60-3044': 10, '1105-60-3045': 5, '1105-60-3046': 5, '1105-60-3047': 8, '1105-60-3049': 5, '1105-60-3050': 8, '1105-60-3051': 6, '1105-60-3052': 3, '1105-60-3053': 5, '1105-60-3054': 6, '1105-60-3055': 6, '1105-60-3056': 4, '1105-60-3057': 3, '1105-60-3060': 8, '1105-60-3061': 4, '1105-60-3062': 8, '1105-60-3063': 14, '1105-60-3064': 8, '1105-60-3065': 4, '1105-60-3066': 8, '1105-60-3067': 5, '1105-60-3068': 4, '1105-60-3069': 4, '1105-60-3070': 1, '1105-60-3071': 2, '1105-60-3072': 2, '1105-60-3073': 1, '1105-60-3074': 4, '1105-60-3075': 6, '1105-60-3076': 3, '1105-60-3077': 7, '1105-60-3078': 7, '1105-60-3079': 3, '1105-60-3080': 3, '1105-60-3082': 4, '1105-60-3083': 2, '1105-60-3084': 7, '1105-60-3085': 8, '1105-60-3086': 5, '1105-60-3087': 5, '1105-60-3088': 4, '1105-60-3089': 4, '1105-60-3090': 3, '1105-60-3092': 5, '1105-60-3093': 6, '1105-60-3094': 8, '1105-60-3095': 4, '1105-60-3096': 7, '1105-60-3097': 6, '1105-60-3098': 8, '1105-60-3099': 2, '1105-60-3100': 5, '1105-60-3101': 4, '1105-60-3102': 6, '1105-60-3103': 3, '1105-60-3104': 6, '1105-60-3105': 5, '1105-60-3106': 5, '1105-60-3107': 9, '1105-60-3108': 5, '1105-60-3109': 6, '1105-60-3110': 10, '1105-60-3112': 5, '1105-60-3113': 4, '1105-60-3114': 7, '1105-60-3115': 12, '1105-60-3116': 7, '1105-60-3117': 10, '1105-60-3118': 7, '1105-60-3119': 5, '1105-60-3120': 9, '1105-60-3121': 7, '1105-60-3122': 4, '1105-60-3123': 4, '1105-60-3125': 4, '1105-60-3126': 5, '1105-60-3127': 6, '1105-60-3128': 4, '1105-60-3129': 4, '1105-60-3130': 7, '1105-60-3132': 4, '1105-60-3133': 5, '1105-60-3134': 7, '1105-60-3135': 3, '1105-60-3136': 7, '1105-60-3137': 7, '1105-60-3138': 8, '1105-60-3139': 9, '1105-60-3140': 4, '1105-60-3141': 3, '1105-60-3142': 3, '1105-60-3143': 9, '1105-60-3144': 2, '1105-60-3145': 9, '1105-60-3146': 6, '1105-60-3148': 7, '1105-60-3149': 6, '1105-60-3150': 7, '1105-60-3151': 4, '1105-60-3154': 3, '1105-60-3155': 8, '1105-60-3156': 16, '1105-60-3157': 8, '1105-60-3158': 9, '1105-60-3159': 8, '1105-60-3160': 10, '1105-60-3161': 5, '1105-60-3162': 6, '1105-60-3163': 4, '1105-60-3164': 2, '1105-60-3165': 3, '1105-60-3166': 7, '1105-60-3168': 6, '1105-60-3169': 7, '1105-60-3171': 8, '1105-60-3172': 10, '1105-60-3173': 9, '1105-60-3174': 5, '1105-60-3175': 8, '1105-60-3177': 7, '1105-60-3178': 10, '1105-60-3179': 5, '1105-60-3180': 5, '1105-60-3181': 10, '1105-60-3182': 6, '1105-60-3183': 2, '1105-60-3184': 8, '1105-60-3185': 8, '1105-60-3186': 3, '1105-60-3187': 14, '1105-60-3188': 7, '1105-60-3189': 7, '1105-60-3190': 8, '1105-60-3191': 2, '1105-60-3192': 1}\n"
     ]
    }
   ],
   "source": [
    "# Group the 'bidy' dataset by 'UniqueID' and count the unique 'IDParticipant' values\n",
    "participant_counts = bidy.groupby('UniqueID')['IDParticipant'].nunique()\n",
    "\n",
    "# Convert the result to a dictionary\n",
    "participant_counts_dict = participant_counts.to_dict()\n",
    "print(participant_counts_dict)\n",
    "#Map the 'UniqueID' in the 'hlavna' dataset to the counts in the dictionary\n",
    "hlavna['PocetAktivnychUcast'] = hlavna['UniqueID'].map(participant_counts_dict)\n",
    "\n",
    "# Fill the null values in the 'PocetAktivnychUcast' attribute with 0\n",
    "hlavna['PocetAktivnychUcast'] = hlavna['PocetAktivnychUcast'].fillna(0)"
   ],
   "metadata": {
    "collapsed": false,
    "ExecuteTime": {
     "start_time": "2024-05-02T12:16:56.278306Z",
     "end_time": "2024-05-02T12:16:56.352108Z"
    }
   }
  },
  {
   "cell_type": "code",
   "execution_count": 15,
   "outputs": [
    {
     "name": "stdout",
     "output_type": "stream",
     "text": [
      "True\n"
     ]
    }
   ],
   "source": [
    "#Co sa opytat ?\n",
    "# Get the 'UniqueID' column from the 'duplicated_rows' DataFrame\n",
    "duplicated_unique_ids = duplicated_rows['UniqueID']\n",
    "\n",
    "# Check if any of these 'UniqueID's are present in the 'bidy' DataFrame\n",
    "is_present_in_bidy = bidy['UniqueID'].isin(duplicated_unique_ids)\n",
    "\n",
    "# Print the result\n",
    "print(is_present_in_bidy.any())"
   ],
   "metadata": {
    "collapsed": false,
    "ExecuteTime": {
     "start_time": "2024-04-10T13:07:10.874805Z",
     "end_time": "2024-04-10T13:07:10.881094Z"
    }
   }
  },
  {
   "cell_type": "code",
   "execution_count": 104,
   "outputs": [
    {
     "name": "stdout",
     "output_type": "stream",
     "text": [
      "0         100-45-1364\n",
      "1         100-45-1364\n",
      "2         100-45-1364\n",
      "3         100-45-1364\n",
      "4         100-45-1364\n",
      "             ...     \n",
      "76539    1105-60-3189\n",
      "76553    1105-60-3191\n",
      "76554    1105-60-3191\n",
      "76555    1105-60-3191\n",
      "76556    1105-60-3192\n",
      "Name: UniqueID, Length: 57058, dtype: object\n"
     ]
    }
   ],
   "source": [
    "# Get the 'UniqueID' column from the 'duplicated_rows' DataFrame\n",
    "duplicated_unique_ids = duplicated_rows['UniqueID']\n",
    "\n",
    "# Check if any of these 'UniqueID's are present in the 'bidy' DataFrame\n",
    "ids_present_in_bidy = bidy[bidy['UniqueID'].isin(duplicated_unique_ids)]\n",
    "\n",
    "# Print the 'UniqueID's that are present in both DataFrames\n",
    "print(ids_present_in_bidy['UniqueID'])"
   ],
   "metadata": {
    "collapsed": false,
    "ExecuteTime": {
     "start_time": "2024-03-21T13:08:59.909555Z",
     "end_time": "2024-03-21T13:09:00.532206Z"
    }
   }
  },
  {
   "cell_type": "code",
   "execution_count": 105,
   "outputs": [
    {
     "name": "stdout",
     "output_type": "stream",
     "text": [
      "19499\n"
     ]
    }
   ],
   "source": [
    "# Get the 'UniqueID' column from the 'duplicated_rows' DataFrame\n",
    "duplicated_unique_ids = duplicated_rows['UniqueID']\n",
    "\n",
    "# Check which of these 'UniqueID's are not present in the 'bidy' DataFrame\n",
    "not_present_in_bidy = ~bidy['UniqueID'].isin(duplicated_unique_ids)\n",
    "\n",
    "# Count the number of 'UniqueID's that are not present in 'bidy'\n",
    "count_not_present_in_bidy = not_present_in_bidy.sum()\n",
    "\n",
    "# Print the result\n",
    "print(count_not_present_in_bidy)"
   ],
   "metadata": {
    "collapsed": false,
    "ExecuteTime": {
     "start_time": "2024-03-21T13:10:29.608293Z",
     "end_time": "2024-03-21T13:10:29.623794Z"
    }
   }
  },
  {
   "cell_type": "code",
   "execution_count": 40,
   "outputs": [
    {
     "data": {
      "text/plain": "       UniqueID  Org  AucID              AucZac               AucKon  \\\n38  100-45-1429   45   1429 2018-09-21 12:00:00  2018-09-25 13:00:00   \n40  100-45-1431   45   1431 2018-10-22 10:00:00  2018-10-25 13:00:00   \n43  100-45-1438   45   1438 2018-11-21 10:00:00  2018-11-26 13:00:00   \n\n          AucNazov1              AucVal  Porovnávacia cena  VitaznaPonuka  \\\n38  Poptávka - prod  Jednotlivé položky         19343.3864    -18599.4100   \n40  Poptávka - prod  Jednotlivé položky         19343.3864    -27200.2686   \n43  Poptávka - prod  Jednotlivé položky         24520.6305    -25553.0781   \n\n   Mena  PocetPozvanok  PocetPrihlasenychUcast  PocetAktivnychUcast  Vitaz  \\\n38  EUR              9                     NaN                  6.0   3444   \n40  EUR              6                     NaN                  5.0   3444   \n43  EUR              7                     NaN                  4.0   3444   \n\n   AucTypUpresnenie                  Kateg             Subkateg  PocetItems  \\\n38         poptavka  Odpadové hospodářství  Šrot a kovový odpad           7   \n40         poptavka  Odpadové hospodářství  Šrot a kovový odpad           7   \n43         poptavka  Odpadové hospodářství  Šrot a kovový odpad           7   \n\n    PocetZmienPonuk  PocetPredlzeni             Stat  MinKrokZnizPercenta  \\\n38             39.0               0  Česká republika                  0.0   \n40             39.0               0  Česká republika                  0.0   \n43             26.0               0  Česká republika                  0.0   \n\n   PocKolERMMA PocKolZadavac PocKolNIPPON PocKolHOLLAND UsporaPorov  \\\n38     unknown       unknown      unknown       unknown     unknown   \n40     unknown       unknown      unknown       unknown     unknown   \n43     unknown       unknown      unknown       unknown     unknown   \n\n   UsporaVstup UsporaAukc KoefVarPonukCelk KoefVarPonukERMNIP  \n38     unknown    unknown          unknown            unknown  \n40     unknown    unknown          unknown            unknown  \n43     unknown    unknown          unknown            unknown  ",
      "text/html": "<div>\n<style scoped>\n    .dataframe tbody tr th:only-of-type {\n        vertical-align: middle;\n    }\n\n    .dataframe tbody tr th {\n        vertical-align: top;\n    }\n\n    .dataframe thead th {\n        text-align: right;\n    }\n</style>\n<table border=\"1\" class=\"dataframe\">\n  <thead>\n    <tr style=\"text-align: right;\">\n      <th></th>\n      <th>UniqueID</th>\n      <th>Org</th>\n      <th>AucID</th>\n      <th>AucZac</th>\n      <th>AucKon</th>\n      <th>AucNazov1</th>\n      <th>AucVal</th>\n      <th>Porovnávacia cena</th>\n      <th>VitaznaPonuka</th>\n      <th>Mena</th>\n      <th>PocetPozvanok</th>\n      <th>PocetPrihlasenychUcast</th>\n      <th>PocetAktivnychUcast</th>\n      <th>Vitaz</th>\n      <th>AucTypUpresnenie</th>\n      <th>Kateg</th>\n      <th>Subkateg</th>\n      <th>PocetItems</th>\n      <th>PocetZmienPonuk</th>\n      <th>PocetPredlzeni</th>\n      <th>Stat</th>\n      <th>MinKrokZnizPercenta</th>\n      <th>PocKolERMMA</th>\n      <th>PocKolZadavac</th>\n      <th>PocKolNIPPON</th>\n      <th>PocKolHOLLAND</th>\n      <th>UsporaPorov</th>\n      <th>UsporaVstup</th>\n      <th>UsporaAukc</th>\n      <th>KoefVarPonukCelk</th>\n      <th>KoefVarPonukERMNIP</th>\n    </tr>\n  </thead>\n  <tbody>\n    <tr>\n      <th>38</th>\n      <td>100-45-1429</td>\n      <td>45</td>\n      <td>1429</td>\n      <td>2018-09-21 12:00:00</td>\n      <td>2018-09-25 13:00:00</td>\n      <td>Poptávka - prod</td>\n      <td>Jednotlivé položky</td>\n      <td>19343.3864</td>\n      <td>-18599.4100</td>\n      <td>EUR</td>\n      <td>9</td>\n      <td>NaN</td>\n      <td>6.0</td>\n      <td>3444</td>\n      <td>poptavka</td>\n      <td>Odpadové hospodářství</td>\n      <td>Šrot a kovový odpad</td>\n      <td>7</td>\n      <td>39.0</td>\n      <td>0</td>\n      <td>Česká republika</td>\n      <td>0.0</td>\n      <td>unknown</td>\n      <td>unknown</td>\n      <td>unknown</td>\n      <td>unknown</td>\n      <td>unknown</td>\n      <td>unknown</td>\n      <td>unknown</td>\n      <td>unknown</td>\n      <td>unknown</td>\n    </tr>\n    <tr>\n      <th>40</th>\n      <td>100-45-1431</td>\n      <td>45</td>\n      <td>1431</td>\n      <td>2018-10-22 10:00:00</td>\n      <td>2018-10-25 13:00:00</td>\n      <td>Poptávka - prod</td>\n      <td>Jednotlivé položky</td>\n      <td>19343.3864</td>\n      <td>-27200.2686</td>\n      <td>EUR</td>\n      <td>6</td>\n      <td>NaN</td>\n      <td>5.0</td>\n      <td>3444</td>\n      <td>poptavka</td>\n      <td>Odpadové hospodářství</td>\n      <td>Šrot a kovový odpad</td>\n      <td>7</td>\n      <td>39.0</td>\n      <td>0</td>\n      <td>Česká republika</td>\n      <td>0.0</td>\n      <td>unknown</td>\n      <td>unknown</td>\n      <td>unknown</td>\n      <td>unknown</td>\n      <td>unknown</td>\n      <td>unknown</td>\n      <td>unknown</td>\n      <td>unknown</td>\n      <td>unknown</td>\n    </tr>\n    <tr>\n      <th>43</th>\n      <td>100-45-1438</td>\n      <td>45</td>\n      <td>1438</td>\n      <td>2018-11-21 10:00:00</td>\n      <td>2018-11-26 13:00:00</td>\n      <td>Poptávka - prod</td>\n      <td>Jednotlivé položky</td>\n      <td>24520.6305</td>\n      <td>-25553.0781</td>\n      <td>EUR</td>\n      <td>7</td>\n      <td>NaN</td>\n      <td>4.0</td>\n      <td>3444</td>\n      <td>poptavka</td>\n      <td>Odpadové hospodářství</td>\n      <td>Šrot a kovový odpad</td>\n      <td>7</td>\n      <td>26.0</td>\n      <td>0</td>\n      <td>Česká republika</td>\n      <td>0.0</td>\n      <td>unknown</td>\n      <td>unknown</td>\n      <td>unknown</td>\n      <td>unknown</td>\n      <td>unknown</td>\n      <td>unknown</td>\n      <td>unknown</td>\n      <td>unknown</td>\n      <td>unknown</td>\n    </tr>\n  </tbody>\n</table>\n</div>"
     },
     "execution_count": 40,
     "metadata": {},
     "output_type": "execute_result"
    }
   ],
   "source": [
    "negative_vitazna_ponuka = filtered_hlavna.loc[hlavna['VitaznaPonuka'] < 0]\n",
    "negative_vitazna_ponuka"
   ],
   "metadata": {
    "collapsed": false,
    "ExecuteTime": {
     "start_time": "2024-05-03T21:54:48.588331Z",
     "end_time": "2024-05-03T21:54:48.624729Z"
    }
   }
  },
  {
   "cell_type": "code",
   "execution_count": 41,
   "outputs": [
    {
     "name": "stdout",
     "output_type": "stream",
     "text": [
      "1620\n"
     ]
    }
   ],
   "source": [
    "# Filter out rows with negative 'VitaznaPonuka' values\n",
    "filtered_hlavna_positive = filtered_hlavna.loc[filtered_hlavna['VitaznaPonuka'] >= 0]\n",
    "print(len(filtered_hlavna_positive))\n",
    "# Save the resulting DataFrame to a new CSV file\n",
    "filtered_hlavna_positive.to_csv('filtered_hlavna_positive.csv', index=False)"
   ],
   "metadata": {
    "collapsed": false,
    "ExecuteTime": {
     "start_time": "2024-05-03T21:56:20.032445Z",
     "end_time": "2024-05-03T21:56:20.213543Z"
    }
   }
  },
  {
   "cell_type": "code",
   "execution_count": 43,
   "outputs": [
    {
     "name": "stdout",
     "output_type": "stream",
     "text": [
      "['100-45-1366' '100-45-1368' '100-45-1392' '100-45-1397' '100-45-1403'\n",
      " '100-45-1412' '100-45-1416' '100-45-1423' '100-45-1428' '100-45-1448'\n",
      " '100-45-1453' '100-45-1455' '100-45-1460' '100-45-1468' '100-45-1482'\n",
      " '102-146-2353' '102-142-2355' '102-146-2366' '102-142-2368'\n",
      " '102-143-2372' '102-143-2373' '102-146-2376' '102-143-2377'\n",
      " '102-143-2378' '102-143-2380' '102-141-2381' '102-141-2382'\n",
      " '102-143-2391' '102-146-2394' '102-146-2396' '102-142-2399'\n",
      " '102-143-2401' '102-143-2402' '102-146-2403' '102-143-2406'\n",
      " '102-143-2408' '102-141-2412' '102-141-2413' '1040-168-5831'\n",
      " '1040-168-5833' '1040-168-5835' '1040-168-5837' '1040-168-5838'\n",
      " '1040-168-5839' '106-88-5523' '106-103-5533' '106-96-5534' '106-103-5535'\n",
      " '106-77-5536' '106-91-5538' '106-96-5541' '106-95-5551' '106-95-5552'\n",
      " '106-95-5554' '106-95-5556' '106-86-5557' '106-91-5559' '106-103-5560'\n",
      " '106-93-5564' '106-93-5565' '106-93-5566' '106-93-5567' '106-103-5569'\n",
      " '106-77-5570' '106-77-5571' '106-88-5574' '106-82-5579' '106-82-5580'\n",
      " '106-86-5583' '106-84-5584' '106-82-5585' '106-84-5586' '106-84-5587'\n",
      " '106-84-5588' '106-84-5589' '106-95-5590' '106-84-5591' '106-84-5592'\n",
      " '106-84-5594' '106-84-5595' '106-86-5596' '106-86-5597' '106-86-5598'\n",
      " '106-86-5600' '106-86-5601' '106-82-5602' '106-82-5603' '106-82-5604'\n",
      " '106-86-5605' '106-82-5606' '106-86-5607' '106-86-5608' '106-77-5612'\n",
      " '106-97-5615' '106-97-5616' '106-88-5618' '106-82-5619' '106-81-5621'\n",
      " '106-81-5628' '106-77-5629' '106-84-5630' '106-81-5634' '106-92-5635'\n",
      " '106-88-5637' '106-82-5639' '106-77-5641' '106-77-5647' '106-88-5648'\n",
      " '106-96-5649' '106-88-5650' '106-77-5654' '106-95-5662' '106-81-5663'\n",
      " '106-89-5669' '106-86-5674' '106-88-5675' '106-77-5678' '106-77-5679'\n",
      " '106-88-5685' '106-88-5687' '106-96-5688' '106-96-5690' '106-96-5691'\n",
      " '106-78-5693' '106-78-5694' '106-95-5696' '106-88-5697' '106-81-5698'\n",
      " '106-96-5702' '106-77-5704' '106-77-5707' '106-81-5708' '106-77-5709'\n",
      " '106-85-5710' '106-91-5716' '106-88-5717' '106-77-5722' '106-82-5724'\n",
      " '106-77-5725' '106-88-5727' '106-77-5728' '106-96-5734' '106-96-5735'\n",
      " '106-96-5736' '106-96-5738' '106-96-5739' '106-96-5740' '106-96-5741'\n",
      " '106-96-5742' '106-96-5743' '106-96-5744' '106-96-5745' '106-96-5746'\n",
      " '106-96-5747' '106-96-5748' '106-96-5749' '106-96-5750' '106-96-5751'\n",
      " '106-96-5752' '106-96-5753' '106-96-5758' '106-96-5759' '106-96-5760'\n",
      " '106-96-5761' '106-96-5762' '106-96-5763' '106-81-5764' '106-96-5765'\n",
      " '106-77-5767' '106-96-5769' '106-96-5770' '106-96-5771' '106-96-5772'\n",
      " '106-96-5773' '106-96-5774' '106-96-5775' '106-96-5776' '106-96-5777'\n",
      " '106-96-5778' '106-96-5779' '106-96-5780' '106-96-5781' '106-96-5782'\n",
      " '106-96-5783' '106-96-5784' '106-96-5785' '106-93-5786' '106-96-5787'\n",
      " '106-96-5788' '106-96-5789' '106-96-5790' '106-96-5791' '106-96-5792'\n",
      " '106-96-5793' '106-96-5794' '106-96-5795' '106-96-5796' '106-96-5797'\n",
      " '106-96-5798' '106-96-5799' '106-96-5800' '106-96-5801' '106-96-5802'\n",
      " '106-96-5803' '106-96-5804' '106-96-5805' '106-96-5806' '106-86-5808'\n",
      " '106-86-5809' '106-88-5810' '106-88-5811' '106-88-5822' '106-93-5832'\n",
      " '106-81-5833' '106-78-5834' '106-78-5835' '106-102-5842' '106-82-5843'\n",
      " '106-77-5845' '106-82-5852' '106-94-5853' '106-96-5854' '106-96-5855'\n",
      " '106-88-5856' '106-96-5858' '106-96-5860' '106-89-5862' '106-88-5872'\n",
      " '106-79-5874' '106-88-5875' '106-88-5876' '106-88-5882' '106-77-5884'\n",
      " '106-77-5886' '106-77-5887' '106-77-5890' '106-77-5892' '106-77-5894'\n",
      " '106-77-5895' '106-77-5897' '106-77-5898' '106-94-5900' '106-77-5901'\n",
      " '106-77-5902' '106-77-5904' '106-85-5906' '106-77-5910' '106-77-5911'\n",
      " '106-91-5912' '106-88-5913' '106-88-5914' '106-88-5916' '106-84-5917'\n",
      " '106-89-5920' '106-89-5925' '106-102-5927' '106-77-5928' '106-77-5929'\n",
      " '106-96-5930' '106-88-5936' '106-88-5937' '106-91-5943' '106-77-5944'\n",
      " '106-77-5945' '106-89-5946' '106-88-5947' '106-101-5951' '106-84-5953'\n",
      " '106-96-5954' '106-99-5955' '106-88-5956' '106-88-5957' '106-91-5959'\n",
      " '106-84-5963' '106-88-5966' '106-88-5967' '106-77-5968' '106-84-5976'\n",
      " '106-77-5979' '106-88-5982' '106-88-5983' '106-77-5997' '106-99-5999'\n",
      " '106-77-6000' '106-77-6003' '106-81-6012' '106-81-6013' '106-88-6016'\n",
      " '106-77-6017' '106-82-6019' '106-93-6022' '106-97-6026' '106-77-6028'\n",
      " '106-77-6034' '106-77-6035' '106-88-6037' '106-77-6045' '106-82-6046'\n",
      " '106-88-6049' '106-99-6050' '106-88-6052' '106-81-6063' '106-91-6068'\n",
      " '106-93-6070' '106-88-6072' '106-88-6073' '106-88-6080' '106-88-6081'\n",
      " '106-77-6085' '106-101-6086' '106-88-6092' '106-88-6098' '106-88-6099'\n",
      " '106-86-6100' '106-82-6103' '106-86-6108' '106-95-6109' '106-96-6111'\n",
      " '106-96-6112' '106-96-6113' '106-96-6114' '106-96-6115' '106-96-6116'\n",
      " '106-96-6117' '106-96-6118' '106-96-6119' '106-96-6120' '106-96-6121'\n",
      " '106-96-6122' '106-96-6123' '106-96-6124' '106-96-6125' '106-96-6126'\n",
      " '106-96-6127' '106-96-6128' '106-96-6129' '106-77-6130' '106-96-6131'\n",
      " '106-96-6132' '106-96-6133' '106-96-6134' '106-96-6135' '106-96-6136'\n",
      " '106-96-6137' '106-96-6138' '106-96-6139' '106-96-6140' '106-89-6142'\n",
      " '106-85-6145' '106-93-6146' '106-84-6149' '106-99-6150' '106-77-6152'\n",
      " '106-88-6153' '106-95-6155' '106-85-6156' '106-77-6157' '106-77-6158'\n",
      " '106-77-6159' '106-77-6162' '106-81-6163' '106-81-6164' '106-88-6165'\n",
      " '106-81-6167' '106-103-6168' '106-96-6171' '106-82-6172' '106-86-6173'\n",
      " '106-91-6174' '106-102-6176' '106-95-6177' '106-93-6181' '106-84-6184'\n",
      " '106-96-6185' '106-96-6186' '106-96-6187' '106-96-6188' '106-96-6189'\n",
      " '106-96-6190' '106-96-6191' '106-96-6192' '106-96-6193' '106-96-6194'\n",
      " '106-96-6195' '106-96-6196' '106-96-6197' '106-96-6198' '106-96-6199'\n",
      " '106-96-6200' '106-96-6201' '106-96-6202' '106-96-6203' '106-96-6204'\n",
      " '106-96-6205' '106-96-6206' '106-96-6207' '106-96-6208' '106-77-6210'\n",
      " '106-79-6212' '106-96-6218' '106-96-6219' '106-96-6220' '106-96-6221'\n",
      " '106-96-6222' '106-96-6223' '106-96-6224' '106-96-6225' '106-96-6226'\n",
      " '106-96-6227' '106-96-6228' '106-96-6229' '106-96-6230' '106-96-6231'\n",
      " '106-96-6232' '106-96-6233' '106-96-6234' '106-96-6235' '106-96-6236'\n",
      " '106-102-6237' '106-96-6238' '106-96-6239' '106-96-6240' '106-96-6241'\n",
      " '106-96-6242' '106-96-6243' '106-96-6244' '106-96-6245' '106-96-6246'\n",
      " '106-96-6247' '106-96-6248' '106-96-6250' '106-96-6251' '106-96-6253'\n",
      " '106-96-6254' '106-96-6255' '106-96-6256' '106-96-6257' '106-96-6258'\n",
      " '106-96-6259' '106-96-6260' '106-96-6261' '106-96-6262' '106-96-6263'\n",
      " '106-96-6264' '106-96-6265' '106-96-6266' '106-96-6267' '106-96-6268'\n",
      " '106-96-6269' '106-96-6270' '106-96-6271' '106-96-6272' '106-96-6273'\n",
      " '106-96-6274' '106-96-6275' '106-96-6276' '106-96-6277' '106-96-6278'\n",
      " '106-96-6279' '106-96-6280' '106-96-6281' '106-96-6282' '106-96-6283'\n",
      " '106-95-6289' '106-77-6290' '106-99-6299' '106-79-6301' '106-77-6302'\n",
      " '106-95-6304' '106-91-6318' '106-81-6323' '106-77-6327' '106-77-6344'\n",
      " '106-86-6345' '106-77-6347' '106-77-6350' '106-81-6352' '106-81-6353'\n",
      " '106-77-6363' '106-102-6365' '106-96-6367' '106-82-6370' '106-101-6371'\n",
      " '106-102-6380' '106-88-6384' '106-77-6386' '106-81-6388' '106-86-6399'\n",
      " '106-103-6403' '106-96-6407' '106-96-6411' '106-96-6412' '106-96-6413'\n",
      " '106-100-6414' '106-82-6415' '106-82-6416' '106-89-6417' '106-79-6419'\n",
      " '106-89-6422' '106-81-6423' '106-91-6431' '106-96-6434' '106-88-6435'\n",
      " '106-77-6437' '106-96-6445' '106-88-6446' '106-86-6450' '106-81-6452'\n",
      " '106-89-6455' '106-88-6457' '106-77-6472' '106-86-6474' '106-96-6477'\n",
      " '106-95-6478' '106-81-6480' '106-81-6481' '106-96-6485' '106-82-6493'\n",
      " '106-77-6495' '106-81-6497' '106-77-6500' '106-77-6501' '106-89-6511'\n",
      " '106-77-6512' '106-77-6515' '106-77-6516' '106-77-6517' '106-77-6520'\n",
      " '106-83-6538' '106-83-6539' '106-77-6544' '106-77-6547' '106-84-6548'\n",
      " '106-81-6549' '106-81-6557' '106-88-6558' '106-84-6564' '106-78-6569'\n",
      " '106-78-6570' '106-81-6575' '106-78-6581' '106-88-6584' '106-96-6585'\n",
      " '106-99-6586' '106-86-6588' '106-77-6589' '106-95-6592' '106-77-6596'\n",
      " '106-94-6600' '106-94-6602' '106-94-6603' '106-77-6606' '106-81-6609'\n",
      " '106-81-6610' '106-77-6615' '106-77-6617' '106-77-6622' '106-77-6630'\n",
      " '106-77-6634' '106-77-6635' '106-77-6643' '106-77-6644' '106-77-6650'\n",
      " '106-77-6682' '106-77-6683' '106-77-6685' '106-77-6686' '106-77-6687'\n",
      " '106-77-6688' '106-77-6689' '106-77-6690' '106-77-6691' '106-77-6692'\n",
      " '106-77-6694' '106-77-6696' '106-77-6700' '106-77-6701' '106-95-6712'\n",
      " '106-77-6713' '106-77-6714' '106-82-6718' '106-82-6719' '106-79-6720'\n",
      " '106-96-6722' '106-84-6726' '106-77-6727' '106-95-6733' '106-103-6737'\n",
      " '106-81-6738' '106-93-6741' '106-77-6742' '106-87-6743' '106-101-6747'\n",
      " '106-99-6749' '106-85-6752' '106-89-6754' '106-88-6755' '106-79-6758'\n",
      " '106-85-6761' '106-84-6762' '106-77-6765' '106-77-6768' '106-96-6789'\n",
      " '106-96-6790' '106-96-6791' '106-96-6792' '106-106-6794' '106-77-6796'\n",
      " '106-85-6804' '106-77-6807' '106-77-6808' '106-77-6809' '106-77-6810'\n",
      " '106-77-6813' '106-77-6815' '106-77-6817' '106-106-6818' '106-85-6819'\n",
      " '106-95-6820' '106-77-6823' '106-95-6824' '106-95-6825' '106-93-6826'\n",
      " '106-88-6827' '106-82-6828' '106-82-6829' '106-96-6830' '106-96-6832'\n",
      " '106-96-6833' '106-96-6834' '106-77-6867' '106-82-6868' '106-96-6869'\n",
      " '106-96-6870' '106-96-6871' '106-96-6872' '106-96-6873' '106-96-6874'\n",
      " '106-96-6875' '106-77-6877' '106-77-6878' '106-77-6879' '106-102-6881'\n",
      " '106-91-6882' '106-77-6883' '106-79-6884' '106-82-6887' '106-82-6888'\n",
      " '106-82-6889' '106-84-6890' '106-82-6893' '106-98-6894' '106-77-6895'\n",
      " '106-81-6896' '106-96-6897' '106-96-6900' '106-96-6903' '106-96-6904'\n",
      " '106-106-6905' '106-106-6906' '106-96-6908' '106-96-6909' '106-82-6910'\n",
      " '106-96-6912' '106-77-6918' '106-96-6919' '106-81-6920' '106-77-6921'\n",
      " '106-81-6923' '106-102-6924' '106-86-6925' '106-86-6926' '106-82-6927'\n",
      " '106-91-6928' '106-82-6929' '106-96-6930' '106-96-6932' '106-77-6933'\n",
      " '106-96-6934' '106-81-6939' '106-102-6946' '106-95-6947' '106-77-6949'\n",
      " '106-102-6956' '106-102-6957' '106-102-6958' '106-77-6959' '106-102-6961'\n",
      " '106-98-6962' '106-95-6963' '106-102-6965' '106-102-6966' '106-102-6967'\n",
      " '106-102-6968' '106-102-6969' '106-95-6975' '107-84-811' '107-84-812'\n",
      " '107-84-814' '107-84-816' '107-84-819' '107-84-820' '107-84-822'\n",
      " '107-84-824' '107-84-825' '107-84-827' '107-84-841' '1072-6-1002'\n",
      " '1072-6-1008' '1072-6-1010' '1072-6-1014' '1072-6-681' '1072-6-683'\n",
      " '1072-6-684' '1072-6-687' '1072-6-688' '1072-6-693' '1072-6-694'\n",
      " '1072-6-697' '1072-6-698' '1072-6-703' '1072-6-704' '1072-6-705'\n",
      " '1072-6-707' '1072-6-708' '1072-6-710' '1072-6-711' '1072-6-714'\n",
      " '1072-6-716' '1072-6-717' '1072-6-722' '1072-6-723' '1072-6-724'\n",
      " '1072-6-727' '1072-6-729' '1072-6-734' '1072-6-735' '1072-6-738'\n",
      " '1072-6-739' '1072-6-741' '1072-6-743' '1072-6-749' '1072-6-751'\n",
      " '1072-6-752' '1072-6-753' '1072-6-756' '1072-6-757' '1072-6-760'\n",
      " '1072-6-763' '1072-6-765' '1072-6-767' '1072-6-769' '1072-6-773'\n",
      " '1072-6-774' '1072-6-777' '1072-6-778' '1072-6-780' '1072-6-781'\n",
      " '1072-6-782' '1072-6-784' '1072-6-790' '1072-6-791' '1072-6-792'\n",
      " '1072-6-794' '1072-6-795' '1072-6-796' '1072-6-797' '1072-6-798'\n",
      " '1072-6-802' '1072-6-803' '1072-6-804' '1072-6-811' '1072-6-812'\n",
      " '1072-6-813' '1072-6-814' '1072-6-817' '1072-6-820' '1072-6-821'\n",
      " '1072-6-826' '1072-6-827' '1072-6-835' '1072-6-836' '1072-6-837'\n",
      " '1072-6-839' '1072-6-840' '1072-6-842' '1072-6-843' '1072-6-846'\n",
      " '1072-6-847' '1072-6-850' '1072-6-852' '1072-6-855' '1072-6-857'\n",
      " '1072-6-860' '1072-6-864' '1072-6-866' '1072-6-868' '1072-6-869'\n",
      " '1072-6-870' '1072-6-875' '1072-6-879' '1072-6-882' '1072-6-883'\n",
      " '1072-6-885' '1072-6-887' '1072-6-889' '1072-6-890' '1072-6-893'\n",
      " '1072-6-895' '1072-6-896' '1072-6-899' '1072-6-901' '1072-6-903'\n",
      " '1072-6-904' '1072-6-912' '1072-6-915' '1072-6-919' '1072-6-920'\n",
      " '1072-6-924' '1072-6-927' '1072-6-928' '1072-6-929' '1072-6-940'\n",
      " '1072-6-943' '1072-6-945' '1072-6-947' '1072-6-956' '1072-6-961'\n",
      " '1072-6-962' '1072-6-968' '1072-6-970' '1072-6-971' '1072-6-980'\n",
      " '1072-6-985' '1072-6-990' '1072-6-991' '1072-6-996' '1087-1-57'\n",
      " '1087-1-58' '109-143-4409' '1101-12-1587' '1101-12-1588' '1104-50-1875'\n",
      " '1104-50-1899' '1104-50-1905' '1104-50-1919' '1104-50-1975'\n",
      " '1104-50-1976' '1105-60-2303' '1105-60-2305' '1105-60-2315'\n",
      " '1105-60-2331' '1105-60-2341' '1105-60-2349' '1105-60-2386'\n",
      " '1105-60-2433' '1105-60-2459' '1105-60-2468' '1105-60-2483'\n",
      " '1105-60-2508' '1105-60-2550' '1105-60-2558' '1105-60-2559'\n",
      " '1105-60-2599' '1105-60-2624' '1105-60-2625' '1105-60-2629'\n",
      " '1105-60-2656' '1105-60-2664' '1105-60-2714' '1105-60-2722'\n",
      " '1105-60-2750' '1105-60-2769' '1105-60-2802' '1105-60-2807'\n",
      " '1105-60-2826' '1105-60-2881' '1105-60-2904' '1105-60-2913'\n",
      " '1105-60-2914' '1105-60-2916' '1105-60-2917' '1105-60-2919'\n",
      " '1105-60-2949' '1105-60-2972' '1105-60-3038' '1105-60-3075'\n",
      " '1105-60-3076' '1105-60-3083' '1105-60-3109' '1105-60-3112'\n",
      " '1105-60-3130' '1105-60-3132' '1105-60-3142' '1105-60-3144']\n"
     ]
    }
   ],
   "source": [
    "# Get the unique IDs from 'hlavna'\n",
    "unique_ids_hlavna = hlavna['UniqueID'].unique()\n",
    "\n",
    "# Check which unique IDs from 'bidy' are not in 'hlavna'\n",
    "not_in_hlavna = ~bidy['UniqueID'].isin(unique_ids_hlavna)\n",
    "\n",
    "# Get the unique IDs from 'bidy' that are not in 'hlavna'\n",
    "unique_ids_not_in_hlavna = bidy.loc[not_in_hlavna, 'UniqueID'].unique()\n",
    "\n",
    "# Print the unique IDs from 'bidy' that are not in 'hlavna'\n",
    "print(unique_ids_not_in_hlavna)"
   ],
   "metadata": {
    "collapsed": false,
    "ExecuteTime": {
     "start_time": "2024-05-03T22:03:36.793823Z",
     "end_time": "2024-05-03T22:03:36.833744Z"
    }
   }
  },
  {
   "cell_type": "code",
   "execution_count": null,
   "outputs": [],
   "source": [],
   "metadata": {
    "collapsed": false
   }
  }
 ],
 "metadata": {
  "kernelspec": {
   "display_name": "Python 3",
   "language": "python",
   "name": "python3"
  },
  "language_info": {
   "codemirror_mode": {
    "name": "ipython",
    "version": 2
   },
   "file_extension": ".py",
   "mimetype": "text/x-python",
   "name": "python",
   "nbconvert_exporter": "python",
   "pygments_lexer": "ipython2",
   "version": "2.7.6"
  }
 },
 "nbformat": 4,
 "nbformat_minor": 0
}
