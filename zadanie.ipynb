{
 "cells": [
  {
   "cell_type": "code",
   "execution_count": 14,
   "metadata": {
    "collapsed": true,
    "ExecuteTime": {
     "start_time": "2024-03-18T12:01:44.595904Z",
     "end_time": "2024-03-18T12:01:50.562645Z"
    }
   },
   "outputs": [
    {
     "name": "stdout",
     "output_type": "stream",
     "text": [
      "Requirement already satisfied: pandas in /Users/A117792292/anaconda3/envs/ElektronickeObchodovanie/lib/python3.10/site-packages (2.2.1)\r\n",
      "Requirement already satisfied: numpy<2,>=1.22.4 in /Users/A117792292/anaconda3/envs/ElektronickeObchodovanie/lib/python3.10/site-packages (from pandas) (1.26.4)\r\n",
      "Requirement already satisfied: python-dateutil>=2.8.2 in /Users/A117792292/anaconda3/envs/ElektronickeObchodovanie/lib/python3.10/site-packages (from pandas) (2.8.2)\r\n",
      "Requirement already satisfied: pytz>=2020.1 in /Users/A117792292/anaconda3/envs/ElektronickeObchodovanie/lib/python3.10/site-packages (from pandas) (2023.3.post1)\r\n",
      "Requirement already satisfied: tzdata>=2022.7 in /Users/A117792292/anaconda3/envs/ElektronickeObchodovanie/lib/python3.10/site-packages (from pandas) (2024.1)\r\n",
      "Requirement already satisfied: six>=1.5 in /Users/A117792292/anaconda3/envs/ElektronickeObchodovanie/lib/python3.10/site-packages (from python-dateutil>=2.8.2->pandas) (1.16.0)\r\n",
      "Collecting openpyxl\r\n",
      "  Downloading openpyxl-3.1.2-py2.py3-none-any.whl.metadata (2.5 kB)\r\n",
      "Collecting et-xmlfile (from openpyxl)\r\n",
      "  Downloading et_xmlfile-1.1.0-py3-none-any.whl.metadata (1.8 kB)\r\n",
      "Downloading openpyxl-3.1.2-py2.py3-none-any.whl (249 kB)\r\n",
      "\u001B[2K   \u001B[90m━━━━━━━━━━━━━━━━━━━━━━━━━━━━━━━━━━━━━━━━\u001B[0m \u001B[32m250.0/250.0 kB\u001B[0m \u001B[31m1.5 MB/s\u001B[0m eta \u001B[36m0:00:00\u001B[0m00:01\u001B[0m00:01\u001B[0m\r\n",
      "\u001B[?25hDownloading et_xmlfile-1.1.0-py3-none-any.whl (4.7 kB)\r\n",
      "Installing collected packages: et-xmlfile, openpyxl\r\n",
      "Successfully installed et-xmlfile-1.1.0 openpyxl-3.1.2\r\n"
     ]
    }
   ],
   "source": [
    "#nainstaluje kniznice\n",
    "!pip install pandas\n",
    "!pip install openpyxl"
   ]
  },
  {
   "cell_type": "code",
   "execution_count": 2,
   "outputs": [],
   "source": [
    "#importuje kniznice\n",
    "import pandas as pd\n"
   ],
   "metadata": {
    "collapsed": false,
    "ExecuteTime": {
     "start_time": "2024-03-18T11:53:55.087494Z",
     "end_time": "2024-03-18T11:53:56.057057Z"
    }
   }
  },
  {
   "cell_type": "code",
   "execution_count": 17,
   "outputs": [
    {
     "name": "stderr",
     "output_type": "stream",
     "text": [
      "/var/folders/cj/vh3ymv8n1tsf0kp09s2k65l80000gq/T/ipykernel_89066/2714954740.py:4: DtypeWarning: Columns (5,9) have mixed types. Specify dtype option on import or set low_memory=False.\n",
      "  bidy = pd.read_csv('data_auctionHIsim2024/T4_bidyHI simul2_2024.csv', sep=';', encoding='ISO-8859-1')\n"
     ]
    }
   ],
   "source": [
    "#nacitanie dat\n",
    "hlavna = pd.read_excel('data_auctionHIsim2024/T1_hlavnaHIsim2024.xlsx')\n",
    "nastavenia = pd.read_excel('data_auctionHIsim2024/T2_nastaveniaHIsim2024.xlsx')\n",
    "kriteria = pd.read_excel('data_auctionHIsim2024/T3_kriteriaHIsim2024.xlsx')\n",
    "bidy = pd.read_csv('data_auctionHIsim2024/T4_bidyHI simul2_2024.csv', sep=';', encoding='ISO-8859-1')\n"
   ],
   "metadata": {
    "collapsed": false,
    "ExecuteTime": {
     "start_time": "2024-03-18T12:03:47.492656Z",
     "end_time": "2024-03-18T12:04:09.779126Z"
    }
   }
  },
  {
   "cell_type": "code",
   "execution_count": 26,
   "outputs": [
    {
     "name": "stdout",
     "output_type": "stream",
     "text": [
      "13217\n"
     ]
    },
    {
     "data": {
      "text/plain": "      UniqueID  Org  AucID              AucZac               AucKon  \\\n0  100-45-1364   45   1364 2017-10-13 13:30:00  2017-10-23 13:33:00   \n1  100-45-1365   45   1365 2017-10-06 12:00:00  2017-10-27 12:00:00   \n2  100-45-1369   45   1369 2017-10-12 08:30:00  2017-10-27 08:30:00   \n3  100-45-1378   45   1378 2017-10-17 12:30:00  2017-10-31 11:30:00   \n4  100-45-1379   45   1379 2017-10-23 10:00:00  2017-10-31 09:40:00   \n\n         AucNazov1                      AucVal  Porovnávacia cena  \\\n0  Ocelové pásky v          Jednotlivé položky           24167.04   \n1  Cenová poptávka  Multikriteriální hodnocení               0.00   \n2  Cenová poptávka  Multikriteriální hodnocení               0.00   \n3  Cenová poptávka  Multikriteriální hodnocení               0.00   \n4  Doprava 2018 (S   Celková nabídka účastníka               0.00   \n\n   VitaznaPonuka Mena  ...  MinKrokZnizPercenta  PocKolERMMA  PocKolZadavac  \\\n0     24864.0000  EUR  ...                  0.0      unknown        unknown   \n1    116400.0000  CZK  ...                  0.1      unknown        unknown   \n2     13167.0000  CZK  ...                  0.1      unknown        unknown   \n3     52062.4000  CZK  ...                  0.1      unknown        unknown   \n4    262965.0771  EUR  ...                  0.0      unknown        unknown   \n\n   PocKolNIPPON PocKolHOLLAND UsporaPorov UsporaVstup  UsporaAukc  \\\n0       unknown       unknown     unknown     unknown     unknown   \n1       unknown       unknown     unknown     unknown     unknown   \n2       unknown       unknown     unknown     unknown     unknown   \n3       unknown       unknown     unknown     unknown     unknown   \n4       unknown       unknown     unknown     unknown     unknown   \n\n   KoefVarPonukCelk  KoefVarPonukERMNIP  \n0           unknown             unknown  \n1           unknown             unknown  \n2           unknown             unknown  \n3           unknown             unknown  \n4           unknown             unknown  \n\n[5 rows x 31 columns]",
      "text/html": "<div>\n<style scoped>\n    .dataframe tbody tr th:only-of-type {\n        vertical-align: middle;\n    }\n\n    .dataframe tbody tr th {\n        vertical-align: top;\n    }\n\n    .dataframe thead th {\n        text-align: right;\n    }\n</style>\n<table border=\"1\" class=\"dataframe\">\n  <thead>\n    <tr style=\"text-align: right;\">\n      <th></th>\n      <th>UniqueID</th>\n      <th>Org</th>\n      <th>AucID</th>\n      <th>AucZac</th>\n      <th>AucKon</th>\n      <th>AucNazov1</th>\n      <th>AucVal</th>\n      <th>Porovnávacia cena</th>\n      <th>VitaznaPonuka</th>\n      <th>Mena</th>\n      <th>...</th>\n      <th>MinKrokZnizPercenta</th>\n      <th>PocKolERMMA</th>\n      <th>PocKolZadavac</th>\n      <th>PocKolNIPPON</th>\n      <th>PocKolHOLLAND</th>\n      <th>UsporaPorov</th>\n      <th>UsporaVstup</th>\n      <th>UsporaAukc</th>\n      <th>KoefVarPonukCelk</th>\n      <th>KoefVarPonukERMNIP</th>\n    </tr>\n  </thead>\n  <tbody>\n    <tr>\n      <th>0</th>\n      <td>100-45-1364</td>\n      <td>45</td>\n      <td>1364</td>\n      <td>2017-10-13 13:30:00</td>\n      <td>2017-10-23 13:33:00</td>\n      <td>Ocelové pásky v</td>\n      <td>Jednotlivé položky</td>\n      <td>24167.04</td>\n      <td>24864.0000</td>\n      <td>EUR</td>\n      <td>...</td>\n      <td>0.0</td>\n      <td>unknown</td>\n      <td>unknown</td>\n      <td>unknown</td>\n      <td>unknown</td>\n      <td>unknown</td>\n      <td>unknown</td>\n      <td>unknown</td>\n      <td>unknown</td>\n      <td>unknown</td>\n    </tr>\n    <tr>\n      <th>1</th>\n      <td>100-45-1365</td>\n      <td>45</td>\n      <td>1365</td>\n      <td>2017-10-06 12:00:00</td>\n      <td>2017-10-27 12:00:00</td>\n      <td>Cenová poptávka</td>\n      <td>Multikriteriální hodnocení</td>\n      <td>0.00</td>\n      <td>116400.0000</td>\n      <td>CZK</td>\n      <td>...</td>\n      <td>0.1</td>\n      <td>unknown</td>\n      <td>unknown</td>\n      <td>unknown</td>\n      <td>unknown</td>\n      <td>unknown</td>\n      <td>unknown</td>\n      <td>unknown</td>\n      <td>unknown</td>\n      <td>unknown</td>\n    </tr>\n    <tr>\n      <th>2</th>\n      <td>100-45-1369</td>\n      <td>45</td>\n      <td>1369</td>\n      <td>2017-10-12 08:30:00</td>\n      <td>2017-10-27 08:30:00</td>\n      <td>Cenová poptávka</td>\n      <td>Multikriteriální hodnocení</td>\n      <td>0.00</td>\n      <td>13167.0000</td>\n      <td>CZK</td>\n      <td>...</td>\n      <td>0.1</td>\n      <td>unknown</td>\n      <td>unknown</td>\n      <td>unknown</td>\n      <td>unknown</td>\n      <td>unknown</td>\n      <td>unknown</td>\n      <td>unknown</td>\n      <td>unknown</td>\n      <td>unknown</td>\n    </tr>\n    <tr>\n      <th>3</th>\n      <td>100-45-1378</td>\n      <td>45</td>\n      <td>1378</td>\n      <td>2017-10-17 12:30:00</td>\n      <td>2017-10-31 11:30:00</td>\n      <td>Cenová poptávka</td>\n      <td>Multikriteriální hodnocení</td>\n      <td>0.00</td>\n      <td>52062.4000</td>\n      <td>CZK</td>\n      <td>...</td>\n      <td>0.1</td>\n      <td>unknown</td>\n      <td>unknown</td>\n      <td>unknown</td>\n      <td>unknown</td>\n      <td>unknown</td>\n      <td>unknown</td>\n      <td>unknown</td>\n      <td>unknown</td>\n      <td>unknown</td>\n    </tr>\n    <tr>\n      <th>4</th>\n      <td>100-45-1379</td>\n      <td>45</td>\n      <td>1379</td>\n      <td>2017-10-23 10:00:00</td>\n      <td>2017-10-31 09:40:00</td>\n      <td>Doprava 2018 (S</td>\n      <td>Celková nabídka účastníka</td>\n      <td>0.00</td>\n      <td>262965.0771</td>\n      <td>EUR</td>\n      <td>...</td>\n      <td>0.0</td>\n      <td>unknown</td>\n      <td>unknown</td>\n      <td>unknown</td>\n      <td>unknown</td>\n      <td>unknown</td>\n      <td>unknown</td>\n      <td>unknown</td>\n      <td>unknown</td>\n      <td>unknown</td>\n    </tr>\n  </tbody>\n</table>\n<p>5 rows × 31 columns</p>\n</div>"
     },
     "execution_count": 26,
     "metadata": {},
     "output_type": "execute_result"
    }
   ],
   "source": [
    "#zobrazenie dat\n",
    "print(len(hlavna))\n",
    "hlavna.head()\n"
   ],
   "metadata": {
    "collapsed": false,
    "ExecuteTime": {
     "start_time": "2024-03-18T12:06:00.788787Z",
     "end_time": "2024-03-18T12:06:00.810621Z"
    }
   }
  },
  {
   "cell_type": "code",
   "execution_count": 27,
   "outputs": [
    {
     "name": "stdout",
     "output_type": "stream",
     "text": [
      "48221\n"
     ]
    },
    {
     "data": {
      "text/plain": "      UniqueID  Org  AucID  IDkola            NazovKola  LubZmenaCien  \\\n0  100-45-1364   45   1364  2979.0         Vstupní kolo           1.0   \n1  100-45-1364   45   1364  2980.0          Aukční kolo           0.0   \n2  100-45-1365   45   1365  2981.0  Předkládání nabídek           1.0   \n3  100-45-1366   45   1366  2982.0  Předkládání nabídek           1.0   \n4  100-45-1368   45   1368  2986.0         Vstupní kolo           1.0   \n\n   LubZmenaVolPodmienok  MoznDorovnPonuku  MoznDorovnNajPonuku  PredlzitMin  \\\n0                   1.0               0.0                  1.0          0.0   \n1                   1.0               0.0                  0.0          2.0   \n2                   0.0               0.0                  1.0          0.0   \n3                   0.0               0.0                  1.0          0.0   \n4                   1.0               0.0                  1.0          0.0   \n\n   ...  ZobrazMnozstvo  ZobrazPocetPoloz  ZobrazPomocVypocet  \\\n0  ...             1.0               0.0                 1.0   \n1  ...             1.0               1.0                 0.0   \n2  ...             1.0               0.0                 0.0   \n3  ...             1.0               0.0                 1.0   \n4  ...             1.0               1.0                 1.0   \n\n   ZobrazPomocVypocetUcas  ZobrazPoradie  ZobrazPorDoX  ZobrazPoradiePoloziek  \\\n0                     0.0            0.0           0.0                    0.0   \n1                     0.0            0.0           0.0                    0.0   \n2                     0.0            0.0           0.0                    0.0   \n3                     1.0            0.0           0.0                    0.0   \n4                     1.0            0.0           0.0                    0.0   \n\n   ZobrazPorPomocVypoc  ZobrazPorPomocVypocDoX  ZobrazMinMaxCenu  \n0                  0.0                     0.0               0.0  \n1                  0.0                     0.0               0.0  \n2                  0.0                     0.0               1.0  \n3                  0.0                     0.0               0.0  \n4                  0.0                     0.0               1.0  \n\n[5 rows x 33 columns]",
      "text/html": "<div>\n<style scoped>\n    .dataframe tbody tr th:only-of-type {\n        vertical-align: middle;\n    }\n\n    .dataframe tbody tr th {\n        vertical-align: top;\n    }\n\n    .dataframe thead th {\n        text-align: right;\n    }\n</style>\n<table border=\"1\" class=\"dataframe\">\n  <thead>\n    <tr style=\"text-align: right;\">\n      <th></th>\n      <th>UniqueID</th>\n      <th>Org</th>\n      <th>AucID</th>\n      <th>IDkola</th>\n      <th>NazovKola</th>\n      <th>LubZmenaCien</th>\n      <th>LubZmenaVolPodmienok</th>\n      <th>MoznDorovnPonuku</th>\n      <th>MoznDorovnNajPonuku</th>\n      <th>PredlzitMin</th>\n      <th>...</th>\n      <th>ZobrazMnozstvo</th>\n      <th>ZobrazPocetPoloz</th>\n      <th>ZobrazPomocVypocet</th>\n      <th>ZobrazPomocVypocetUcas</th>\n      <th>ZobrazPoradie</th>\n      <th>ZobrazPorDoX</th>\n      <th>ZobrazPoradiePoloziek</th>\n      <th>ZobrazPorPomocVypoc</th>\n      <th>ZobrazPorPomocVypocDoX</th>\n      <th>ZobrazMinMaxCenu</th>\n    </tr>\n  </thead>\n  <tbody>\n    <tr>\n      <th>0</th>\n      <td>100-45-1364</td>\n      <td>45</td>\n      <td>1364</td>\n      <td>2979.0</td>\n      <td>Vstupní kolo</td>\n      <td>1.0</td>\n      <td>1.0</td>\n      <td>0.0</td>\n      <td>1.0</td>\n      <td>0.0</td>\n      <td>...</td>\n      <td>1.0</td>\n      <td>0.0</td>\n      <td>1.0</td>\n      <td>0.0</td>\n      <td>0.0</td>\n      <td>0.0</td>\n      <td>0.0</td>\n      <td>0.0</td>\n      <td>0.0</td>\n      <td>0.0</td>\n    </tr>\n    <tr>\n      <th>1</th>\n      <td>100-45-1364</td>\n      <td>45</td>\n      <td>1364</td>\n      <td>2980.0</td>\n      <td>Aukční kolo</td>\n      <td>0.0</td>\n      <td>1.0</td>\n      <td>0.0</td>\n      <td>0.0</td>\n      <td>2.0</td>\n      <td>...</td>\n      <td>1.0</td>\n      <td>1.0</td>\n      <td>0.0</td>\n      <td>0.0</td>\n      <td>0.0</td>\n      <td>0.0</td>\n      <td>0.0</td>\n      <td>0.0</td>\n      <td>0.0</td>\n      <td>0.0</td>\n    </tr>\n    <tr>\n      <th>2</th>\n      <td>100-45-1365</td>\n      <td>45</td>\n      <td>1365</td>\n      <td>2981.0</td>\n      <td>Předkládání nabídek</td>\n      <td>1.0</td>\n      <td>0.0</td>\n      <td>0.0</td>\n      <td>1.0</td>\n      <td>0.0</td>\n      <td>...</td>\n      <td>1.0</td>\n      <td>0.0</td>\n      <td>0.0</td>\n      <td>0.0</td>\n      <td>0.0</td>\n      <td>0.0</td>\n      <td>0.0</td>\n      <td>0.0</td>\n      <td>0.0</td>\n      <td>1.0</td>\n    </tr>\n    <tr>\n      <th>3</th>\n      <td>100-45-1366</td>\n      <td>45</td>\n      <td>1366</td>\n      <td>2982.0</td>\n      <td>Předkládání nabídek</td>\n      <td>1.0</td>\n      <td>0.0</td>\n      <td>0.0</td>\n      <td>1.0</td>\n      <td>0.0</td>\n      <td>...</td>\n      <td>1.0</td>\n      <td>0.0</td>\n      <td>1.0</td>\n      <td>1.0</td>\n      <td>0.0</td>\n      <td>0.0</td>\n      <td>0.0</td>\n      <td>0.0</td>\n      <td>0.0</td>\n      <td>0.0</td>\n    </tr>\n    <tr>\n      <th>4</th>\n      <td>100-45-1368</td>\n      <td>45</td>\n      <td>1368</td>\n      <td>2986.0</td>\n      <td>Vstupní kolo</td>\n      <td>1.0</td>\n      <td>1.0</td>\n      <td>0.0</td>\n      <td>1.0</td>\n      <td>0.0</td>\n      <td>...</td>\n      <td>1.0</td>\n      <td>1.0</td>\n      <td>1.0</td>\n      <td>1.0</td>\n      <td>0.0</td>\n      <td>0.0</td>\n      <td>0.0</td>\n      <td>0.0</td>\n      <td>0.0</td>\n      <td>1.0</td>\n    </tr>\n  </tbody>\n</table>\n<p>5 rows × 33 columns</p>\n</div>"
     },
     "execution_count": 27,
     "metadata": {},
     "output_type": "execute_result"
    }
   ],
   "source": [
    "print(len(nastavenia))\n",
    "nastavenia.head()\n"
   ],
   "metadata": {
    "collapsed": false,
    "ExecuteTime": {
     "start_time": "2024-03-18T12:06:09.507834Z",
     "end_time": "2024-03-18T12:06:09.546506Z"
    }
   }
  },
  {
   "cell_type": "code",
   "execution_count": 28,
   "outputs": [
    {
     "name": "stdout",
     "output_type": "stream",
     "text": [
      "26620\n"
     ]
    },
    {
     "data": {
      "text/plain": "      UniqueID  Org  AucID                AucEvaluated  HodnotaKriteria\n0  100-45-1364   45   1364          Jednotlivé položky              NaN\n1  100-45-1365   45   1365  Multikriteriální hodnocení             99.4\n2  100-45-1365   45   1365  Multikriteriální hodnocení              0.2\n3  100-45-1365   45   1365  Multikriteriální hodnocení              0.2\n4  100-45-1365   45   1365  Multikriteriální hodnocení              0.2",
      "text/html": "<div>\n<style scoped>\n    .dataframe tbody tr th:only-of-type {\n        vertical-align: middle;\n    }\n\n    .dataframe tbody tr th {\n        vertical-align: top;\n    }\n\n    .dataframe thead th {\n        text-align: right;\n    }\n</style>\n<table border=\"1\" class=\"dataframe\">\n  <thead>\n    <tr style=\"text-align: right;\">\n      <th></th>\n      <th>UniqueID</th>\n      <th>Org</th>\n      <th>AucID</th>\n      <th>AucEvaluated</th>\n      <th>HodnotaKriteria</th>\n    </tr>\n  </thead>\n  <tbody>\n    <tr>\n      <th>0</th>\n      <td>100-45-1364</td>\n      <td>45</td>\n      <td>1364</td>\n      <td>Jednotlivé položky</td>\n      <td>NaN</td>\n    </tr>\n    <tr>\n      <th>1</th>\n      <td>100-45-1365</td>\n      <td>45</td>\n      <td>1365</td>\n      <td>Multikriteriální hodnocení</td>\n      <td>99.4</td>\n    </tr>\n    <tr>\n      <th>2</th>\n      <td>100-45-1365</td>\n      <td>45</td>\n      <td>1365</td>\n      <td>Multikriteriální hodnocení</td>\n      <td>0.2</td>\n    </tr>\n    <tr>\n      <th>3</th>\n      <td>100-45-1365</td>\n      <td>45</td>\n      <td>1365</td>\n      <td>Multikriteriální hodnocení</td>\n      <td>0.2</td>\n    </tr>\n    <tr>\n      <th>4</th>\n      <td>100-45-1365</td>\n      <td>45</td>\n      <td>1365</td>\n      <td>Multikriteriální hodnocení</td>\n      <td>0.2</td>\n    </tr>\n  </tbody>\n</table>\n</div>"
     },
     "execution_count": 28,
     "metadata": {},
     "output_type": "execute_result"
    }
   ],
   "source": [
    "print(len(kriteria))\n",
    "kriteria.head()\n"
   ],
   "metadata": {
    "collapsed": false,
    "ExecuteTime": {
     "start_time": "2024-03-18T12:06:33.649672Z",
     "end_time": "2024-03-18T12:06:33.656018Z"
    }
   }
  },
  {
   "cell_type": "code",
   "execution_count": 29,
   "outputs": [
    {
     "name": "stdout",
     "output_type": "stream",
     "text": [
      "76557\n"
     ]
    },
    {
     "data": {
      "text/plain": "      UniqueID  Org  AucID     NazovKola  IDItem IDParticipant       Datum  \\\n0  100-45-1364   45   1364  Vstupní kolo   54038          2983  13.10.2017   \n1  100-45-1364   45   1364  Vstupní kolo   53969          2983  13.10.2017   \n2  100-45-1364   45   1364  Vstupní kolo   54177          2983  13.10.2017   \n3  100-45-1364   45   1364  Vstupní kolo   54037          2983  13.10.2017   \n4  100-45-1364   45   1364  Vstupní kolo   53979          2983  13.10.2017   \n\n   CasZmeny NovaHodnota Unnamed: 9  \n0  15:58:22         690        NaN  \n1  15:58:23         690        NaN  \n2  15:58:24         690        NaN  \n3  15:58:25         690        NaN  \n4  15:58:26         690        NaN  ",
      "text/html": "<div>\n<style scoped>\n    .dataframe tbody tr th:only-of-type {\n        vertical-align: middle;\n    }\n\n    .dataframe tbody tr th {\n        vertical-align: top;\n    }\n\n    .dataframe thead th {\n        text-align: right;\n    }\n</style>\n<table border=\"1\" class=\"dataframe\">\n  <thead>\n    <tr style=\"text-align: right;\">\n      <th></th>\n      <th>UniqueID</th>\n      <th>Org</th>\n      <th>AucID</th>\n      <th>NazovKola</th>\n      <th>IDItem</th>\n      <th>IDParticipant</th>\n      <th>Datum</th>\n      <th>CasZmeny</th>\n      <th>NovaHodnota</th>\n      <th>Unnamed: 9</th>\n    </tr>\n  </thead>\n  <tbody>\n    <tr>\n      <th>0</th>\n      <td>100-45-1364</td>\n      <td>45</td>\n      <td>1364</td>\n      <td>Vstupní kolo</td>\n      <td>54038</td>\n      <td>2983</td>\n      <td>13.10.2017</td>\n      <td>15:58:22</td>\n      <td>690</td>\n      <td>NaN</td>\n    </tr>\n    <tr>\n      <th>1</th>\n      <td>100-45-1364</td>\n      <td>45</td>\n      <td>1364</td>\n      <td>Vstupní kolo</td>\n      <td>53969</td>\n      <td>2983</td>\n      <td>13.10.2017</td>\n      <td>15:58:23</td>\n      <td>690</td>\n      <td>NaN</td>\n    </tr>\n    <tr>\n      <th>2</th>\n      <td>100-45-1364</td>\n      <td>45</td>\n      <td>1364</td>\n      <td>Vstupní kolo</td>\n      <td>54177</td>\n      <td>2983</td>\n      <td>13.10.2017</td>\n      <td>15:58:24</td>\n      <td>690</td>\n      <td>NaN</td>\n    </tr>\n    <tr>\n      <th>3</th>\n      <td>100-45-1364</td>\n      <td>45</td>\n      <td>1364</td>\n      <td>Vstupní kolo</td>\n      <td>54037</td>\n      <td>2983</td>\n      <td>13.10.2017</td>\n      <td>15:58:25</td>\n      <td>690</td>\n      <td>NaN</td>\n    </tr>\n    <tr>\n      <th>4</th>\n      <td>100-45-1364</td>\n      <td>45</td>\n      <td>1364</td>\n      <td>Vstupní kolo</td>\n      <td>53979</td>\n      <td>2983</td>\n      <td>13.10.2017</td>\n      <td>15:58:26</td>\n      <td>690</td>\n      <td>NaN</td>\n    </tr>\n  </tbody>\n</table>\n</div>"
     },
     "execution_count": 29,
     "metadata": {},
     "output_type": "execute_result"
    }
   ],
   "source": [
    "print(len(bidy))\n",
    "bidy.head()"
   ],
   "metadata": {
    "collapsed": false,
    "ExecuteTime": {
     "start_time": "2024-03-18T12:06:48.914249Z",
     "end_time": "2024-03-18T12:06:48.925682Z"
    }
   }
  },
  {
   "cell_type": "code",
   "execution_count": null,
   "outputs": [],
   "source": [],
   "metadata": {
    "collapsed": false
   }
  }
 ],
 "metadata": {
  "kernelspec": {
   "display_name": "Python 3",
   "language": "python",
   "name": "python3"
  },
  "language_info": {
   "codemirror_mode": {
    "name": "ipython",
    "version": 2
   },
   "file_extension": ".py",
   "mimetype": "text/x-python",
   "name": "python",
   "nbconvert_exporter": "python",
   "pygments_lexer": "ipython2",
   "version": "2.7.6"
  }
 },
 "nbformat": 4,
 "nbformat_minor": 0
}
